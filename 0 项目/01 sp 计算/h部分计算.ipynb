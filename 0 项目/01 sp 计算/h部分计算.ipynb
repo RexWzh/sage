{
 "cells": [
  {
   "cell_type": "code",
   "execution_count": 1,
   "metadata": {},
   "outputs": [],
   "source": [
    "import sympy as sy\n",
    "# 化简并作因式分解\n",
    "simplify = lambda expr:sy.factor(sy.simplify(sy.expand(expr)))\n",
    "# 组合数(加 int 避免化浮点数运算)\n",
    "comb = lambda m,k:int(factorial(m)/factorial(k)/factorial(m-k))\n",
    "q = sy.symbols('q')\n",
    "\n",
    "def tidy(l,c=0):\n",
    "    '''将二维列表元素长度整齐化，用c补齐'''\n",
    "    n = max([len(i) for i in l])\n",
    "    return [[(line[i] if i<len(line) else c) for i in range(n)] for line in l]\n",
    "import pyperclip\n",
    "from mylatex import *\n",
    "from PIL import Image"
   ]
  },
  {
   "cell_type": "code",
   "execution_count": 2,
   "metadata": {},
   "outputs": [],
   "source": [
    "def gtm(t,m,q):\n",
    "    '''(x_{-i}x_i)^m 展开的系数'''\n",
    "    #assert t>0 and m>0, '下标必须为正'\n",
    "    res = 0\n",
    "    fac = q**(t**2-2*t+m) # 补乘因子\n",
    "    for j in range(1,t+1):\n",
    "        numer = (q**(2*j)-1)**(m-1)\n",
    "        denomin = 1\n",
    "        for k in range(1,t+1):\n",
    "            if k==j:continue\n",
    "            denomin *= (q**(2*j)-q**(2*k))\n",
    "        res += numer/denomin\n",
    "    return res*fac"
   ]
  },
  {
   "cell_type": "code",
   "execution_count": 3,
   "metadata": {},
   "outputs": [],
   "source": [
    "def htm(t,m,q):\n",
    "    '''二项展开系数'''\n",
    "    # assert t>0,'t必须大于0'\n",
    "    res = 0 \n",
    "    for k in range(t,m+1):\n",
    "        res += comb(m,k)*q**(m-k)*gtm(t,k,q)\n",
    "    return res"
   ]
  },
  {
   "cell_type": "code",
   "execution_count": 4,
   "metadata": {},
   "outputs": [
    {
     "name": "stdout",
     "output_type": "stream",
     "text": [
      "1\n",
      "2\n",
      "3\n",
      "4\n",
      "5\n",
      "6\n",
      "7\n",
      "8\n",
      "9\n",
      "10\n"
     ]
    }
   ],
   "source": [
    "res = []\n",
    "n = 11\n",
    "for t in range(1,n):\n",
    "    print(t)\n",
    "    res.append([])\n",
    "    for m in range(1,n):\n",
    "        expr = simplify(htm(t,m,q))\n",
    "        res[-1].append(expr)"
   ]
  },
  {
   "cell_type": "code",
   "execution_count": 5,
   "metadata": {},
   "outputs": [],
   "source": [
    "string = str(res)\n",
    "var('q')\n",
    "exec('res2='+string)"
   ]
  },
  {
   "cell_type": "code",
   "execution_count": 7,
   "metadata": {},
   "outputs": [],
   "source": [
    "for t in range(1,n):\n",
    "    latex2png('\\\\scalebox{0.5}{$'+latex(Matrix(res2[t-1]).T)+'$}',filename='h%d'%(t),\n",
    "              density=400,path=r'F:\\小新\\h规律')"
   ]
  },
  {
   "cell_type": "code",
   "execution_count": 18,
   "metadata": {},
   "outputs": [],
   "source": [
    "for m in range(1,n):\n",
    "    latex2png('\\\\scalebox{0.5}{$'+latex(Matrix([line[m-1] for line in res2]).T)+'$}',filename='ht%d'%(m),\n",
    "              density=400,path=r'F:\\小新\\h规律')"
   ]
  },
  {
   "cell_type": "code",
   "execution_count": 17,
   "metadata": {},
   "outputs": [
    {
     "data": {
      "text/plain": [
       "[(q^4 - q^2 + 1)*(q^2 + q + 1)*(q^2 - q + 1)*(q^2 + 1)*q^5,\n",
       " (q^4 + q^3 + q^2 + q + 1)*(q^4 - q^3 + q^2 - q + 1)*(q^4 - q^2 + 1)*(q^2 + q + 1)*(q^2 - q + 1)*q^6,\n",
       " (q^4 + q^3 + q^2 + q + 1)*(q^4 - q^3 + q^2 - q + 1)*(q^4 - q^2 + 1)*(q^4 + 1)*(q^2 + 1)*q^9,\n",
       " (q^4 + q^3 + q^2 + q + 1)*(q^4 - q^3 + q^2 - q + 1)*(q^4 - q^2 + 1)*(q^2 + q + 1)*(q^2 - q + 1)*q^14,\n",
       " (q^4 - q^2 + 1)*(q^2 + q + 1)*(q^2 - q + 1)*(q^2 + 1)*q^21,\n",
       " q^30,\n",
       " 0,\n",
       " 0,\n",
       " 0,\n",
       " 0]"
      ]
     },
     "execution_count": 17,
     "metadata": {},
     "output_type": "execute_result"
    }
   ],
   "source": [
    "[line[m-1] for line in res2]"
   ]
  },
  {
   "cell_type": "code",
   "execution_count": 13,
   "metadata": {},
   "outputs": [
    {
     "data": {
      "text/plain": [
       "[1,\n",
       " (q^2 + 1)*q,\n",
       " (q^2 + q + 1)*(q^2 - q + 1)*q^2,\n",
       " (q^4 + 1)*(q^2 + 1)*q^3,\n",
       " (q^4 + q^3 + q^2 + q + 1)*(q^4 - q^3 + q^2 - q + 1)*q^4,\n",
       " (q^4 - q^2 + 1)*(q^2 + q + 1)*(q^2 - q + 1)*(q^2 + 1)*q^5,\n",
       " (q^6 + q^5 + q^4 + q^3 + q^2 + q + 1)*(q^6 - q^5 + q^4 - q^3 + q^2 - q + 1)*q^6,\n",
       " (q^8 + 1)*(q^4 + 1)*(q^2 + 1)*q^7,\n",
       " (q^6 + q^3 + 1)*(q^6 - q^3 + 1)*(q^2 + q + 1)*(q^2 - q + 1)*q^8,\n",
       " (q^8 - q^6 + q^4 - q^2 + 1)*(q^4 + q^3 + q^2 + q + 1)*(q^4 - q^3 + q^2 - q + 1)*(q^2 + 1)*q^9]"
      ]
     },
     "execution_count": 13,
     "metadata": {},
     "output_type": "execute_result"
    }
   ],
   "source": [
    "res2[0][:]"
   ]
  },
  {
   "cell_type": "code",
   "execution_count": 120,
   "metadata": {},
   "outputs": [],
   "source": [
    "string = str(res)\n",
    "var('q')\n",
    "exec('res2='+string)\n",
    "table(res2);"
   ]
  },
  {
   "cell_type": "code",
   "execution_count": 123,
   "metadata": {},
   "outputs": [
    {
     "data": {
      "image/png": "[encoded data removed]",
      "text/plain": [
       "<PIL.PngImagePlugin.PngImageFile image mode=LA size=5313x206 at 0x6FDA997DFD0>"
      ]
     },
     "execution_count": 123,
     "metadata": {},
     "output_type": "execute_result"
    }
   ],
   "source": [
    "mat = Matrix(tidy(res2))\n",
    "txt = '\\\\scalebox{0.13}{$'+latex(mat)+'$}'\n",
    "#pyperclip.copy(txt)\n",
    "latex2png(txt,density=1000)\n",
    "Image.open('rex.png')"
   ]
  },
  {
   "cell_type": "code",
   "execution_count": 129,
   "metadata": {},
   "outputs": [
    {
     "data": {
      "text/latex": [
       "$\\displaystyle q^{6} + q^{4} + q^{2} + 1$"
      ],
      "text/plain": [
       "q**6 + q**4 + q**2 + 1"
      ]
     },
     "execution_count": 129,
     "metadata": {},
     "output_type": "execute_result"
    }
   ],
   "source": [
    "t = 0\n",
    "m = 2\n",
    "sy.expand(simplify(mat[m,t])/q^(m+1))"
   ]
  },
  {
   "cell_type": "code",
   "execution_count": 152,
   "metadata": {},
   "outputs": [
    {
     "data": {
      "text/plain": [
       "(q^8 + 1)*(q^6 + q^5 + q^4 + q^3 + q^2 + q + 1)*(q^6 - q^5 + q^4 - q^3 + q^2 - q + 1)*(q^4 - q^2 + 1)*(q^4 + 1)*(q^2 + 1)*q^11"
      ]
     },
     "execution_count": 152,
     "metadata": {},
     "output_type": "execute_result"
    }
   ],
   "source": [
    "factor(mat[6,2])"
   ]
  },
  {
   "cell_type": "code",
   "execution_count": 160,
   "metadata": {},
   "outputs": [
    {
     "data": {
      "text/latex": [
       "$\\displaystyle q^{12} + q^{10} + q^{8} + q^{6} + q^{4} + q^{2} + 1$"
      ],
      "text/plain": [
       "q**12 + q**10 + q**8 + q**6 + q**4 + q**2 + 1"
      ]
     },
     "execution_count": 160,
     "metadata": {},
     "output_type": "execute_result"
    }
   ],
   "source": [
    "sy.expand((q^6 + q^5 + q^4 + q^3 + q^2 + q + 1)*(q^6 - q^5 + q^4 - q^3 + q^2 - q + 1))"
   ]
  },
  {
   "cell_type": "code",
   "execution_count": 163,
   "metadata": {},
   "outputs": [
    {
     "data": {
      "text/latex": [
       "$\\displaystyle q^{18} + q^{14} + q^{12} + q^{10} + q^{8} + q^{6} + q^{4} + 1$"
      ],
      "text/plain": [
       "q**18 + q**14 + q**12 + q**10 + q**8 + q**6 + q**4 + 1"
      ]
     },
     "execution_count": 163,
     "metadata": {},
     "output_type": "execute_result"
    }
   ],
   "source": [
    "sy.expand((q^8 + 1)*(q^4 - q^2 + 1)*(q^4 + 1)*(q^2 + 1))"
   ]
  },
  {
   "cell_type": "code",
   "execution_count": 174,
   "metadata": {},
   "outputs": [
    {
     "data": {
      "text/latex": [
       "$\\displaystyle q^{13}$"
      ],
      "text/plain": [
       "q**13"
      ]
     },
     "execution_count": 174,
     "metadata": {},
     "output_type": "execute_result"
    }
   ],
   "source": [
    "sy.expand(mat[6,2]).args[1]"
   ]
  },
  {
   "cell_type": "code",
   "execution_count": 182,
   "metadata": {},
   "outputs": [
    {
     "data": {
      "text/plain": [
       "<class 'sympy.core.add.Add'>"
      ]
     },
     "execution_count": 182,
     "metadata": {},
     "output_type": "execute_result"
    }
   ],
   "source": []
  },
  {
   "cell_type": "code",
   "execution_count": 165,
   "metadata": {},
   "outputs": [
    {
     "data": {
      "text/plain": [
       "(1, q**4, q**6, q**8, q**10, q**12, q**14, q**18)"
      ]
     },
     "execution_count": 165,
     "metadata": {},
     "output_type": "execute_result"
    }
   ],
   "source": [
    "expr.args"
   ]
  }
 ],
 "metadata": {
  "kernelspec": {
   "display_name": "SageMath 9.0",
   "language": "sage",
   "name": "sagemath"
  },
  "language_info": {
   "codemirror_mode": {
    "name": "ipython",
    "version": 3
   },
   "file_extension": ".py",
   "mimetype": "text/x-python",
   "name": "python",
   "nbconvert_exporter": "python",
   "pygments_lexer": "ipython3",
   "version": "3.7.3"
  }
 },
 "nbformat": 4,
 "nbformat_minor": 2
}

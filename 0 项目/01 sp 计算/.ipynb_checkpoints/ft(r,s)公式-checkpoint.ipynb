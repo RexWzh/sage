{
 "cells": [
  {
   "cell_type": "code",
   "execution_count": null,
   "metadata": {},
   "outputs": [],
   "source": [
    "\"\"\"内容梳理\n",
    "1.定义量子相关的符号\n",
    "2.定义累加式f\n",
    "3.定义量子式g\n",
    "4.作商，验证规律\n",
    "\"\"\";"
   ]
  },
  {
   "cell_type": "code",
   "execution_count": 35,
   "metadata": {},
   "outputs": [],
   "source": [
    "# m的量子化[m]q\n",
    "quantum_bracket = lambda m,q:(q**m-q**-m)/(q-q**-1)\n",
    "def quantum_factorial(m,q):\n",
    "    '''量子化的阶乘'''\n",
    "    res = 1\n",
    "    for i in range(1,m+1):\n",
    "        res *= quantum_bracket(i,q)\n",
    "    return res\n",
    "def quantum_comb(m,k,q):\n",
    "    '''量子化的组合数'''\n",
    "    numer = quantum_factorial(m,q)\n",
    "    denomin = quantum_factorial(m-k,q) * quantum_factorial(k,q)\n",
    "    return numer/denomin"
   ]
  },
  {
   "cell_type": "code",
   "execution_count": 58,
   "metadata": {},
   "outputs": [],
   "source": [
    "def f(r,s,t,q):\n",
    "    '''计算累加式'''\n",
    "    res = 0 # 计算结果\n",
    "    numer = 1 # 分子\n",
    "    for k in range(t):\n",
    "        numer *= (q**(-2*k)-q**(-2*s))\n",
    "    for j in range(t+1):\n",
    "        denomin = q**(2*j*r) #分母\n",
    "        for k in range(t+1):\n",
    "            if k==j: # 跳过一项\n",
    "                continue\n",
    "            denomin *= (q**(-2*j)-q**(-2*k))\n",
    "        res += numer/denomin\n",
    "    return res\n",
    "\n",
    "def g(r,s,t,q):\n",
    "    '''量子表达式'''\n",
    "    res = quantum_comb(s,t,q)*quantum_comb(r,t,q)\\\n",
    "    *quantum_factorial(t,q)*(q-q**-1)**t\n",
    "    return res"
   ]
  },
  {
   "cell_type": "code",
   "execution_count": 68,
   "metadata": {},
   "outputs": [
    {
     "data": {
      "text/latex": [
       "$\\displaystyle q^{9}$"
      ],
      "text/plain": [
       "q**9"
      ]
     },
     "execution_count": 68,
     "metadata": {},
     "output_type": "execute_result"
    }
   ],
   "source": [
    "r,s = 3,2\n",
    "t = 1\n",
    "simplify(g(r,s,t,q)/f(r,s,t,q))"
   ]
  },
  {
   "cell_type": "code",
   "execution_count": 41,
   "metadata": {},
   "outputs": [
    {
     "data": {
      "text/plain": [
       "1"
      ]
     },
     "execution_count": 41,
     "metadata": {},
     "output_type": "execute_result"
    }
   ],
   "source": [
    "g(2,3,0,q)"
   ]
  },
  {
   "cell_type": "code",
   "execution_count": null,
   "metadata": {},
   "outputs": [],
   "source": [
    "'''收纳\n",
    "下边这些是刚开始摸索打的草稿\n",
    "主要是：\n",
    "1.验证ft(r,s)关于参数的对称性，并打印矩阵\n",
    "2.推导引理：累和->累乘\n",
    "'''"
   ]
  },
  {
   "cell_type": "code",
   "execution_count": null,
   "metadata": {},
   "outputs": [],
   "source": []
  },
  {
   "cell_type": "code",
   "execution_count": 31,
   "metadata": {},
   "outputs": [
    {
     "data": {
      "text/plain": [
       "q"
      ]
     },
     "execution_count": 31,
     "metadata": {},
     "output_type": "execute_result"
    }
   ],
   "source": [
    "import pyperclip\n",
    "var('q')"
   ]
  },
  {
   "cell_type": "code",
   "execution_count": 57,
   "metadata": {},
   "outputs": [],
   "source": [
    "import sympy as sy\n",
    "simplify = lambda expr:sy.simplify(sy.expand(expr))\n",
    "q,x = sy.symbols('q x')\n",
    "def g(t):\n",
    "    '''观察规律'''\n",
    "    fac = 1 # 消去因子\n",
    "    for k in range(t):\n",
    "        fac *= (q**k-x)\n",
    "    res =  0 # 返回结果\n",
    "    for j in range(t+1):\n",
    "        numer = x**j\n",
    "        denomin = 1\n",
    "        for k in range(t+1):\n",
    "            if k==j:continue\n",
    "            denomin *= (q**j-q**k)\n",
    "        res += numer/denomin\n",
    "    return fac/res"
   ]
  },
  {
   "cell_type": "code",
   "execution_count": 61,
   "metadata": {},
   "outputs": [
    {
     "name": "stdout",
     "output_type": "stream",
     "text": [
      "0\n",
      "1\n",
      "2\n",
      "3\n",
      "4\n",
      "5\n",
      "6\n"
     ]
    }
   ],
   "source": [
    "res = []\n",
    "for i in range(7):\n",
    "    res.append(sy.factor(simplify(g(i))))\n",
    "    print(i)"
   ]
  },
  {
   "cell_type": "code",
   "execution_count": 62,
   "metadata": {
    "collapsed": true
   },
   "outputs": [
    {
     "data": {
      "text/html": [
       "<div class=\"notruncate\">\n",
       "<table  class=\"table_form\">\n",
       "<tbody>\n",
       "<tr class =\"row-a\">\n",
       "<td><script type=\"math/tex\">1</script></td>\n",
       "</tr>\n",
       "<tr class =\"row-b\">\n",
       "<td><script type=\"math/tex\">-q + 1</script></td>\n",
       "</tr>\n",
       "<tr class =\"row-a\">\n",
       "<td><script type=\"math/tex\">{\\left(q + 1\\right)} {\\left(q - 1\\right)}^{2} q</script></td>\n",
       "</tr>\n",
       "<tr class =\"row-b\">\n",
       "<td><script type=\"math/tex\">-{\\left(q^{2} + q + 1\\right)} {\\left(q + 1\\right)} {\\left(q - 1\\right)}^{3} q^{3}</script></td>\n",
       "</tr>\n",
       "<tr class =\"row-a\">\n",
       "<td><script type=\"math/tex\">{\\left(q^{2} + q + 1\\right)} {\\left(q^{2} + 1\\right)} {\\left(q + 1\\right)}^{2} {\\left(q - 1\\right)}^{4} q^{6}</script></td>\n",
       "</tr>\n",
       "<tr class =\"row-b\">\n",
       "<td><script type=\"math/tex\">-{\\left(q^{4} + q^{3} + q^{2} + q + 1\\right)} {\\left(q^{2} + q + 1\\right)} {\\left(q^{2} + 1\\right)} {\\left(q + 1\\right)}^{2} {\\left(q - 1\\right)}^{5} q^{10}</script></td>\n",
       "</tr>\n",
       "<tr class =\"row-a\">\n",
       "<td><script type=\"math/tex\">{\\left(q^{4} + q^{3} + q^{2} + q + 1\\right)} {\\left(q^{2} + q + 1\\right)}^{2} {\\left(q^{2} - q + 1\\right)} {\\left(q^{2} + 1\\right)} {\\left(q + 1\\right)}^{3} {\\left(q - 1\\right)}^{6} q^{15}</script></td>\n",
       "</tr>\n",
       "</tbody>\n",
       "</table>\n",
       "</div>"
      ],
      "text/plain": [
       "  1\n",
       "  -q + 1\n",
       "  (q + 1)*(q - 1)^2*q\n",
       "  -(q^2 + q + 1)*(q + 1)*(q - 1)^3*q^3\n",
       "  (q^2 + q + 1)*(q^2 + 1)*(q + 1)^2*(q - 1)^4*q^6\n",
       "  -(q^4 + q^3 + q^2 + q + 1)*(q^2 + q + 1)*(q^2 + 1)*(q + 1)^2*(q - 1)^5*q^10\n",
       "  (q^4 + q^3 + q^2 + q + 1)*(q^2 + q + 1)^2*(q^2 - q + 1)*(q^2 + 1)*(q + 1)^3*(q - 1)^6*q^15"
      ]
     },
     "execution_count": 62,
     "metadata": {},
     "output_type": "execute_result"
    }
   ],
   "source": [
    "var('q x')\n",
    "exec('res2 = %s'%res)\n",
    "table([[i] for i in res2])"
   ]
  },
  {
   "cell_type": "code",
   "execution_count": 64,
   "metadata": {},
   "outputs": [
    {
     "data": {
      "text/html": [
       "<div class=\"notruncate\">\n",
       "<table  class=\"table_form\">\n",
       "<tbody>\n",
       "<tr class =\"row-a\">\n",
       "<td><script type=\"math/tex\">-q + 1</script></td>\n",
       "</tr>\n",
       "<tr class =\"row-b\">\n",
       "<td><script type=\"math/tex\">-{\\left(q + 1\\right)} {\\left(q - 1\\right)} q</script></td>\n",
       "</tr>\n",
       "<tr class =\"row-a\">\n",
       "<td><script type=\"math/tex\">-{\\left(q^{2} + q + 1\\right)} {\\left(q - 1\\right)} q^{2}</script></td>\n",
       "</tr>\n",
       "<tr class =\"row-b\">\n",
       "<td><script type=\"math/tex\">-{\\left(q^{2} + 1\\right)} {\\left(q + 1\\right)} {\\left(q - 1\\right)} q^{3}</script></td>\n",
       "</tr>\n",
       "<tr class =\"row-a\">\n",
       "<td><script type=\"math/tex\">-{\\left(q^{4} + q^{3} + q^{2} + q + 1\\right)} {\\left(q - 1\\right)} q^{4}</script></td>\n",
       "</tr>\n",
       "<tr class =\"row-b\">\n",
       "<td><script type=\"math/tex\">-{\\left(q^{2} + q + 1\\right)} {\\left(q^{2} - q + 1\\right)} {\\left(q + 1\\right)} {\\left(q - 1\\right)} q^{5}</script></td>\n",
       "</tr>\n",
       "</tbody>\n",
       "</table>\n",
       "</div>"
      ],
      "text/plain": [
       "  -q + 1\n",
       "  -(q + 1)*(q - 1)*q\n",
       "  -(q^2 + q + 1)*(q - 1)*q^2\n",
       "  -(q^2 + 1)*(q + 1)*(q - 1)*q^3\n",
       "  -(q^4 + q^3 + q^2 + q + 1)*(q - 1)*q^4\n",
       "  -(q^2 + q + 1)*(q^2 - q + 1)*(q + 1)*(q - 1)*q^5"
      ]
     },
     "execution_count": 64,
     "metadata": {},
     "output_type": "execute_result"
    }
   ],
   "source": [
    "res3 = []\n",
    "for i,j in zip(res[:],res[1:]):\n",
    "    res3.append(j/i)\n",
    "var('q x')\n",
    "exec('res2 = %s'%res3)\n",
    "table([[i] for i in res2])"
   ]
  },
  {
   "cell_type": "code",
   "execution_count": null,
   "metadata": {},
   "outputs": [],
   "source": []
  },
  {
   "cell_type": "code",
   "execution_count": null,
   "metadata": {},
   "outputs": [],
   "source": []
  },
  {
   "cell_type": "code",
   "execution_count": 35,
   "metadata": {},
   "outputs": [],
   "source": [
    "import sympy as sy\n",
    "simplify = lambda expr:sy.simplify(sy.expand(expr))\n",
    "q,p,r,x = sy.symbols('q p r x')\n",
    "def zong(t):\n",
    "    '''归纳公式'''\n",
    "    fac = 1 # 同分因子\n",
    "    for k in range(t):\n",
    "        for l in range(k+1,t+1):\n",
    "            fac *= (q**k-q**l) \n",
    "    res = 0 # 计算值\n",
    "    for j in range(t+1):\n",
    "        numer = x**j # 分子\n",
    "#         numer = q**(r*j)\n",
    "        denomin = 1 # 分母\n",
    "        for k in range(t+1):\n",
    "            if k==j:continue\n",
    "            denomin *= (q**j-q**k)\n",
    "        res += numer/denomin\n",
    "    return fac*res/(q-1)**(t-1)"
   ]
  },
  {
   "cell_type": "code",
   "execution_count": 38,
   "metadata": {},
   "outputs": [
    {
     "name": "stdout",
     "output_type": "stream",
     "text": [
      "0\n",
      "1\n",
      "2\n",
      "3\n",
      "4\n",
      "5\n",
      "6\n"
     ]
    }
   ],
   "source": [
    "res = []\n",
    "for i in range(7):\n",
    "    expr = zong(i)\n",
    "    res.append(sy.factor(simplify(expr)))\n",
    "    print(i)"
   ]
  },
  {
   "cell_type": "code",
   "execution_count": 1,
   "metadata": {},
   "outputs": [],
   "source": [
    "import sympy as sy\n",
    "simplify = lambda expr:sy.simplify(sy.expand(expr))\n",
    "q = sy.Symbol('q')\n",
    "def rex(r,s,t,q):\n",
    "    '''计算累加式'''\n",
    "    # assert r<=s, 'r不能大于s'\n",
    "    res = 0 # 计算结果\n",
    "    numer = 1 # 分子\n",
    "    for k in range(t):\n",
    "        numer *= (q**(-2*k)-q**(-2*s))\n",
    "    for j in range(t+1):\n",
    "        denomin = q**(2*j*r) #分母\n",
    "        for k in range(t+1):\n",
    "            if k==j: # 跳过一项\n",
    "                continue\n",
    "            denomin *= (q**(-2*j)-q**(-2*k))\n",
    "        res += numer/denomin\n",
    "    return res*q**(2*s*r+t)"
   ]
  },
  {
   "cell_type": "code",
   "execution_count": 37,
   "metadata": {},
   "outputs": [],
   "source": [
    "t = 0\n",
    "sup = 6\n",
    "res = []\n",
    "for r in range(sup):\n",
    "    res.append([])\n",
    "    for s in range(sup):\n",
    "        expr = simplify(rex(r,s,t,q))\n",
    "        res[-1].append(expr)\n",
    "string = str(res)\n",
    "exec('res2='+string)\n",
    "res2 = Matrix(res2)\n",
    "pyperclip.copy('\\\\scalebox{1}{\\n$'+latex(res2)+'$\\n}')"
   ]
  },
  {
   "cell_type": "code",
   "execution_count": 41,
   "metadata": {},
   "outputs": [],
   "source": [
    "t = 1\n",
    "sup = 8\n",
    "res = []\n",
    "for r in range(sup):\n",
    "    res.append([])\n",
    "    for s in range(sup):\n",
    "        expr = simplify(simplify(rex(r,s,t,q)))\n",
    "        res[-1].append(expr)\n",
    "string = str(res)\n",
    "exec('res2='+string)\n",
    "res2 = Matrix(res2)\n",
    "pyperclip.copy('\\\\scalebox{1}{\\n$'+latex(res2)+'$\\n}')"
   ]
  },
  {
   "cell_type": "code",
   "execution_count": 42,
   "metadata": {},
   "outputs": [],
   "source": [
    "t = 2\n",
    "sup = 8\n",
    "res = []\n",
    "for r in range(sup):\n",
    "    res.append([])\n",
    "    for s in range(sup):\n",
    "        expr = simplify(simplify(rex(r,s,t,q)))\n",
    "        res[-1].append(expr)\n",
    "string = str(res)\n",
    "exec('res2='+string)\n",
    "res2 = Matrix(res2)\n",
    "pyperclip.copy('\\\\scalebox{1}{\\n$'+latex(res2)+'$\\n}')"
   ]
  },
  {
   "cell_type": "code",
   "execution_count": 43,
   "metadata": {},
   "outputs": [],
   "source": [
    "t = 3\n",
    "sup = 7\n",
    "res = []\n",
    "for r in range(sup):\n",
    "    res.append([])\n",
    "    for s in range(sup):\n",
    "        expr = simplify(simplify(rex(r,s,t,q)))\n",
    "        res[-1].append(expr)\n",
    "string = str(res)\n",
    "exec('res2='+string)\n",
    "res2 = Matrix(res2)\n",
    "pyperclip.copy('\\\\scalebox{1}{\\n$'+latex(res2)+'$\\n}')"
   ]
  },
  {
   "cell_type": "code",
   "execution_count": 47,
   "metadata": {},
   "outputs": [],
   "source": [
    "t = 4\n",
    "sup = 5\n",
    "res = []\n",
    "for r in range(sup):\n",
    "    res.append([])\n",
    "    for s in range(sup):\n",
    "        expr = simplify(simplify(rex(r,s,t,q)))\n",
    "        res[-1].append(expr)\n",
    "string = str(res)\n",
    "exec('res2='+string)\n",
    "res2 = Matrix(res2)\n",
    "pyperclip.copy('\\\\scalebox{1}{\\n$'+latex(res2)+'$\\n}')"
   ]
  },
  {
   "cell_type": "code",
   "execution_count": 46,
   "metadata": {},
   "outputs": [],
   "source": [
    "t = 5\n",
    "sup = 5\n",
    "res = []\n",
    "for r in range(sup):\n",
    "    res.append([])\n",
    "    for s in range(sup):\n",
    "        expr = simplify(simplify(rex(r,s,t,q)))\n",
    "        res[-1].append(expr)\n",
    "string = str(res)\n",
    "exec('res2='+string)\n",
    "res2 = Matrix(res2)\n",
    "pyperclip.copy('\\\\scalebox{1}{\\n$'+latex(res2)+'$\\n}')"
   ]
  },
  {
   "cell_type": "code",
   "execution_count": 34,
   "metadata": {},
   "outputs": [],
   "source": [
    "sup = 6\n",
    "res = []\n",
    "for r in range(sup):\n",
    "    for s in range(r+1,sup):\n",
    "        res.append([r,s])\n",
    "        for t in range(s):\n",
    "            expr = simplify(rex(r,s,t,q))\n",
    "            res[-1].append(expr)"
   ]
  },
  {
   "cell_type": "code",
   "execution_count": 40,
   "metadata": {},
   "outputs": [
    {
     "data": {
      "text/latex": [
       "$\\displaystyle \\frac{q^{25} \\left(q^{18} - q^{10} - q^{8} + 1\\right)}{q^{2} - 1}$"
      ],
      "text/plain": [
       "q**25*(q**18 - q**10 - q**8 + 1)/(q**2 - 1)"
      ]
     },
     "execution_count": 40,
     "metadata": {},
     "output_type": "execute_result"
    }
   ],
   "source": [
    "sy.simplify(sy.expand(q**25*(-q**10 + q**8*(q**10 - 1) + 1)/(q**2 - 1)))"
   ]
  },
  {
   "cell_type": "code",
   "execution_count": 43,
   "metadata": {
    "collapsed": true
   },
   "outputs": [
    {
     "data": {
      "text/plain": [
       "[[0, 1, 1],\n",
       " [0, 2, 1, 0],\n",
       " [0, 3, 1, 0, 0],\n",
       " [0, 4, 1, 0, 0, 0],\n",
       " [0, 5, 1, 0, 0, 0, 0],\n",
       " [1, 2, q^4, q^5 - q],\n",
       " [1, 3, q^6, q^7 - q, 0],\n",
       " [1, 4, q^8, q^9 - q, 0, 0],\n",
       " [1, 5, q^10, q^11 - q, 0, 0, 0],\n",
       " [2, 3, q^12, q^13 + q^11 - q^7 - q^5, q^12 - q^8 - q^6 + q^2],\n",
       " [2, 4, q^16, q^17 + q^15 - q^9 - q^7, q^16 - q^10 - q^8 + q^2, 0],\n",
       " [2, 5, q^20, q^21 + q^19 - q^11 - q^9, q^20 - q^12 - q^10 + q^2, 0, 0],\n",
       " [3,\n",
       "  4,\n",
       "  q^24,\n",
       "  q^25 + q^23 + q^21 - q^17 - q^15 - q^13,\n",
       "  q^24 + q^22 + q^20 - q^18 - 2*q^16 - 2*q^14 - q^12 + q^10 + q^8 + q^6,\n",
       "  q^21 - q^17 - q^15 - q^13 + q^11 + q^9 + q^7 - q^3],\n",
       " [3,\n",
       "  5,\n",
       "  q^30,\n",
       "  q^31 + q^29 + q^27 - q^21 - q^19 - q^17,\n",
       "  q^30 + q^28 + q^26 - q^22 - 2*q^20 - 2*q^18 - q^16 + q^12 + q^10 + q^8,\n",
       "  q^27 - q^21 - q^19 - q^17 + q^13 + q^11 + q^9 - q^3,\n",
       "  0],\n",
       " [4,\n",
       "  5,\n",
       "  q^40,\n",
       "  -(q^10 - (q^10 - 1)*q^8 - 1)*q^25/(q^2 - 1),\n",
       "  q^40 + q^38 + 2*q^36 + q^34 - 2*q^30 - 3*q^28 - 3*q^26 - 2*q^24 + q^20 + 2*q^18 + q^16 + q^14,\n",
       "  q^37 + q^35 + q^33 - 2*q^29 - 3*q^27 - 3*q^25 - q^23 + q^21 + 3*q^19 + 3*q^17 + 2*q^15 - q^11 - q^9 - q^7,\n",
       "  q^32 - q^28 - q^26 - q^24 + q^20 + 2*q^18 + q^16 - q^12 - q^10 - q^8 + q^4]]"
      ]
     },
     "execution_count": 43,
     "metadata": {},
     "output_type": "execute_result"
    }
   ],
   "source": [
    "res"
   ]
  },
  {
   "cell_type": "code",
   "execution_count": 42,
   "metadata": {
    "collapsed": true
   },
   "outputs": [
    {
     "data": {
      "text/html": [
       "<div class=\"notruncate\">\n",
       "<table  class=\"table_form\">\n",
       "<tbody>\n",
       "<tr class =\"row-a\">\n",
       "<td><script type=\"math/tex\">0</script></td>\n",
       "<td><script type=\"math/tex\">1</script></td>\n",
       "<td><script type=\"math/tex\">1</script></td>\n",
       "</tr>\n",
       "<tr class =\"row-b\">\n",
       "<td><script type=\"math/tex\">0</script></td>\n",
       "<td><script type=\"math/tex\">2</script></td>\n",
       "<td><script type=\"math/tex\">1</script></td>\n",
       "<td><script type=\"math/tex\">0</script></td>\n",
       "</tr>\n",
       "<tr class =\"row-a\">\n",
       "<td><script type=\"math/tex\">0</script></td>\n",
       "<td><script type=\"math/tex\">3</script></td>\n",
       "<td><script type=\"math/tex\">1</script></td>\n",
       "<td><script type=\"math/tex\">0</script></td>\n",
       "<td><script type=\"math/tex\">0</script></td>\n",
       "</tr>\n",
       "<tr class =\"row-b\">\n",
       "<td><script type=\"math/tex\">0</script></td>\n",
       "<td><script type=\"math/tex\">4</script></td>\n",
       "<td><script type=\"math/tex\">1</script></td>\n",
       "<td><script type=\"math/tex\">0</script></td>\n",
       "<td><script type=\"math/tex\">0</script></td>\n",
       "<td><script type=\"math/tex\">0</script></td>\n",
       "</tr>\n",
       "<tr class =\"row-a\">\n",
       "<td><script type=\"math/tex\">0</script></td>\n",
       "<td><script type=\"math/tex\">5</script></td>\n",
       "<td><script type=\"math/tex\">1</script></td>\n",
       "<td><script type=\"math/tex\">0</script></td>\n",
       "<td><script type=\"math/tex\">0</script></td>\n",
       "<td><script type=\"math/tex\">0</script></td>\n",
       "<td><script type=\"math/tex\">0</script></td>\n",
       "</tr>\n",
       "<tr class =\"row-b\">\n",
       "<td><script type=\"math/tex\">1</script></td>\n",
       "<td><script type=\"math/tex\">2</script></td>\n",
       "<td><script type=\"math/tex\">q^{4}</script></td>\n",
       "<td><script type=\"math/tex\">q^{5} - q</script></td>\n",
       "</tr>\n",
       "<tr class =\"row-a\">\n",
       "<td><script type=\"math/tex\">1</script></td>\n",
       "<td><script type=\"math/tex\">3</script></td>\n",
       "<td><script type=\"math/tex\">q^{6}</script></td>\n",
       "<td><script type=\"math/tex\">q^{7} - q</script></td>\n",
       "<td><script type=\"math/tex\">0</script></td>\n",
       "</tr>\n",
       "<tr class =\"row-b\">\n",
       "<td><script type=\"math/tex\">1</script></td>\n",
       "<td><script type=\"math/tex\">4</script></td>\n",
       "<td><script type=\"math/tex\">q^{8}</script></td>\n",
       "<td><script type=\"math/tex\">q^{9} - q</script></td>\n",
       "<td><script type=\"math/tex\">0</script></td>\n",
       "<td><script type=\"math/tex\">0</script></td>\n",
       "</tr>\n",
       "<tr class =\"row-a\">\n",
       "<td><script type=\"math/tex\">1</script></td>\n",
       "<td><script type=\"math/tex\">5</script></td>\n",
       "<td><script type=\"math/tex\">q^{10}</script></td>\n",
       "<td><script type=\"math/tex\">q^{11} - q</script></td>\n",
       "<td><script type=\"math/tex\">0</script></td>\n",
       "<td><script type=\"math/tex\">0</script></td>\n",
       "<td><script type=\"math/tex\">0</script></td>\n",
       "</tr>\n",
       "<tr class =\"row-b\">\n",
       "<td><script type=\"math/tex\">2</script></td>\n",
       "<td><script type=\"math/tex\">3</script></td>\n",
       "<td><script type=\"math/tex\">q^{12}</script></td>\n",
       "<td><script type=\"math/tex\">q^{13} + q^{11} - q^{7} - q^{5}</script></td>\n",
       "<td><script type=\"math/tex\">q^{12} - q^{8} - q^{6} + q^{2}</script></td>\n",
       "</tr>\n",
       "<tr class =\"row-a\">\n",
       "<td><script type=\"math/tex\">2</script></td>\n",
       "<td><script type=\"math/tex\">4</script></td>\n",
       "<td><script type=\"math/tex\">q^{16}</script></td>\n",
       "<td><script type=\"math/tex\">q^{17} + q^{15} - q^{9} - q^{7}</script></td>\n",
       "<td><script type=\"math/tex\">q^{16} - q^{10} - q^{8} + q^{2}</script></td>\n",
       "<td><script type=\"math/tex\">0</script></td>\n",
       "</tr>\n",
       "<tr class =\"row-b\">\n",
       "<td><script type=\"math/tex\">2</script></td>\n",
       "<td><script type=\"math/tex\">5</script></td>\n",
       "<td><script type=\"math/tex\">q^{20}</script></td>\n",
       "<td><script type=\"math/tex\">q^{21} + q^{19} - q^{11} - q^{9}</script></td>\n",
       "<td><script type=\"math/tex\">q^{20} - q^{12} - q^{10} + q^{2}</script></td>\n",
       "<td><script type=\"math/tex\">0</script></td>\n",
       "<td><script type=\"math/tex\">0</script></td>\n",
       "</tr>\n",
       "<tr class =\"row-a\">\n",
       "<td><script type=\"math/tex\">3</script></td>\n",
       "<td><script type=\"math/tex\">4</script></td>\n",
       "<td><script type=\"math/tex\">q^{24}</script></td>\n",
       "<td><script type=\"math/tex\">q^{25} + q^{23} + q^{21} - q^{17} - q^{15} - q^{13}</script></td>\n",
       "<td><script type=\"math/tex\">q^{24} + q^{22} + q^{20} - q^{18} - 2 \\, q^{16} - 2 \\, q^{14} - q^{12} + q^{10} + q^{8} + q^{6}</script></td>\n",
       "<td><script type=\"math/tex\">q^{21} - q^{17} - q^{15} - q^{13} + q^{11} + q^{9} + q^{7} - q^{3}</script></td>\n",
       "</tr>\n",
       "<tr class =\"row-b\">\n",
       "<td><script type=\"math/tex\">3</script></td>\n",
       "<td><script type=\"math/tex\">5</script></td>\n",
       "<td><script type=\"math/tex\">q^{30}</script></td>\n",
       "<td><script type=\"math/tex\">q^{31} + q^{29} + q^{27} - q^{21} - q^{19} - q^{17}</script></td>\n",
       "<td><script type=\"math/tex\">q^{30} + q^{28} + q^{26} - q^{22} - 2 \\, q^{20} - 2 \\, q^{18} - q^{16} + q^{12} + q^{10} + q^{8}</script></td>\n",
       "<td><script type=\"math/tex\">q^{27} - q^{21} - q^{19} - q^{17} + q^{13} + q^{11} + q^{9} - q^{3}</script></td>\n",
       "<td><script type=\"math/tex\">0</script></td>\n",
       "</tr>\n",
       "<tr class =\"row-a\">\n",
       "<td><script type=\"math/tex\">4</script></td>\n",
       "<td><script type=\"math/tex\">5</script></td>\n",
       "<td><script type=\"math/tex\">q^{40}</script></td>\n",
       "<td><script type=\"math/tex\">-\\frac{{\\left(q^{10} - {\\left(q^{10} - 1\\right)} q^{8} - 1\\right)} q^{25}}{q^{2} - 1}</script></td>\n",
       "<td><script type=\"math/tex\">q^{40} + q^{38} + 2 \\, q^{36} + q^{34} - 2 \\, q^{30} - 3 \\, q^{28} - 3 \\, q^{26} - 2 \\, q^{24} + q^{20} + 2 \\, q^{18} + q^{16} + q^{14}</script></td>\n",
       "<td><script type=\"math/tex\">q^{37} + q^{35} + q^{33} - 2 \\, q^{29} - 3 \\, q^{27} - 3 \\, q^{25} - q^{23} + q^{21} + 3 \\, q^{19} + 3 \\, q^{17} + 2 \\, q^{15} - q^{11} - q^{9} - q^{7}</script></td>\n",
       "<td><script type=\"math/tex\">q^{32} - q^{28} - q^{26} - q^{24} + q^{20} + 2 \\, q^{18} + q^{16} - q^{12} - q^{10} - q^{8} + q^{4}</script></td>\n",
       "</tr>\n",
       "</tbody>\n",
       "</table>\n",
       "</div>"
      ],
      "text/plain": [
       "  0   1   1\n",
       "  0   2   1\n",
       "  0   3   1\n",
       "  0   4   1\n",
       "  0   5   1\n",
       "  1   2   q^4\n",
       "  1   3   q^6\n",
       "  1   4   q^8\n",
       "  1   5   q^10\n",
       "  2   3   q^12\n",
       "  2   4   q^16\n",
       "  2   5   q^20\n",
       "  3   4   q^24\n",
       "  3   5   q^30\n",
       "  4   5   q^40"
      ]
     },
     "execution_count": 42,
     "metadata": {},
     "output_type": "execute_result"
    }
   ],
   "source": [
    "table(res)"
   ]
  },
  {
   "cell_type": "code",
   "execution_count": 41,
   "metadata": {},
   "outputs": [],
   "source": [
    "q = var('q')"
   ]
  }
 ],
 "metadata": {
  "kernelspec": {
   "display_name": "SageMath 9.0",
   "language": "sage",
   "name": "sagemath"
  },
  "language_info": {
   "codemirror_mode": {
    "name": "ipython",
    "version": 3
   },
   "file_extension": ".py",
   "mimetype": "text/x-python",
   "name": "python",
   "nbconvert_exporter": "python",
   "pygments_lexer": "ipython3",
   "version": "3.7.3"
  }
 },
 "nbformat": 4,
 "nbformat_minor": 2
}

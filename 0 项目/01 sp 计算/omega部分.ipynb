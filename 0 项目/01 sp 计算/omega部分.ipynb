{
 "cells": [
  {
   "cell_type": "code",
   "execution_count": 36,
   "metadata": {},
   "outputs": [],
   "source": [
    "from mylatex import *\n",
    "import pyperclip\n",
    "from PIL import Image"
   ]
  },
  {
   "cell_type": "code",
   "execution_count": 14,
   "metadata": {},
   "outputs": [],
   "source": [
    "import sympy as sy\n",
    "simplify = lambda expr:sy.factor(sy.simplify(sy.expand(expr)))\n",
    "q = sy.symbols('q')"
   ]
  },
  {
   "cell_type": "code",
   "execution_count": 2,
   "metadata": {},
   "outputs": [],
   "source": [
    "def gtm(t,m,q):\n",
    "    '''(x_{-i}x_i)^m 展开的系数'''\n",
    "    #assert t>0 and m>0, '下标必须为正'\n",
    "    res = 0\n",
    "    fac = q**(t**2-2*t+m) # 补乘因子\n",
    "    for j in range(1,t+1):\n",
    "        numer = (q**(2*j)-1)**(m-1)\n",
    "        denomin = 1\n",
    "        for k in range(1,t+1):\n",
    "            if k==j:continue\n",
    "            denomin *= (q**(2*j)-q**(2*k))\n",
    "        res += numer/denomin\n",
    "    return res*fac"
   ]
  },
  {
   "cell_type": "code",
   "execution_count": 23,
   "metadata": {},
   "outputs": [],
   "source": [
    "def tidy(l,c=0):\n",
    "    '''将二维列表元素长度整齐化，用c补齐'''\n",
    "    n = max([len(i) for i in l])\n",
    "    return [[(line[i] if i<len(line) else c) for i in range(n)] for line in l]"
   ]
  },
  {
   "cell_type": "code",
   "execution_count": 7,
   "metadata": {
    "collapsed": true
   },
   "outputs": [
    {
     "name": "stdout",
     "output_type": "stream",
     "text": [
      "2\t3\t4\t5\t6\t7\t8\t"
     ]
    },
    {
     "data": {
      "text/html": [
       "<div class=\"notruncate\">\n",
       "<table  class=\"table_form\">\n",
       "<tbody>\n",
       "<tr class =\"row-a\">\n",
       "<td><script type=\"math/tex\">{\\left(q + 1\\right)} {\\left(q - 1\\right)} q</script></td>\n",
       "</tr>\n",
       "<tr class =\"row-b\">\n",
       "<td><script type=\"math/tex\">{\\left(q + 1\\right)}^{2} {\\left(q - 1\\right)}^{2} q^{2}</script></td>\n",
       "<td><script type=\"math/tex\">{\\left(q^{2} + 2\\right)} {\\left(q + 1\\right)} {\\left(q - 1\\right)} q^{3}</script></td>\n",
       "</tr>\n",
       "<tr class =\"row-a\">\n",
       "<td><script type=\"math/tex\">{\\left(q + 1\\right)}^{3} {\\left(q - 1\\right)}^{3} q^{3}</script></td>\n",
       "<td><script type=\"math/tex\">{\\left(q^{4} + 3 \\, q^{2} + 3\\right)} {\\left(q + 1\\right)}^{2} {\\left(q - 1\\right)}^{2} q^{4}</script></td>\n",
       "<td><script type=\"math/tex\">{\\left(q^{4} + 2 \\, q^{2} + 3\\right)} {\\left(q + 1\\right)} {\\left(q - 1\\right)} q^{7}</script></td>\n",
       "</tr>\n",
       "<tr class =\"row-b\">\n",
       "<td><script type=\"math/tex\">{\\left(q + 1\\right)}^{4} {\\left(q - 1\\right)}^{4} q^{4}</script></td>\n",
       "<td><script type=\"math/tex\">{\\left(q^{4} + 2 \\, q^{2} + 2\\right)} {\\left(q^{2} + 2\\right)} {\\left(q + 1\\right)}^{3} {\\left(q - 1\\right)}^{3} q^{5}</script></td>\n",
       "<td><script type=\"math/tex\">{\\left(q^{4} + 2 \\, q^{2} + 2\\right)} {\\left(q^{4} + q^{2} + 3\\right)} {\\left(q + 1\\right)}^{2} {\\left(q - 1\\right)}^{2} q^{8}</script></td>\n",
       "<td><script type=\"math/tex\">{\\left(q^{6} + 2 \\, q^{4} + 3 \\, q^{2} + 4\\right)} {\\left(q + 1\\right)} {\\left(q - 1\\right)} q^{13}</script></td>\n",
       "</tr>\n",
       "<tr class =\"row-a\">\n",
       "<td><script type=\"math/tex\">{\\left(q + 1\\right)}^{5} {\\left(q - 1\\right)}^{5} q^{5}</script></td>\n",
       "<td><script type=\"math/tex\">{\\left(q^{8} + 5 \\, q^{6} + 10 \\, q^{4} + 10 \\, q^{2} + 5\\right)} {\\left(q + 1\\right)}^{4} {\\left(q - 1\\right)}^{4} q^{6}</script></td>\n",
       "<td><script type=\"math/tex\">{\\left(q^{8} + 2 \\, q^{6} + 5 \\, q^{4} + 5 \\, q^{2} + 5\\right)} {\\left(q^{4} + 2 \\, q^{2} + 2\\right)} {\\left(q + 1\\right)}^{3} {\\left(q - 1\\right)}^{3} q^{9}</script></td>\n",
       "<td><script type=\"math/tex\">{\\left(q^{12} + 3 \\, q^{10} + 7 \\, q^{8} + 13 \\, q^{6} + 16 \\, q^{4} + 15 \\, q^{2} + 10\\right)} {\\left(q + 1\\right)}^{2} {\\left(q - 1\\right)}^{2} q^{14}</script></td>\n",
       "<td><script type=\"math/tex\">{\\left(q^{8} + 2 \\, q^{6} + 3 \\, q^{4} + 4 \\, q^{2} + 5\\right)} {\\left(q + 1\\right)} {\\left(q - 1\\right)} q^{21}</script></td>\n",
       "</tr>\n",
       "<tr class =\"row-b\">\n",
       "<td><script type=\"math/tex\">{\\left(q + 1\\right)}^{6} {\\left(q - 1\\right)}^{6} q^{6}</script></td>\n",
       "<td><script type=\"math/tex\">{\\left(q^{4} + 3 \\, q^{2} + 3\\right)} {\\left(q^{2} + q + 1\\right)} {\\left(q^{2} - q + 1\\right)} {\\left(q^{2} + 2\\right)} {\\left(q + 1\\right)}^{5} {\\left(q - 1\\right)}^{5} q^{7}</script></td>\n",
       "<td><script type=\"math/tex\">{\\left(q^{16} + 5 \\, q^{14} + 16 \\, q^{12} + 34 \\, q^{10} + 56 \\, q^{8} + 69 \\, q^{6} + 65 \\, q^{4} + 40 \\, q^{2} + 15\\right)} {\\left(q + 1\\right)}^{4} {\\left(q - 1\\right)}^{4} q^{10}</script></td>\n",
       "<td><script type=\"math/tex\">{\\left(q^{18} + 4 \\, q^{16} + 11 \\, q^{14} + 25 \\, q^{12} + 43 \\, q^{10} + 62 \\, q^{8} + 73 \\, q^{6} + 66 \\, q^{4} + 45 \\, q^{2} + 20\\right)} {\\left(q + 1\\right)}^{3} {\\left(q - 1\\right)}^{3} q^{15}</script></td>\n",
       "<td><script type=\"math/tex\">{\\left(q^{16} + 3 \\, q^{14} + 7 \\, q^{12} + 13 \\, q^{10} + 22 \\, q^{8} + 27 \\, q^{6} + 28 \\, q^{4} + 24 \\, q^{2} + 15\\right)} {\\left(q + 1\\right)}^{2} {\\left(q - 1\\right)}^{2} q^{22}</script></td>\n",
       "<td><script type=\"math/tex\">{\\left(q^{10} + 2 \\, q^{8} + 3 \\, q^{6} + 4 \\, q^{4} + 5 \\, q^{2} + 6\\right)} {\\left(q + 1\\right)} {\\left(q - 1\\right)} q^{31}</script></td>\n",
       "</tr>\n",
       "<tr class =\"row-a\">\n",
       "<td><script type=\"math/tex\">{\\left(q + 1\\right)}^{7} {\\left(q - 1\\right)}^{7} q^{7}</script></td>\n",
       "<td><script type=\"math/tex\">{\\left(q^{12} + 7 \\, q^{10} + 21 \\, q^{8} + 35 \\, q^{6} + 35 \\, q^{4} + 21 \\, q^{2} + 7\\right)} {\\left(q + 1\\right)}^{6} {\\left(q - 1\\right)}^{6} q^{8}</script></td>\n",
       "<td><script type=\"math/tex\">{\\left(q^{16} + 5 \\, q^{14} + 16 \\, q^{12} + 34 \\, q^{10} + 56 \\, q^{8} + 70 \\, q^{6} + 70 \\, q^{4} + 49 \\, q^{2} + 21\\right)} {\\left(q^{2} + q + 1\\right)} {\\left(q^{2} - q + 1\\right)} {\\left(q + 1\\right)}^{5} {\\left(q - 1\\right)}^{5} q^{11}</script></td>\n",
       "<td><script type=\"math/tex\">{\\left(q^{24} + 5 \\, q^{22} + 16 \\, q^{20} + 41 \\, q^{18} + 84 \\, q^{16} + 146 \\, q^{14} + 219 \\, q^{12} + 278 \\, q^{10} + 302 \\, q^{8} + 273 \\, q^{6} + 196 \\, q^{4} + 105 \\, q^{2} + 35\\right)} {\\left(q + 1\\right)}^{4} {\\left(q - 1\\right)}^{4} q^{16}</script></td>\n",
       "<td><script type=\"math/tex\">{\\left(q^{24} + 4 \\, q^{22} + 11 \\, q^{20} + 25 \\, q^{18} + 50 \\, q^{16} + 83 \\, q^{14} + 122 \\, q^{12} + 157 \\, q^{10} + 178 \\, q^{8} + 167 \\, q^{6} + 133 \\, q^{4} + 84 \\, q^{2} + 35\\right)} {\\left(q + 1\\right)}^{3} {\\left(q - 1\\right)}^{3} q^{23}</script></td>\n",
       "<td><script type=\"math/tex\">{\\left(q^{20} + 3 \\, q^{18} + 7 \\, q^{16} + 13 \\, q^{14} + 22 \\, q^{12} + 34 \\, q^{10} + 42 \\, q^{8} + 45 \\, q^{6} + 43 \\, q^{4} + 35 \\, q^{2} + 21\\right)} {\\left(q + 1\\right)}^{2} {\\left(q - 1\\right)}^{2} q^{32}</script></td>\n",
       "<td><script type=\"math/tex\">{\\left(q^{12} + 2 \\, q^{10} + 3 \\, q^{8} + 4 \\, q^{6} + 5 \\, q^{4} + 6 \\, q^{2} + 7\\right)} {\\left(q + 1\\right)} {\\left(q - 1\\right)} q^{43}</script></td>\n",
       "</tr>\n",
       "</tbody>\n",
       "</table>\n",
       "</div>"
      ],
      "text/plain": [
       "  (q + 1)*(q - 1)*q\n",
       "  (q + 1)^2*(q - 1)^2*q^2\n",
       "  (q + 1)^3*(q - 1)^3*q^3\n",
       "  (q + 1)^4*(q - 1)^4*q^4\n",
       "  (q + 1)^5*(q - 1)^5*q^5\n",
       "  (q + 1)^6*(q - 1)^6*q^6\n",
       "  (q + 1)^7*(q - 1)^7*q^7"
      ]
     },
     "execution_count": 7,
     "metadata": {},
     "output_type": "execute_result"
    }
   ],
   "source": [
    "res = []\n",
    "for m in range(2,9):\n",
    "    print(m,end='\\t')\n",
    "    res.append([])\n",
    "    for t in range(1,m):\n",
    "        res[-1].append(simplify(gtm(t,m,q)))\n",
    "\n",
    "string = str(res)\n",
    "var('q')\n",
    "exec('res2='+string)\n",
    "table(res2)"
   ]
  },
  {
   "cell_type": "code",
   "execution_count": 33,
   "metadata": {},
   "outputs": [
    {
     "data": {
      "text/plain": [
       "True"
      ]
     },
     "execution_count": 33,
     "metadata": {},
     "output_type": "execute_result"
    }
   ],
   "source": [
    "mat = Matrix(tidy(res2))\n",
    "pyperclip.copy('$'+latex(mat)+'$')\n",
    "latex2png('$'+latex(mat)+'$',density=200)\n",
    "Image.open('rex.png')"
   ]
  },
  {
   "cell_type": "code",
   "execution_count": 58,
   "metadata": {},
   "outputs": [],
   "source": [
    "res3 = []\n",
    "fac = q*q-1\n",
    "for i,line in enumerate(mat):\n",
    "    res3.append([])\n",
    "    for j,expr in enumerate(line):\n",
    "        if expr: # 非零情形\n",
    "            expr /= fac**(i-j+1)\n",
    "            expr /= q**(j*j+i+1)\n",
    "            expr = sy.expand(simplify(expr))\n",
    "        res3[-1].append(expr)"
   ]
  },
  {
   "cell_type": "code",
   "execution_count": 60,
   "metadata": {
    "collapsed": true
   },
   "outputs": [
    {
     "data": {
      "image/png": "[encoded data removed]",
      "text/plain": [
       "<PIL.PngImagePlugin.PngImageFile image mode=LA size=1262x316 at 0x6FD973A6C88>"
      ]
     },
     "execution_count": 60,
     "metadata": {},
     "output_type": "execute_result"
    }
   ],
   "source": [
    "#sy.Matrix(res3)\n",
    "mat = Matrix(tidy(res3))\n",
    "pyperclip.copy('$'+latex(mat)+'$')"
   ]
  },
  {
   "cell_type": "code",
   "execution_count": null,
   "metadata": {},
   "outputs": [],
   "source": []
  }
 ],
 "metadata": {
  "kernelspec": {
   "display_name": "SageMath 9.0",
   "language": "sage",
   "name": "sagemath"
  },
  "language_info": {
   "codemirror_mode": {
    "name": "ipython",
    "version": 3
   },
   "file_extension": ".py",
   "mimetype": "text/x-python",
   "name": "python",
   "nbconvert_exporter": "python",
   "pygments_lexer": "ipython3",
   "version": "3.7.3"
  }
 },
 "nbformat": 4,
 "nbformat_minor": 2
}

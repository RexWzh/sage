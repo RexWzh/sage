{
 "cells": [
  {
   "cell_type": "code",
   "execution_count": 11,
   "metadata": {},
   "outputs": [
    {
     "data": {
      "text/plain": [
       "'/home/rex/desktop/work_space/2 sage/0 项目/07 Extremal graph'"
      ]
     },
     "execution_count": 11,
     "metadata": {},
     "output_type": "execute_result"
    }
   ],
   "source": [
    "import sys,os\n",
    "os.getcwd()"
   ]
  },
  {
   "cell_type": "code",
   "execution_count": 77,
   "metadata": {},
   "outputs": [],
   "source": [
    "kilobytes = 1024\n",
    "# megabytes = kilobytes*1000\n",
    "# chunksize = int(200*megabytes)#default chunksize\n",
    "chunksize = kilobytes * 400\n",
    "\n",
    "def file_split(fromfile,todir,chunksize,name=\"data\",extension=\".txt\"):\n",
    "    if not os.path.exists(todir):#check whether todir exists or not\n",
    "        raise Exception(\"todir does not exist\")\n",
    "#         os.mkdir(todir)\n",
    "#     else: # clear files in todir\n",
    "#         for fname in os.listdir(todir):\n",
    "#             os.remove(os.path.join(todir,fname))\n",
    "    partnum = 0\n",
    "    inputfile = open(fromfile,'rb') #open the fromfile\n",
    "    while True:\n",
    "        chunk = inputfile.readlines(chunksize)\n",
    "        if not chunk:             #check the chunk is empty\n",
    "            break\n",
    "        partnum += 1\n",
    "        filename = os.path.join(todir,name+str(partnum)+extension)\n",
    "        fileobj = open(filename,'wb')#make partfile\n",
    "        fileobj.writelines(chunk)         #write data into partfile\n",
    "        fileobj.close()\n",
    "    inputfile.close()\n",
    "    return partnum"
   ]
  },
  {
   "cell_type": "code",
   "execution_count": 72,
   "metadata": {
    "scrolled": false
   },
   "outputs": [
    {
     "data": {
      "text/plain": [
       "['IO-编程.ipynb',\n",
       " '01 自带函数.ipynb',\n",
       " 'graph8.g6',\n",
       " 'graph4.g6',\n",
       " '.ipynb_checkpoints',\n",
       " 'test.g6',\n",
       " 'split']"
      ]
     },
     "execution_count": 72,
     "metadata": {},
     "output_type": "execute_result"
    }
   ],
   "source": [
    "os.listdir()"
   ]
  },
  {
   "cell_type": "code",
   "execution_count": 98,
   "metadata": {},
   "outputs": [],
   "source": [
    "fromfile = \"/home/rex/desktop/work_space/1 MMA/0 pkg/simplegraphs/graph11.g6\"\n",
    "todir = \"split/graph11\"\n",
    "name = 'graph11-'\n",
    "extension = \".g6\"\n",
    "kilobytes = 1024\n",
    "chunksize = kilobytes * 500\n",
    "for fname in os.listdir(todir):\n",
    "    os.remove(os.path.join(todir,fname))"
   ]
  },
  {
   "cell_type": "code",
   "execution_count": 97,
   "metadata": {},
   "outputs": [],
   "source": [
    "os.mkdir(\"split/graph11\")"
   ]
  },
  {
   "cell_type": "code",
   "execution_count": 95,
   "metadata": {},
   "outputs": [
    {
     "data": {
      "text/plain": [
       "391"
      ]
     },
     "execution_count": 95,
     "metadata": {},
     "output_type": "execute_result"
    }
   ],
   "source": [
    "file_split(fromfile,todir,chunksize,name,extension)"
   ]
  },
  {
   "cell_type": "code",
   "execution_count": 96,
   "metadata": {},
   "outputs": [
    {
     "data": {
      "text/plain": [
       "12288"
      ]
     },
     "execution_count": 96,
     "metadata": {},
     "output_type": "execute_result"
    }
   ],
   "source": [
    "12*1024"
   ]
  },
  {
   "cell_type": "code",
   "execution_count": null,
   "metadata": {},
   "outputs": [],
   "source": []
  },
  {
   "cell_type": "code",
   "execution_count": 5,
   "metadata": {},
   "outputs": [],
   "source": [
    "with open(fromfile) as f:\n",
    "    txt = f.read()"
   ]
  },
  {
   "cell_type": "code",
   "execution_count": 7,
   "metadata": {},
   "outputs": [],
   "source": [
    "import linecache"
   ]
  },
  {
   "cell_type": "code",
   "execution_count": 67,
   "metadata": {},
   "outputs": [
    {
     "name": "stdout",
     "output_type": "stream",
     "text": [
      "[b'G?????\\n', b'G???C?\\n']\n",
      "[b'G???E?\\n', b'G???F?\\n']\n"
     ]
    }
   ],
   "source": [
    "f=open(fromfile,\"rb\")\n",
    "g=open(os.path.join(todir,name),\"wb\")\n",
    "txt=f.readlines(10)\n",
    "g.writelines(txt)\n",
    "print(txt)\n",
    "txt=f.readlines(10)\n",
    "g.writelines(txt)\n",
    "print(txt)\n",
    "f.close()\n",
    "g.close()"
   ]
  },
  {
   "cell_type": "code",
   "execution_count": 33,
   "metadata": {},
   "outputs": [
    {
     "data": {
      "text/plain": [
       "['CE\\n', 'CT\\n']"
      ]
     },
     "execution_count": 33,
     "metadata": {},
     "output_type": "execute_result"
    }
   ],
   "source": []
  },
  {
   "cell_type": "code",
   "execution_count": 38,
   "metadata": {},
   "outputs": [],
   "source": [
    "f.close()"
   ]
  },
  {
   "cell_type": "code",
   "execution_count": 45,
   "metadata": {},
   "outputs": [
    {
     "data": {
      "text/plain": [
       "['C?\\n', 'CC\\n', 'CE\\n', 'CT\\n', 'CU\\n', 'CV\\n', 'C]\\n', 'C^\\n', 'C~\\n']"
      ]
     },
     "execution_count": 45,
     "metadata": {},
     "output_type": "execute_result"
    }
   ],
   "source": [
    "linecache.getlines(fromfile,-1)"
   ]
  },
  {
   "cell_type": "code",
   "execution_count": 46,
   "metadata": {},
   "outputs": [],
   "source": [
    "linecache.getlines?"
   ]
  },
  {
   "cell_type": "code",
   "execution_count": 35,
   "metadata": {},
   "outputs": [],
   "source": [
    "f.readlines"
   ]
  },
  {
   "cell_type": "code",
   "execution_count": null,
   "metadata": {},
   "outputs": [],
   "source": []
  }
 ],
 "metadata": {
  "kernelspec": {
   "display_name": "SageMath 9.0",
   "language": "sage",
   "name": "sagemath"
  },
  "language_info": {
   "codemirror_mode": {
    "name": "ipython",
    "version": 3
   },
   "file_extension": ".py",
   "mimetype": "text/x-python",
   "name": "python",
   "nbconvert_exporter": "python",
   "pygments_lexer": "ipython3",
   "version": "3.8.5"
  }
 },
 "nbformat": 4,
 "nbformat_minor": 4
}

{
 "cells": [
  {
   "cell_type": "code",
   "execution_count": 68,
   "metadata": {},
   "outputs": [],
   "source": [
    "from mylatex import *\n",
    "from PIL import Image"
   ]
  },
  {
   "cell_type": "code",
   "execution_count": 70,
   "metadata": {},
   "outputs": [
    {
     "data": {
      "image/png": "[encoded data removed]",
      "text/plain": [
       "<PIL.PngImagePlugin.PngImageFile image mode=P size=180x179 at 0x6FDB3A45E10>"
      ]
     },
     "execution_count": 70,
     "metadata": {},
     "output_type": "execute_result"
    }
   ],
   "source": [
    "txt = r\"\"\"\n",
    "\\begin{tikzpicture}\n",
    "\\draw[fill=white] (1, 1) circle (.25) +(135: .25) -- +(-45: .25) +(45: .25) -- +(-135: .25);\n",
    "\\end{tikzpicture}\"\"\"\n",
    "latex2png(txt,density=200)\n",
    "Image.open('rex.png')"
   ]
  },
  {
   "cell_type": "code",
   "execution_count": 85,
   "metadata": {},
   "outputs": [],
   "source": [
    "def Dynkin_A(m,n):\n",
    "    '''gl(m|n)的Dynkin图'''\n",
    "    txt = \"\"\"\\\\begin{tikzpicture}[scale=.5]\\n%s\\n\\\\end{tikzpicture}\"\"\"\n",
    "    content = '\\\\draw (0, 0) -- (%d, 0);\\n'%(m+n-2)\n",
    "    for i in range(m-1):\n",
    "        content += '\\\\draw[fill=white] (%d, 0) circle (.25);\\n'%i\n",
    "    content += '\\\\draw[fill=white] (%d, 0) circle (.25) \\\n",
    "+(135: .25) -- +(-45: .25) +(45: .25) -- +(-135: .25);\\n'%(m-1)\n",
    "    for i in range(n-1):\n",
    "        content += '\\\\draw[fill=white] (%d, 0) circle (.25);\\n'%(i+m)\n",
    "    return txt%content[:-1]"
   ]
  },
  {
   "cell_type": "code",
   "execution_count": 86,
   "metadata": {},
   "outputs": [
    {
     "data": {
      "image/png": "[encoded data removed]",
      "text/plain": [
       "<PIL.PngImagePlugin.PngImageFile image mode=LA size=258x22 at 0x6FDB35689E8>"
      ]
     },
     "execution_count": 86,
     "metadata": {},
     "output_type": "execute_result"
    }
   ],
   "source": [
    "latex2png(Dynkin_A(4,4),density=200)\n",
    "Image.open('rex.png')"
   ]
  },
  {
   "cell_type": "code",
   "execution_count": null,
   "metadata": {},
   "outputs": [],
   "source": []
  },
  {
   "cell_type": "code",
   "execution_count": 15,
   "metadata": {},
   "outputs": [],
   "source": [
    "BT = BinaryTree( '[[[[., [., .]], .], [[., .], [[[., .], [., .]], [., .]]]], [., [[[., .], [[[., .], [., .]], .]], .]]]' )\n",
    "txt = latex(BT)\n",
    "latex2png(txt,filename='rex',packages=('tkz-graph','tkz-berge'),density=200)\n",
    "Image.open('rex.png')"
   ]
  },
  {
   "cell_type": "code",
   "execution_count": null,
   "metadata": {},
   "outputs": [],
   "source": []
  }
 ],
 "metadata": {
  "kernelspec": {
   "display_name": "SageMath 9.0",
   "language": "sage",
   "name": "sagemath"
  },
  "language_info": {
   "codemirror_mode": {
    "name": "ipython",
    "version": 3
   },
   "file_extension": ".py",
   "mimetype": "text/x-python",
   "name": "python",
   "nbconvert_exporter": "python",
   "pygments_lexer": "ipython3",
   "version": "3.7.3"
  }
 },
 "nbformat": 4,
 "nbformat_minor": 2
}

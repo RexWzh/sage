{
 "cells": [
  {
   "cell_type": "code",
   "execution_count": 15,
   "metadata": {},
   "outputs": [],
   "source": [
    "#非交错结\n",
    "txt = \"8_(19), 8_(20), 8_(21), 9_(42), 9_(43), 9_(44), 9_(45), 9_(46), 9_(47), 9_(48), 9_(49), 10_(124), 10_(125), 10_(126), 10_(127), 10_(128), 10_(129), 10_(130), 10_(131), 10_(132), 10_(133), 10_(134), 10_(135), 10_(136), 10_(137), 10_(138), 10_(139), 10_(140), 10_(141), 10_(142), 10_(143), 10_(144), 10_(145), 10_(146), 10_(147), 10_(148), 10_(149), 10_(150), 10_(151), 10_(152), 10_(153), 10_(154), 10_(155), 10_(156), 10_(157), 10_(158), 10_(159), 10_(160), 10_(161), 10_(162), 10_(163), 10_(164),  10_(165)\"\n",
    "txt = txt.replace('(','{')\n",
    "txt = txt.replace(')','}')\n",
    "res = txt.split(',')\n",
    "res2 = [res[8*i:8*(i+1)] for i in range(7)]"
   ]
  },
  {
   "cell_type": "code",
   "execution_count": 34,
   "metadata": {},
   "outputs": [],
   "source": [
    "expr = q^(-3) + q^(-1) + 1/(q^15*t^7) + 1/(q^11*t^6) + 1/(q^11*t^5) + 1/(q^9*t^4) + 1/(q^7*t^4) + 1/(q^9*t^3) + 1/(q^5*t^3) + 2/(q^5*t^2) + 1/(q*t)"
   ]
  },
  {
   "cell_type": "code",
   "execution_count": 35,
   "metadata": {},
   "outputs": [],
   "source": [
    "# pyperclip.copy(latex(expr))\n",
    "pyperclip.copy(latex(expr.subs(t=-1)))"
   ]
  },
  {
   "cell_type": "code",
   "execution_count": null,
   "metadata": {},
   "outputs": [],
   "source": [
    "\\frac{1}{q^{3}} + \\frac{1}{q^{5}} + \\frac{1}{q^{7}} - \\frac{1}{q^{15}}"
   ]
  },
  {
   "cell_type": "code",
   "execution_count": null,
   "metadata": {},
   "outputs": [],
   "source": [
    "\\frac{1}{q^{3}} + \\frac{1}{q^{5}} + \\frac{1}{q^{7}} - \\frac{1}{q^{15}}"
   ]
  },
  {
   "cell_type": "code",
   "execution_count": 36,
   "metadata": {},
   "outputs": [],
   "source": [
    "import pyperclip\n",
    "expr = q^(-5) + q^(-3) + 1/(q^15*t^5) + 1/(q^11*t^4) + 1/(q^11*t^3) + 1/(q^7*t^2)\n",
    "pyperclip.copy(latex(expr.subs(t=-1)))"
   ]
  },
  {
   "cell_type": "code",
   "execution_count": 5,
   "metadata": {},
   "outputs": [],
   "source": [
    "var('q t')\n",
    "expr = 4/q^5 + 5/q^3 + 1/(q^19*t^7) + 2/(q^17*t^6) + \\\n",
    "     1/(q^15*t^6) + 4/(q^15*t^5) + 2/(q^13*t^5) + 4/(q^13*t^4) + \\\n",
    "     4/(q^11*t^4) + 6/(q^11*t^3) + 4/(q^9*t^3) + 5/(q^9*t^2) + 6/(q^7*t^2) + \\\n",
    "     4/(q^7*t) + 5/(q^5*t) + (2*t)/q^3 + (3*t)/q + t^2/q + 2*q*t^2 + q^3*t^3"
   ]
  },
  {
   "cell_type": "code",
   "execution_count": 10,
   "metadata": {},
   "outputs": [
    {
     "data": {
      "text/plain": [
       "q^{3} t^{3} + 2 \\, q t^{2} + \\frac{t^{2}}{q} + \\frac{3 \\, t}{q} + \\frac{2 \\, t}{q^{3}} + \\frac{5}{q^{3}} + \\frac{4}{q^{5}} + \\frac{5}{q^{5} t} + \\frac{4}{q^{7} t} + \\frac{6}{q^{7} t^{2}} + \\frac{5}{q^{9} t^{2}} + \\frac{4}{q^{9} t^{3}} + \\frac{6}{q^{11} t^{3}} + \\frac{4}{q^{11} t^{4}} + \\frac{4}{q^{13} t^{4}} + \\frac{2}{q^{13} t^{5}} + \\frac{4}{q^{15} t^{5}} + \\frac{1}{q^{15} t^{6}} + \\frac{2}{q^{17} t^{6}} + \\frac{1}{q^{19} t^{7}}"
      ]
     },
     "execution_count": 10,
     "metadata": {},
     "output_type": "execute_result"
    }
   ],
   "source": [
    "latex(expand(expr))"
   ]
  },
  {
   "cell_type": "code",
   "execution_count": null,
   "metadata": {},
   "outputs": [],
   "source": []
  },
  {
   "cell_type": "code",
   "execution_count": 52,
   "metadata": {},
   "outputs": [
    {
     "data": {
      "text/plain": [
       "(q^8*t^3 + q^6*t^3 + q^4*t + 1)/(q^9*t^3)"
      ]
     },
     "execution_count": 52,
     "metadata": {},
     "output_type": "execute_result"
    }
   ],
   "source": [
    "trefoil_kh = (q^(-3) + q^(-1) + 1/(q^9*t^3) + 1/(q^5*t^2))*q^4\n",
    "factor(trefoil_kh)\n",
    "# expand(trefoil_kh*(q^9*t^3))"
   ]
  },
  {
   "cell_type": "code",
   "execution_count": 67,
   "metadata": {},
   "outputs": [
    {
     "data": {
      "text/plain": [
       "(q^8*t^3 + q^6*t^3 + q^4*t + 1)/(q^9*t^3)"
      ]
     },
     "execution_count": 67,
     "metadata": {},
     "output_type": "execute_result"
    }
   ],
   "source": [
    "trefoil_kh_ = t^(-3)*q^(-6)\n",
    "factor(q^(-2-1)*(1+q^2+(1+t*q^4)*trefoil_kh_))"
   ]
  },
  {
   "cell_type": "code",
   "execution_count": 69,
   "metadata": {},
   "outputs": [
    {
     "name": "stdout",
     "output_type": "stream",
     "text": [
      "(q^10*t^4 + q^6*t^3 + q^6*t^2 + q^4*t^2 + q^4*t + 1)/(q^5*t^2)\n"
     ]
    },
    {
     "data": {
      "text/plain": [
       "(q^10*t^4 + q^6*t^3 + q^6*t^2 + q^4*t^2 + q^4*t + 1)/(q^5*t^2)"
      ]
     },
     "execution_count": 69,
     "metadata": {},
     "output_type": "execute_result"
    }
   ],
   "source": [
    "figure8_kh_ = t^-2*q^-4 + t*q^2\n",
    "print(factor(q^(0-1)*(1+q^2+(1+t*q^4)*figure8_kh_)))\n",
    "factor(q^(-1) + q + 1/(q^5*t^2) + 1/(q*t) + q*t + q^5*t^2)"
   ]
  },
  {
   "cell_type": "code",
   "execution_count": 70,
   "metadata": {},
   "outputs": [
    {
     "name": "stdout",
     "output_type": "stream",
     "text": [
      "(q^12*t^5 + q^10*t^5 + q^8*t^3 + q^4*t^2 + q^4*t + 1)/(q^15*t^5)\n"
     ]
    },
    {
     "data": {
      "text/plain": [
       "(q^12*t^5 + q^10*t^5 + q^8*t^3 + q^4*t^2 + q^4*t + 1)/(q^15*t^5)"
      ]
     },
     "execution_count": 70,
     "metadata": {},
     "output_type": "execute_result"
    }
   ],
   "source": [
    "five1_kh_ = t^-5*q^-10+t^-3*q^-6\n",
    "print(factor(q^(-4-1)*(1+q^2+(1+t*q^4)*five1_kh_)))\n",
    "factor(q^(-5) + q^(-3) + 1/(q^15*t^5) + 1/(q^11*t^4) + 1/(q^11*t^3) + 1/(q^7*t^2))"
   ]
  },
  {
   "cell_type": "code",
   "execution_count": 74,
   "metadata": {},
   "outputs": [
    {
     "name": "stdout",
     "output_type": "stream",
     "text": [
      "(q^14*t^6 + q^10*t^5 + q^10*t^4 + q^8*t^4 + q^8*t^3 + q^6*t^4 + q^6*t^3 + q^4*t^2 + q^4*t + 1)/(q^7*t^4)\n"
     ]
    },
    {
     "data": {
      "text/plain": [
       "(q^14*t^6 + q^10*t^5 + q^10*t^4 + q^8*t^4 + q^8*t^3 + q^6*t^4 + q^6*t^3 + q^4*t^2 + q^4*t + 1)/(q^7*t^4)"
      ]
     },
     "execution_count": 74,
     "metadata": {},
     "output_type": "execute_result"
    }
   ],
   "source": [
    "nine42_kh_ = t^-4*q^-6 + t^-2*q^-2 + t^-1 + t*q^4\n",
    "print(factor(q^(-1)*(1+q^2+(1+t*q^4)*nine42_kh_)))\n",
    "factor(q^(-1) + q + q^3 + 1/(q^7*t^4) + 1/(q^3*t^3) + \n",
    "     1/(q^3*t^2) + 1/(q*t) + q/t + q^3*t + q^7*t^2)"
   ]
  },
  {
   "cell_type": "code",
   "execution_count": 1,
   "metadata": {},
   "outputs": [],
   "source": [
    "txt = r\"\"\"Kh[Knot[3, 1]] = q^(-3) + q^(-1) + 1/(q^9*t^3) + 1/(q^5*t^2)\n",
    "\n",
    "Kh[Knot[4, 1]] = q^(-1) + q + 1/(q^5*t^2) + 1/(q*t) + q*t + q^5*t^2\n",
    "\n",
    "Kh[Knot[5, 1]] = q^(-5) + q^(-3) + 1/(q^15*t^5) + 1/(q^11*t^4) + \n",
    "     1/(q^11*t^3) + 1/(q^7*t^2)\n",
    " \n",
    "Kh[Knot[5, 2]] = q^(-3) + q^(-1) + 1/(q^13*t^5) + 1/(q^9*t^4) + 1/(q^9*t^3) + \n",
    "     1/(q^7*t^2) + 1/(q^5*t^2) + 1/(q^3*t)\n",
    "\n",
    "Kh[Knot[6, 1]] = q^(-1) + 2*q + 1/(q^9*t^4) + 1/(q^5*t^3) + 1/(q^5*t^2) + \n",
    "     1/(q^3*t) + 1/(q*t) + q*t + q^5*t^2\n",
    " \n",
    "Kh[Knot[6, 2]] = q^(-3) + 2/q + 1/(q^11*t^4) + 1/(q^9*t^3) + 1/(q^7*t^3) + \n",
    "     1/(q^7*t^2) + 1/(q^5*t^2) + 1/(q^5*t) + 1/(q^3*t) + t/q + q^3*t^2\n",
    " \n",
    "Kh[Knot[6, 3]] = 2/q + 2*q + 1/(q^7*t^3) + 1/(q^5*t^2) + 1/(q^3*t^2) + \n",
    "     1/(q^3*t) + 1/(q*t) + q*t + q^3*t + q^3*t^2 + q^5*t^2 + q^7*t^3\n",
    "\n",
    "Kh[Knot[7, 1]] = q^(-7) + q^(-5) + 1/(q^21*t^7) + 1/(q^17*t^6) + \n",
    "     1/(q^17*t^5) + 1/(q^13*t^4) + 1/(q^13*t^3) + 1/(q^9*t^2)\n",
    " \n",
    "Kh[Knot[7, 2]] = q^(-3) + q^(-1) + 1/(q^17*t^7) + 1/(q^13*t^6) + \n",
    "     1/(q^13*t^5) + 1/(q^11*t^4) + 1/(q^9*t^4) + 1/(q^9*t^3) + 1/(q^7*t^3) + \n",
    "     1/(q^7*t^2) + 1/(q^5*t^2) + 1/(q^3*t)\n",
    " \n",
    "Kh[Knot[7, 3]] = q^3 + q^5 + q^5*t + q^7*t^2 + q^9*t^2 + q^9*t^3 + q^11*t^3 + \n",
    "     2*q^11*t^4 + q^13*t^4 + 2*q^15*t^5 + q^15*t^6 + q^19*t^7\n",
    " \n",
    "Kh[Knot[7, 4]] = q + q^3 + 2*q^3*t + q^5*t^2 + 2*q^7*t^2 + q^7*t^3 + \n",
    "     q^9*t^3 + 2*q^9*t^4 + q^11*t^4 + 2*q^13*t^5 + q^13*t^6 + q^17*t^7\n",
    " \n",
    "Kh[Knot[7, 5]] = q^(-5) + q^(-3) + 1/(q^19*t^7) + 1/(q^17*t^6) + \n",
    "     1/(q^15*t^6) + 2/(q^15*t^5) + 1/(q^13*t^5) + 1/(q^13*t^4) + \n",
    "     2/(q^11*t^4) + 2/(q^11*t^3) + 1/(q^9*t^3) + 1/(q^9*t^2) + 2/(q^7*t^2) + \n",
    "     1/(q^5*t)\n",
    " \n",
    "Kh[Knot[7, 6]] = 2/q^3 + 2/q + 1/(q^13*t^5) + 1/(q^11*t^4) + 1/(q^9*t^4) + \n",
    "     2/(q^9*t^3) + 1/(q^7*t^3) + 2/(q^7*t^2) + 2/(q^5*t^2) + 1/(q^5*t) + \n",
    "     2/(q^3*t) + t/q + q*t + q^3*t^2\n",
    " \n",
    "Kh[Knot[7, 7]] = 3/q + 2*q + 1/(q^7*t^3) + 2/(q^5*t^2) + 1/(q^3*t^2) + \n",
    "     1/(q^3*t) + 2/(q*t) + 2*q*t + 2*q^3*t + q^3*t^2 + 2*q^5*t^2 + q^5*t^3 + \n",
    "     q^7*t^3 + q^9*t^4\n",
    "\n",
    "Kh[Knot[8, 1]] = q^(-1) + 2*q + 1/(q^13*t^6) + 1/(q^9*t^5) + 1/(q^9*t^4) + \n",
    "     1/(q^7*t^3) + 1/(q^5*t^3) + 1/(q^5*t^2) + 1/(q^3*t^2) + 1/(q^3*t) + \n",
    "     1/(q*t) + q*t + q^5*t^2\n",
    " \n",
    "Kh[Knot[8, 2]] = q^(-5) + 2/q^3 + 1/(q^17*t^6) + 1/(q^15*t^5) + \n",
    "     1/(q^13*t^5) + 1/(q^13*t^4) + 1/(q^11*t^4) + 2/(q^11*t^3) + \n",
    "     1/(q^9*t^3) + 1/(q^9*t^2) + 2/(q^7*t^2) + 1/(q^7*t) + 1/(q^5*t) + \n",
    "     t/q^3 + q*t^2\n",
    " \n",
    "Kh[Knot[8, 3]] = 2/q + 2*q + 1/(q^9*t^4) + 1/(q^5*t^3) + 2/(q^5*t^2) + \n",
    "     1/(q^3*t) + 2/(q*t) + 2*q*t + q^3*t + 2*q^5*t^2 + q^5*t^3 + q^9*t^4\n",
    " \n",
    "Kh[Knot[8, 4]] = 2/q^3 + 2/q + 1/(q^11*t^4) + 1/(q^9*t^3) + 1/(q^7*t^3) + \n",
    "     2/(q^7*t^2) + 1/(q^5*t^2) + 1/(q^5*t) + 2/(q^3*t) + (2*t)/q + q*t + \n",
    "     2*q^3*t^2 + q^3*t^3 + q^7*t^4\n",
    " \"\"\""
   ]
  },
  {
   "cell_type": "code",
   "execution_count": 10,
   "metadata": {},
   "outputs": [],
   "source": [
    "res = []\n",
    "for i in txt.split('='):\n",
    "    res.extend(i.split('\\n'))\n",
    "res2 = [i.strip()  for i in res if 'q' in i]"
   ]
  }
 ],
 "metadata": {
  "kernelspec": {
   "display_name": "SageMath 9.0",
   "language": "sage",
   "name": "sagemath"
  },
  "language_info": {
   "codemirror_mode": {
    "name": "ipython",
    "version": 3
   },
   "file_extension": ".py",
   "mimetype": "text/x-python",
   "name": "python",
   "nbconvert_exporter": "python",
   "pygments_lexer": "ipython3",
   "version": "3.7.3"
  }
 },
 "nbformat": 4,
 "nbformat_minor": 2
}

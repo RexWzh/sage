{
 "cells": [
  {
   "cell_type": "code",
   "execution_count": 26,
   "metadata": {},
   "outputs": [],
   "source": [
    "load('group_tree.sage')\n",
    "'''mat有空可以整合一块''';"
   ]
  },
  {
   "cell_type": "code",
   "execution_count": 66,
   "metadata": {
    "collapsed": true
   },
   "outputs": [
    {
     "data": {
      "text/plain": [
       "[ 2 -1  0  0  0  0  0  0]\n",
       "[-1  2  0 -1  0  0  0  0]\n",
       "[ 0  0  2  0 -1  0  0  0]\n",
       "[ 0 -1  0  2 -1  0  0  0]\n",
       "[ 0  0 -1 -1  2 -1  0  0]\n",
       "[ 0  0  0  0 -1  2 -1  0]\n",
       "[ 0  0  0  0  0 -1  2 -1]\n",
       "[ 0  0  0  0  0  0 -1  2]"
      ]
     },
     "execution_count": 66,
     "metadata": {},
     "output_type": "execute_result"
    }
   ],
   "source": [
    "CartanMatrix([\"E\",7,1])"
   ]
  },
  {
   "cell_type": "code",
   "execution_count": null,
   "metadata": {},
   "outputs": [],
   "source": []
  },
  {
   "cell_type": "code",
   "execution_count": 3,
   "metadata": {
    "collapsed": true
   },
   "outputs": [
    {
     "name": "stdout",
     "output_type": "stream",
     "text": [
      "B3\n",
      "s1 s2 s3 s2 s1\n",
      "B4\n",
      "s1 s2 s3 s4 s3 s2 s1\n",
      "B5\n",
      "s1 s2 s3 s4 s5 s4 s3 s2 s1\n"
     ]
    }
   ],
   "source": [
    "cartan_type = \"B\"\n",
    "for l in range(3,6):\n",
    "    print(cartan_type+'%d'%l)\n",
    "    n = l + 1 # 矩阵列数\n",
    "    A = CartanMatrix([cartan_type,l,1])\n",
    "    reflections = [] # 单反射\n",
    "    for i in range(1,n):\n",
    "        s  = matrix.identity(n) # n阶单位阵（单反射）\n",
    "        s[i] = [-1 if i==j else -A[j,i] for j in range(n)]\n",
    "        reflections.append(s)\n",
    "    G = GroupTree(reflections,index=tuple('s%d'%i for i in range(1,n)))\n",
    "    assert G.card==MatrixGroup(reflections).cardinality(),'群阶数不对'\n",
    "    print(' '.join(G.expressions[myhash(mat_bc(l,cartan_type=cartan_type))]))"
   ]
  },
  {
   "cell_type": "code",
   "execution_count": 4,
   "metadata": {
    "collapsed": true
   },
   "outputs": [
    {
     "name": "stdout",
     "output_type": "stream",
     "text": [
      "C2\n",
      "s2 s1 s2\n",
      "C3\n",
      "s3 s2 s1 s3 s2 s3\n",
      "C4\n",
      "s4 s3 s2 s1 s4 s3 s2 s4 s3 s4\n",
      "C5\n",
      "s5 s4 s3 s2 s1 s5 s4 s3 s2 s5 s4 s3 s5 s4 s5\n"
     ]
    }
   ],
   "source": [
    "cartan_type = \"C\"\n",
    "for l in range(2,6):\n",
    "    print(cartan_type+'%d'%l)\n",
    "    n = l + 1 # 矩阵列数\n",
    "    A = CartanMatrix([cartan_type,l,1])\n",
    "    reflections = [] # 单反射\n",
    "    for i in range(1,n):\n",
    "        s  = matrix.identity(n) # n阶单位阵（单反射）\n",
    "        s[i] = [-1 if i==j else -A[j,i] for j in range(n)]\n",
    "        reflections.append(s)\n",
    "    G = GroupTree(reflections,index=tuple('s%d'%i for i in range(1,n)))\n",
    "    assert G.card==MatrixGroup(reflections).cardinality(),'群阶数不对'\n",
    "    print(' '.join(G.expressions[myhash(mat_bc(l,cartan_type=cartan_type))]))"
   ]
  },
  {
   "cell_type": "code",
   "execution_count": 7,
   "metadata": {
    "collapsed": true
   },
   "outputs": [
    {
     "name": "stdout",
     "output_type": "stream",
     "text": [
      "D4\n",
      "[0 1 0 0 0]\n",
      "[1 0 0 0 0]\n",
      "[0 0 1 0 0]\n",
      "[0 0 0 0 1]\n",
      "[0 0 0 1 0]\n",
      "s3 s2 s0 s1 s2 s3\n",
      "D5\n",
      "[0 1 0 0 0 0]\n",
      "[1 0 0 0 0 0]\n",
      "[0 0 1 0 0 0]\n",
      "[0 0 0 1 0 0]\n",
      "[0 0 0 0 0 1]\n",
      "[0 0 0 0 1 0]\n",
      "s4 s3 s2 s0 s1 s2 s3 s4\n",
      "D6\n",
      "[0 1 0 0 0 0 0]\n",
      "[1 0 0 0 0 0 0]\n",
      "[0 0 1 0 0 0 0]\n",
      "[0 0 0 1 0 0 0]\n",
      "[0 0 0 0 1 0 0]\n",
      "[0 0 0 0 0 0 1]\n",
      "[0 0 0 0 0 1 0]\n",
      "s5 s4 s3 s2 s0 s1 s2 s3 s4 s5\n",
      "D7\n",
      "[0 1 0 0 0 0 0 0]\n",
      "[1 0 0 0 0 0 0 0]\n",
      "[0 0 1 0 0 0 0 0]\n",
      "[0 0 0 1 0 0 0 0]\n",
      "[0 0 0 0 1 0 0 0]\n",
      "[0 0 0 0 0 1 0 0]\n",
      "[0 0 0 0 0 0 0 1]\n",
      "[0 0 0 0 0 0 1 0]\n",
      "s6 s5 s4 s3 s2 s0 s1 s2 s3 s4 s5 s6\n"
     ]
    }
   ],
   "source": [
    "cartan_type = \"D\"\n",
    "for l in range(4,8):\n",
    "    print(cartan_type+'%d'%l)\n",
    "    n = l + 1 # 矩阵列数\n",
    "    A = CartanMatrix([cartan_type,l,1])\n",
    "    reflections = [] # 单反射\n",
    "    for i in range(0,n-1):\n",
    "        s  = matrix.identity(n) # n阶单位阵（单反射）\n",
    "        s[i] = [-1 if i==j else -A[j,i] for j in range(n)]\n",
    "        reflections.append(s)\n",
    "    G = GroupTree(reflections,index=tuple('s%d'%i for i in range(0,n-1)),length=l*2-2)\n",
    "#     assert G.card==MatrixGroup(reflections).cardinality(),'群阶数不对'\n",
    "#     T = mat_d(l)[0] # 讨论Tx情形\n",
    "    T = mat_d(l)[1] # 讨论Tx'情形\n",
    "    Aut = graph_automorphism_d(l)\n",
    "    for ele in Aut.elements:\n",
    "        hm = myhash(T*ele)\n",
    "        if hm in G.expressions:\n",
    "            print(ele,' '.join(G.expressions[hm]),sep='\\n')"
   ]
  },
  {
   "cell_type": "code",
   "execution_count": 63,
   "metadata": {},
   "outputs": [],
   "source": [
    "V = RootSystem(cartan_type=[\"E\",6]).ambient_space()\n",
    "basis = [v.to_vector() for v in V.simple_roots()]\n",
    "h1,h2,h3,h4,h5,h6 = basis\n",
    "x = (2*h1+3*h2+4*h3+6*h4+5*h5+4*h6)/3 # 位移元素\n",
    "# h1,h2,h3,h4,h5,h6,h7 = basis\n",
    "# x = (2*h1+3*h2+4*h3+6*h4+5*h5+4*h6+3*h7)/2 # 位移元素\n",
    "# for h in basis: print(h*x)"
   ]
  },
  {
   "cell_type": "code",
   "execution_count": 99,
   "metadata": {
    "collapsed": true
   },
   "outputs": [
    {
     "name": "stdout",
     "output_type": "stream",
     "text": [
      "E7\n"
     ]
    },
    {
     "ename": "AssertionError",
     "evalue": "群阶数不对",
     "output_type": "error",
     "traceback": [
      "\u001b[0;31m---------------------------------------------------------------------------\u001b[0m",
      "\u001b[0;31mAssertionError\u001b[0m                            Traceback (most recent call last)",
      "\u001b[0;32m<ipython-input-99-9ed8eef27c81>\u001b[0m in \u001b[0;36m<module>\u001b[0;34m()\u001b[0m\n\u001b[1;32m     11\u001b[0m         \u001b[0mreflections\u001b[0m\u001b[0;34m.\u001b[0m\u001b[0mappend\u001b[0m\u001b[0;34m(\u001b[0m\u001b[0ms\u001b[0m\u001b[0;34m)\u001b[0m\u001b[0;34m\u001b[0m\u001b[0;34m\u001b[0m\u001b[0m\n\u001b[1;32m     12\u001b[0m     \u001b[0mG\u001b[0m \u001b[0;34m=\u001b[0m \u001b[0mGroupTree\u001b[0m\u001b[0;34m(\u001b[0m\u001b[0mreflections\u001b[0m\u001b[0;34m,\u001b[0m\u001b[0mindex\u001b[0m\u001b[0;34m=\u001b[0m\u001b[0mtuple\u001b[0m\u001b[0;34m(\u001b[0m\u001b[0;34m's%d'\u001b[0m\u001b[0;34m%\u001b[0m\u001b[0mi\u001b[0m \u001b[0;32mfor\u001b[0m \u001b[0mi\u001b[0m \u001b[0;32min\u001b[0m \u001b[0mrange\u001b[0m\u001b[0;34m(\u001b[0m\u001b[0mInteger\u001b[0m\u001b[0;34m(\u001b[0m\u001b[0;36m1\u001b[0m\u001b[0;34m)\u001b[0m\u001b[0;34m,\u001b[0m\u001b[0mn\u001b[0m\u001b[0;34m)\u001b[0m\u001b[0;34m)\u001b[0m\u001b[0;34m,\u001b[0m\u001b[0mlength\u001b[0m\u001b[0;34m=\u001b[0m\u001b[0mInteger\u001b[0m\u001b[0;34m(\u001b[0m\u001b[0;36m10\u001b[0m\u001b[0;34m)\u001b[0m\u001b[0;34m)\u001b[0m\u001b[0;34m\u001b[0m\u001b[0;34m\u001b[0m\u001b[0m\n\u001b[0;32m---> 13\u001b[0;31m     \u001b[0;32massert\u001b[0m \u001b[0mG\u001b[0m\u001b[0;34m.\u001b[0m\u001b[0mcard\u001b[0m\u001b[0;34m==\u001b[0m\u001b[0mMatrixGroup\u001b[0m\u001b[0;34m(\u001b[0m\u001b[0mreflections\u001b[0m\u001b[0;34m)\u001b[0m\u001b[0;34m.\u001b[0m\u001b[0mcardinality\u001b[0m\u001b[0;34m(\u001b[0m\u001b[0;34m)\u001b[0m\u001b[0;34m,\u001b[0m\u001b[0;34m'群阶数不对'\u001b[0m\u001b[0;34m\u001b[0m\u001b[0;34m\u001b[0m\u001b[0m\n\u001b[0m\u001b[1;32m     14\u001b[0m     \u001b[0mT\u001b[0m \u001b[0;34m=\u001b[0m \u001b[0mmat_e\u001b[0m\u001b[0;34m(\u001b[0m\u001b[0ml\u001b[0m\u001b[0;34m)\u001b[0m\u001b[0;34m\u001b[0m\u001b[0;34m\u001b[0m\u001b[0m\n\u001b[1;32m     15\u001b[0m     \u001b[0mprint\u001b[0m\u001b[0;34m(\u001b[0m\u001b[0;34m'用时%.3f'\u001b[0m\u001b[0;34m%\u001b[0m\u001b[0;34m(\u001b[0m\u001b[0mtime\u001b[0m\u001b[0;34m.\u001b[0m\u001b[0mtime\u001b[0m\u001b[0;34m(\u001b[0m\u001b[0;34m)\u001b[0m\u001b[0;34m-\u001b[0m\u001b[0mt\u001b[0m\u001b[0;34m)\u001b[0m\u001b[0;34m)\u001b[0m\u001b[0;34m\u001b[0m\u001b[0;34m\u001b[0m\u001b[0m\n",
      "\u001b[0;31mAssertionError\u001b[0m: 群阶数不对"
     ]
    }
   ],
   "source": [
    "cartan_type = \"E\"\n",
    "for l in range(7,8):\n",
    "    t = time.time()\n",
    "    print(cartan_type+'%d'%l)\n",
    "    n = l + 1 # 矩阵列数\n",
    "    A = CartanMatrix([cartan_type,l,1])\n",
    "    reflections = [] # 单反射\n",
    "    for i in range(1,n):\n",
    "        s  = matrix.identity(n) # n阶单位阵（单反射）\n",
    "        s[i] = [-1 if i==j else -A[j,i] for j in range(n)]\n",
    "        reflections.append(s)\n",
    "    G = GroupTree(reflections,index=tuple('s%d'%i for i in range(1,n)),length=10)\n",
    "    #assert G.card==MatrixGroup(reflections).cardinality(),'群阶数不对'\n",
    "    T = mat_e(l) \n",
    "    print('用时%.3f'%(time.time()-t))\n",
    "    Aut = graph_automorphism_e(l)\n",
    "    for ele in Aut.elements:\n",
    "        hm = myhash(T*ele)\n",
    "        if hm in G.expressions:\n",
    "            print(ele,' '.join(G.expressions[hm]),sep='\\n')"
   ]
  },
  {
   "cell_type": "code",
   "execution_count": null,
   "metadata": {},
   "outputs": [],
   "source": []
  },
  {
   "cell_type": "code",
   "execution_count": 108,
   "metadata": {
    "collapsed": true
   },
   "outputs": [
    {
     "name": "stdout",
     "output_type": "stream",
     "text": [
      "26 716304\n",
      "27 825959\n",
      "28 942376\n",
      "29 1064463\n",
      "30 1190960\n",
      "31 1320474\n",
      "32 1451520\n",
      "33 1582566\n",
      "34 1712080\n",
      "35 1838577\n",
      "36 1960664\n",
      "37 2077081\n"
     ]
    }
   ],
   "source": [
    "for i in range(12):\n",
    "    print(G.depth,len(G.expressions))\n",
    "    G.search(G.depth+1)\n",
    "    for ele in Aut.elements:\n",
    "        hm = myhash(T*ele)\n",
    "        if hm in G.expressions:\n",
    "            print(ele,' '.join(G.expressions[hm]),sep='\\n')\n",
    "            raise Exception('getcha')"
   ]
  },
  {
   "cell_type": "code",
   "execution_count": null,
   "metadata": {},
   "outputs": [],
   "source": []
  },
  {
   "cell_type": "code",
   "execution_count": null,
   "metadata": {},
   "outputs": [],
   "source": []
  },
  {
   "cell_type": "code",
   "execution_count": 111,
   "metadata": {},
   "outputs": [],
   "source": [
    "save_vari(G,'group.pydata')"
   ]
  },
  {
   "cell_type": "code",
   "execution_count": 109,
   "metadata": {},
   "outputs": [],
   "source": [
    "def save_vari(var,name):\n",
    "    '''Python数据存储'''\n",
    "    import pickle\n",
    "    fout = open(name,'wb')\n",
    "    pickle.dump(var,fout)\n",
    "    fout.close()\n",
    "    \n",
    "def read_vari(name):\n",
    "    '''Python数据读取'''\n",
    "    import pickle\n",
    "    fin = open(name,'rb')\n",
    "    a = pickle.load(fin)\n",
    "    fin.close()\n",
    "    return a"
   ]
  },
  {
   "cell_type": "code",
   "execution_count": 103,
   "metadata": {},
   "outputs": [],
   "source": [
    "def affine_graph_automorphism(cartan_type):\n",
    "    '''仿射1型的图自同构群'''\n",
    "    s,l = CartanType(cartan_type)\n",
    "    if (s,l) in ((\"E\",8),(\"G\",2),(\"F\",4)): # 平凡群\n",
    "        return GroupTree([matrix.identity(l+1)])\n",
    "    \n",
    "    if s == \"A\":\n",
    "        rotate = permutation_mat(list(range(1,l+1))+[0]) # 旋转元\n",
    "        if l == 1:\n",
    "            return GroupTree([rotate])\n",
    "        ref = permutation_mat(list(range(l+1)[::-1]))# 反射元\n",
    "        return GroupTree([rotate,ref])\n",
    "    \n",
    "    if s == \"B\":\n",
    "        assert l>=3,'B族至少为3阶'\n",
    "        return GroupTree([permutation_mat([1,0]+list(range(2,l+1)))])\n",
    "    \n",
    "    if s == \"C\":\n",
    "        assert l>=2,'C族至少为2阶'\n",
    "        ref = permutation_mat(list(range(l+1)[::-1]))\n",
    "        return GroupTree([ref])\n",
    "    \n",
    "    if s == \"D\":\n",
    "        assert l>=4,'D族至少为4阶'\n",
    "        s1 = permutation_mat([1,0]+list(range(2,l+1)))\n",
    "        if l==4:\n",
    "            s2 = permutation_mat((1,3,2,4,0))\n",
    "            return GroupTree([s1,s2])\n",
    "        s2 = permutation_mat(list(range(l-1))+[l,l-1])\n",
    "        s3 = permutation_mat(list(range(l+1))[::-1])\n",
    "        return GroupTree([s1,s2,s3])\n",
    "    \n",
    "    if s == \"E\":\n",
    "        assert l in [6,7],'E族必须为6-8阶'\n",
    "        if l==6:\n",
    "            s1 = permutation_mat((6,0,5,2,4,3,1))\n",
    "            s2 = permutation_mat((1,0,3,2,4,5,6))\n",
    "            return GroupTree([s1,s2])\n",
    "        s1 = permutation_mat((7,6,2,5,4,3,1,0))\n",
    "        return GroupTree([s1])\n",
    "\n",
    "# 调试代码\n",
    "# Lie = [[\"A\",range(1,9)],[\"D\",range(4,9)],[\"E\",range(6,9)],\n",
    "#        [\"B\",range(3,9)],[\"C\",range(2,9)],[\"F\",[4]],[\"G\",[2]]]\n",
    "# for s,l in Lie:\n",
    "#     for n in l:\n",
    "#         print(affine_graph_automorphism([s,n]))"
   ]
  },
  {
   "cell_type": "code",
   "execution_count": 98,
   "metadata": {},
   "outputs": [],
   "source": [
    "def transform_mat(cartan_type,dx=0):\n",
    "    '''B,C,D,E族的平移矩阵，D族有两个元素，通过dx确定，取l,l-1或0'''\n",
    "    s,l = CartanType(cartan_type)\n",
    "    assert s not in ['F',\"G\"],'仅定义了A-E族'\n",
    "    Tx = matrix.identity(l+1) # 平移阵\n",
    "    if s ==\"A\":\n",
    "        Tx[0] = [2] + [1]*l\n",
    "        Tx[-1] = [-1]*l + [0]\n",
    "    if s == \"B\":\n",
    "        assert l>=3,'B族至少为3阶'\n",
    "        Tx[0] = [ 2,1]+[ 2]*(l-2)+[ 1]\n",
    "        Tx[1] = [-1,0]+[-2]*(l-2)+[-1]\n",
    "    if s == \"C\":\n",
    "        assert l>=2,'C族至少为2阶'\n",
    "        return transform_mat(cartan_type=[\"A\",l]) # 二者平移阵相同\n",
    "    if s == \"D\":\n",
    "        assert l>=4,'D族至少为4阶'\n",
    "        assert dx in [l,l-1,0,-1,-2]\n",
    "        if dx==0: # 平移元素x\n",
    "            Tx[l-1] = [-1,-1]+[-2]*(l-3)+[0,-1]\n",
    "            Tx[l]   = [ 1, 1]+[ 2]*(l-3)+[1, 2]\n",
    "        else:\n",
    "            Tx[0] =  [ 2, 1]+[ 2]*(l-3)+[ 1, 1]\n",
    "            Tx[dx] = [-1,-1]+[-2]*(l-3)+([-1, 0] if (dx in [-1,l]) else [0,-1])\n",
    "    if s == \"E\":\n",
    "        assert 6<=l<=7,'E族必须为6或7阶'\n",
    "        if l==6:\n",
    "            Tx[0] = [2,1,2,2,3,2,1]\n",
    "            Tx[6] = [-1,-1,-2,-2,-3,-2,0]\n",
    "        else:\n",
    "            Tx[0] = [2,2,2,3,4,3,2,1]\n",
    "            Tx[7] = [-1,-2,-2,-3,-4,-3,-2,0]\n",
    "    return Tx.T\n",
    "\n",
    "# 调试代码\n",
    "# Lie = [[\"A\",range(1,9)],[\"D\",range(4,9)],[\"E\",range(6,8)],\n",
    "#        [\"B\",range(3,9)],[\"C\",range(2,9)]]\n",
    "# for s,l in Lie:\n",
    "#     for n in l:\n",
    "#         print(s+'%d'%n)\n",
    "#         print(transform_mat(cartan_type=[s,n]))"
   ]
  },
  {
   "cell_type": "code",
   "execution_count": 100,
   "metadata": {},
   "outputs": [],
   "source": [
    "def permutation_mat(sigma):\n",
    "    '''输入置换序列，返回置换矩阵\n",
    "    sigma为序列，标号可含0或不含\n",
    "    length指定长度，指定后，标号从0开始，'''\n",
    "    n = len(sigma)\n",
    "    if 0 not in sigma: # 移位\n",
    "        sigma = [i-1 for i in sigma]\n",
    "    assert set(sigma)==set(range(n)),'必须为从0或1开始的序列'\n",
    "    mat = matrix.zero(n)\n",
    "    for i,j in enumerate(sigma):\n",
    "        mat[j,i] = 1\n",
    "    return mat"
   ]
  },
  {
   "cell_type": "code",
   "execution_count": 104,
   "metadata": {},
   "outputs": [],
   "source": [
    "class GroupTree():\n",
    "    '''群生成树，生成元为矩阵(哈希值用了myhash)'''\n",
    "    def __init__(self, gens, length=-1, index=None, elements=True):\n",
    "        '''输入信息：\n",
    "        gens 为矩阵生成元，可逆且不能为空\n",
    "        length 设置元素长度，默认-1生成整树，若为无限群将死循环\n",
    "        index 设置生成元名称\n",
    "        elements 默认不记录元素\n",
    "        \n",
    "        类属性：\n",
    "        .n 矩阵列数\n",
    "        .unit 单位矩阵\n",
    "        .depth 当前遍历深度\n",
    "        .bottom 当前遍历的最底层（列表）\n",
    "        .elements 当前得到的群元素（列表）\n",
    "        .expressions 群元关于生成元的表达元组，取字典序下最小（字典）\n",
    "        '''\n",
    "        assert len(gens),'生成元集不能为空！'\n",
    "        assert all([m.is_invertible() for m in gens]),'生成元矩阵必须可逆！'\n",
    "        if index is None: # 初始化生成元名称\n",
    "            index = tuple([i for i in range(len(gens))])\n",
    "        self.n = n = gens[0].ncols() # 矩阵列数\n",
    "        self.unit = unit = matrix.identity(n) # 单位阵\n",
    "        self.bottom = [unit] # 当前树底\n",
    "        self.depth = 0 # 当前深度\n",
    "        self.expressions = {self.myhash(unit):tuple()} # 群元关于生成元的表达（只给出字典序下最小的一种）\n",
    "        self.elements = [unit] if elements else None\n",
    "        self.gens,self.length,self.index = gens,length,index\n",
    "        self._bool = False\n",
    "        self.search(length) # 遍历群元素\n",
    "    \n",
    "    def search(self,length):\n",
    "        '''遍历至 depth>=length 或达到最长'''\n",
    "        if 0 <= length <= self.depth: # 已经达到所需深度\n",
    "            return True\n",
    "        upper = self.bottom # 当前最深一层\n",
    "        gens,index = self.gens,self.index #生成元及名称\n",
    "        exprs,elements = self.expressions,self.elements\n",
    "        while length-self.depth: # 深度不够\n",
    "            lower = [] # 开辟一层矩阵\n",
    "            new_exprs = {} # 开辟一层表达\n",
    "            for m1 in upper:\n",
    "                h1 = self.myhash(m1)\n",
    "                for i,m2 in zip(index,gens):\n",
    "                    m = m1 * m2\n",
    "                    hm = self.myhash(m) # 新矩阵哈希值\n",
    "                    if (hm in exprs) or (hm in new_exprs): # 跳过已有元素\n",
    "                        continue\n",
    "                    expr = exprs[h1] + (i,) # 新元素的表达式\n",
    "                    new_exprs[hm] = expr # 添加群表\n",
    "                    lower.append(m)\n",
    "            if not len(lower): # 没有新元素生成\n",
    "                self._bool = True #已经结束\n",
    "                break\n",
    "            self.depth += 1 # 添加了一层\n",
    "            if elements is not None:\n",
    "                elements.extend(lower)\n",
    "            upper = lower # 放到最高层\n",
    "            exprs.update(new_exprs)\n",
    "            self.bottom = upper\n",
    "        return True\n",
    "    \n",
    "    def __iter__(self):\n",
    "        '''设置遍历，直至得到终点'''\n",
    "        return self\n",
    "    \n",
    "    def __next__(self):\n",
    "        '''往下遍历一阶，遍历结束返回-1，否则返回深度'''\n",
    "        if self._bool:\n",
    "            raise StopIteration\n",
    "        self.search(self.depth+1)\n",
    "        return self.depth\n",
    "    \n",
    "    @property\n",
    "    def card(self):\n",
    "        '''返回当前群的元素个数'''\n",
    "        return len(self.expressions)\n",
    "    \n",
    "    @staticmethod\n",
    "    def myhash(mat):\n",
    "        '''矩阵展平哈希化'''\n",
    "        n = mat.nrows()\n",
    "        mat = mat + 11*matrix.ones(n)\n",
    "        res = tuple(i for line in mat for i in line)\n",
    "        return hash(res)\n",
    "    \n",
    "    def __bool__(self):\n",
    "        '''是否完整生成树（只有 research 确认过才会返回True）'''\n",
    "        return self._bool\n",
    "    \n",
    "    def __str__(self):\n",
    "        c = self.card\n",
    "        if c == 1:\n",
    "            return 'identity group'\n",
    "        return 'Group of %d elements'%c\n",
    "    def __repr__(self):\n",
    "        return self.__str__()"
   ]
  },
  {
   "cell_type": "code",
   "execution_count": 44,
   "metadata": {},
   "outputs": [],
   "source": [
    "def mat_bc(l, cartan_type):\n",
    "    '''B型和C型wx对应的矩阵'''\n",
    "    Tx = matrix.identity(l+1) # 平移阵\n",
    "    if cartan_type.upper() == \"C\":\n",
    "        assert l>=2,'C族至少为二阶'\n",
    "        Tx[0] = [2]+[1 for i in range(l)]\n",
    "        Tx[-1] = [-1 for i in range(l)]+[0]\n",
    "        I = permutation_mat(list(range(l+1))[::-1])\n",
    "    if cartan_type.upper() == 'B':\n",
    "        assert l>=3,'B族至少为3阶'\n",
    "        Tx[0] = [ 2,1]+[ 2 for i in range(l-2)]+[ 1]\n",
    "        Tx[1] = [-1,0]+[-2 for i in range(l-2)]+[-1]\n",
    "        I = permutation_mat([1,0]+list(range(2,l+1)))\n",
    "    return Tx.T^-1*I"
   ]
  },
  {
   "cell_type": "code",
   "execution_count": 3,
   "metadata": {},
   "outputs": [],
   "source": [
    "def mat_d(l):\n",
    "    '''返回D型的平移矩阵'''\n",
    "    assert l>=4,'D族至少四阶'\n",
    "    Tx = matrix.identity(l+1)\n",
    "    Tx[0] = [ 2, 1]+[ 2 for i in range(l-3)]+[ 1, 1]\n",
    "    Tx[l] = [-1,-1]+[-2 for i in range(l-3)]+[-1, 0]\n",
    "    Tx1 = matrix.identity(l+1)\n",
    "    Tx1[l-1] = [-1,-1]+[-2 for i in range(l-3)]+[0,-1]\n",
    "    Tx1[l] = [ 1, 1]+[ 2 for i in range(l-3)]+[1, 2]\n",
    "    return [Tx.T^-1,Tx1.T^-1] "
   ]
  },
  {
   "cell_type": "code",
   "execution_count": 87,
   "metadata": {},
   "outputs": [],
   "source": [
    "def mat_e(l):\n",
    "    '''E型的平移矩阵'''\n",
    "    assert l in [6,7],'E族必须为6或7阶'\n",
    "    Tx = matrix.identity(l+1)\n",
    "    if l==6:\n",
    "        Tx[0] = [2,1,2,2,3,2,1]\n",
    "        Tx[6] = [-1,-1,-2,-2,-3,-2,0]\n",
    "    else:\n",
    "        Tx[0] = [2,2,2,3,4,3,2,1]\n",
    "        Tx[7] = [-1,-2,-2,-3,-4,-3,-2,0]\n",
    "    return Tx.T^-1"
   ]
  },
  {
   "cell_type": "code",
   "execution_count": 88,
   "metadata": {},
   "outputs": [],
   "source": [
    "def graph_automorphism_e(l):\n",
    "    '''E的图自同构群'''\n",
    "    assert l in [6,7],'E族必须为6或7阶'\n",
    "    if l==6:\n",
    "        s1 = permutation_mat((6,0,5,2,4,3,1))\n",
    "        s2 = permutation_mat((1,0,3,2,4,5,6))\n",
    "        return GroupTree([s1,s2])\n",
    "    s1 = permutation_mat((7,6,2,5,4,3,1,0))\n",
    "    return GroupTree([s1])"
   ]
  },
  {
   "cell_type": "code",
   "execution_count": 80,
   "metadata": {},
   "outputs": [],
   "source": [
    "def graph_automorphism_d(l):\n",
    "    '''D的图自同构群'''\n",
    "    assert l>=4,'D族至少四阶'\n",
    "    s1 = permutation_mat([1,0]+list(range(2,l+1)))\n",
    "    if l==4:\n",
    "        s2 = permutation_mat((1,3,2,4,0))\n",
    "        return GroupTree([s1,s2])\n",
    "    s2 = permutation_mat(list(range(l-1))+[l,l-1])\n",
    "    s3 = permutation_mat(list(range(l+1))[::-1])\n",
    "    return GroupTree([s1,s2,s3])"
   ]
  }
 ],
 "metadata": {
  "kernelspec": {
   "display_name": "SageMath 9.0",
   "language": "sage",
   "name": "sagemath"
  },
  "language_info": {
   "codemirror_mode": {
    "name": "ipython",
    "version": 3
   },
   "file_extension": ".py",
   "mimetype": "text/x-python",
   "name": "python",
   "nbconvert_exporter": "python",
   "pygments_lexer": "ipython3",
   "version": "3.7.3"
  }
 },
 "nbformat": 4,
 "nbformat_minor": 2
}

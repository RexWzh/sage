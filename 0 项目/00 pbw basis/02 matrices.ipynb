{
 "cells": [
  {
   "cell_type": "code",
   "execution_count": null,
   "metadata": {},
   "outputs": [],
   "source": [
    "L = LieAlgebra(ZZ,cartan_type=\"B4\",representation= \"matrix\")"
   ]
  },
  {
   "cell_type": "code",
   "execution_count": 80,
   "metadata": {},
   "outputs": [
    {
     "data": {
      "text/plain": [
       "(\n",
       "[ 0  1  0  0  0  0  0]  [ 0  0  0  0  0  0  0]  [ 0  0  0  0  0  0  0]\n",
       "[ 0  0  0  0  0  0  0]  [ 0  0  1  0  0  0  0]  [ 0  0  0  0  0  0  0]\n",
       "[ 0  0  0  0  0  0  0]  [ 0  0  0  0  0  0  0]  [ 0  0  0  0  0  0  2]\n",
       "[ 0  0  0  0  0  0  0]  [ 0  0  0  0  0  0  0]  [ 0  0  0  0  0  0  0]\n",
       "[ 0  0  0 -1  0  0  0]  [ 0  0  0  0  0  0  0]  [ 0  0  0  0  0  0  0]\n",
       "[ 0  0  0  0  0  0  0]  [ 0  0  0  0 -1  0  0]  [ 0  0  0  0  0  0  0]\n",
       "[ 0  0  0  0  0  0  0], [ 0  0  0  0  0  0  0], [ 0  0  0  0  0 -2  0],\n",
       "\n",
       "[ 0  0  0  0  0  0  0]  [ 0  0  0  0  0  0  0]  [ 0  0  0  0  0  0  0]\n",
       "[ 1  0  0  0  0  0  0]  [ 0  0  0  0  0  0  0]  [ 0  0  0  0  0  0  0]\n",
       "[ 0  0  0  0  0  0  0]  [ 0  1  0  0  0  0  0]  [ 0  0  0  0  0  0  0]\n",
       "[ 0  0  0  0 -1  0  0]  [ 0  0  0  0  0  0  0]  [ 0  0  0  0  0  0  0]\n",
       "[ 0  0  0  0  0  0  0]  [ 0  0  0  0  0 -1  0]  [ 0  0  0  0  0  0  0]\n",
       "[ 0  0  0  0  0  0  0]  [ 0  0  0  0  0  0  0]  [ 0  0  0  0  0  0 -1]\n",
       "[ 0  0  0  0  0  0  0], [ 0  0  0  0  0  0  0], [ 0  0  1  0  0  0  0],\n",
       "\n",
       "[ 1  0  0  0  0  0  0]  [ 0  0  0  0  0  0  0]  [ 0  0  0  0  0  0  0]\n",
       "[ 0 -1  0  0  0  0  0]  [ 0  1  0  0  0  0  0]  [ 0  0  0  0  0  0  0]\n",
       "[ 0  0  0  0  0  0  0]  [ 0  0 -1  0  0  0  0]  [ 0  0  2  0  0  0  0]\n",
       "[ 0  0  0 -1  0  0  0]  [ 0  0  0  0  0  0  0]  [ 0  0  0  0  0  0  0]\n",
       "[ 0  0  0  0  1  0  0]  [ 0  0  0  0 -1  0  0]  [ 0  0  0  0  0  0  0]\n",
       "[ 0  0  0  0  0  0  0]  [ 0  0  0  0  0  1  0]  [ 0  0  0  0  0 -2  0]\n",
       "[ 0  0  0  0  0  0  0], [ 0  0  0  0  0  0  0], [ 0  0  0  0  0  0  0]\n",
       ")"
      ]
     },
     "execution_count": 80,
     "metadata": {},
     "output_type": "execute_result"
    }
   ],
   "source": [
    "L=lie_algebras.ClassicalMatrix(QQ, CartanType(['B',3]))\n",
    "L.gens()"
   ]
  },
  {
   "cell_type": "code",
   "execution_count": 73,
   "metadata": {},
   "outputs": [
    {
     "data": {
      "text/plain": [
       "AlgebraWithOne( Rationals, ... )"
      ]
     },
     "execution_count": 73,
     "metadata": {},
     "output_type": "execute_result"
    }
   ],
   "source": [
    "L=gap('SimpleLieAlgebra(\"B\",3,Rationals)')\n",
    "U=gap.UniversalEnvelopingAlgebra(L)\n",
    "U"
   ]
  },
  {
   "cell_type": "code",
   "execution_count": 74,
   "metadata": {},
   "outputs": [
    {
     "data": {
      "text/plain": [
       "[ [(1)*<identity ...>], [(1)*x.1], [(1)*x.2], [(1)*x.3], [(1)*x.4], \n",
       "  [(1)*x.5], [(1)*x.6], [(1)*x.7], [(1)*x.8], [(1)*x.9], [(1)*x.10], \n",
       "  [(1)*x.11], [(1)*x.12], [(1)*x.13], [(1)*x.14], [(1)*x.15], [(1)*x.16], \n",
       "  [(1)*x.17], [(1)*x.18], [(1)*x.19], [(1)*x.20], [(1)*x.21] ]"
      ]
     },
     "execution_count": 74,
     "metadata": {},
     "output_type": "execute_result"
    }
   ],
   "source": [
    "gens=gap.GeneratorsOfAlgebra(U)\n",
    "gens"
   ]
  },
  {
   "cell_type": "code",
   "execution_count": 69,
   "metadata": {},
   "outputs": [
    {
     "data": {
      "text/plain": [
       "[(1)*x.1*x.2*x.3*x.4]"
      ]
     },
     "execution_count": 69,
     "metadata": {},
     "output_type": "execute_result"
    }
   ],
   "source": [
    "gens[2]*gens[3]*gens[4]*gens[5]"
   ]
  },
  {
   "cell_type": "code",
   "execution_count": 78,
   "metadata": {},
   "outputs": [
    {
     "data": {
      "text/plain": [
       "[(1)*x.3*x.4+(1)*x.6]"
      ]
     },
     "execution_count": 78,
     "metadata": {},
     "output_type": "execute_result"
    }
   ],
   "source": [
    "gens[5]*gens[4]"
   ]
  },
  {
   "cell_type": "code",
   "execution_count": null,
   "metadata": {},
   "outputs": [],
   "source": []
  }
 ],
 "metadata": {
  "kernelspec": {
   "display_name": "SageMath 9.0",
   "language": "sage",
   "name": "sagemath"
  },
  "language_info": {
   "codemirror_mode": {
    "name": "ipython",
    "version": 3
   },
   "file_extension": ".py",
   "mimetype": "text/x-python",
   "name": "python",
   "nbconvert_exporter": "python",
   "pygments_lexer": "ipython3",
   "version": "3.8.5"
  }
 },
 "nbformat": 4,
 "nbformat_minor": 4
}

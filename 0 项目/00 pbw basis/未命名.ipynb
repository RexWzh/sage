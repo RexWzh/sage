{
 "cells": [
  {
   "cell_type": "code",
   "execution_count": 5,
   "metadata": {},
   "outputs": [],
   "source": [
    "L = LieAlgebra(QQ,cartan_type=\"B2\")"
   ]
  },
  {
   "cell_type": "code",
   "execution_count": 6,
   "metadata": {},
   "outputs": [],
   "source": [
    "PBW = L.pbw_basis()"
   ]
  },
  {
   "cell_type": "code",
   "execution_count": 7,
   "metadata": {},
   "outputs": [
    {
     "data": {
      "text/plain": [
       "[PBW[alpha[2]],\n",
       " PBW[alpha[1]],\n",
       " PBW[alpha[1] + alpha[2]],\n",
       " PBW[alpha[1] + 2*alpha[2]],\n",
       " PBW[alphacheck[1]],\n",
       " PBW[alphacheck[2]],\n",
       " PBW[-alpha[2]],\n",
       " PBW[-alpha[1]],\n",
       " PBW[-alpha[1] - alpha[2]],\n",
       " PBW[-alpha[1] - 2*alpha[2]]]"
      ]
     },
     "execution_count": 7,
     "metadata": {},
     "output_type": "execute_result"
    }
   ],
   "source": [
    "gens = list(PBW.algebra_generators())\n",
    "gens"
   ]
  },
  {
   "cell_type": "code",
   "execution_count": 8,
   "metadata": {},
   "outputs": [],
   "source": [
    "PBW.set_order??"
   ]
  },
  {
   "cell_type": "code",
   "execution_count": 19,
   "metadata": {},
   "outputs": [
    {
     "data": {
      "text/plain": [
       "PBW[alpha[2]]*PBW[alpha[1]] - PBW[alpha[1] + alpha[2]]"
      ]
     },
     "execution_count": 19,
     "metadata": {},
     "output_type": "execute_result"
    }
   ],
   "source": [
    "gens[1]*gens[0]"
   ]
  },
  {
   "cell_type": "code",
   "execution_count": 9,
   "metadata": {
    "collapsed": true
   },
   "outputs": [
    {
     "name": "stdout",
     "output_type": "stream",
     "text": [
      "PBW[alpha[2]]*PBW[alpha[1]]\n",
      "PBW[alpha[2]]*PBW[alpha[1] + alpha[2]]\n",
      "PBW[alpha[2]]*PBW[alpha[1] + 2*alpha[2]]\n",
      "PBW[alpha[2]]*PBW[alphacheck[1]]\n",
      "PBW[alpha[2]]*PBW[alphacheck[2]]\n",
      "PBW[alpha[2]]*PBW[-alpha[2]]\n",
      "PBW[alpha[2]]*PBW[-alpha[1]]\n",
      "PBW[alpha[2]]*PBW[-alpha[1] - alpha[2]]\n",
      "PBW[alpha[2]]*PBW[-alpha[1] - 2*alpha[2]]\n",
      "PBW[alpha[1]]*PBW[alpha[1] + alpha[2]]\n",
      "PBW[alpha[1]]*PBW[alpha[1] + 2*alpha[2]]\n",
      "PBW[alpha[1]]*PBW[alphacheck[1]]\n",
      "PBW[alpha[1]]*PBW[alphacheck[2]]\n",
      "PBW[alpha[1]]*PBW[-alpha[2]]\n",
      "PBW[alpha[1]]*PBW[-alpha[1]]\n",
      "PBW[alpha[1]]*PBW[-alpha[1] - alpha[2]]\n",
      "PBW[alpha[1]]*PBW[-alpha[1] - 2*alpha[2]]\n",
      "PBW[alpha[1] + alpha[2]]*PBW[alpha[1] + 2*alpha[2]]\n",
      "PBW[alpha[1] + alpha[2]]*PBW[alphacheck[1]]\n",
      "PBW[alpha[1] + alpha[2]]*PBW[alphacheck[2]]\n",
      "PBW[alpha[1] + alpha[2]]*PBW[-alpha[2]]\n",
      "PBW[alpha[1] + alpha[2]]*PBW[-alpha[1]]\n",
      "PBW[alpha[1] + alpha[2]]*PBW[-alpha[1] - alpha[2]]\n",
      "PBW[alpha[1] + alpha[2]]*PBW[-alpha[1] - 2*alpha[2]]\n",
      "PBW[alpha[1] + 2*alpha[2]]*PBW[alphacheck[1]]\n",
      "PBW[alpha[1] + 2*alpha[2]]*PBW[alphacheck[2]]\n",
      "PBW[alpha[1] + 2*alpha[2]]*PBW[-alpha[2]]\n",
      "PBW[alpha[1] + 2*alpha[2]]*PBW[-alpha[1]]\n",
      "PBW[alpha[1] + 2*alpha[2]]*PBW[-alpha[1] - alpha[2]]\n",
      "PBW[alpha[1] + 2*alpha[2]]*PBW[-alpha[1] - 2*alpha[2]]\n",
      "PBW[alphacheck[1]]*PBW[alphacheck[2]]\n",
      "PBW[alphacheck[1]]*PBW[-alpha[2]]\n",
      "PBW[alphacheck[1]]*PBW[-alpha[1]]\n",
      "PBW[alphacheck[1]]*PBW[-alpha[1] - alpha[2]]\n",
      "PBW[alphacheck[1]]*PBW[-alpha[1] - 2*alpha[2]]\n",
      "PBW[alphacheck[2]]*PBW[-alpha[2]]\n",
      "PBW[alphacheck[2]]*PBW[-alpha[1]]\n",
      "PBW[alphacheck[2]]*PBW[-alpha[1] - alpha[2]]\n",
      "PBW[alphacheck[2]]*PBW[-alpha[1] - 2*alpha[2]]\n",
      "PBW[-alpha[2]]*PBW[-alpha[1]]\n",
      "PBW[-alpha[2]]*PBW[-alpha[1] - alpha[2]]\n",
      "PBW[-alpha[2]]*PBW[-alpha[1] - 2*alpha[2]]\n",
      "PBW[-alpha[1]]*PBW[-alpha[1] - alpha[2]]\n",
      "PBW[-alpha[1]]*PBW[-alpha[1] - 2*alpha[2]]\n",
      "PBW[-alpha[1] - alpha[2]]*PBW[-alpha[1] - 2*alpha[2]]\n"
     ]
    }
   ],
   "source": [
    "n = len(gens)\n",
    "for i in range(n):\n",
    "    for j in range(n):\n",
    "        if i>=j:continue\n",
    "        print(gens[i]*gens[j])"
   ]
  },
  {
   "cell_type": "code",
   "execution_count": 12,
   "metadata": {},
   "outputs": [
    {
     "data": {
      "text/plain": [
       "PBW[alpha[1]]"
      ]
     },
     "execution_count": 12,
     "metadata": {},
     "output_type": "execute_result"
    }
   ],
   "source": [
    "gens[1]"
   ]
  },
  {
   "cell_type": "code",
   "execution_count": null,
   "metadata": {},
   "outputs": [],
   "source": []
  }
 ],
 "metadata": {
  "kernelspec": {
   "display_name": "SageMath 9.0",
   "language": "sage",
   "name": "sagemath"
  },
  "language_info": {
   "codemirror_mode": {
    "name": "ipython",
    "version": 3
   },
   "file_extension": ".py",
   "mimetype": "text/x-python",
   "name": "python",
   "nbconvert_exporter": "python",
   "pygments_lexer": "ipython3",
   "version": "3.8.5"
  }
 },
 "nbformat": 4,
 "nbformat_minor": 4
}

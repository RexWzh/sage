{
 "cells": [
  {
   "cell_type": "code",
   "execution_count": 7,
   "metadata": {},
   "outputs": [],
   "source": [
    "load(\"kostant.sage\")"
   ]
  },
  {
   "cell_type": "code",
   "execution_count": 28,
   "metadata": {},
   "outputs": [],
   "source": [
    "def kostant_partition_fun_spo(spo, lam=None, standard=True):\n",
    "    '''spo 型李超代数的 kostant partition 函数计算\n",
    "    dynkin 图默认取标准型\n",
    "    lam 被赋值时，spo 的参数 m 将被忽略'''\n",
    "    # 初始化数据\n",
    "    sp,o = spo\n",
    "    m,n = sp//2,o//2\n",
    "    assert m>=0 and n>=0 and (sp>0 or o>2),'输入有误'\n",
    "    odd = bool(o%2) # 奇偶性\n",
    "    adjust = 0 # 标号调整参数(m,n-adjust 为内线段的边界标号)\n",
    "    \n",
    "    if lam is None: # 初始化最高根\n",
    "        if odd: lam = (n+m,n+m) if standard else (n+m,n+m-1)\n",
    "        if not odd: lam = (m+n-2,m+n-2) if standard else (m+n-1,m+n-2)\n",
    "    l,r = max(lam),min(lam)\n",
    "    assert r>=0,'参数不能为负数'\n",
    "    \n",
    "    # 初始化 Dynkin 图，以及初值\n",
    "    if odd and standard:\n",
    "        assert n>=1,'B型根系中 n>=1'\n",
    "        diagram = \"B\"\n",
    "        if (n,l,r)==(1,2,2):return 5\n",
    "    elif odd and not standard:\n",
    "        assert m>=1,'BC型根系中 m>=1'\n",
    "        diagram = \"BC\"\n",
    "        if (m,l,r)==(1,2,2):return 5\n",
    "    elif not odd and standard:\n",
    "        assert n>=1,'D型根系中 n>=1'\n",
    "        diagram = \"D\"\n",
    "        adjust = 2\n",
    "        if (n,l,r)==(1,0,0):return 2\n",
    "        if (n,l,r)==(2,1,1):return 6\n",
    "    elif not odd and not standard: # C型根系\n",
    "        assert m>=1,'C型根系中 m>=1'\n",
    "        diagram = \"C\"\n",
    "        adjust = 1\n",
    "        if (m,l,r)==(1,1,1):return 2\n",
    "        \n",
    "    # 导入递推式\n",
    "    if (standard and n-adjust>=r) or (not standard and m-adjust>=r): # 化归李代数\n",
    "        if diagram in \"DCB\": # BC型除外\n",
    "            return kostant_partition_fun(diagram+str(2),lam=lam)\n",
    "        return kostant_partition_fun(\"B2\",lam=lam,reduced=False)\n",
    "    if l>r: # 一侧大于\n",
    "        res = 0\n",
    "        for i in range(r+1):\n",
    "            res += kostant_partition_fun_spo(spo,lam=(r,i),standard=standard)\n",
    "        res += {\"B\":2^(r-1), \"C\":2^r, \"D\":3*2^r, \"BC\":2^(r-1)}[diagram]\n",
    "        return 2^(l-r-1)*res\n",
    "    # 两侧相等\n",
    "    res = kostant_partition_fun_spo(spo,lam=(r,r-1),standard=standard)\n",
    "    if (standard and r>n-adjust+1) or (not standard and r>m-adjust+1):\n",
    "        return res+kostant_partition_fun_spo(spo,lam=(r-1,r-1),standard=standard)\n",
    "    spo = (sp,o-2) if standard else (sp-2,o) # 降阶\n",
    "    return res+kostant_partition_fun_spo(spo=spo,lam=(r-1,r-1),standard=standard)\n",
    "    raise Exception(\"出现漏算\")"
   ]
  },
  {
   "cell_type": "code",
   "execution_count": 23,
   "metadata": {},
   "outputs": [
    {
     "data": {
      "text/plain": [
       "'C'"
      ]
     },
     "execution_count": 23,
     "metadata": {},
     "output_type": "execute_result"
    }
   ],
   "source": [
    "kostant_partition_fun_spo(spo=(5,2),lam=(1,1),standard=False)"
   ]
  },
  {
   "cell_type": "code",
   "execution_count": 25,
   "metadata": {},
   "outputs": [
    {
     "data": {
      "text/plain": [
       "True"
      ]
     },
     "execution_count": 25,
     "metadata": {},
     "output_type": "execute_result"
    }
   ],
   "source": [
    "1 and not 0"
   ]
  },
  {
   "cell_type": "code",
   "execution_count": 17,
   "metadata": {},
   "outputs": [
    {
     "data": {
      "text/plain": [
       "2"
      ]
     },
     "execution_count": 17,
     "metadata": {},
     "output_type": "execute_result"
    }
   ],
   "source": [
    "kostant_partition_fun(\"B2\",lam=(1,1),reduced=False)"
   ]
  },
  {
   "cell_type": "code",
   "execution_count": 29,
   "metadata": {},
   "outputs": [
    {
     "name": "stdout",
     "output_type": "stream",
     "text": [
      "1\n",
      "2\n",
      "3\n",
      "4\n",
      "5\n",
      "6\n",
      "7\n"
     ]
    }
   ],
   "source": [
    "depth = 8\n",
    "res = []\n",
    "for i in range(1,depth):\n",
    "    res.append([])\n",
    "    print(i)\n",
    "    for k in range(depth):\n",
    "        num = kostant_partition_fun_spo(spo=(2*i,3),lam=(k,k),standard=False)\n",
    "        res[-1].append(num)"
   ]
  },
  {
   "cell_type": "code",
   "execution_count": 30,
   "metadata": {},
   "outputs": [
    {
     "data": {
      "text/html": [
       "<div class=\"notruncate\">\n",
       "<table  class=\"table_form\">\n",
       "<tbody>\n",
       "<tr class =\"row-a\">\n",
       "<td><script type=\"math/tex\">1</script></td>\n",
       "<td><script type=\"math/tex\">2</script></td>\n",
       "<td><script type=\"math/tex\">5</script></td>\n",
       "<td><script type=\"math/tex\">18</script></td>\n",
       "<td><script type=\"math/tex\">65</script></td>\n",
       "<td><script type=\"math/tex\">235</script></td>\n",
       "<td><script type=\"math/tex\">850</script></td>\n",
       "<td><script type=\"math/tex\">3075</script></td>\n",
       "</tr>\n",
       "<tr class =\"row-b\">\n",
       "<td><script type=\"math/tex\">1</script></td>\n",
       "<td><script type=\"math/tex\">2</script></td>\n",
       "<td><script type=\"math/tex\">6</script></td>\n",
       "<td><script type=\"math/tex\">19</script></td>\n",
       "<td><script type=\"math/tex\">68</script></td>\n",
       "<td><script type=\"math/tex\">245</script></td>\n",
       "<td><script type=\"math/tex\">885</script></td>\n",
       "<td><script type=\"math/tex\">3200</script></td>\n",
       "</tr>\n",
       "<tr class =\"row-a\">\n",
       "<td><script type=\"math/tex\">1</script></td>\n",
       "<td><script type=\"math/tex\">2</script></td>\n",
       "<td><script type=\"math/tex\">6</script></td>\n",
       "<td><script type=\"math/tex\">20</script></td>\n",
       "<td><script type=\"math/tex\">69</script></td>\n",
       "<td><script type=\"math/tex\">248</script></td>\n",
       "<td><script type=\"math/tex\">895</script></td>\n",
       "<td><script type=\"math/tex\">3235</script></td>\n",
       "</tr>\n",
       "<tr class =\"row-b\">\n",
       "<td><script type=\"math/tex\">1</script></td>\n",
       "<td><script type=\"math/tex\">2</script></td>\n",
       "<td><script type=\"math/tex\">6</script></td>\n",
       "<td><script type=\"math/tex\">20</script></td>\n",
       "<td><script type=\"math/tex\">70</script></td>\n",
       "<td><script type=\"math/tex\">249</script></td>\n",
       "<td><script type=\"math/tex\">898</script></td>\n",
       "<td><script type=\"math/tex\">3245</script></td>\n",
       "</tr>\n",
       "<tr class =\"row-a\">\n",
       "<td><script type=\"math/tex\">1</script></td>\n",
       "<td><script type=\"math/tex\">2</script></td>\n",
       "<td><script type=\"math/tex\">6</script></td>\n",
       "<td><script type=\"math/tex\">20</script></td>\n",
       "<td><script type=\"math/tex\">70</script></td>\n",
       "<td><script type=\"math/tex\">250</script></td>\n",
       "<td><script type=\"math/tex\">899</script></td>\n",
       "<td><script type=\"math/tex\">3248</script></td>\n",
       "</tr>\n",
       "<tr class =\"row-b\">\n",
       "<td><script type=\"math/tex\">1</script></td>\n",
       "<td><script type=\"math/tex\">2</script></td>\n",
       "<td><script type=\"math/tex\">6</script></td>\n",
       "<td><script type=\"math/tex\">20</script></td>\n",
       "<td><script type=\"math/tex\">70</script></td>\n",
       "<td><script type=\"math/tex\">250</script></td>\n",
       "<td><script type=\"math/tex\">900</script></td>\n",
       "<td><script type=\"math/tex\">3249</script></td>\n",
       "</tr>\n",
       "<tr class =\"row-a\">\n",
       "<td><script type=\"math/tex\">1</script></td>\n",
       "<td><script type=\"math/tex\">2</script></td>\n",
       "<td><script type=\"math/tex\">6</script></td>\n",
       "<td><script type=\"math/tex\">20</script></td>\n",
       "<td><script type=\"math/tex\">70</script></td>\n",
       "<td><script type=\"math/tex\">250</script></td>\n",
       "<td><script type=\"math/tex\">900</script></td>\n",
       "<td><script type=\"math/tex\">3250</script></td>\n",
       "</tr>\n",
       "</tbody>\n",
       "</table>\n",
       "</div>"
      ],
      "text/plain": [
       "  1   2   5   18   65   235   850   3075\n",
       "  1   2   6   19   68   245   885   3200\n",
       "  1   2   6   20   69   248   895   3235\n",
       "  1   2   6   20   70   249   898   3245\n",
       "  1   2   6   20   70   250   899   3248\n",
       "  1   2   6   20   70   250   900   3249\n",
       "  1   2   6   20   70   250   900   3250"
      ]
     },
     "execution_count": 30,
     "metadata": {},
     "output_type": "execute_result"
    }
   ],
   "source": [
    "table(res)"
   ]
  },
  {
   "cell_type": "code",
   "execution_count": null,
   "metadata": {},
   "outputs": [],
   "source": [
    "\"\"\"B型数据观察\"\"\"\n",
    "num = 10\n",
    "res = []\n",
    "for k in range(num):\n",
    "    n1 = kostant_partition_fun_spo(spo=(2,3),lam=(k,k),standard=True)\n",
    "    n2 = kostant_partition_fun(cartan_type=\"B2\",lam=(k,k))\n",
    "    res.append(n1-n2)\n",
    "    print(n1-n2,end='\\t')\n",
    "table([['k']+[i for i in range(1,10)],['diff']+[i for i in res if i],['diff']+[factor(i) for i in res if i]])"
   ]
  },
  {
   "cell_type": "code",
   "execution_count": null,
   "metadata": {},
   "outputs": [],
   "source": [
    "\"\"\"D型数据观察\"\"\"\n",
    "num = 10\n",
    "res = []\n",
    "for k in range(num):\n",
    "    n1 = kostant_partition_fun_spo(spo=(2,2),lam=(k,k),standard=True)\n",
    "    n2 = kostant_partition_fun(cartan_type=\"D2\",lam=(k,k))\n",
    "    res.append(n1-n2)\n",
    "    print(n1-n2,end='\\t')\n",
    "table([['k']+[i for i in range(1,10)],['diff']+[i for i in res if i],['diff']+[factor(i) for i in res if i]])"
   ]
  },
  {
   "cell_type": "code",
   "execution_count": null,
   "metadata": {},
   "outputs": [],
   "source": []
  }
 ],
 "metadata": {
  "kernelspec": {
   "display_name": "SageMath 9.0",
   "language": "sage",
   "name": "sagemath"
  },
  "language_info": {
   "codemirror_mode": {
    "name": "ipython",
    "version": 3
   },
   "file_extension": ".py",
   "mimetype": "text/x-python",
   "name": "python",
   "nbconvert_exporter": "python",
   "pygments_lexer": "ipython3",
   "version": "3.7.3"
  }
 },
 "nbformat": 4,
 "nbformat_minor": 2
}

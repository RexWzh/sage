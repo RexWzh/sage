{
 "cells": [
  {
   "cell_type": "code",
   "execution_count": 31,
   "metadata": {},
   "outputs": [],
   "source": [
    "class zong():\n",
    "    @staticmethod #不实例化而使用方法\n",
    "    def rex(): \n",
    "        print(\"testing\")"
   ]
  },
  {
   "cell_type": "code",
   "execution_count": null,
   "metadata": {},
   "outputs": [],
   "source": [
    "@cached_method #保留缓存（暂不深入）"
   ]
  },
  {
   "cell_type": "code",
   "execution_count": null,
   "metadata": {},
   "outputs": [],
   "source": [
    "\"\"\"一些技巧方法\n",
    "1.使用@ 等面向对象编程的工具\n",
    "2.各类功能分工合作\n",
    "\"\"\""
   ]
  },
  {
   "cell_type": "code",
   "execution_count": null,
   "metadata": {},
   "outputs": [],
   "source": [
    "def basis(self):\n",
    "    # This is a fairly generic method of constructing a basis\n",
    "    from sage.matrix.constructor import matrix\n",
    "\n",
    "    R = self.base_ring()\n",
    "    basis = list(self.lie_algebra_generators())\n",
    "    expanded = True\n",
    "    while expanded:\n",
    "        expanded = False\n",
    "        mat = []\n",
    "        for i,x in enumerate(basis):\n",
    "            mat.append(x.value.list())\n",
    "            for y in basis[i+1:]:\n",
    "                mat.append(x.bracket(y).value.list())\n",
    "        mat = matrix(R, mat)\n",
    "        mat.echelonize()\n",
    "        if mat.rank() != len(basis):\n",
    "            basis = [self.element_class( self, self._assoc(mat[i].list()) )\n",
    "                     for i in range(mat.rank())]\n",
    "            expanded = True\n",
    "    return Family(basis)"
   ]
  },
  {
   "cell_type": "code",
   "execution_count": null,
   "metadata": {},
   "outputs": [],
   "source": [
    "def lie_algebra_generators(self, str_keys=False):\n",
    "    index_set = self._cartan_type.index_set()\n",
    "    alpha = self._Q.simple_roots()\n",
    "    alphacheck = self._Q.simple_coroots()\n",
    "    B = self.basis()\n",
    "    ret = {}\n",
    "\n",
    "    if str_keys:\n",
    "        for i in index_set:\n",
    "            al = alpha[i]\n",
    "            ret['e{}'.format(i)] = B[al]\n",
    "            ret['f{}'.format(i)] = B[-al]\n",
    "            ret['h{}'.format(i)] = B[alphacheck[i]]\n",
    "        keys = (['e{}'.format(i) for i in index_set]\n",
    "                + ['f{}'.format(i) for i in index_set]\n",
    "                + ['h{}'.format(i) for i in index_set])\n",
    "    else:\n",
    "        for i in index_set:\n",
    "            al = alpha[i]\n",
    "            ret[al] = B[al]\n",
    "            ret[-al] = B[-al]\n",
    "            ret[alphacheck[i]] = B[alphacheck[i]]\n",
    "        keys = ([alpha[i] for i in index_set]\n",
    "                + [-alpha[i] for i in index_set]\n",
    "                + [alphacheck[i] for i in index_set])\n",
    "\n",
    "    return Family(keys, ret.__getitem__)"
   ]
  }
 ],
 "metadata": {
  "kernelspec": {
   "display_name": "SageMath 9.0",
   "language": "sage",
   "name": "sagemath"
  },
  "language_info": {
   "codemirror_mode": {
    "name": "ipython",
    "version": 3
   },
   "file_extension": ".py",
   "mimetype": "text/x-python",
   "name": "python",
   "nbconvert_exporter": "python",
   "pygments_lexer": "ipython3",
   "version": "3.7.3"
  }
 },
 "nbformat": 4,
 "nbformat_minor": 2
}

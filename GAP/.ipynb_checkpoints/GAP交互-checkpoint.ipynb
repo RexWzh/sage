{
 "cells": [
  {
   "cell_type": "code",
   "execution_count": null,
   "metadata": {},
   "outputs": [],
   "source": [
    "!!! gap函数中不能出现注释符号 \"#\"\n",
    "!!! 可通过函数体内Read，将工作环境导入gap中\n",
    "!!! 函数有返回值时，内部的Print不会起作用"
   ]
  },
  {
   "cell_type": "code",
   "execution_count": 24,
   "metadata": {},
   "outputs": [],
   "source": [
    "gap(\"\"\"\n",
    "function()\n",
    "Read(\"Rex.grp\");\n",
    "end;\n",
    "\"\"\")()"
   ]
  },
  {
   "cell_type": "code",
   "execution_count": 2,
   "metadata": {},
   "outputs": [],
   "source": [
    "Rex = gap(\"Rex\")\n",
    "RexLie = gap(\"RexLie\")"
   ]
  },
  {
   "cell_type": "code",
   "execution_count": 56,
   "metadata": {},
   "outputs": [],
   "source": [
    "n = len(RexLie[1])\n",
    "for i in range(n):\n",
    "    exec(str(RexLie[2][i+1])+\"=RexLie[1][%d+1]\"%i)"
   ]
  },
  {
   "cell_type": "code",
   "execution_count": 60,
   "metadata": {},
   "outputs": [
    {
     "data": {
      "text/plain": [
       "function ( s, n... )\n",
       "    local R, m, positive, delta, delta_sym, coos, coos_sym, feedback;\n",
       "    feedback := false;\n",
       "    if Length( n ) = 2 then\n",
       "        feedback := n[2];\n",
       "    fi;\n",
       "    n := n[1];\n",
       "    R := RootSystem( SimpleLieAlgebra( s, n, Rationals ) );\n",
       "    positive := PositiveRoots( R );\n",
       "    delta := SimpleSystem( R );\n",
       "    delta_sym := List( [ 1 .. n ], function ( i )\n",
       "            return X( Rationals, Join( \"a\", i ) );\n",
       "        end );\n",
       "    m := Length( positive );\n",
       "    coos := List( positive, function ( root )\n",
       "            return Coordination( delta, root );\n",
       "        end );\n",
       "    coos_sym := List( [ 1 .. m ], function ( i )\n",
       "            return coos[i] * delta_sym;\n",
       "        end );\n",
       "    Print( s, n, \":\\n\" );\n",
       "    for m in coos_sym do\n",
       "        print( m );\n",
       "    od;\n",
       "    if feedback then\n",
       "        return coos_sym;\n",
       "    fi;\n",
       "    return;\n",
       "end"
      ]
     },
     "execution_count": 60,
     "metadata": {},
     "output_type": "execute_result"
    }
   ],
   "source": [
    "SymbolicPositiveRoots"
   ]
  },
  {
   "cell_type": "code",
   "execution_count": 64,
   "metadata": {
    "scrolled": false
   },
   "outputs": [
    {
     "data": {
      "text/plain": [
       "D4:\n",
       "a1 \n",
       "a2 \n",
       "a3 \n",
       "a4 \n",
       "a1+a2 \n",
       "a2+a3 \n",
       "a2+a4 \n",
       "a1+a2+a3 \n",
       "a1+a2+a4 \n",
       "a2+a3+a4 \n",
       "a1+a2+a3+a4 \n",
       "a1+2*a2+a3+a4"
      ]
     },
     "execution_count": 64,
     "metadata": {},
     "output_type": "execute_result"
    }
   ],
   "source": [
    "SymbolicPositiveRoots(gap('\"D\"'),4,gap(\"false\"))"
   ]
  }
 ],
 "metadata": {
  "kernelspec": {
   "display_name": "SageMath 9.0",
   "language": "sage",
   "name": "sagemath"
  },
  "language_info": {
   "codemirror_mode": {
    "name": "ipython",
    "version": 3
   },
   "file_extension": ".py",
   "mimetype": "text/x-python",
   "name": "python",
   "nbconvert_exporter": "python",
   "pygments_lexer": "ipython3",
   "version": "3.7.3"
  }
 },
 "nbformat": 4,
 "nbformat_minor": 2
}

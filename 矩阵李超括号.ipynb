{
 "cells": [
  {
   "cell_type": "code",
   "execution_count": 1,
   "metadata": {},
   "outputs": [],
   "source": [
    "import sympy as sy\n",
    "from sympy import init_printing\n",
    "init_printing()"
   ]
  },
  {
   "cell_type": "code",
   "execution_count": 22,
   "metadata": {},
   "outputs": [],
   "source": [
    "a1,b1,c1,d1 = sy.symbols('a1 b1 c1 d1',commutative=False)\n",
    "a2,b2,c2,d2 = sy.symbols('a2 b2 c2 d2',commutative=False)\n",
    "A1 = sy.Matrix([[a1,b1],[c1,d1]])\n",
    "A2 = sy.Matrix([[a2,b2],[c2,d2]])"
   ]
  },
  {
   "cell_type": "code",
   "execution_count": 29,
   "metadata": {},
   "outputs": [
    {
     "data": {
      "image/png": "[encoded data removed]",
      "text/latex": [
       "$$\\left[\\begin{matrix}2 b_{1} c_{1} & 0\\\\0 & 2 c_{1} b_{1}\\end{matrix}\\right]$$"
      ],
      "text/plain": [
       "⎡2⋅b₁⋅c₁     0   ⎤\n",
       "⎢                ⎥\n",
       "⎣   0     2⋅c₁⋅b₁⎦"
      ]
     },
     "execution_count": 29,
     "metadata": {},
     "output_type": "execute_result"
    }
   ],
   "source": [
    "super_transpose(super_bracket(A1,A2))"
   ]
  },
  {
   "cell_type": "code",
   "execution_count": 30,
   "metadata": {},
   "outputs": [
    {
     "data": {
      "image/png": "[encoded data removed]",
      "text/latex": [
       "$$\\left[\\begin{matrix}- 2 c_{1} b_{1} & 0\\\\0 & - 2 b_{1} c_{1}\\end{matrix}\\right]$$"
      ],
      "text/plain": [
       "⎡-2⋅c₁⋅b₁     0    ⎤\n",
       "⎢                  ⎥\n",
       "⎣   0      -2⋅b₁⋅c₁⎦"
      ]
     },
     "execution_count": 30,
     "metadata": {},
     "output_type": "execute_result"
    }
   ],
   "source": [
    "B1,B2 = super_transpose(A1),super_transpose(A2)\n",
    "csuper_bracket(B1,B2)"
   ]
  },
  {
   "cell_type": "code",
   "execution_count": 32,
   "metadata": {},
   "outputs": [
    {
     "data": {
      "image/png": "[encoded data removed]",
      "text/latex": [
       "$$\\left[\\begin{matrix}- 2 c_{1} b_{1} & 0\\\\0 & - 2 b_{1} c_{1}\\end{matrix}\\right]$$"
      ],
      "text/plain": [
       "⎡-2⋅c₁⋅b₁     0    ⎤\n",
       "⎢                  ⎥\n",
       "⎣   0      -2⋅b₁⋅c₁⎦"
      ]
     },
     "execution_count": 32,
     "metadata": {},
     "output_type": "execute_result"
    }
   ],
   "source": [
    "c = super_bracket(B1,B2)\n",
    "c.T"
   ]
  },
  {
   "cell_type": "code",
   "execution_count": 15,
   "metadata": {},
   "outputs": [],
   "source": [
    "def decompose(A,even=1):\n",
    "    '''将矩阵分解为奇偶部分'''\n",
    "    m,n = A.shape\n",
    "    assert m==n, '输入不为方阵'\n",
    "    A_even = sy.zeros(m)\n",
    "    A_even[:even,:even] = A[:even,:even]\n",
    "    A_even[even:,even:] = A[even:,even:]\n",
    "    A_odd = sy.zeros(m)\n",
    "    A_odd[:even,even:] = A[:even,even:]\n",
    "    A_odd[even:,:even] = A[even:,:even]\n",
    "    return A_even,A_odd"
   ]
  },
  {
   "cell_type": "code",
   "execution_count": 27,
   "metadata": {},
   "outputs": [],
   "source": [
    "lie_bracket = lambda A,B:A*B-B*A\n",
    "def super_bracket(A,B,even=1):\n",
    "    '''李超括号，偶部分数目为even'''\n",
    "    assert A.shape == B.shape, '矩阵大小不一致'\n",
    "    A_even, A_odd = decompose(A,even=even)\n",
    "    B_even, B_odd = decompose(A,even=even)\n",
    "    \n",
    "    M = (A_odd*B_odd + B_odd*A_odd) + lie_bracket(A_even,B_even) \\\n",
    "        + lie_bracket(A_odd,B_even) + lie_bracket(A_even,B_odd)\n",
    "    return M\n",
    "\n",
    "def super_transpose(A,even=1):\n",
    "    '''超转置'''\n",
    "    A_even,A_odd = decompose(A)\n",
    "    A_even = A_even.T\n",
    "    A_odd[:even,even:] = -A_odd[:even,even:]\n",
    "    A_odd = A_odd.T\n",
    "    return A_odd+A_even"
   ]
  },
  {
   "cell_type": "code",
   "execution_count": null,
   "metadata": {},
   "outputs": [],
   "source": []
  }
 ],
 "metadata": {
  "kernelspec": {
   "display_name": "Python 3",
   "language": "python",
   "name": "python3"
  },
  "language_info": {
   "codemirror_mode": {
    "name": "ipython",
    "version": 3
   },
   "file_extension": ".py",
   "mimetype": "text/x-python",
   "name": "python",
   "nbconvert_exporter": "python",
   "pygments_lexer": "ipython3",
   "version": "3.6.4"
  }
 },
 "nbformat": 4,
 "nbformat_minor": 2
}

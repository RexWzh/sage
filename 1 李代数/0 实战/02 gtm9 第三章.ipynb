{
 "cells": [
  {
   "cell_type": "code",
   "execution_count": 1,
   "metadata": {},
   "outputs": [
    {
     "ename": "SyntaxError",
     "evalue": "invalid character in identifier (<ipython-input-1-7fed658469a3>, line 2)",
     "output_type": "error",
     "traceback": [
      "\u001b[0;36m  File \u001b[0;32m\"<ipython-input-1-7fed658469a3>\"\u001b[0;36m, line \u001b[0;32m2\u001b[0m\n\u001b[0;31m    Integer(1)、验算alpha链的与cartan整数的关系（√）\u001b[0m\n\u001b[0m                                      ^\u001b[0m\n\u001b[0;31mSyntaxError\u001b[0m\u001b[0;31m:\u001b[0m invalid character in identifier\n"
     ]
    }
   ],
   "source": [
    "\"\"\"目标如下\"\"\"\n",
    "1、验算alpha链的与cartan整数的关系（√）\n",
    "2、验算alpha链和內积的公式（√）\n",
    "3、通过cartan阵求weyl群\n",
    "4、讨论哪些不可约根系中，-1落在weyl群上（√）\n",
    "5、通过cartan阵求根系\n",
    "6、检验基本权关于单根的坐标\n",
    "7、求给定domain权的saturated集合"
   ]
  },
  {
   "cell_type": "code",
   "execution_count": null,
   "metadata": {},
   "outputs": [],
   "source": [
    "Lie = [[\"A\",range(1,9)],[\"B\",range(2,9)],[\"C\",range(3,9)],[\"D\",range(4,9)],\n",
    "       [\"E\",range(6,9)],[\"F\",[4]],[\"G\",[2]]]"
   ]
  },
  {
   "cell_type": "code",
   "execution_count": 2,
   "metadata": {},
   "outputs": [],
   "source": [
    "Lie = [[\"A\",range(1,9)],[\"D\",range(4,9)],[\"E\",range(6,9)],\n",
    "       [\"B\",range(2,9)],[\"C\",range(3,9)],[\"F\",[4]],[\"G\",[2]]]"
   ]
  },
  {
   "cell_type": "code",
   "execution_count": 3,
   "metadata": {},
   "outputs": [],
   "source": [
    "def alpha_chain(alpha,beta,roots):\n",
    "    \"\"\"计算beta上alpha-chain的p,q值\"\"\"\n",
    "    p,q = 0,0\n",
    "    root = beta + alpha\n",
    "    while root in roots: #计算q值\n",
    "        root += alpha\n",
    "        q += 1\n",
    "    root = beta - alpha\n",
    "    while root in roots:\n",
    "        root -= alpha\n",
    "        p += 1\n",
    "    return p,q"
   ]
  },
  {
   "cell_type": "code",
   "execution_count": 4,
   "metadata": {
    "scrolled": true
   },
   "outputs": [
    {
     "name": "stdout",
     "output_type": "stream",
     "text": [
      "A2 : True\n",
      "B2 : True\n",
      "G2 : True\n",
      "A1xA1 : True\n"
     ]
    }
   ],
   "source": [
    "\"\"\"1、验算alpha链的与cartan整数的关系\"\"\"\n",
    "def chk(s):\n",
    "    \"\"\"检验维数为n的s型单李代数中，p-q是否与对应cartan整数相等\"\"\"\n",
    "    V = RootSystem(s).ambient_space() #根空间\n",
    "    roots = [root.to_vector() for root in V.roots()] #根系\n",
    "    for beta in roots:\n",
    "        for alpha in roots:\n",
    "            if alpha == beta or alpha == -beta: #跳过alpha = ±beta 情况\n",
    "                continue\n",
    "            p,q =alpha_chain(alpha,beta,roots)\n",
    "            if p-q != 2*(alpha*beta)/(alpha*alpha):\n",
    "                raise Exception(\"Error!\") #报错\n",
    "    return True\n",
    "\n",
    "Lie = ['A2','B2','G2','A1xA1'] #二维根系共4种\n",
    "for s in Lie:\n",
    "    print(s,\":\",chk(s))"
   ]
  },
  {
   "cell_type": "code",
   "execution_count": 5,
   "metadata": {},
   "outputs": [
    {
     "name": "stdout",
     "output_type": "stream",
     "text": [
      "A2 : True\n",
      "B2 : True\n",
      "G2 : True\n",
      "A1xA1 : True\n"
     ]
    }
   ],
   "source": [
    "\"\"\"2、验算alpha链和內积的公式\"\"\"\n",
    "def chk(s):\n",
    "    \"\"\"检验公式q*(p+1)/<beta,beta>=q'*(p'+1)/<alpha,alpha>\"\"\"\n",
    "    V = RootSystem(s).ambient_space() #根空间\n",
    "    roots = [root.to_vector() for root in V.roots()] #根系\n",
    "    for alpha in roots:\n",
    "        for beta in roots:\n",
    "            p,q = alpha_chain(alpha,beta,roots)\n",
    "            p0,q0 = alpha_chain(beta,alpha,roots)\n",
    "            if q*(p+1)/(beta*beta) != q0*(p0+1)/(alpha*alpha):\n",
    "                raise Exception(\"Error\") #报错\n",
    "    return True\n",
    "\n",
    "Lie = ['A2','B2','G2','A1xA1'] #二维根系共4种\n",
    "for s in Lie:\n",
    "    print(s,\":\",chk(s))"
   ]
  },
  {
   "cell_type": "code",
   "execution_count": 6,
   "metadata": {},
   "outputs": [
    {
     "name": "stdout",
     "output_type": "stream",
     "text": [
      "A1: True\tA2: True\tA3: True\t\n",
      "D4: True\tD5: True\t\n",
      "E6: True\t\n",
      "B2: True\tB3: True\tB4: True\t\n",
      "C3: True\tC4: True\t\n",
      "F4: True\t\n",
      "G2: True\t\n"
     ]
    }
   ],
   "source": [
    "\"\"\"3、通过cartan阵求weyl群\"\"\"\n",
    "def weyl_group(A):\n",
    "    \"\"\"通过cartan矩阵生成weyl群\"\"\"\n",
    "    n = rank(A)\n",
    "    reflections = [] #单反射\n",
    "    for i in range(n):\n",
    "        s  = matrix.identity(n) #n阶单位阵（单反射）\n",
    "        s[i] = [-1 if i==j else -A[i,j] for j in range(n)]\n",
    "        reflections.append(s.transpose())\n",
    "    return MatrixGroup(reflections)\n",
    "def chk(s,n):\n",
    "    \"\"\"判断与内置生成的是否通过\"\"\"\n",
    "    W = WeylGroup([s,n])\n",
    "    W0 = weyl_group(RootSystem([s,n]).cartan_matrix()) #通过cartan矩阵生成的weyl群\n",
    "    return W.is_isomorphic(W0) \n",
    "\n",
    "Lie = [[\"A\",range(1,4)],[\"D\",range(4,6)],[\"E\",range(6,7)],[\"B\",range(2,5)],[\"C\",range(3,5)],[\"F\",[4]],[\"G\",[2]]]\n",
    "for s,l in Lie: #验算高阶同构较费时间，只测试低阶\n",
    "    for n in l:\n",
    "        print(s,n,\": \",chk(s,n),sep=\"\",end = '\\t')\n",
    "    print()"
   ]
  },
  {
   "cell_type": "code",
   "execution_count": 7,
   "metadata": {},
   "outputs": [],
   "source": [
    "\"\"\" 4、通过cartan阵求根系 \"\"\"\n",
    "def find_roots_by_cartan_matrix(s,n):\n",
    "    \"\"\"通过cartan矩阵获取根系\"\"\"\n",
    "    A = CartanMatrix([s,n]) #cartan矩阵\n",
    "    V = VectorSpace(QQ,n) #初始化根空间\n",
    "    delta = V.basis() #给出单根系\n",
    "    W = weyl_group(A)\n",
    "    roots = set() #初始化根系\n",
    "    for root in delta:\n",
    "        orbit = set(tuple(root*mat) for mat in W) #W作用轨道\n",
    "        roots = roots.union(orbit)\n",
    "    return roots\n",
    "\n",
    "def Coordination(base,vec,field=QQ):\n",
    "    \"\"\"求vec关于base的坐标\"\"\"\n",
    "    V = VectorSpace(field,vec.degree()) #生成向量空间\n",
    "    U = V.subspace_with_basis(base) #以base为基\n",
    "    return U.coordinate_vector(vec)"
   ]
  },
  {
   "cell_type": "code",
   "execution_count": 8,
   "metadata": {},
   "outputs": [
    {
     "name": "stdout",
     "output_type": "stream",
     "text": [
      "A1: True\tA2: True\tA3: True\t\n",
      "D4: True\tD5: True\t\n",
      "B2: True\tB3: True\tB4: True\t\n",
      "C3: True\tC4: True\tC5: True\t\n",
      "F4: True\t\n",
      "G2: True\t\n"
     ]
    }
   ],
   "source": [
    "def chk(s,n):\n",
    "    \"\"\"用内置的根系函数进行检验\"\"\"\n",
    "    V = RootSystem([s,n]).ambient_space() #根空间\n",
    "    roots = [root.to_vector() for root in V.roots()] #根系\n",
    "    delta = [root.to_vector() for root in V.simple_roots()]\n",
    "    res = set(tuple(Coordination(delta,root)) for root in roots) #通过内置函数获取的根系\n",
    "    roots = find_roots_by_cartan_matrix(s,n) #通过cartan函数获取的根系\n",
    "    if res!=roots:\n",
    "        raise Exception(\"Error\")\n",
    "    return True\n",
    "for s,l in [[\"A\",range(1,4)],[\"D\",range(4,6)],[\"B\",range(2,5)],[\"C\",range(3,6)],[\"F\",[4]],[\"G\",[2]]]:\n",
    "    for i in l:print(s,i,\": \",chk(s,i),sep=\"\",end = '\\t')\n",
    "    print()"
   ]
  },
  {
   "cell_type": "code",
   "execution_count": null,
   "metadata": {},
   "outputs": [],
   "source": []
  },
  {
   "cell_type": "code",
   "execution_count": 9,
   "metadata": {},
   "outputs": [
    {
     "data": {
      "text/plain": [
       "{(-1, -1), (-1, 0), (0, -1), (0, 1), (1, 0), (1, 1)}"
      ]
     },
     "execution_count": 9,
     "metadata": {},
     "output_type": "execute_result"
    }
   ],
   "source": [
    "V = RootSystem([\"A\",2]).ambient_space() #根空间\n",
    "roots = [root.to_vector() for root in V.roots()] #根系\n",
    "delta = [root.to_vector() for root in V.simple_roots()]\n",
    "V2 = VectorSpace(QQ,3) #生成向量空间\n",
    "U = V2.subspace_with_basis(delta) #以base为基\n",
    "set(tuple(Coordination(delta,root)) for root in roots)"
   ]
  },
  {
   "cell_type": "code",
   "execution_count": 10,
   "metadata": {},
   "outputs": [
    {
     "data": {
      "text/plain": [
       "(1, 0)"
      ]
     },
     "execution_count": 10,
     "metadata": {},
     "output_type": "execute_result"
    }
   ],
   "source": [
    "U.coordinate_vector(delta[0])"
   ]
  },
  {
   "cell_type": "code",
   "execution_count": 11,
   "metadata": {},
   "outputs": [
    {
     "name": "stdout",
     "output_type": "stream",
     "text": [
      "A1: True\tA2: False\tA3: False\tA4: False\tA5: False\tA6: False\tA7: False\tA8: False\t\n",
      "D4: True\tD5: False\tD6: True\tD7: False\tD8: True\t\n",
      "E6: False\tE7: True\tE8: True\t\n",
      "B2: True\tB3: True\tB4: True\tB5: True\tB6: True\tB7: True\tB8: True\t\n",
      "C3: True\tC4: True\tC5: True\tC6: True\tC7: True\tC8: True\t\n",
      "F4: True\t\n",
      "G2: True\t\n"
     ]
    }
   ],
   "source": [
    "\"\"\" 5、讨论哪些不可约根系中，-1落在weyl群上 \"\"\"\n",
    "def chk(s,n):\n",
    "    \"\"\"检验维数为n的s型单李代数中，w0是否等于-1\"\"\"\n",
    "    V = RootSystem([s,n]).ambient_space() #根空间\n",
    "    delta = V.simple_roots() #单根系\n",
    "    W = WeylGroup([s,n]) #weyl群\n",
    "    w0 = W.long_element() #最长元素\n",
    "    for root in delta: #检查w0是否将delta打到-delta\n",
    "        root = w0.action(root)\n",
    "        if -root not in delta: #若不是，报错\n",
    "            raise Exception(\"Error\")\n",
    "    for root in delta: #判断w0作用是否为-1作用\n",
    "        if -w0.action(root) != root:\n",
    "            return False\n",
    "    return True\n",
    "\n",
    "Lie = [[\"A\",range(1,9)],[\"D\",range(4,9)],[\"E\",range(6,9)],[\"B\",range(2,9)],[\"C\",range(3,9)],[\"F\",[4]],[\"G\",[2]]]\n",
    "for s,l in Lie:\n",
    "    for i in l:\n",
    "        print(s,i,\": \",chk(s,i),sep=\"\",end = '\\t')\n",
    "    print()"
   ]
  },
  {
   "cell_type": "code",
   "execution_count": 12,
   "metadata": {
    "collapsed": true
   },
   "outputs": [
    {
     "data": {
      "text/html": [
       "<div class=\"notruncate\">\n",
       "<table  class=\"table_form\">\n",
       "<tbody>\n",
       "<tr class =\"row-a\">\n",
       "<td>A1: </td>\n",
       "<td><script type=\"math/tex\">\\left[\\left(\\frac{1}{2}\\right)\\right]</script></td>\n",
       "</tr>\n",
       "<tr class =\"row-b\">\n",
       "<td>A2: </td>\n",
       "<td><script type=\"math/tex\">\\left[\\left(\\frac{2}{3},\\,\\frac{1}{3}\\right), \\left(\\frac{1}{3},\\,\\frac{2}{3}\\right)\\right]</script></td>\n",
       "</tr>\n",
       "<tr class =\"row-a\">\n",
       "<td>A3: </td>\n",
       "<td><script type=\"math/tex\">\\left[\\left(\\frac{3}{4},\\,\\frac{1}{2},\\,\\frac{1}{4}\\right), \\left(\\frac{1}{2},\\,1,\\,\\frac{1}{2}\\right), \\left(\\frac{1}{4},\\,\\frac{1}{2},\\,\\frac{3}{4}\\right)\\right]</script></td>\n",
       "</tr>\n",
       "<tr class =\"row-b\">\n",
       "<td>A4: </td>\n",
       "<td><script type=\"math/tex\">\\left[\\left(\\frac{4}{5},\\,\\frac{3}{5},\\,\\frac{2}{5},\\,\\frac{1}{5}\\right), \\left(\\frac{3}{5},\\,\\frac{6}{5},\\,\\frac{4}{5},\\,\\frac{2}{5}\\right), \\left(\\frac{2}{5},\\,\\frac{4}{5},\\,\\frac{6}{5},\\,\\frac{3}{5}\\right), \\left(\\frac{1}{5},\\,\\frac{2}{5},\\,\\frac{3}{5},\\,\\frac{4}{5}\\right)\\right]</script></td>\n",
       "</tr>\n",
       "<tr class =\"row-a\">\n",
       "<td>B2: </td>\n",
       "<td><script type=\"math/tex\">\\left[\\left(1,\\,1\\right), \\left(\\frac{1}{2},\\,1\\right)\\right]</script></td>\n",
       "</tr>\n",
       "<tr class =\"row-b\">\n",
       "<td>B3: </td>\n",
       "<td><script type=\"math/tex\">\\left[\\left(1,\\,1,\\,1\\right), \\left(1,\\,2,\\,2\\right), \\left(\\frac{1}{2},\\,1,\\,\\frac{3}{2}\\right)\\right]</script></td>\n",
       "</tr>\n",
       "<tr class =\"row-a\">\n",
       "<td>B4: </td>\n",
       "<td><script type=\"math/tex\">\\left[\\left(1,\\,1,\\,1,\\,1\\right), \\left(1,\\,2,\\,2,\\,2\\right), \\left(1,\\,2,\\,3,\\,3\\right), \\left(\\frac{1}{2},\\,1,\\,\\frac{3}{2},\\,2\\right)\\right]</script></td>\n",
       "</tr>\n",
       "<tr class =\"row-b\">\n",
       "<td>C3: </td>\n",
       "<td><script type=\"math/tex\">\\left[\\left(1,\\,1,\\,\\frac{1}{2}\\right), \\left(1,\\,2,\\,1\\right), \\left(1,\\,2,\\,\\frac{3}{2}\\right)\\right]</script></td>\n",
       "</tr>\n",
       "<tr class =\"row-a\">\n",
       "<td>C4: </td>\n",
       "<td><script type=\"math/tex\">\\left[\\left(1,\\,1,\\,1,\\,\\frac{1}{2}\\right), \\left(1,\\,2,\\,2,\\,1\\right), \\left(1,\\,2,\\,3,\\,\\frac{3}{2}\\right), \\left(1,\\,2,\\,3,\\,2\\right)\\right]</script></td>\n",
       "</tr>\n",
       "<tr class =\"row-b\">\n",
       "<td>D4: </td>\n",
       "<td><script type=\"math/tex\">\\left[\\left(1,\\,1,\\,\\frac{1}{2},\\,\\frac{1}{2}\\right), \\left(1,\\,2,\\,1,\\,1\\right), \\left(\\frac{1}{2},\\,1,\\,1,\\,\\frac{1}{2}\\right), \\left(\\frac{1}{2},\\,1,\\,\\frac{1}{2},\\,1\\right)\\right]</script></td>\n",
       "</tr>\n",
       "<tr class =\"row-a\">\n",
       "<td>E6: </td>\n",
       "<td><script type=\"math/tex\">\\left[\\left(\\frac{4}{3},\\,1,\\,\\frac{5}{3},\\,2,\\,\\frac{4}{3},\\,\\frac{2}{3}\\right), \\left(1,\\,2,\\,2,\\,3,\\,2,\\,1\\right), \\left(\\frac{5}{3},\\,2,\\,\\frac{10}{3},\\,4,\\,\\frac{8}{3},\\,\\frac{4}{3}\\right), \\left(2,\\,3,\\,4,\\,6,\\,4,\\,2\\right), \\left(\\frac{4}{3},\\,2,\\,\\frac{8}{3},\\,4,\\,\\frac{10}{3},\\,\\frac{5}{3}\\right), \\left(\\frac{2}{3},\\,1,\\,\\frac{4}{3},\\,2,\\,\\frac{5}{3},\\,\\frac{4}{3}\\right)\\right]</script></td>\n",
       "</tr>\n",
       "<tr class =\"row-b\">\n",
       "<td>E7: </td>\n",
       "<td><script type=\"math/tex\">\\left[\\left(2,\\,2,\\,3,\\,4,\\,3,\\,2,\\,1\\right), \\left(2,\\,\\frac{7}{2},\\,4,\\,6,\\,\\frac{9}{2},\\,3,\\,\\frac{3}{2}\\right), \\left(3,\\,4,\\,6,\\,8,\\,6,\\,4,\\,2\\right), \\left(4,\\,6,\\,8,\\,12,\\,9,\\,6,\\,3\\right), \\left(3,\\,\\frac{9}{2},\\,6,\\,9,\\,\\frac{15}{2},\\,5,\\,\\frac{5}{2}\\right), \\left(2,\\,3,\\,4,\\,6,\\,5,\\,4,\\,2\\right), \\left(1,\\,\\frac{3}{2},\\,2,\\,3,\\,\\frac{5}{2},\\,2,\\,\\frac{3}{2}\\right)\\right]</script></td>\n",
       "</tr>\n",
       "<tr class =\"row-a\">\n",
       "<td>E8: </td>\n",
       "<td><script type=\"math/tex\">\\left[\\left(4,\\,5,\\,7,\\,10,\\,8,\\,6,\\,4,\\,2\\right), \\left(5,\\,8,\\,10,\\,15,\\,12,\\,9,\\,6,\\,3\\right), \\left(7,\\,10,\\,14,\\,20,\\,16,\\,12,\\,8,\\,4\\right), \\left(10,\\,15,\\,20,\\,30,\\,24,\\,18,\\,12,\\,6\\right), \\left(8,\\,12,\\,16,\\,24,\\,20,\\,15,\\,10,\\,5\\right), \\left(6,\\,9,\\,12,\\,18,\\,15,\\,12,\\,8,\\,4\\right), \\left(4,\\,6,\\,8,\\,12,\\,10,\\,8,\\,6,\\,3\\right), \\left(2,\\,3,\\,4,\\,6,\\,5,\\,4,\\,3,\\,2\\right)\\right]</script></td>\n",
       "</tr>\n",
       "<tr class =\"row-b\">\n",
       "<td>F4: </td>\n",
       "<td><script type=\"math/tex\">\\left[\\left(2,\\,3,\\,4,\\,2\\right), \\left(3,\\,6,\\,8,\\,4\\right), \\left(2,\\,4,\\,6,\\,3\\right), \\left(1,\\,2,\\,3,\\,2\\right)\\right]</script></td>\n",
       "</tr>\n",
       "<tr class =\"row-a\">\n",
       "<td>G2: </td>\n",
       "<td><script type=\"math/tex\">\\left[\\left(2,\\,1\\right), \\left(3,\\,2\\right)\\right]</script></td>\n",
       "</tr>\n",
       "</tbody>\n",
       "</table>\n",
       "</div>"
      ],
      "text/plain": [
       "  A1:    [(1/2)]\n",
       "  A2:    [(2/3, 1/3), (1/3, 2/3)]\n",
       "  A3:    [(3/4, 1/2, 1/4), (1/2, 1, 1/2), (1/4, 1/2, 3/4)]\n",
       "  A4:    [(4/5, 3/5, 2/5, 1/5), (3/5, 6/5, 4/5, 2/5), (2/5, 4/5, 6/5, 3/5), (1/5, 2/5, 3/5, 4/5)]\n",
       "  B2:    [(1, 1), (1/2, 1)]\n",
       "  B3:    [(1, 1, 1), (1, 2, 2), (1/2, 1, 3/2)]\n",
       "  B4:    [(1, 1, 1, 1), (1, 2, 2, 2), (1, 2, 3, 3), (1/2, 1, 3/2, 2)]\n",
       "  C3:    [(1, 1, 1/2), (1, 2, 1), (1, 2, 3/2)]\n",
       "  C4:    [(1, 1, 1, 1/2), (1, 2, 2, 1), (1, 2, 3, 3/2), (1, 2, 3, 2)]\n",
       "  D4:    [(1, 1, 1/2, 1/2), (1, 2, 1, 1), (1/2, 1, 1, 1/2), (1/2, 1, 1/2, 1)]\n",
       "  E6:    [(4/3, 1, 5/3, 2, 4/3, 2/3), (1, 2, 2, 3, 2, 1), (5/3, 2, 10/3, 4, 8/3, 4/3), (2, 3, 4, 6, 4, 2), (4/3, 2, 8/3, 4, 10/3, 5/3), (2/3, 1, 4/3, 2, 5/3, 4/3)]\n",
       "  E7:    [(2, 2, 3, 4, 3, 2, 1), (2, 7/2, 4, 6, 9/2, 3, 3/2), (3, 4, 6, 8, 6, 4, 2), (4, 6, 8, 12, 9, 6, 3), (3, 9/2, 6, 9, 15/2, 5, 5/2), (2, 3, 4, 6, 5, 4, 2), (1, 3/2, 2, 3, 5/2, 2, 3/2)]\n",
       "  E8:    [(4, 5, 7, 10, 8, 6, 4, 2), (5, 8, 10, 15, 12, 9, 6, 3), (7, 10, 14, 20, 16, 12, 8, 4), (10, 15, 20, 30, 24, 18, 12, 6), (8, 12, 16, 24, 20, 15, 10, 5), (6, 9, 12, 18, 15, 12, 8, 4), (4, 6, 8, 12, 10, 8, 6, 3), (2, 3, 4, 6, 5, 4, 3, 2)]\n",
       "  F4:    [(2, 3, 4, 2), (3, 6, 8, 4), (2, 4, 6, 3), (1, 2, 3, 2)]\n",
       "  G2:    [(2, 1), (3, 2)]"
      ]
     },
     "execution_count": 12,
     "metadata": {},
     "output_type": "execute_result"
    }
   ],
   "source": [
    "\"\"\"6、检验基本权关于单根的坐标\"\"\"\n",
    "Lie = [[\"A\",range(1,5)],[\"B\",range(2,5)],[\"C\",range(3,5)],[\"D\",range(4,5)],[\"E\",range(6,9)],[\"F\",[4]],[\"G\",[2]]]\n",
    "res = [] #返回结果\n",
    "for s,l in Lie:\n",
    "    for n in l:\n",
    "        res.append([])\n",
    "        A = CartanMatrix([s,n]) #cartan矩阵\n",
    "        res[-1].append(\"%s%d: \"%(s,n))\n",
    "        res[-1].append([lam for lam in (A^-1).columns()]) #A的列向量为lambda的坐标\n",
    "table(res)"
   ]
  },
  {
   "cell_type": "code",
   "execution_count": 14,
   "metadata": {},
   "outputs": [
    {
     "data": {
      "text/plain": [
       "\\begin{tabular}{ll}\n",
       "A1:  & $\\left[\\left(\\frac{1}{2}\\right)\\right]$ \\\\\n",
       "A2:  & $\\left[\\left(\\frac{2}{3},\\,\\frac{1}{3}\\right), \\left(\\frac{1}{3},\\,\\frac{2}{3}\\right)\\right]$ \\\\\n",
       "A3:  & $\\left[\\left(\\frac{3}{4},\\,\\frac{1}{2},\\,\\frac{1}{4}\\right), \\left(\\frac{1}{2},\\,1,\\,\\frac{1}{2}\\right), \\left(\\frac{1}{4},\\,\\frac{1}{2},\\,\\frac{3}{4}\\right)\\right]$ \\\\\n",
       "A4:  & $\\left[\\left(\\frac{4}{5},\\,\\frac{3}{5},\\,\\frac{2}{5},\\,\\frac{1}{5}\\right), \\left(\\frac{3}{5},\\,\\frac{6}{5},\\,\\frac{4}{5},\\,\\frac{2}{5}\\right), \\left(\\frac{2}{5},\\,\\frac{4}{5},\\,\\frac{6}{5},\\,\\frac{3}{5}\\right), \\left(\\frac{1}{5},\\,\\frac{2}{5},\\,\\frac{3}{5},\\,\\frac{4}{5}\\right)\\right]$ \\\\\n",
       "B2:  & $\\left[\\left(1,\\,1\\right), \\left(\\frac{1}{2},\\,1\\right)\\right]$ \\\\\n",
       "B3:  & $\\left[\\left(1,\\,1,\\,1\\right), \\left(1,\\,2,\\,2\\right), \\left(\\frac{1}{2},\\,1,\\,\\frac{3}{2}\\right)\\right]$ \\\\\n",
       "B4:  & $\\left[\\left(1,\\,1,\\,1,\\,1\\right), \\left(1,\\,2,\\,2,\\,2\\right), \\left(1,\\,2,\\,3,\\,3\\right), \\left(\\frac{1}{2},\\,1,\\,\\frac{3}{2},\\,2\\right)\\right]$ \\\\\n",
       "C3:  & $\\left[\\left(1,\\,1,\\,\\frac{1}{2}\\right), \\left(1,\\,2,\\,1\\right), \\left(1,\\,2,\\,\\frac{3}{2}\\right)\\right]$ \\\\\n",
       "C4:  & $\\left[\\left(1,\\,1,\\,1,\\,\\frac{1}{2}\\right), \\left(1,\\,2,\\,2,\\,1\\right), \\left(1,\\,2,\\,3,\\,\\frac{3}{2}\\right), \\left(1,\\,2,\\,3,\\,2\\right)\\right]$ \\\\\n",
       "D4:  & $\\left[\\left(1,\\,1,\\,\\frac{1}{2},\\,\\frac{1}{2}\\right), \\left(1,\\,2,\\,1,\\,1\\right), \\left(\\frac{1}{2},\\,1,\\,1,\\,\\frac{1}{2}\\right), \\left(\\frac{1}{2},\\,1,\\,\\frac{1}{2},\\,1\\right)\\right]$ \\\\\n",
       "E6:  & $\\left[\\left(\\frac{4}{3},\\,1,\\,\\frac{5}{3},\\,2,\\,\\frac{4}{3},\\,\\frac{2}{3}\\right), \\left(1,\\,2,\\,2,\\,3,\\,2,\\,1\\right), \\left(\\frac{5}{3},\\,2,\\,\\frac{10}{3},\\,4,\\,\\frac{8}{3},\\,\\frac{4}{3}\\right), \\left(2,\\,3,\\,4,\\,6,\\,4,\\,2\\right), \\left(\\frac{4}{3},\\,2,\\,\\frac{8}{3},\\,4,\\,\\frac{10}{3},\\,\\frac{5}{3}\\right), \\left(\\frac{2}{3},\\,1,\\,\\frac{4}{3},\\,2,\\,\\frac{5}{3},\\,\\frac{4}{3}\\right)\\right]$ \\\\\n",
       "E7:  & $\\left[\\left(2,\\,2,\\,3,\\,4,\\,3,\\,2,\\,1\\right), \\left(2,\\,\\frac{7}{2},\\,4,\\,6,\\,\\frac{9}{2},\\,3,\\,\\frac{3}{2}\\right), \\left(3,\\,4,\\,6,\\,8,\\,6,\\,4,\\,2\\right), \\left(4,\\,6,\\,8,\\,12,\\,9,\\,6,\\,3\\right), \\left(3,\\,\\frac{9}{2},\\,6,\\,9,\\,\\frac{15}{2},\\,5,\\,\\frac{5}{2}\\right), \\left(2,\\,3,\\,4,\\,6,\\,5,\\,4,\\,2\\right), \\left(1,\\,\\frac{3}{2},\\,2,\\,3,\\,\\frac{5}{2},\\,2,\\,\\frac{3}{2}\\right)\\right]$ \\\\\n",
       "E8:  & $\\left[\\left(4,\\,5,\\,7,\\,10,\\,8,\\,6,\\,4,\\,2\\right), \\left(5,\\,8,\\,10,\\,15,\\,12,\\,9,\\,6,\\,3\\right), \\left(7,\\,10,\\,14,\\,20,\\,16,\\,12,\\,8,\\,4\\right), \\left(10,\\,15,\\,20,\\,30,\\,24,\\,18,\\,12,\\,6\\right), \\left(8,\\,12,\\,16,\\,24,\\,20,\\,15,\\,10,\\,5\\right), \\left(6,\\,9,\\,12,\\,18,\\,15,\\,12,\\,8,\\,4\\right), \\left(4,\\,6,\\,8,\\,12,\\,10,\\,8,\\,6,\\,3\\right), \\left(2,\\,3,\\,4,\\,6,\\,5,\\,4,\\,3,\\,2\\right)\\right]$ \\\\\n",
       "F4:  & $\\left[\\left(2,\\,3,\\,4,\\,2\\right), \\left(3,\\,6,\\,8,\\,4\\right), \\left(2,\\,4,\\,6,\\,3\\right), \\left(1,\\,2,\\,3,\\,2\\right)\\right]$ \\\\\n",
       "G2:  & $\\left[\\left(2,\\,1\\right), \\left(3,\\,2\\right)\\right]$ \\\\\n",
       "\\end{tabular}"
      ]
     },
     "execution_count": 14,
     "metadata": {},
     "output_type": "execute_result"
    }
   ],
   "source": [
    "latex(table(res))"
   ]
  },
  {
   "cell_type": "code",
   "execution_count": null,
   "metadata": {},
   "outputs": [],
   "source": []
  }
 ],
 "metadata": {
  "kernelspec": {
   "display_name": "SageMath 9.0",
   "language": "sage",
   "name": "sagemath"
  },
  "language_info": {
   "codemirror_mode": {
    "name": "ipython",
    "version": 3
   },
   "file_extension": ".py",
   "mimetype": "text/x-python",
   "name": "python",
   "nbconvert_exporter": "python",
   "pygments_lexer": "ipython3",
   "version": "3.7.3"
  }
 },
 "nbformat": 4,
 "nbformat_minor": 2
}

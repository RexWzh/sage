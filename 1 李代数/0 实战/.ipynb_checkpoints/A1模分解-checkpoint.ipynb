{
 "cells": [
  {
   "cell_type": "code",
   "execution_count": 49,
   "metadata": {},
   "outputs": [],
   "source": [
    "## 定义李括号\n",
    "B = lambda i,j:i*j-j*i"
   ]
  },
  {
   "cell_type": "code",
   "execution_count": 157,
   "metadata": {},
   "outputs": [],
   "source": [
    "gap_str = lambda s:gap('\"'+s+'\\\"') #转化gap字符串\n",
    "Read = gap(\"Read\")\n",
    "fun = gap(\"function(i) if i=0 then return false; else return true;fi; end;\") #检查是否非零\n",
    "Read(gap_str(\"gap_pkg/Rex.grp\")) #导入自编的gap函数"
   ]
  },
  {
   "cell_type": "code",
   "execution_count": 193,
   "metadata": {},
   "outputs": [
    {
     "name": "stdout",
     "output_type": "stream",
     "text": [
      "[2, 3, 2] 1\n",
      "[2, 2, 3, 1, 2, 1, 2] 2\n",
      "[2, 2, 2, 3, 1, 1, 2, 1, 1, 2, 1, 1, 2] 3\n",
      "[2, 2, 2, 2, 3, 1, 1, 1, 2, 1, 1, 1, 2, 1, 1, 1, 2, 1, 1, 1, 2] 4\n",
      "[2, 2, 2, 2, 2, 3, 1, 1, 1, 1, 2, 1, 1, 1, 1, 2, 1, 1, 1, 1, 2, 1, 1, 1, 1, 2, 1, 1, 1, 1, 2] 5\n"
     ]
    }
   ],
   "source": [
    "for n in range(2,7):\n",
    "    s = \"A\";\n",
    "    L = LieAlgebra(QQ,cartan_type=[s,n],representation=\"matrix\")\n",
    "    basis = [matrix(i) for i in L.basis()]\n",
    "    e,f,h = basis[n],basis[-n],basis[0]\n",
    "    max_vec = [i for i in basis if e*i==i*e]\n",
    "\n",
    "    out = []\n",
    "    for vec in max_vec: #从极大权向量生成其他权向量\n",
    "        out.append([])\n",
    "        while True:\n",
    "            out[-1].append(vec)\n",
    "            vec = f*vec-vec*f\n",
    "            l = gap.Coordination(basis,vec)\n",
    "            k = gap.Number(l,fun)\n",
    "            if k==1:\n",
    "                vec = basis[int(gap.Position(l,gap.First(l,fun)))-1]\n",
    "            elif k==0:\n",
    "                break\n",
    "            else:\n",
    "                raise Exception(\"计算有误！\")\n",
    "    data = [len(i) for i in out]\n",
    "    print(data,len(basis)-sum(data))"
   ]
  },
  {
   "cell_type": "code",
   "execution_count": 186,
   "metadata": {},
   "outputs": [
    {
     "name": "stdout",
     "output_type": "stream",
     "text": [
      "[ 0  0  0  0]\n",
      "[ 0  1  0  0]\n",
      "[ 0  0  0  0]\n",
      "[ 0  0  0 -1]\n",
      "\n",
      "[ 0  0  0  0]\n",
      "[ 0  0  0  0]\n",
      "[ 0  0  1  0]\n",
      "[ 0  0  0 -1]\n",
      "\n"
     ]
    }
   ],
   "source": [
    "flat = []\n",
    "for i in out:\n",
    "    flat.extend(i)\n",
    "for i in basis:\n",
    "    if i not in flat:\n",
    "        print(i)\n",
    "        print()"
   ]
  },
  {
   "cell_type": "code",
   "execution_count": 181,
   "metadata": {},
   "outputs": [
    {
     "data": {
      "text/plain": [
       "15"
      ]
     },
     "execution_count": 181,
     "metadata": {},
     "output_type": "execute_result"
    }
   ],
   "source": [
    "len(basis)"
   ]
  },
  {
   "cell_type": "code",
   "execution_count": 176,
   "metadata": {
    "scrolled": false
   },
   "outputs": [
    {
     "data": {
      "text/plain": [
       "[0 0 0]\n",
       "[0 0 0]\n",
       "[0 0 0]"
      ]
     },
     "execution_count": 176,
     "metadata": {},
     "output_type": "execute_result"
    }
   ],
   "source": [
    "j = e*i-i*e\n",
    "e*j-j*e"
   ]
  },
  {
   "cell_type": "code",
   "execution_count": 138,
   "metadata": {},
   "outputs": [
    {
     "data": {
      "text/plain": [
       "1"
      ]
     },
     "execution_count": 138,
     "metadata": {},
     "output_type": "execute_result"
    }
   ],
   "source": [
    "gap.First([1,2,3],fun)"
   ]
  },
  {
   "cell_type": "code",
   "execution_count": 102,
   "metadata": {},
   "outputs": [
    {
     "name": "stdout",
     "output_type": "stream",
     "text": [
      "[ 0 ]\n",
      "[ 1 ]\n",
      "[ 2 ]\n",
      "[ -1 ]\n",
      "[ 0 ]\n",
      "[ 1 ]\n",
      "[ -2 ]\n",
      "[ -1 ]\n"
     ]
    }
   ],
   "source": [
    "for i in basis:\n",
    "    print(gap.Coordination([i],h*i-i*h))"
   ]
  },
  {
   "cell_type": "code",
   "execution_count": 104,
   "metadata": {},
   "outputs": [
    {
     "name": "stdout",
     "output_type": "stream",
     "text": [
      "[ 1  0  0]\n",
      "[ 0  0  0]\n",
      "[ 0  0 -1]\n",
      "[ 0  0 -2]\n",
      "[ 0  0  0]\n",
      "[ 0  0  0]\n",
      "\n",
      "[0 1 0]\n",
      "[0 0 0]\n",
      "[0 0 0]\n",
      "[0 0 0]\n",
      "[0 0 0]\n",
      "[0 0 0]\n",
      "\n",
      "[0 0 1]\n",
      "[0 0 0]\n",
      "[0 0 0]\n",
      "[0 0 0]\n",
      "[0 0 0]\n",
      "[0 0 0]\n",
      "\n",
      "[0 0 0]\n",
      "[1 0 0]\n",
      "[0 0 0]\n",
      "[ 0  0  0]\n",
      "[ 0  0 -1]\n",
      "[ 0  0  0]\n",
      "\n",
      "[ 0  0  0]\n",
      "[ 0  1  0]\n",
      "[ 0  0 -1]\n",
      "[ 0  0 -1]\n",
      "[ 0  0  0]\n",
      "[ 0  0  0]\n",
      "\n",
      "[0 0 0]\n",
      "[0 0 1]\n",
      "[0 0 0]\n",
      "[0 0 0]\n",
      "[0 0 0]\n",
      "[0 0 0]\n",
      "\n",
      "[0 0 0]\n",
      "[0 0 0]\n",
      "[1 0 0]\n",
      "[ 1  0  0]\n",
      "[ 0  0  0]\n",
      "[ 0  0 -1]\n",
      "\n",
      "[0 0 0]\n",
      "[0 0 0]\n",
      "[0 1 0]\n",
      "[0 1 0]\n",
      "[0 0 0]\n",
      "[0 0 0]\n",
      "\n"
     ]
    }
   ],
   "source": [
    "for i in basis:\n",
    "    print(i)\n",
    "    print(e*i-i*e)\n",
    "    print()"
   ]
  },
  {
   "cell_type": "code",
   "execution_count": 32,
   "metadata": {
    "scrolled": false
   },
   "outputs": [
    {
     "name": "stdout",
     "output_type": "stream",
     "text": [
      "[ 1  0  0]\n",
      "[ 0  0  0]\n",
      "[ 0  0 -1]\n",
      "\n",
      "[0 0 1]\n",
      "[0 0 0]\n",
      "[0 0 0]\n",
      "\n",
      "[0 0 0]\n",
      "[0 0 0]\n",
      "[1 0 0]\n",
      "\n"
     ]
    }
   ],
   "source": [
    "for i in [basis[0],basis[n],basis[-n]]:\n",
    "    print(i)\n",
    "    print()"
   ]
  },
  {
   "cell_type": "code",
   "execution_count": null,
   "metadata": {},
   "outputs": [],
   "source": []
  },
  {
   "cell_type": "code",
   "execution_count": null,
   "metadata": {},
   "outputs": [],
   "source": [
    "\n",
    "for i in range(n,m+1):\n",
    "    L = LieAlgebra(QQ,cartan_type=[s,i],representation=\"matrix\") #单李代数\n",
    "    basis = [matrix(i) for i in L.basis()] #L的一组矩阵基\n",
    "    K = killing_matrix(basis) #內积矩阵\n",
    "    dual = dual_basis(basis,K) #计算对偶基\n",
    "    casimir = sum([i*j for i,j in zip(dual,basis)])\n",
    "    print(s,i,sep=\"\")\n",
    "    print(casimir,end=\"\\n\\n\")"
   ]
  }
 ],
 "metadata": {
  "kernelspec": {
   "display_name": "SageMath 9.0",
   "language": "sage",
   "name": "sagemath"
  },
  "language_info": {
   "codemirror_mode": {
    "name": "ipython",
    "version": 3
   },
   "file_extension": ".py",
   "mimetype": "text/x-python",
   "name": "python",
   "nbconvert_exporter": "python",
   "pygments_lexer": "ipython3",
   "version": "3.7.3"
  }
 },
 "nbformat": 4,
 "nbformat_minor": 2
}

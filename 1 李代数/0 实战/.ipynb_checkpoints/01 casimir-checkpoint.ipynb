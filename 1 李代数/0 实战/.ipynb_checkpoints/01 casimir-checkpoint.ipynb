{
 "cells": [
  {
   "cell_type": "code",
   "execution_count": 130,
   "metadata": {},
   "outputs": [],
   "source": [
    "def dual_basis(basis,M):\n",
    "    \"\"\"计算basis关于內积阵M的对偶基\"\"\"\n",
    "    M = matrix(M).T^-1\n",
    "    dual = [sum([i*j for i,j in zip(col,basis)]) for col in M] #计算对偶基\n",
    "    return dual\n",
    "killing_matrix = lambda basis: [[(i*j).trace() for j in basis] for i in basis] #矩阵basis的迹內积矩阵"
   ]
  },
  {
   "cell_type": "code",
   "execution_count": 142,
   "metadata": {},
   "outputs": [
    {
     "name": "stdout",
     "output_type": "stream",
     "text": [
      "A1\n",
      "[3/2   0]\n",
      "[  0 3/2]\n",
      "\n",
      "A2\n",
      "[8/3   0   0]\n",
      "[  0 8/3   0]\n",
      "[  0   0 8/3]\n",
      "\n",
      "A3\n",
      "[15/4    0    0    0]\n",
      "[   0 15/4    0    0]\n",
      "[   0    0 15/4    0]\n",
      "[   0    0    0 15/4]\n",
      "\n",
      "A4\n",
      "[24/5    0    0    0    0]\n",
      "[   0 24/5    0    0    0]\n",
      "[   0    0 24/5    0    0]\n",
      "[   0    0    0 24/5    0]\n",
      "[   0    0    0    0 24/5]\n",
      "\n"
     ]
    }
   ],
   "source": [
    "s = \"A\";n = 1;m=4\n",
    "for i in range(n,m+1):\n",
    "    L = LieAlgebra(QQ,cartan_type=[s,i],representation=\"matrix\") #单李代数\n",
    "    basis = [matrix(i) for i in L.basis()] #L的一组矩阵基\n",
    "    K = killing_matrix(basis) #內积矩阵\n",
    "    dual = dual_basis(basis,K) #计算对偶基\n",
    "    casimir = sum([i*j for i,j in zip(dual,basis)])\n",
    "    print(s,i,sep=\"\")\n",
    "    print(casimir,end=\"\\n\\n\")"
   ]
  },
  {
   "cell_type": "code",
   "execution_count": null,
   "metadata": {},
   "outputs": [],
   "source": []
  },
  {
   "cell_type": "code",
   "execution_count": 49,
   "metadata": {},
   "outputs": [],
   "source": []
  },
  {
   "cell_type": "code",
   "execution_count": 51,
   "metadata": {},
   "outputs": [],
   "source": [
    "gap(\"\"\"\n",
    "function()\n",
    "    Read(\"casimir.grp\");\n",
    "end;\n",
    "\"\"\")() #导入编写的gap文件"
   ]
  },
  {
   "cell_type": "code",
   "execution_count": 67,
   "metadata": {},
   "outputs": [],
   "source": [
    "killing_matrix = gap(\"Killing\")\n",
    "dual_basis = gap(\"DualBasis\")"
   ]
  },
  {
   "cell_type": "code",
   "execution_count": 82,
   "metadata": {},
   "outputs": [],
   "source": [
    "s = \"A\"\n",
    "n = 2\n",
    "L = LieAlgebra(QQ,cartan_type=[s,n],representation='matrix')\n",
    "basis = gap([matrix(i) for i in L.basis()]) #导入gap一组基\n",
    "K = killing_matrix(gap_str(s),n)\n",
    "dual = dual_basis(basis,K)"
   ]
  },
  {
   "cell_type": "code",
   "execution_count": 85,
   "metadata": {},
   "outputs": [
    {
     "name": "stdout",
     "output_type": "stream",
     "text": [
      "[ 1  0  0]\n",
      "[ 0  0  0]\n",
      "[ 0  0 -1]\n",
      "[0 1 0]\n",
      "[0 0 0]\n",
      "[0 0 0]\n",
      "[0 0 1]\n",
      "[0 0 0]\n",
      "[0 0 0]\n",
      "[0 0 0]\n",
      "[1 0 0]\n",
      "[0 0 0]\n",
      "[ 0  0  0]\n",
      "[ 0  1  0]\n",
      "[ 0  0 -1]\n",
      "[0 0 0]\n",
      "[0 0 1]\n",
      "[0 0 0]\n",
      "[0 0 0]\n",
      "[0 0 0]\n",
      "[1 0 0]\n",
      "[0 0 0]\n",
      "[0 0 0]\n",
      "[0 1 0]\n"
     ]
    }
   ],
   "source": [
    "for i in L.basis():\n",
    "    print(i)"
   ]
  },
  {
   "cell_type": "code",
   "execution_count": 83,
   "metadata": {},
   "outputs": [
    {
     "name": "stdout",
     "output_type": "stream",
     "text": [
      "[ [ 0, 0, 0 ], [ 0, 0, 0 ], [ 0, 0, 0 ] ]\n",
      "[ [ 0, 1/6, 0 ], [ 0, 0, 0 ], [ 0, 0, 0 ] ]\n",
      "[ [ 0, 0, 0 ], [ 0, 0, 0 ], [ 0, 0, 0 ] ]\n",
      "[ [ 0, 0, 0 ], [ 1/6, 0, 0 ], [ 0, 0, 0 ] ]\n",
      "[ [ 0, 0, 0 ], [ 0, 0, 0 ], [ 0, 0, 0 ] ]\n",
      "[ [ 0, 0, 0 ], [ 0, 0, 0 ], [ 0, 0, 0 ] ]\n",
      "[ [ 0, 0, 0 ], [ 0, 0, 0 ], [ 0, 0, 0 ] ]\n",
      "[ [ 0, 0, 0 ], [ 0, 0, 0 ], [ 0, 0, 0 ] ]\n"
     ]
    }
   ],
   "source": [
    "for i,j in zip(basis,dual):\n",
    "    print(i*j)"
   ]
  },
  {
   "cell_type": "code",
   "execution_count": 74,
   "metadata": {},
   "outputs": [
    {
     "name": "stdout",
     "output_type": "stream",
     "text": [
      "[ [ 0, 0 ], [ 1/4, 0 ] ]\n",
      "[ [ 0, 1/4 ], [ 0, 0 ] ]\n",
      "[ [ 1/8, 0 ], [ 0, -1/8 ] ]\n"
     ]
    }
   ],
   "source": [
    "for i in dual:\n",
    "    print(i)"
   ]
  },
  {
   "cell_type": "code",
   "execution_count": 76,
   "metadata": {},
   "outputs": [
    {
     "name": "stdout",
     "output_type": "stream",
     "text": [
      "[ [ 0, 1 ], [ 0, 0 ] ]\n",
      "[ [ 0, 0 ], [ 1, 0 ] ]\n",
      "[ [ 1, 0 ], [ 0, -1 ] ]\n"
     ]
    }
   ],
   "source": [
    "for i in basis:\n",
    "    print(i)"
   ]
  }
 ],
 "metadata": {
  "kernelspec": {
   "display_name": "SageMath 9.0",
   "language": "sage",
   "name": "sagemath"
  },
  "language_info": {
   "codemirror_mode": {
    "name": "ipython",
    "version": 3
   },
   "file_extension": ".py",
   "mimetype": "text/x-python",
   "name": "python",
   "nbconvert_exporter": "python",
   "pygments_lexer": "ipython3",
   "version": "3.7.3"
  }
 },
 "nbformat": 4,
 "nbformat_minor": 2
}

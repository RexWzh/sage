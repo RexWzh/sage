{
 "cells": [
  {
   "cell_type": "code",
   "execution_count": null,
   "metadata": {},
   "outputs": [],
   "source": [
    "'''package所在路径'''\n",
    "path = r'E:\\Local\\SageMath 9.0\\runtime\\opt\\sagemath-9.0\\local\\lib\\python3.7\\site-packages\\sage\\combinat'"
   ]
  },
  {
   "cell_type": "code",
   "execution_count": null,
   "metadata": {},
   "outputs": [],
   "source": [
    "ZZ #整数\n",
    "QQ #有理数"
   ]
  },
  {
   "cell_type": "code",
   "execution_count": 3,
   "metadata": {
    "scrolled": true
   },
   "outputs": [
    {
     "name": "stdout",
     "output_type": "stream",
     "text": [
      "Defining e1, e2, e3, f1, f2, f3, h1, h2, h3\n",
      "Finite family {0: (1, 0, 0), 1: (0, 1, 0), 2: (0, 0, 1)}\n",
      "Finite family {1: alpha[1], 2: alpha[2], 3: alpha[3]}\n",
      "Finite family {1: Lambda[1], 2: Lambda[2], 3: Lambda[3]}\n"
     ]
    }
   ],
   "source": [
    "'''新建单李代数'''\n",
    "L = LieAlgebra(QQ,cartan_type=['B',3]) #B3单李代数\n",
    "L.inject_variables() #导入生成元\n",
    "R = RootSystem([\"B\",3]) #李代数根系\n",
    "\n",
    "'''三类空间（后边的函数一致）'''\n",
    "space = R.ambient_space() #环绕空间\n",
    "print(space.basis())\n",
    "root_space = R.root_space() #根空间\n",
    "print(root_space.basis())\n",
    "weight_space = R.weight_space() #权空间\n",
    "print(weight_space.basis()) \n",
    "\n",
    "'''单反射'''\n",
    "reflections = space.simple_reflections() #单反射集\n",
    "reflection = space.simple_reflection(1) #单个\n",
    "\n",
    "'''根系'''\n",
    "deltas = space.simple_roots() #单根系\n",
    "alpha = space.simple_root(1) #某个单根\n",
    "positives = space.positive_roots() #正根系（迭代器）\n",
    "negatives = space.negative_roots() #负根系（迭代器）"
   ]
  },
  {
   "cell_type": "code",
   "execution_count": 70,
   "metadata": {},
   "outputs": [],
   "source": []
  },
  {
   "cell_type": "code",
   "execution_count": null,
   "metadata": {
    "scrolled": true
   },
   "outputs": [],
   "source": [
    "'''Verma 模'''\n",
    "L = lie_algebras.sl(QQ,3) #A3李代数\n",
    "P = L.cartan_type().root_system().weight_lattice()\n",
    "La = P.fundamental_weights() #基本模\n",
    "al = P.simple_roots() #单根系\n",
    "mu = 2*La[1] + 3*La[2]\n",
    "M = L.verma_module(mu) #verma模\n",
    "M.homogeneous_component_basis(mu-3*al[2]-2*al[1])"
   ]
  },
  {
   "cell_type": "code",
   "execution_count": null,
   "metadata": {
    "scrolled": true
   },
   "outputs": [],
   "source": [
    "for i in [La[1],La[2],al[1],al[2]]:\n",
    "    print(list(i))"
   ]
  },
  {
   "cell_type": "code",
   "execution_count": 4,
   "metadata": {},
   "outputs": [],
   "source": [
    "txt = \"\"\"\n",
    "function(s,n)\n",
    "    \"求thetai=exp(adei)*exp(-adfi)*exp(adei)对应的矩阵\"\n",
    "    local L,b,m,ade,adf,theta;\n",
    "    L := SimpleLieAlgebra(s,n,Rationals); \n",
    "    b := Basis(L); \n",
    "    ade := List([1..n],i->AdjointMatrix(b,b[i])); \n",
    "    m := (Size(b)-n)/2; #正根总数\n",
    "    adf := List([1..n],i->AdjointMatrix(b,b[m+i])); \n",
    "    theta := List([1..n],i->LieExp(ade[i])*LieExp(-adf[i])*LieExp(ade[i])); \n",
    "    return theta;\n",
    "end;\n",
    "\"\"\""
   ]
  },
  {
   "cell_type": "code",
   "execution_count": null,
   "metadata": {
    "scrolled": false
   },
   "outputs": [],
   "source": []
  }
 ],
 "metadata": {
  "kernelspec": {
   "display_name": "SageMath 9.0",
   "language": "sage",
   "name": "sagemath"
  },
  "language_info": {
   "codemirror_mode": {
    "name": "ipython",
    "version": 3
   },
   "file_extension": ".py",
   "mimetype": "text/x-python",
   "name": "python",
   "nbconvert_exporter": "python",
   "pygments_lexer": "ipython3",
   "version": "3.7.3"
  }
 },
 "nbformat": 4,
 "nbformat_minor": 2
}

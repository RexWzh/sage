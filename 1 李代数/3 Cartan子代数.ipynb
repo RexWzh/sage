{
 "cells": [
  {
   "cell_type": "code",
   "execution_count": 4,
   "metadata": {},
   "outputs": [
    {
     "name": "stdout",
     "output_type": "stream",
     "text": [
      "A1 0.003\n",
      "A2 19.338\n"
     ]
    }
   ],
   "source": [
    "import sympy as sy\n",
    "import time\n",
    "\n",
    "Lie = [(\"A\",1),(\"A\",2)]\n",
    "coef = []\n",
    "for s,n in Lie:\n",
    "    L = LieAlgebra(QQ,cartan_type=[s,n]) #李代数\n",
    "    N = L.dimension() #维数\n",
    "    basis = list(L.basis()) #一组基\n",
    "    sy_k = sy.symbols(('k%d '*N)%tuple(range(1,N+1))) #不定元k_i\n",
    "    sy_basis = [sy_k[i]*sy.Matrix(ele.adjoint_matrix()) for i,ele in enumerate(basis)] #adh,e,f对应的多项式矩阵\n",
    "    sy_t = sy.Symbol('t') #不定元t\n",
    "    sy_id = sy.eye(int(N))*sy_t #t*E_N\n",
    "    sy_mat = sy_id #待求行列式的矩阵\n",
    "    for mat in sy_basis:\n",
    "        sy_mat -= mat\n",
    "    t = time.time()\n",
    "    d = sy.det(sy_mat).expand()\n",
    "    print(s+str(n),\"%.3f\"%(time.time()-t)) #计算行列式用时\n",
    "    for i in range(N):\n",
    "        c = d.coeff(sy_t,i)\n",
    "        if c!=0:break\n",
    "    coef.append((i,c))"
   ]
  },
  {
   "cell_type": "code",
   "execution_count": 5,
   "metadata": {},
   "outputs": [
    {
     "name": "stdout",
     "output_type": "stream",
     "text": [
      "1\n"
     ]
    },
    {
     "data": {
      "text/latex": [
       "$\\displaystyle - 4 k_{1} k_{3} - 4 k_{2}^{2}$"
      ],
      "text/plain": [
       "-4*k1*k3 - 4*k2**2"
      ]
     },
     "execution_count": 5,
     "metadata": {},
     "output_type": "execute_result"
    }
   ],
   "source": [
    "print(coef[0][0])\n",
    "coef[0][1]"
   ]
  },
  {
   "cell_type": "code",
   "execution_count": 6,
   "metadata": {},
   "outputs": [
    {
     "name": "stdout",
     "output_type": "stream",
     "text": [
      "2\n"
     ]
    },
    {
     "data": {
      "text/latex": [
       "$\\displaystyle - 4 k_{1}^{3} k_{6}^{3} + 27 k_{1}^{2} k_{2}^{2} k_{8}^{2} + 54 k_{1}^{2} k_{2} k_{4} k_{6} k_{8} - 12 k_{1}^{2} k_{2} k_{6}^{2} k_{7} - 12 k_{1}^{2} k_{3} k_{6}^{2} k_{8} + 15 k_{1}^{2} k_{4}^{2} k_{6}^{2} + 12 k_{1}^{2} k_{4} k_{5} k_{6}^{2} - 12 k_{1}^{2} k_{5}^{2} k_{6}^{2} - 54 k_{1} k_{2}^{2} k_{5} k_{7} k_{8} - 12 k_{1} k_{2}^{2} k_{6} k_{7}^{2} - 54 k_{1} k_{2} k_{3} k_{4} k_{8}^{2} + 54 k_{1} k_{2} k_{3} k_{5} k_{8}^{2} + 30 k_{1} k_{2} k_{3} k_{6} k_{7} k_{8} - 54 k_{1} k_{2} k_{4}^{2} k_{5} k_{8} - 24 k_{1} k_{2} k_{4}^{2} k_{6} k_{7} + 54 k_{1} k_{2} k_{4} k_{5}^{2} k_{8} - 30 k_{1} k_{2} k_{4} k_{5} k_{6} k_{7} - 24 k_{1} k_{2} k_{5}^{2} k_{6} k_{7} - 12 k_{1} k_{3}^{2} k_{6} k_{8}^{2} - 78 k_{1} k_{3} k_{4}^{2} k_{6} k_{8} + 78 k_{1} k_{3} k_{4} k_{5} k_{6} k_{8} + 54 k_{1} k_{3} k_{4} k_{6}^{2} k_{7} - 24 k_{1} k_{3} k_{5}^{2} k_{6} k_{8} - 12 k_{1} k_{4}^{4} k_{6} - 30 k_{1} k_{4}^{3} k_{5} k_{6} + 18 k_{1} k_{4}^{2} k_{5}^{2} k_{6} + 24 k_{1} k_{4} k_{5}^{3} k_{6} - 12 k_{1} k_{5}^{4} k_{6} - 4 k_{2}^{3} k_{7}^{3} - 12 k_{2}^{2} k_{3} k_{7}^{2} k_{8} - 12 k_{2}^{2} k_{4}^{2} k_{7}^{2} + 12 k_{2}^{2} k_{4} k_{5} k_{7}^{2} + 15 k_{2}^{2} k_{5}^{2} k_{7}^{2} - 12 k_{2} k_{3}^{2} k_{7} k_{8}^{2} - 24 k_{2} k_{3} k_{4}^{2} k_{7} k_{8} + 78 k_{2} k_{3} k_{4} k_{5} k_{7} k_{8} - 78 k_{2} k_{3} k_{5}^{2} k_{7} k_{8} - 54 k_{2} k_{3} k_{5} k_{6} k_{7}^{2} - 12 k_{2} k_{4}^{4} k_{7} + 24 k_{2} k_{4}^{3} k_{5} k_{7} + 18 k_{2} k_{4}^{2} k_{5}^{2} k_{7} - 30 k_{2} k_{4} k_{5}^{3} k_{7} - 12 k_{2} k_{5}^{4} k_{7} - 4 k_{3}^{3} k_{8}^{3} + 15 k_{3}^{2} k_{4}^{2} k_{8}^{2} - 42 k_{3}^{2} k_{4} k_{5} k_{8}^{2} - 54 k_{3}^{2} k_{4} k_{6} k_{7} k_{8} + 15 k_{3}^{2} k_{5}^{2} k_{8}^{2} + 54 k_{3}^{2} k_{5} k_{6} k_{7} k_{8} + 27 k_{3}^{2} k_{6}^{2} k_{7}^{2} - 12 k_{3} k_{4}^{4} k_{8} + 78 k_{3} k_{4}^{3} k_{5} k_{8} - 144 k_{3} k_{4}^{2} k_{5}^{2} k_{8} - 54 k_{3} k_{4}^{2} k_{5} k_{6} k_{7} + 78 k_{3} k_{4} k_{5}^{3} k_{8} + 54 k_{3} k_{4} k_{5}^{2} k_{6} k_{7} - 12 k_{3} k_{5}^{4} k_{8} - 4 k_{4}^{6} + 12 k_{4}^{5} k_{5} + 3 k_{4}^{4} k_{5}^{2} - 26 k_{4}^{3} k_{5}^{3} + 3 k_{4}^{2} k_{5}^{4} + 12 k_{4} k_{5}^{5} - 4 k_{5}^{6}$"
      ],
      "text/plain": [
       "-4*k1**3*k6**3 + 27*k1**2*k2**2*k8**2 + 54*k1**2*k2*k4*k6*k8 - 12*k1**2*k2*k6**2*k7 - 12*k1**2*k3*k6**2*k8 + 15*k1**2*k4**2*k6**2 + 12*k1**2*k4*k5*k6**2 - 12*k1**2*k5**2*k6**2 - 54*k1*k2**2*k5*k7*k8 - 12*k1*k2**2*k6*k7**2 - 54*k1*k2*k3*k4*k8**2 + 54*k1*k2*k3*k5*k8**2 + 30*k1*k2*k3*k6*k7*k8 - 54*k1*k2*k4**2*k5*k8 - 24*k1*k2*k4**2*k6*k7 + 54*k1*k2*k4*k5**2*k8 - 30*k1*k2*k4*k5*k6*k7 - 24*k1*k2*k5**2*k6*k7 - 12*k1*k3**2*k6*k8**2 - 78*k1*k3*k4**2*k6*k8 + 78*k1*k3*k4*k5*k6*k8 + 54*k1*k3*k4*k6**2*k7 - 24*k1*k3*k5**2*k6*k8 - 12*k1*k4**4*k6 - 30*k1*k4**3*k5*k6 + 18*k1*k4**2*k5**2*k6 + 24*k1*k4*k5**3*k6 - 12*k1*k5**4*k6 - 4*k2**3*k7**3 - 12*k2**2*k3*k7**2*k8 - 12*k2**2*k4**2*k7**2 + 12*k2**2*k4*k5*k7**2 + 15*k2**2*k5**2*k7**2 - 12*k2*k3**2*k7*k8**2 - 24*k2*k3*k4**2*k7*k8 + 78*k2*k3*k4*k5*k7*k8 - 78*k2*k3*k5**2*k7*k8 - 54*k2*k3*k5*k6*k7**2 - 12*k2*k4**4*k7 + 24*k2*k4**3*k5*k7 + 18*k2*k4**2*k5**2*k7 - 30*k2*k4*k5**3*k7 - 12*k2*k5**4*k7 - 4*k3**3*k8**3 + 15*k3**2*k4**2*k8**2 - 42*k3**2*k4*k5*k8**2 - 54*k3**2*k4*k6*k7*k8 + 15*k3**2*k5**2*k8**2 + 54*k3**2*k5*k6*k7*k8 + 27*k3**2*k6**2*k7**2 - 12*k3*k4**4*k8 + 78*k3*k4**3*k5*k8 - 144*k3*k4**2*k5**2*k8 - 54*k3*k4**2*k5*k6*k7 + 78*k3*k4*k5**3*k8 + 54*k3*k4*k5**2*k6*k7 - 12*k3*k5**4*k8 - 4*k4**6 + 12*k4**5*k5 + 3*k4**4*k5**2 - 26*k4**3*k5**3 + 3*k4**2*k5**4 + 12*k4*k5**5 - 4*k5**6"
      ]
     },
     "execution_count": 6,
     "metadata": {},
     "output_type": "execute_result"
    }
   ],
   "source": [
    "print(coef[1][0])\n",
    "coef[1][1]"
   ]
  },
  {
   "cell_type": "code",
   "execution_count": 19,
   "metadata": {},
   "outputs": [
    {
     "data": {
      "text/latex": [
       "$\\displaystyle - 4 k_{4}^{6} + 12 k_{4}^{5} k_{5} + 3 k_{4}^{4} k_{5}^{2} - 26 k_{4}^{3} k_{5}^{3} + 3 k_{4}^{2} k_{5}^{4} + 12 k_{4} k_{5}^{5} - 4 k_{5}^{6}$"
      ],
      "text/plain": [
       "-4*k4**6 + 12*k4**5*k5 + 3*k4**4*k5**2 - 26*k4**3*k5**3 + 3*k4**2*k5**4 + 12*k4*k5**5 - 4*k5**6"
      ]
     },
     "execution_count": 19,
     "metadata": {},
     "output_type": "execute_result"
    }
   ],
   "source": [
    "c = coef[1][1]\n",
    "k = sy_k\n",
    "c.subs({k[0]:0,k[1]:0,k[2]:0,k[5]:0,k[6]:0,k[7]:0})"
   ]
  }
 ],
 "metadata": {
  "kernelspec": {
   "display_name": "SageMath 9.0",
   "language": "sage",
   "name": "sagemath"
  },
  "language_info": {
   "codemirror_mode": {
    "name": "ipython",
    "version": 3
   },
   "file_extension": ".py",
   "mimetype": "text/x-python",
   "name": "python",
   "nbconvert_exporter": "python",
   "pygments_lexer": "ipython3",
   "version": "3.7.3"
  }
 },
 "nbformat": 4,
 "nbformat_minor": 2
}

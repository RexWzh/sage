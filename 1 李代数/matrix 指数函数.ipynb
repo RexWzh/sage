{
 "cells": [
  {
   "cell_type": "code",
   "execution_count": 50,
   "metadata": {},
   "outputs": [
    {
     "name": "stdout",
     "output_type": "stream",
     "text": [
      "E[alpha[2]]\n",
      "E[alpha[1]]\n",
      "E[alpha[1] + alpha[2]]\n",
      "E[alpha[1] + 2*alpha[2]]\n",
      "h1\n",
      "h2\n",
      "E[-alpha[2]]\n",
      "E[-alpha[1]]\n",
      "E[-alpha[1] - alpha[2]]\n",
      "E[-alpha[1] - 2*alpha[2]]\n"
     ]
    }
   ],
   "source": [
    "import sympy\n",
    "L = LieAlgebra(QQ,cartan_type=\"B2\")\n",
    "for i in L.basis():\n",
    "    print(i)"
   ]
  },
  {
   "cell_type": "code",
   "execution_count": 51,
   "metadata": {
    "scrolled": true
   },
   "outputs": [
    {
     "name": "stdout",
     "output_type": "stream",
     "text": [
      "[     0      0     -c      0      0      0      0      0      0      0]\n",
      "[     0      0      0      0      0      0      0 -1/c^2      0      0]\n",
      "[   1/c      0      0      0      0      0      0      0      0      0]\n",
      "[     0      0      0      1      0      0      0      0      0      0]\n",
      "[     0      0      0      0     -1      0      0      0      0      0]\n",
      "[     0      0      0      0      2      1      0      0      0      0]\n",
      "[     0      0      0      0      0      0      0      0   -1/c      0]\n",
      "[     0   -c^2      0      0      0      0      0      0      0      0]\n",
      "[     0      0      0      0      0      0      c      0      0      0]\n",
      "[     0      0      0      0      0      0      0      0      0      1]\n",
      "\n",
      "[     c      0      0      0      0      0      0      0      0      0]\n",
      "[     0 c^(-2)      0      0      0      0      0      0      0      0]\n",
      "[     0      0    1/c      0      0      0      0      0      0      0]\n",
      "[     0      0      0      1      0      0      0      0      0      0]\n",
      "[     0      0      0      0      1      0      0      0      0      0]\n",
      "[     0      0      0      0      0      1      0      0      0      0]\n",
      "[     0      0      0      0      0      0    1/c      0      0      0]\n",
      "[     0      0      0      0      0      0      0    c^2      0      0]\n",
      "[     0      0      0      0      0      0      0      0      c      0]\n",
      "[     0      0      0      0      0      0      0      0      0      1]\n"
     ]
    }
   ],
   "source": [
    "import sympy\n",
    "L = LieAlgebra(QQ,cartan_type=\"B2\")\n",
    "basis = [a.adjoint_matrix() for a in L.basis()]\n",
    "c = sympy.symbols(\"c\")\n",
    "e,f = basis[1],basis[-3]\n",
    "wc = (c*e).exp()*(-c^-1*f).exp()*(c*e).exp()\n",
    "hc = wc*wc.subs(c=-1)\n",
    "print(wc,hc,sep='\\n\\n')"
   ]
  },
  {
   "cell_type": "code",
   "execution_count": 47,
   "metadata": {},
   "outputs": [
    {
     "name": "stdout",
     "output_type": "stream",
     "text": [
      "[     0      0 -1/c^2]\n",
      "[     0     -1      0]\n",
      "[  -c^2      0      0]\n",
      "\n",
      "[c^(-2)      0      0]\n",
      "[     0      1      0]\n",
      "[     0      0    c^2]\n"
     ]
    }
   ],
   "source": [
    "import sympy\n",
    "L = LieAlgebra(QQ,cartan_type=\"A1\")\n",
    "basis = [a.adjoint_matrix() for a in L.basis()]\n",
    "c = sympy.symbols(\"c\")\n",
    "e,f = basis[0],basis[2]\n",
    "wc = (c*e).exp()*(-c^-1*f).exp()*(c*e).exp()\n",
    "hc = wc*wc.subs(c=-1)\n",
    "print(wc,hc,sep='\\n\\n')"
   ]
  }
 ],
 "metadata": {
  "kernelspec": {
   "display_name": "SageMath 9.0",
   "language": "sage",
   "name": "sagemath"
  },
  "language_info": {
   "codemirror_mode": {
    "name": "ipython",
    "version": 3
   },
   "file_extension": ".py",
   "mimetype": "text/x-python",
   "name": "python",
   "nbconvert_exporter": "python",
   "pygments_lexer": "ipython3",
   "version": "3.7.3"
  }
 },
 "nbformat": 4,
 "nbformat_minor": 2
}

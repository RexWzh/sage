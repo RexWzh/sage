{
 "cells": [
  {
   "cell_type": "code",
   "execution_count": 20,
   "metadata": {},
   "outputs": [],
   "source": [
    "res = \"\"\"\n",
    "V = RootSpace(\"C2\").root_space()\n",
    "使用root_space调用，按照根系顺序（使用ambient_space调用得到的顺序不一样）\n",
    ".roots命令返回根系：\n",
    "    先排正根，后负根，且相对应的位置相负。\n",
    "    （这个顺序不太好把握）\n",
    "对某一根，通过.to_ambient转化为规范正交基线性表示\n",
    "\n",
    "自然表示\n",
    "Lm = LieAlgebra(QQ,cartan_type=\"C2\",representation='matrix')\n",
    "Lm.gens() #得到单根对应元素。\n",
    "\"\"\""
   ]
  },
  {
   "cell_type": "code",
   "execution_count": 33,
   "metadata": {},
   "outputs": [],
   "source": [
    "\"\"\"由于我们当前比较关心的是spo，主要通过CD族进行试验\"\"\"\n",
    "Lm = LieAlgebra(QQ,cartan_type=\"B2\",representation='matrix')"
   ]
  },
  {
   "cell_type": "code",
   "execution_count": 39,
   "metadata": {},
   "outputs": [
    {
     "data": {
      "text/plain": [
       "[ 1  0  0  0  0]\n",
       "[ 0 -1  0  0  0]\n",
       "[ 0  0 -1  0  0]\n",
       "[ 0  0  0  1  0]\n",
       "[ 0  0  0  0  0]"
      ]
     },
     "execution_count": 39,
     "metadata": {},
     "output_type": "execute_result"
    }
   ],
   "source": [
    "e = Lm.e(1)\n",
    "e.bracket(Lm.f(1))"
   ]
  },
  {
   "cell_type": "code",
   "execution_count": 46,
   "metadata": {},
   "outputs": [],
   "source": [
    "h = Lm.h(1)"
   ]
  },
  {
   "cell_type": "code",
   "execution_count": 56,
   "metadata": {},
   "outputs": [
    {
     "data": {
      "text/plain": [
       "[ 0  2  0  0  0]\n",
       "[ 0  0  0  0  0]\n",
       "[ 0  0  0  0  0]\n",
       "[ 0  0 -2  0  0]\n",
       "[ 0  0  0  0  0]"
      ]
     },
     "execution_count": 56,
     "metadata": {},
     "output_type": "execute_result"
    }
   ],
   "source": [
    "a = matrix(h.bracket(e))"
   ]
  },
  {
   "cell_type": "code",
   "execution_count": null,
   "metadata": {},
   "outputs": [],
   "source": []
  },
  {
   "cell_type": "code",
   "execution_count": null,
   "metadata": {},
   "outputs": [],
   "source": []
  },
  {
   "cell_type": "code",
   "execution_count": null,
   "metadata": {},
   "outputs": [],
   "source": []
  },
  {
   "cell_type": "code",
   "execution_count": null,
   "metadata": {},
   "outputs": [],
   "source": [
    "def cartan_integer(alpha,beta):\n",
    "    alpha = alpha.to_ambient()\n",
    "    beta = beta.to_ambient()\n",
    "    return 2*alpha.inner_product(beta)/alpha.inner_product(alpha)"
   ]
  }
 ],
 "metadata": {
  "kernelspec": {
   "display_name": "SageMath 9.0",
   "language": "sage",
   "name": "sagemath"
  },
  "language_info": {
   "codemirror_mode": {
    "name": "ipython",
    "version": 3
   },
   "file_extension": ".py",
   "mimetype": "text/x-python",
   "name": "python",
   "nbconvert_exporter": "python",
   "pygments_lexer": "ipython3",
   "version": "3.7.3"
  }
 },
 "nbformat": 4,
 "nbformat_minor": 2
}

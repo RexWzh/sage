{
 "cells": [
  {
   "cell_type": "code",
   "execution_count": 11,
   "metadata": {},
   "outputs": [
    {
     "data": {
      "text/plain": [
       "2903040"
      ]
     },
     "execution_count": 11,
     "metadata": {},
     "output_type": "execute_result"
    }
   ],
   "source": [
    "L = LieAlgebra(QQ,cartan_type=[\"E\",7])\n",
    "W = L.weyl_group()\n",
    "W.order()"
   ]
  },
  {
   "cell_type": "code",
   "execution_count": null,
   "metadata": {},
   "outputs": [],
   "source": [
    "目标\n",
    "1.求最高支配权的饱和集\n",
    "2.weyl群在根系和权空间上的作用"
   ]
  },
  {
   "cell_type": "code",
   "execution_count": 13,
   "metadata": {},
   "outputs": [],
   "source": [
    "def partial_req(r1,r2,n):\n",
    "    '''\n",
    "    判断r1与r2关于正根和的偏序关系\n",
    "    输入：root_space上的根系以及根系阶数\n",
    "    返回：若r1>=r2，返回1；若r2<r1，返回-1；无关系返回0\n",
    "    '''\n",
    "    coef = [(r1-r2).coefficient(i) for i in range(1,n+1)]\n",
    "    if not all([i.is_integral() for i in coef]):\n",
    "        return 0\n",
    "    if all([i>=0 for i in coef]):\n",
    "        return 1 #返回1，代表：r1>=r2\n",
    "    if all([i<0 for i in coef]):\n",
    "        return -1 #返回-1，代表：r1<r2\n",
    "    return 0 #返回0，代表没关系"
   ]
  },
  {
   "cell_type": "code",
   "execution_count": 14,
   "metadata": {
    "scrolled": false
   },
   "outputs": [],
   "source": [
    "inner = lambda alpha,beta:alpha.to_ambient().scalar(beta.to_ambient())\n",
    "def smaller_dominant_weights(lams,h_lam):\n",
    "    '''求小于给定支配权的支配权，V为root_space'''\n",
    "    n = len(lams)\n",
    "    h = inner(h_lam,h_lam) #最高支配权的内积\n",
    "    data = [[h_lam-h_lam]] #初始值为0\n",
    "    while True:\n",
    "        new = set()\n",
    "        for weight in data[-1]:\n",
    "            for lam in lams:\n",
    "                lam = lam + weight\n",
    "                if inner(lam,lam)<=h:\n",
    "                    new.add(lam)\n",
    "        if len(new):\n",
    "            data.append(new)\n",
    "        else: #所有基本支配权系数已达上限\n",
    "            break\n",
    "    weights = {lam for line in data for lam in line if partial_req(h_lam,lam,n)}\n",
    "    return weights"
   ]
  },
  {
   "cell_type": "code",
   "execution_count": 15,
   "metadata": {},
   "outputs": [],
   "source": [
    "def saturated_set_whw(T,coef):\n",
    "    '''\n",
    "    计算权空间上带最高权的饱和集\n",
    "    输入：cartan type及最高支配权关于基本支配权的系数\n",
    "    返回：饱和集和其中的支配权\n",
    "    '''\n",
    "    #初始化数据\n",
    "    V = RootSystem(T).root_space() #根空间\n",
    "    lams = V.fundamental_weights_from_simple_roots() #基本支配权\n",
    "    h_lam = sum([i*j for i,j in zip(lams,coef)]) #最高支配权\n",
    "    #求饱和集中，小于lam的支配权\n",
    "    dominant_weights = smaller_dominant_weights(lams,h_lam) #小于给定支配权的支配权\n",
    "    dominant_weights = [w.to_ambient().to_weight_space() for w in dominant_weights]\n",
    "    #求所有饱和集的所有权\n",
    "    weights = set()\n",
    "    for w in dominant_weights:\n",
    "        weights = weights.union(w.orbit())\n",
    "    return weights,dominant_weights"
   ]
  },
  {
   "cell_type": "code",
   "execution_count": 16,
   "metadata": {},
   "outputs": [
    {
     "name": "stdout",
     "output_type": "stream",
     "text": [
      "A1: True\tA2: True\tA3: True\tA4: True\tA5: True\tA6: True\tA7: True\tA8: True\t\n",
      "D4: True\tD5: True\tD6: True\tD7: True\tD8: True\t\n",
      "E6: True\tE7: True\tE8: True\t\n",
      "B2: True\tB3: True\tB4: True\tB5: True\tB6: True\tB7: True\tB8: True\t\n",
      "C3: True\tC4: True\tC5: True\tC6: True\tC7: True\tC8: True\t\n",
      "F4: True\t\n",
      "G2: True\t\n"
     ]
    }
   ],
   "source": [
    "'''检验正确性'''\n",
    "Lie = [[\"A\",range(1,9)],[\"D\",range(4,9)],[\"E\",range(6,9)],\n",
    "       [\"B\",range(2,9)],[\"C\",range(3,9)],[\"F\",[4]],[\"G\",[2]]]\n",
    "for s,l in Lie:\n",
    "    for n in l:\n",
    "        T = CartanType([s,n])\n",
    "        V = RootSystem(T).root_space()\n",
    "        roots = V.roots()\n",
    "        lam = V.highest_root()\n",
    "        lam_weight = lam.to_ambient().to_weight_space()\n",
    "        coef = [lam_weight.coefficient(i) for i in range(1,n+1)]\n",
    "        sat = saturated_set_whw(T,coef)[0]\n",
    "        print(s,n,\": \",len(sat)==len(roots)+1,sep=\"\",end = '\\t')\n",
    "    print()"
   ]
  },
  {
   "cell_type": "code",
   "execution_count": 17,
   "metadata": {},
   "outputs": [],
   "source": [
    "def reshape(l,n=5):\n",
    "    '''行向量n个分一组（用于table显示）'''\n",
    "    out = []\n",
    "    for i,element in enumerate(l):\n",
    "        if i%n==0: #每n个分一组\n",
    "            out.append([])\n",
    "        out[-1].append(element)\n",
    "    return out"
   ]
  },
  {
   "cell_type": "code",
   "execution_count": 18,
   "metadata": {},
   "outputs": [
    {
     "name": "stdout",
     "output_type": "stream",
     "text": [
      "饱和集的权总数为： 18\n"
     ]
    },
    {
     "data": {
      "text/html": [
       "<div class=\"notruncate\">\n",
       "<table  class=\"table_form\">\n",
       "<tbody>\n",
       "<tr class =\"row-a\">\n",
       "<td><script type=\"math/tex\">\\Lambda_{1} - 3\\Lambda_{2}</script></td>\n",
       "<td><script type=\"math/tex\">3\\Lambda_{1} - 4\\Lambda_{2}</script></td>\n",
       "<td><script type=\"math/tex\">\\Lambda_{1} + 3\\Lambda_{2}</script></td>\n",
       "<td><script type=\"math/tex\">-\\Lambda_{1} + 4\\Lambda_{2}</script></td>\n",
       "<td><script type=\"math/tex\">\\Lambda_{1}</script></td>\n",
       "</tr>\n",
       "<tr class =\"row-b\">\n",
       "<td><script type=\"math/tex\">-\\Lambda_{2}</script></td>\n",
       "<td><script type=\"math/tex\">-3\\Lambda_{1} + 2\\Lambda_{2}</script></td>\n",
       "<td><script type=\"math/tex\">-\\Lambda_{1} - 2\\Lambda_{2}</script></td>\n",
       "<td><script type=\"math/tex\">-3\\Lambda_{1} - \\Lambda_{2}</script></td>\n",
       "<td><script type=\"math/tex\">3\\Lambda_{1} - \\Lambda_{2}</script></td>\n",
       "</tr>\n",
       "<tr class =\"row-a\">\n",
       "<td><script type=\"math/tex\">-2\\Lambda_{1} + 3\\Lambda_{2}</script></td>\n",
       "<td><script type=\"math/tex\">2\\Lambda_{1} - 2\\Lambda_{2}</script></td>\n",
       "<td><script type=\"math/tex\">2\\Lambda_{2}</script></td>\n",
       "<td><script type=\"math/tex\">-2\\Lambda_{1}</script></td>\n",
       "<td><script type=\"math/tex\">-\\Lambda_{1} + \\Lambda_{2}</script></td>\n",
       "</tr>\n",
       "<tr class =\"row-b\">\n",
       "<td><script type=\"math/tex\">4\\Lambda_{1} - 3\\Lambda_{2}</script></td>\n",
       "<td><script type=\"math/tex\">-4\\Lambda_{1} + \\Lambda_{2}</script></td>\n",
       "<td><script type=\"math/tex\">2\\Lambda_{1} + \\Lambda_{2}</script></td>\n",
       "</tr>\n",
       "</tbody>\n",
       "</table>\n",
       "</div>"
      ],
      "text/plain": [
       "  Lambda[1] - 3*Lambda[2]      3*Lambda[1] - 4*Lambda[2]    Lambda[1] + 3*Lambda[2]\n",
       "  -Lambda[2]                   -3*Lambda[1] + 2*Lambda[2]   -Lambda[1] - 2*Lambda[2]\n",
       "  -2*Lambda[1] + 3*Lambda[2]   2*Lambda[1] - 2*Lambda[2]    2*Lambda[2]\n",
       "  4*Lambda[1] - 3*Lambda[2]    -4*Lambda[1] + Lambda[2]     2*Lambda[1] + Lambda[2]"
      ]
     },
     "execution_count": 18,
     "metadata": {},
     "output_type": "execute_result"
    }
   ],
   "source": [
    "T = CartanType(\"A2\")\n",
    "sat = saturated_set_whw(T,[1,3])[0]\n",
    "print(\"饱和集的权总数为：\",len(sat))\n",
    "table(reshape(sat,5))"
   ]
  },
  {
   "cell_type": "code",
   "execution_count": 19,
   "metadata": {},
   "outputs": [
    {
     "name": "stdout",
     "output_type": "stream",
     "text": [
      "饱和集的权总数为： 73\n"
     ]
    },
    {
     "data": {
      "text/html": [
       "<div class=\"notruncate\">\n",
       "<table  class=\"table_form\">\n",
       "<tbody>\n",
       "<tr class =\"row-a\">\n",
       "<td><script type=\"math/tex\">6\\Lambda_{1} - 4\\Lambda_{2}</script></td>\n",
       "<td><script type=\"math/tex\">-6\\Lambda_{1} + 4\\Lambda_{2}</script></td>\n",
       "<td><script type=\"math/tex\">-3\\Lambda_{1} + 3\\Lambda_{2}</script></td>\n",
       "<td><script type=\"math/tex\">2\\Lambda_{1} - 2\\Lambda_{2}</script></td>\n",
       "<td><script type=\"math/tex\">2\\Lambda_{1} - \\Lambda_{2}</script></td>\n",
       "</tr>\n",
       "<tr class =\"row-b\">\n",
       "<td><script type=\"math/tex\">2\\Lambda_{1} + \\Lambda_{2}</script></td>\n",
       "<td><script type=\"math/tex\">-7\\Lambda_{1} + 3\\Lambda_{2}</script></td>\n",
       "<td><script type=\"math/tex\">-7\\Lambda_{1} + 5\\Lambda_{2}</script></td>\n",
       "<td><script type=\"math/tex\">2\\Lambda_{1} - 3\\Lambda_{2}</script></td>\n",
       "<td><script type=\"math/tex\">7\\Lambda_{1} - 4\\Lambda_{2}</script></td>\n",
       "</tr>\n",
       "<tr class =\"row-a\">\n",
       "<td><script type=\"math/tex\">6\\Lambda_{1} - 2\\Lambda_{2}</script></td>\n",
       "<td><script type=\"math/tex\">-\\Lambda_{1} + \\Lambda_{2}</script></td>\n",
       "<td><script type=\"math/tex\">-2\\Lambda_{1} + \\Lambda_{2}</script></td>\n",
       "<td><script type=\"math/tex\">-8\\Lambda_{1} + 4\\Lambda_{2}</script></td>\n",
       "<td><script type=\"math/tex\">4\\Lambda_{1} - 4\\Lambda_{2}</script></td>\n",
       "</tr>\n",
       "<tr class =\"row-b\">\n",
       "<td><script type=\"math/tex\">\\Lambda_{2}</script></td>\n",
       "<td><script type=\"math/tex\">-4\\Lambda_{1} + 3\\Lambda_{2}</script></td>\n",
       "<td><script type=\"math/tex\">-2\\Lambda_{1}</script></td>\n",
       "<td><script type=\"math/tex\">-\\Lambda_{1}</script></td>\n",
       "<td><script type=\"math/tex\">3\\Lambda_{1} - \\Lambda_{2}</script></td>\n",
       "</tr>\n",
       "<tr class =\"row-a\">\n",
       "<td><script type=\"math/tex\">3\\Lambda_{1} - 2\\Lambda_{2}</script></td>\n",
       "<td><script type=\"math/tex\">-7\\Lambda_{1} + 4\\Lambda_{2}</script></td>\n",
       "<td><script type=\"math/tex\">\\Lambda_{1} - 3\\Lambda_{2}</script></td>\n",
       "<td><script type=\"math/tex\">-5\\Lambda_{1} + 3\\Lambda_{2}</script></td>\n",
       "<td><script type=\"math/tex\">-6\\Lambda_{1} + 2\\Lambda_{2}</script></td>\n",
       "</tr>\n",
       "<tr class =\"row-b\">\n",
       "<td><script type=\"math/tex\">-8\\Lambda_{1} + 5\\Lambda_{2}</script></td>\n",
       "<td><script type=\"math/tex\">2\\Lambda_{1}</script></td>\n",
       "<td><script type=\"math/tex\">-8\\Lambda_{1} + 3\\Lambda_{2}</script></td>\n",
       "<td><script type=\"math/tex\">4\\Lambda_{1} - \\Lambda_{2}</script></td>\n",
       "<td><script type=\"math/tex\">4\\Lambda_{1} - 2\\Lambda_{2}</script></td>\n",
       "</tr>\n",
       "<tr class =\"row-a\">\n",
       "<td><script type=\"math/tex\">5\\Lambda_{1} - 3\\Lambda_{2}</script></td>\n",
       "<td><script type=\"math/tex\">\\Lambda_{1} + 2\\Lambda_{2}</script></td>\n",
       "<td><script type=\"math/tex\">\\Lambda_{1}</script></td>\n",
       "<td><script type=\"math/tex\">-3\\Lambda_{1} + \\Lambda_{2}</script></td>\n",
       "<td><script type=\"math/tex\">3\\Lambda_{1}</script></td>\n",
       "</tr>\n",
       "<tr class =\"row-b\">\n",
       "<td><script type=\"math/tex\">8\\Lambda_{1} - 3\\Lambda_{2}</script></td>\n",
       "<td><script type=\"math/tex\">7\\Lambda_{1} - 5\\Lambda_{2}</script></td>\n",
       "<td><script type=\"math/tex\">5\\Lambda_{1} - 4\\Lambda_{2}</script></td>\n",
       "<td><script type=\"math/tex\">-\\Lambda_{1} + 2\\Lambda_{2}</script></td>\n",
       "<td><script type=\"math/tex\">7\\Lambda_{1} - 2\\Lambda_{2}</script></td>\n",
       "</tr>\n",
       "<tr class =\"row-a\">\n",
       "<td><script type=\"math/tex\">4\\Lambda_{1} - 3\\Lambda_{2}</script></td>\n",
       "<td><script type=\"math/tex\">-5\\Lambda_{1} + 2\\Lambda_{2}</script></td>\n",
       "<td><script type=\"math/tex\">-2\\Lambda_{1} + 3\\Lambda_{2}</script></td>\n",
       "<td><script type=\"math/tex\">-\\Lambda_{1} + 3\\Lambda_{2}</script></td>\n",
       "<td><script type=\"math/tex\">-4\\Lambda_{1}</script></td>\n",
       "</tr>\n",
       "<tr class =\"row-b\">\n",
       "<td><script type=\"math/tex\">2\\Lambda_{2}</script></td>\n",
       "<td><script type=\"math/tex\">-4\\Lambda_{1} + 2\\Lambda_{2}</script></td>\n",
       "<td><script type=\"math/tex\">8\\Lambda_{1} - 4\\Lambda_{2}</script></td>\n",
       "<td><script type=\"math/tex\">3\\Lambda_{1} - 3\\Lambda_{2}</script></td>\n",
       "<td><script type=\"math/tex\">-4\\Lambda_{1} + 4\\Lambda_{2}</script></td>\n",
       "</tr>\n",
       "<tr class =\"row-a\">\n",
       "<td><script type=\"math/tex\">-3\\Lambda_{1} + 2\\Lambda_{2}</script></td>\n",
       "<td><script type=\"math/tex\">-3\\Lambda_{1}</script></td>\n",
       "<td><script type=\"math/tex\">-5\\Lambda_{1} + 4\\Lambda_{2}</script></td>\n",
       "<td><script type=\"math/tex\">4\\Lambda_{1}</script></td>\n",
       "<td><script type=\"math/tex\">8\\Lambda_{1} - 5\\Lambda_{2}</script></td>\n",
       "</tr>\n",
       "<tr class =\"row-b\">\n",
       "<td><script type=\"math/tex\">6\\Lambda_{1} - 3\\Lambda_{2}</script></td>\n",
       "<td><script type=\"math/tex\">\\Lambda_{1} + \\Lambda_{2}</script></td>\n",
       "<td><script type=\"math/tex\">-4\\Lambda_{1} + \\Lambda_{2}</script></td>\n",
       "<td><script type=\"math/tex\">-6\\Lambda_{1} + 3\\Lambda_{2}</script></td>\n",
       "<td><script type=\"math/tex\">7\\Lambda_{1} - 3\\Lambda_{2}</script></td>\n",
       "</tr>\n",
       "<tr class =\"row-a\">\n",
       "<td><script type=\"math/tex\">\\Lambda_{1} - 2\\Lambda_{2}</script></td>\n",
       "<td><script type=\"math/tex\">-7\\Lambda_{1} + 2\\Lambda_{2}</script></td>\n",
       "<td><script type=\"math/tex\">\\Lambda_{1} - \\Lambda_{2}</script></td>\n",
       "<td><script type=\"math/tex\">-5\\Lambda_{1} + \\Lambda_{2}</script></td>\n",
       "<td><script type=\"math/tex\">5\\Lambda_{1} - 2\\Lambda_{2}</script></td>\n",
       "</tr>\n",
       "<tr class =\"row-b\">\n",
       "<td><script type=\"math/tex\">-\\Lambda_{2}</script></td>\n",
       "<td><script type=\"math/tex\">-\\Lambda_{1} - 2\\Lambda_{2}</script></td>\n",
       "<td><script type=\"math/tex\">-2\\Lambda_{2}</script></td>\n",
       "<td><script type=\"math/tex\">-\\Lambda_{1} - \\Lambda_{2}</script></td>\n",
       "<td><script type=\"math/tex\">0</script></td>\n",
       "</tr>\n",
       "<tr class =\"row-a\">\n",
       "<td><script type=\"math/tex\">-2\\Lambda_{1} - \\Lambda_{2}</script></td>\n",
       "<td><script type=\"math/tex\">5\\Lambda_{1} - \\Lambda_{2}</script></td>\n",
       "<td><script type=\"math/tex\">-2\\Lambda_{1} + 2\\Lambda_{2}</script></td>\n",
       "</tr>\n",
       "</tbody>\n",
       "</table>\n",
       "</div>"
      ],
      "text/plain": [
       "  6*Lambda[1] - 4*Lambda[2]    -6*Lambda[1] + 4*Lambda[2]   -3*Lambda[1] + 3*Lambda[2]\n",
       "  2*Lambda[1] + Lambda[2]      -7*Lambda[1] + 3*Lambda[2]   -7*Lambda[1] + 5*Lambda[2]\n",
       "  6*Lambda[1] - 2*Lambda[2]    -Lambda[1] + Lambda[2]       -2*Lambda[1] + Lambda[2]\n",
       "  Lambda[2]                    -4*Lambda[1] + 3*Lambda[2]   -2*Lambda[1]\n",
       "  3*Lambda[1] - 2*Lambda[2]    -7*Lambda[1] + 4*Lambda[2]   Lambda[1] - 3*Lambda[2]\n",
       "  -8*Lambda[1] + 5*Lambda[2]   2*Lambda[1]                  -8*Lambda[1] + 3*Lambda[2]\n",
       "  5*Lambda[1] - 3*Lambda[2]    Lambda[1] + 2*Lambda[2]      Lambda[1]\n",
       "  8*Lambda[1] - 3*Lambda[2]    7*Lambda[1] - 5*Lambda[2]    5*Lambda[1] - 4*Lambda[2]\n",
       "  4*Lambda[1] - 3*Lambda[2]    -5*Lambda[1] + 2*Lambda[2]   -2*Lambda[1] + 3*Lambda[2]\n",
       "  2*Lambda[2]                  -4*Lambda[1] + 2*Lambda[2]   8*Lambda[1] - 4*Lambda[2]\n",
       "  -3*Lambda[1] + 2*Lambda[2]   -3*Lambda[1]                 -5*Lambda[1] + 4*Lambda[2]\n",
       "  6*Lambda[1] - 3*Lambda[2]    Lambda[1] + Lambda[2]        -4*Lambda[1] + Lambda[2]\n",
       "  Lambda[1] - 2*Lambda[2]      -7*Lambda[1] + 2*Lambda[2]   Lambda[1] - Lambda[2]\n",
       "  -Lambda[2]                   -Lambda[1] - 2*Lambda[2]     -2*Lambda[2]\n",
       "  -2*Lambda[1] - Lambda[2]     5*Lambda[1] - Lambda[2]      -2*Lambda[1] + 2*Lambda[2]"
      ]
     },
     "execution_count": 19,
     "metadata": {},
     "output_type": "execute_result"
    }
   ],
   "source": [
    "T = CartanType(\"G2\")\n",
    "sat = saturated_set_whw(T,[1,2])[0]\n",
    "print(\"饱和集的权总数为：\",len(sat))\n",
    "table(reshape(sat,5))"
   ]
  },
  {
   "cell_type": "code",
   "execution_count": 20,
   "metadata": {},
   "outputs": [
    {
     "data": {
      "text/html": [
       "<div class=\"notruncate\">\n",
       "<table  class=\"table_form\">\n",
       "<tbody>\n",
       "<tr class =\"row-a\">\n",
       "<td>A1</td>\n",
       "<td><script type=\"math/tex\">\\Lambda_{1}</script></td>\n",
       "</tr>\n",
       "<tr class =\"row-b\">\n",
       "<td>A2</td>\n",
       "<td><script type=\"math/tex\">\\Lambda_{1}</script></td>\n",
       "<td><script type=\"math/tex\">\\Lambda_{2}</script></td>\n",
       "</tr>\n",
       "<tr class =\"row-a\">\n",
       "<td>A3</td>\n",
       "<td><script type=\"math/tex\">\\Lambda_{1}</script></td>\n",
       "<td><script type=\"math/tex\">\\Lambda_{2}</script></td>\n",
       "<td><script type=\"math/tex\">\\Lambda_{3}</script></td>\n",
       "</tr>\n",
       "<tr class =\"row-b\">\n",
       "<td>A4</td>\n",
       "<td><script type=\"math/tex\">\\Lambda_{1}</script></td>\n",
       "<td><script type=\"math/tex\">\\Lambda_{2}</script></td>\n",
       "<td><script type=\"math/tex\">\\Lambda_{3}</script></td>\n",
       "<td><script type=\"math/tex\">\\Lambda_{4}</script></td>\n",
       "</tr>\n",
       "<tr class =\"row-a\">\n",
       "<td>B2</td>\n",
       "<td><script type=\"math/tex\">\\Lambda_{2}</script></td>\n",
       "</tr>\n",
       "<tr class =\"row-b\">\n",
       "<td>B3</td>\n",
       "<td><script type=\"math/tex\">\\Lambda_{3}</script></td>\n",
       "</tr>\n",
       "<tr class =\"row-a\">\n",
       "<td>B4</td>\n",
       "<td><script type=\"math/tex\">\\Lambda_{4}</script></td>\n",
       "</tr>\n",
       "<tr class =\"row-b\">\n",
       "<td>C3</td>\n",
       "<td><script type=\"math/tex\">\\Lambda_{1}</script></td>\n",
       "</tr>\n",
       "<tr class =\"row-a\">\n",
       "<td>C4</td>\n",
       "<td><script type=\"math/tex\">\\Lambda_{1}</script></td>\n",
       "</tr>\n",
       "<tr class =\"row-b\">\n",
       "<td>D4</td>\n",
       "<td><script type=\"math/tex\">\\Lambda_{1}</script></td>\n",
       "<td><script type=\"math/tex\">\\Lambda_{3}</script></td>\n",
       "<td><script type=\"math/tex\">\\Lambda_{4}</script></td>\n",
       "</tr>\n",
       "<tr class =\"row-a\">\n",
       "<td>D5</td>\n",
       "<td><script type=\"math/tex\">\\Lambda_{1}</script></td>\n",
       "<td><script type=\"math/tex\">\\Lambda_{4}</script></td>\n",
       "<td><script type=\"math/tex\">\\Lambda_{5}</script></td>\n",
       "</tr>\n",
       "<tr class =\"row-b\">\n",
       "<td>E6</td>\n",
       "<td><script type=\"math/tex\">\\Lambda_{1}</script></td>\n",
       "<td><script type=\"math/tex\">\\Lambda_{6}</script></td>\n",
       "</tr>\n",
       "<tr class =\"row-a\">\n",
       "<td>E7</td>\n",
       "<td><script type=\"math/tex\">\\Lambda_{7}</script></td>\n",
       "</tr>\n",
       "<tr class =\"row-b\">\n",
       "<td>E8</td>\n",
       "</tr>\n",
       "<tr class =\"row-a\">\n",
       "<td>F4</td>\n",
       "</tr>\n",
       "<tr class =\"row-b\">\n",
       "<td>G2</td>\n",
       "</tr>\n",
       "</tbody>\n",
       "</table>\n",
       "</div>"
      ],
      "text/plain": [
       "  A1\n",
       "  A2\n",
       "  A3\n",
       "  A4\n",
       "  B2\n",
       "  B3\n",
       "  B4\n",
       "  C3\n",
       "  C4\n",
       "  D4\n",
       "  D5\n",
       "  E6\n",
       "  E7\n",
       "  E8\n",
       "  F4\n",
       "  G2"
      ]
     },
     "execution_count": 20,
     "metadata": {},
     "output_type": "execute_result"
    }
   ],
   "source": [
    "'''求极小支配权'''\n",
    "Lie = [[\"A\",range(1,5)],[\"B\",range(2,5)],[\"C\",range(3,5)],[\"D\",range(4,6)],\n",
    "       [\"E\",range(6,9)],[\"F\",[4]],[\"G\",[2]]] \n",
    "res = [] #输出结果\n",
    "for s,l in Lie: \n",
    "    for n in l:\n",
    "        T = CartanType(s,n)\n",
    "        res.append([s+str(n)]) #添加一行数据\n",
    "        V = RootSystem(T).root_space() #根系\n",
    "        delta = V.simple_roots()\n",
    "        lams = V.fundamental_weights_from_simple_roots() #基本支配权\n",
    "        for lam in lams:\n",
    "            if len(smaller_dominant_weights(lams,lam))==1:\n",
    "                res[-1].append(lam.to_ambient().to_weight_space())\n",
    "table(res)"
   ]
  },
  {
   "cell_type": "code",
   "execution_count": null,
   "metadata": {},
   "outputs": [],
   "source": []
  },
  {
   "cell_type": "code",
   "execution_count": null,
   "metadata": {},
   "outputs": [],
   "source": []
  }
 ],
 "metadata": {
  "kernelspec": {
   "display_name": "SageMath 9.0",
   "language": "sage",
   "name": "sagemath"
  },
  "language_info": {
   "codemirror_mode": {
    "name": "ipython",
    "version": 3
   },
   "file_extension": ".py",
   "mimetype": "text/x-python",
   "name": "python",
   "nbconvert_exporter": "python",
   "pygments_lexer": "ipython3",
   "version": "3.7.3"
  }
 },
 "nbformat": 4,
 "nbformat_minor": 2
}

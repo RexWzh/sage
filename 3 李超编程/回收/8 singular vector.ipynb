{
 "cells": [
  {
   "cell_type": "code",
   "execution_count": 1,
   "metadata": {},
   "outputs": [],
   "source": [
    "import sympy\n",
    "from sympy.matrices import Matrix #最后处理矩阵用\n",
    "#导入工具包\n",
    "load('Lie.sage') #李代数相关的工具\n",
    "load('spo.sage') #李超代数spo的工具\n",
    "load('MatSp.sage') #处理矩阵的工具\n",
    "load('AlgebraBSC.sage') #结构常数相关工具\n",
    "load('pbw.sage') #李代数pbw基的工具\n",
    "load('pbws.sage') #李超代数pbw基的工具\n"
   ]
  },
  {
   "cell_type": "code",
   "execution_count": 3,
   "metadata": {},
   "outputs": [
    {
     "name": "stdout",
     "output_type": "stream",
     "text": [
      "正根数目： 7\n",
      "待讨论的权： d + e1\n",
      "权空间基的数目： 4\n"
     ]
    },
    {
     "data": {
      "text/plain": [
       "[{(f1, f2, f3): 1}, {(f2, f5): 1}, {(f3, f4): 1}, {(f6,): 1}]"
      ]
     },
     "execution_count": 3,
     "metadata": {},
     "output_type": "execute_result"
    }
   ],
   "source": [
    "#V初始化数据\n",
    "t,k = 1,2\n",
    "L = SpO(t,k) #李超代数\n",
    "mats = L.negative_matrixs + L.h_matrixs + L.positive_matrixs #矩阵信息\n",
    "m = len(L.positive_roots);print('正根数目：',m) #正根数目\n",
    "es = Lie.symbols('e',m)\n",
    "fs = Lie.symbols('f',m)\n",
    "hs = Lie.symbols('h',k+t) \n",
    "syms = fs + hs +es #用作结构常数的符号变量\n",
    "#奇根对应的符号变量\n",
    "roots = L.positive_roots \n",
    "ind1 = [roots.index(r) for r in L.odd_roots if r in roots]\n",
    "roots = L.simple_roots\n",
    "ind2 = [roots.index(r) for r in L.odd_roots if r in roots]\n",
    "odds = [fs[i] for i in ind1] + [hs[i] for i in ind2] + [es[i] for i in ind1] \n",
    "\n",
    "#由结构常数得到的L一组基\n",
    "N = AlgebraBSC.lie_sup_SC(mats,L.odd_mats)\n",
    "Lf = {i+1:Element(element,N,syms) for i,element in enumerate(fs)}\n",
    "Le = {i+1:Element(element,N,syms) for i,element in enumerate(es)}\n",
    "Lh = {i+1:Element(element,N,syms) for i,element in enumerate(hs)}\n",
    "#pbw基\n",
    "vf = {i+1:SPBWElement(element,N,syms,odds) for i,element in enumerate(fs)}\n",
    "ve = {i+1:SPBWElement(element,N,syms,odds) for i,element in enumerate(es)}\n",
    "vh = {i+1:SPBWElement(element,N,syms,odds) for i,element in enumerate(hs)}\n",
    "vectors = L.vectors\n",
    "pbw = ve[1].tuple2element\n",
    "\n",
    "#权的正根分解\n",
    "weight = L.basis[0] + L.basis[1];print('待讨论的权：',weight) #待讨论的权（正交基形式）\n",
    "root = L.vector2root(weight) #转单根形式\n",
    "dec = L.positive_dec(root) #正根分解（元组构成）\n",
    "negative_roots = L.negative_roots #负根\n",
    "dec_root = []\n",
    "for line in dec:\n",
    "    new = []\n",
    "    for i,element in enumerate(line):\n",
    "        if element:\n",
    "            new = new + [negative_roots[i]]*element\n",
    "    dec_root.append(tuple(new))\n",
    "dec_vector = [tuple(L.root2vector(r) for r in line) for line in dec_root]\n",
    "print('权空间基的数目：',len(dec)) #分解总数目\n",
    "#for line in res_vectors:print(line)\n",
    "table([[i for i in line if i] for line in dec_vector]) #分解结果\n",
    "\n",
    "#相应的pbw基\n",
    "basis = [tuple(fs[negative_roots.index(i)] for i in line) for line in dec_root]\n",
    "pbw_basis = [pbw(i) for i in basis];pbw_basis"
   ]
  },
  {
   "cell_type": "code",
   "execution_count": 78,
   "metadata": {
    "collapsed": true
   },
   "outputs": [
    {
     "name": "stdout",
     "output_type": "stream",
     "text": [
      "最高权向量： d*(x1 - 4) + e1*x1 + e2*x2\n",
      "转化为矩阵，阶数为 5x4，秩为 4\n",
      "最高权向量： d*(x1 - 3) + e1*x1 + e2*x2\n",
      "转化为矩阵，阶数为 5x4，秩为 4\n",
      "最高权向量： d*(x1 - 2) + e1*x1 + e2*x2\n",
      "转化为矩阵，阶数为 5x4，秩为 4\n",
      "最高权向量： d*(x1 - 1) + e1*x1 + e2*x2\n",
      "转化为矩阵，阶数为 5x4，秩为 4\n",
      "最高权向量： d*x1 + e1*x1 + e2*x2\n",
      "转化为矩阵，阶数为 5x4，秩为 4\n",
      "最高权向量： d*(x1 + 1) + e1*x1 + e2*x2\n",
      "转化为矩阵，阶数为 5x4，秩为 4\n",
      "最高权向量： d*(x1 + 2) + e1*x1 + e2*x2\n",
      "转化为矩阵，阶数为 5x4，秩为 3\n"
     ]
    }
   ],
   "source": [
    "#最高权向量\n",
    "x = Lie.symbols('x',k)\n",
    "for a in range(-4,5):\n",
    "    la = (x[0]+a)*L.basis[0] + x[0]*L.basis[1] + x[1]*L.basis[2]\n",
    "    print(' higheset weight:',la)\n",
    "\n",
    "    #泛包络上计算结果res\n",
    "    res = [[ve[i]*element for element in pbw_basis] for i in range(1,k+2)]\n",
    "    #print(\"在泛包络上计算，总数：\",(k+1)*len(pbw_basis))\n",
    "\n",
    "    #化简为Verma模的元素\n",
    "    res_verma = [[i.to_verma(la,L,k+1) for i in line] for line in res]\n",
    "    res_element = [[i.element for i in line] for line in res_verma] #转化为字典形式\n",
    "    #print('转化为Verma模上的元素')\n",
    "\n",
    "    #转化为矩阵\n",
    "    data = []\n",
    "    for line in res_element:\n",
    "        keys = set()\n",
    "        for i in line:\n",
    "            keys = keys.union(i.keys())\n",
    "        data.append(matrix([[ele[key] if key in ele else 0 for key in keys] for ele in line]).transpose())\n",
    "    mat = matrix.block(k+1,1,data)\n",
    "    mat_sym = Matrix(mat)\n",
    "    r = mat_sym.rank()\n",
    "    print('转化为矩阵，阶数为 %dx%d，'%mat.dimensions(),'秩为 %d'%r,sep='')\n",
    "    if r==3:break\n",
    "mat_sym"
   ]
  },
  {
   "cell_type": "code",
   "execution_count": null,
   "metadata": {},
   "outputs": [],
   "source": [
    "def solve_matrix(mat):\n",
    "    n = len(mat.row(0))\n",
    "    b = sympy.Matrix([0 for i in range(len(mat.col(0)))]) #零矩阵\n",
    "    para = sympy.symbols(('y%d '*n)%tuple(range(1,n+1)))\n",
    "    return sympy.linsolve((mat,b),para)"
   ]
  },
  {
   "cell_type": "code",
   "execution_count": 11,
   "metadata": {},
   "outputs": [],
   "source": [
    "solution = solve_matrix(mat_sym)"
   ]
  },
  {
   "cell_type": "code",
   "execution_count": 82,
   "metadata": {},
   "outputs": [
    {
     "data": {
      "text/latex": [
       "$\\displaystyle \\left( \\left[ 1, \\  - x_{1} - x_{2}, \\  - x_{1} + x_{2}, \\  - x_{1}^{2} - 2 x_{1} + x_{2}^{2}\\right]\\right)$"
      ],
      "text/plain": [
       "([1, -x1 - x2, -x1 + x2, -x1**2 - 2*x1 + x2**2],)"
      ]
     },
     "execution_count": 82,
     "metadata": {},
     "output_type": "execute_result"
    }
   ],
   "source": [
    "res = sympy.Tuple([((x1^2-x2^2+2*x1)*i).subs(y4=-1) for sol in solution for i in sol])\n",
    "res"
   ]
  },
  {
   "cell_type": "code",
   "execution_count": 105,
   "metadata": {},
   "outputs": [
    {
     "name": "stdout",
     "output_type": "stream",
     "text": [
      "Matrix([[2*x1, 1, 1, 0], [x1 - x2, 0, 1, 0], [0, x1 - x2 + 1, 1, -1], [x1 + x2, 1, 0, 0], [0, 1, x1 + x2 + 1, -1]])\n"
     ]
    }
   ],
   "source": [
    "print(mat_sym)"
   ]
  },
  {
   "cell_type": "code",
   "execution_count": null,
   "metadata": {},
   "outputs": [],
   "source": []
  },
  {
   "cell_type": "code",
   "execution_count": null,
   "metadata": {},
   "outputs": [],
   "source": []
  },
  {
   "cell_type": "code",
   "execution_count": null,
   "metadata": {},
   "outputs": [],
   "source": []
  },
  {
   "cell_type": "code",
   "execution_count": null,
   "metadata": {},
   "outputs": [],
   "source": [
    "class Pack():\n",
    "    '''多数据位置同步\n",
    "    用于打包数据\n",
    "    call直接调用其中某一个\n",
    "    print属性显示里边包含了哪些内容\n",
    "    \n",
    "    \n",
    "    '''\n",
    "    def __init__(self,*args):\n",
    "        n = len(args)\n",
    "        self.args = args\n",
    "        self.names = ('p%d '*self.n)%tuple(range(1,self.n+1))\n",
    "        \n",
    "    def switch(self,a,n,m):\n",
    "        assert n<=self.n and m<= self.n\n",
    "        old = self.args[n-1]\n",
    "        new = self.args[m-1]\n",
    "        return new[old.index(a)]\n",
    "    "
   ]
  },
  {
   "cell_type": "code",
   "execution_count": null,
   "metadata": {
    "scrolled": false
   },
   "outputs": [],
   "source": [
    "def var2sym(expr,basis1,basis2):\n",
    "    if isinstance(expr,Integer):return expr\n",
    "    coef = Lie.coefficients(expr,basis1)\n",
    "    return sum([i*j for i,j in zip(coef,basis2)])"
   ]
  }
 ],
 "metadata": {
  "kernelspec": {
   "display_name": "SageMath 9.0",
   "language": "sage",
   "name": "sagemath"
  },
  "language_info": {
   "codemirror_mode": {
    "name": "ipython",
    "version": 3
   },
   "file_extension": ".py",
   "mimetype": "text/x-python",
   "name": "python",
   "nbconvert_exporter": "python",
   "pygments_lexer": "ipython3",
   "version": "3.7.3"
  }
 },
 "nbformat": 4,
 "nbformat_minor": 2
}

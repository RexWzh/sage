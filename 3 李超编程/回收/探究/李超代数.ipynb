{
 "cells": [
  {
   "cell_type": "code",
   "execution_count": 9,
   "metadata": {
    "scrolled": true
   },
   "outputs": [
    {
     "name": "stdout",
     "output_type": "stream",
     "text": [
      "导入相关工具包：\n",
      "1. Lie.sage：李代数工具，以及C,D族李代数\n",
      "2. spo.sage：李超代数工具，以及spo\n",
      "3. MatSp.sage：矩阵空间，求矩阵关于矩阵基的线性表示\n",
      "4. AlgebraBSC：求李/李超代数的结构常数，以及由结构常数生成代数\n",
      "5. pbw.sage/pbws.sage 李/李超代数的pbw基\n",
      "6. rex.py 解方程工具\n"
     ]
    }
   ],
   "source": [
    "import sympy,time,pyperclip\n",
    "from sympy.matrices import Matrix #最后处理矩阵用\n",
    "#导入工具包\n",
    "load('pkg/Lie.sage') #李代数相关的工具\n",
    "load('pkg/spo.sage') #李超代数spo的工具\n",
    "load('pkg/MatSp.sage') #处理矩阵的工具\n",
    "load('pkg/AlgebraBSC.sage') #结构常数相关工具\n",
    "load('pkg/pbw.sage') #李代数pbw基的工具\n",
    "load('pkg/pbws.sage') #李超代数pbw基的工具\n",
    "load('pkg/rex.py') #解方程等相关工具\n",
    "print('''导入相关工具包：\n",
    "1. Lie.sage：李代数工具，以及C,D族李代数\n",
    "2. spo.sage：李超代数工具，以及spo\n",
    "3. MatSp.sage：矩阵空间，求矩阵关于矩阵基的线性表示\n",
    "4. AlgebraBSC：求李/李超代数的结构常数，以及由结构常数生成代数\n",
    "5. pbw.sage/pbws.sage 李/李超代数的pbw基\n",
    "6. rex.py 解方程工具''')"
   ]
  },
  {
   "cell_type": "code",
   "execution_count": 2,
   "metadata": {},
   "outputs": [
    {
     "name": "stdout",
     "output_type": "stream",
     "text": [
      "李超代数：spo(2,6)\n",
      "空间维数为：30\n",
      "正根数目为：13\n",
      "计算结构常数\n",
      "计算李超代数泛包络的pbw基\n",
      "初始化完毕，用时 3.402s\n"
     ]
    }
   ],
   "source": [
    "#V初始化数据\n",
    "tt = time.time()\n",
    "m,n = 1,3\n",
    "L = SpO(m,n) #李超代数spo(2m|2n)\n",
    "mats = L.negative_matrixs + L.h_matrixs + L.positive_matrixs #矩阵信息\n",
    "pos_m = len(L.positive_roots)\n",
    "print('李超代数：spo(%d,%d)\\n空间维数为：%d\\n正根数目为：%d'%(2*m,2*n,len(mats),pos_m))\n",
    "es = Lie.symbols('e',pos_m)\n",
    "fs = Lie.symbols('f',pos_m)\n",
    "hs = Lie.symbols('h',m+n) \n",
    "syms = fs + hs +es #用作结构常数的符号变量\n",
    "#奇根对应的符号变量\n",
    "roots = L.positive_roots \n",
    "ind1 = [roots.index(r) for r in L.odd_roots if r in roots]\n",
    "roots = L.simple_roots\n",
    "ind2 = [roots.index(r) for r in L.odd_roots if r in roots]\n",
    "odds = [fs[i] for i in ind1] + [hs[i] for i in ind2] + [es[i] for i in ind1] \n",
    "\n",
    "#计算结构常数\n",
    "print('计算结构常数')\n",
    "N = AlgebraBSC.lie_sup_SC(mats,L.odd_mats)\n",
    "'''\n",
    "Lf = {i+1:Element(element,N,syms) for i,element in enumerate(fs)}\n",
    "Le = {i+1:Element(element,N,syms) for i,element in enumerate(es)}\n",
    "Lh = {i+1:Element(element,N,syms) for i,element in enumerate(hs)}\n",
    "#'''\n",
    "#pbw基\n",
    "print('计算李超代数泛包络的pbw基')\n",
    "vf = {i+1:SPBWElement(element,N,syms,odds) for i,element in enumerate(fs)}\n",
    "ve = {i+1:SPBWElement(element,N,syms,odds) for i,element in enumerate(es)}\n",
    "vh = {i+1:SPBWElement(element,N,syms,odds) for i,element in enumerate(hs)}\n",
    "ide = SPBWElement({tuple():1},N,syms,odds) #幺元\n",
    "vectors = L.vectors\n",
    "print('初始化完毕，用时 %.3fs'%(time.time()-tt))"
   ]
  },
  {
   "cell_type": "code",
   "execution_count": 3,
   "metadata": {
    "collapsed": true
   },
   "outputs": [
    {
     "name": "stdout",
     "output_type": "stream",
     "text": [
      "待讨论的权： delta + epsilon1\n",
      "权空间维数： 15\n",
      "用时：0.325s\n"
     ]
    },
    {
     "data": {
      "text/html": [
       "<div class=\"notruncate\">\n",
       "<table  class=\"table_form\">\n",
       "<tbody>\n",
       "<tr class =\"row-a\">\n",
       "<td><script type=\"math/tex\">-\\delta + \\epsilon_{1}</script></td>\n",
       "<td><script type=\"math/tex\">-\\epsilon_{1} + \\epsilon_{2}</script></td>\n",
       "<td><script type=\"math/tex\">-\\epsilon_{1} + \\epsilon_{2}</script></td>\n",
       "<td><script type=\"math/tex\">-\\epsilon_{2} + \\epsilon_{3}</script></td>\n",
       "<td><script type=\"math/tex\">-\\epsilon_{2} - \\epsilon_{3}</script></td>\n",
       "</tr>\n",
       "<tr class =\"row-b\">\n",
       "<td><script type=\"math/tex\">-\\delta + \\epsilon_{1}</script></td>\n",
       "<td><script type=\"math/tex\">-\\epsilon_{1} + \\epsilon_{2}</script></td>\n",
       "<td><script type=\"math/tex\">-\\epsilon_{2} + \\epsilon_{3}</script></td>\n",
       "<td><script type=\"math/tex\">-\\epsilon_{1} - \\epsilon_{3}</script></td>\n",
       "</tr>\n",
       "<tr class =\"row-a\">\n",
       "<td><script type=\"math/tex\">-\\epsilon_{1} + \\epsilon_{2}</script></td>\n",
       "<td><script type=\"math/tex\">-\\epsilon_{2} + \\epsilon_{3}</script></td>\n",
       "<td><script type=\"math/tex\">-\\epsilon_{2} - \\epsilon_{3}</script></td>\n",
       "<td><script type=\"math/tex\">-\\delta + \\epsilon_{2}</script></td>\n",
       "</tr>\n",
       "<tr class =\"row-b\">\n",
       "<td><script type=\"math/tex\">-\\delta + \\epsilon_{1}</script></td>\n",
       "<td><script type=\"math/tex\">-\\epsilon_{1} + \\epsilon_{2}</script></td>\n",
       "<td><script type=\"math/tex\">-\\epsilon_{2} - \\epsilon_{3}</script></td>\n",
       "<td><script type=\"math/tex\">-\\epsilon_{1} + \\epsilon_{3}</script></td>\n",
       "</tr>\n",
       "<tr class =\"row-a\">\n",
       "<td><script type=\"math/tex\">-\\epsilon_{1} + \\epsilon_{2}</script></td>\n",
       "<td><script type=\"math/tex\">-\\epsilon_{2} + \\epsilon_{3}</script></td>\n",
       "<td><script type=\"math/tex\">-\\delta - \\epsilon_{3}</script></td>\n",
       "</tr>\n",
       "<tr class =\"row-b\">\n",
       "<td><script type=\"math/tex\">-\\delta + \\epsilon_{1}</script></td>\n",
       "<td><script type=\"math/tex\">-\\epsilon_{1} + \\epsilon_{3}</script></td>\n",
       "<td><script type=\"math/tex\">-\\epsilon_{1} - \\epsilon_{3}</script></td>\n",
       "</tr>\n",
       "<tr class =\"row-a\">\n",
       "<td><script type=\"math/tex\">-\\delta + \\epsilon_{1}</script></td>\n",
       "<td><script type=\"math/tex\">-\\epsilon_{1} + \\epsilon_{2}</script></td>\n",
       "<td><script type=\"math/tex\">-\\epsilon_{1} - \\epsilon_{2}</script></td>\n",
       "</tr>\n",
       "<tr class =\"row-b\">\n",
       "<td><script type=\"math/tex\">-\\epsilon_{2} + \\epsilon_{3}</script></td>\n",
       "<td><script type=\"math/tex\">-\\delta + \\epsilon_{2}</script></td>\n",
       "<td><script type=\"math/tex\">-\\epsilon_{1} - \\epsilon_{3}</script></td>\n",
       "</tr>\n",
       "<tr class =\"row-a\">\n",
       "<td><script type=\"math/tex\">-\\epsilon_{2} - \\epsilon_{3}</script></td>\n",
       "<td><script type=\"math/tex\">-\\delta + \\epsilon_{2}</script></td>\n",
       "<td><script type=\"math/tex\">-\\epsilon_{1} + \\epsilon_{3}</script></td>\n",
       "</tr>\n",
       "<tr class =\"row-b\">\n",
       "<td><script type=\"math/tex\">-\\epsilon_{1} + \\epsilon_{2}</script></td>\n",
       "<td><script type=\"math/tex\">-\\epsilon_{2} - \\epsilon_{3}</script></td>\n",
       "<td><script type=\"math/tex\">-\\delta + \\epsilon_{3}</script></td>\n",
       "</tr>\n",
       "<tr class =\"row-a\">\n",
       "<td><script type=\"math/tex\">-\\epsilon_{1} + \\epsilon_{3}</script></td>\n",
       "<td><script type=\"math/tex\">-\\delta - \\epsilon_{3}</script></td>\n",
       "</tr>\n",
       "<tr class =\"row-b\">\n",
       "<td><script type=\"math/tex\">-\\delta + \\epsilon_{2}</script></td>\n",
       "<td><script type=\"math/tex\">-\\epsilon_{1} - \\epsilon_{2}</script></td>\n",
       "</tr>\n",
       "<tr class =\"row-a\">\n",
       "<td><script type=\"math/tex\">-\\epsilon_{1} + \\epsilon_{2}</script></td>\n",
       "<td><script type=\"math/tex\">-\\delta - \\epsilon_{2}</script></td>\n",
       "</tr>\n",
       "<tr class =\"row-b\">\n",
       "<td><script type=\"math/tex\">-\\epsilon_{1} - \\epsilon_{3}</script></td>\n",
       "<td><script type=\"math/tex\">-\\delta + \\epsilon_{3}</script></td>\n",
       "</tr>\n",
       "<tr class =\"row-a\">\n",
       "<td><script type=\"math/tex\">-\\delta - \\epsilon_{1}</script></td>\n",
       "</tr>\n",
       "</tbody>\n",
       "</table>\n",
       "</div>"
      ],
      "text/plain": [
       "  -delta + epsilon1\n",
       "  -delta + epsilon1\n",
       "  -epsilon1 + epsilon2\n",
       "  -delta + epsilon1\n",
       "  -epsilon1 + epsilon2\n",
       "  -delta + epsilon1\n",
       "  -delta + epsilon1\n",
       "  -epsilon2 + epsilon3\n",
       "  -epsilon2 - epsilon3\n",
       "  -epsilon1 + epsilon2\n",
       "  -epsilon1 + epsilon3\n",
       "  -delta + epsilon2\n",
       "  -epsilon1 + epsilon2\n",
       "  -epsilon1 - epsilon3\n",
       "  -delta - epsilon1"
      ]
     },
     "execution_count": 3,
     "metadata": {},
     "output_type": "execute_result"
    }
   ],
   "source": [
    "#权的正根分解\n",
    "tt = time.time()\n",
    "s,t = 1,1\n",
    "weight = L.basis[s-1] + L.basis[m+t-1];print('待讨论的权：',weight) #待讨论的权（正交基形式）\n",
    "root = L.vector2root(weight) #转单根形式\n",
    "dec = L.positive_dec(root) #正根分解（元组构成）\n",
    "negative_roots = L.negative_roots #负根\n",
    "dec_root = []\n",
    "for line in dec:\n",
    "    new = []\n",
    "    for i,element in enumerate(line):\n",
    "        if element:\n",
    "            new = new + [negative_roots[i]]*element\n",
    "    dec_root.append(tuple(new))\n",
    "dec_vector = [tuple(L.root2vector(r) for r in line) for line in dec_root]\n",
    "print('权空间维数：',len(dec)) #分解总数目\n",
    "print('用时：%.3fs'%(time.time()-tt))\n",
    "#for line in res_vectors:print(line)\n",
    "table([[i for i in line if i] for line in dec_vector]) #分解结果"
   ]
  },
  {
   "cell_type": "code",
   "execution_count": 5,
   "metadata": {
    "collapsed": true
   },
   "outputs": [
    {
     "data": {
      "text/plain": [
       "\\begin{tabular}{lllll}\n",
       "$-\\delta + \\epsilon_{1}$ & $-\\epsilon_{1} + \\epsilon_{2}$ & $-\\epsilon_{1} + \\epsilon_{2}$ & $-\\epsilon_{2} + \\epsilon_{3}$ & $-\\epsilon_{2} - \\epsilon_{3}$ \\\\\n",
       "$-\\delta + \\epsilon_{1}$ & $-\\epsilon_{1} + \\epsilon_{2}$ & $-\\epsilon_{2} + \\epsilon_{3}$ & $-\\epsilon_{1} - \\epsilon_{3}$ \\\\\n",
       "$-\\epsilon_{1} + \\epsilon_{2}$ & $-\\epsilon_{2} + \\epsilon_{3}$ & $-\\epsilon_{2} - \\epsilon_{3}$ & $-\\delta + \\epsilon_{2}$ \\\\\n",
       "$-\\delta + \\epsilon_{1}$ & $-\\epsilon_{1} + \\epsilon_{2}$ & $-\\epsilon_{2} - \\epsilon_{3}$ & $-\\epsilon_{1} + \\epsilon_{3}$ \\\\\n",
       "$-\\epsilon_{1} + \\epsilon_{2}$ & $-\\epsilon_{2} + \\epsilon_{3}$ & $-\\delta - \\epsilon_{3}$ \\\\\n",
       "$-\\delta + \\epsilon_{1}$ & $-\\epsilon_{1} + \\epsilon_{3}$ & $-\\epsilon_{1} - \\epsilon_{3}$ \\\\\n",
       "$-\\delta + \\epsilon_{1}$ & $-\\epsilon_{1} + \\epsilon_{2}$ & $-\\epsilon_{1} - \\epsilon_{2}$ \\\\\n",
       "$-\\epsilon_{2} + \\epsilon_{3}$ & $-\\delta + \\epsilon_{2}$ & $-\\epsilon_{1} - \\epsilon_{3}$ \\\\\n",
       "$-\\epsilon_{2} - \\epsilon_{3}$ & $-\\delta + \\epsilon_{2}$ & $-\\epsilon_{1} + \\epsilon_{3}$ \\\\\n",
       "$-\\epsilon_{1} + \\epsilon_{2}$ & $-\\epsilon_{2} - \\epsilon_{3}$ & $-\\delta + \\epsilon_{3}$ \\\\\n",
       "$-\\epsilon_{1} + \\epsilon_{3}$ & $-\\delta - \\epsilon_{3}$ \\\\\n",
       "$-\\delta + \\epsilon_{2}$ & $-\\epsilon_{1} - \\epsilon_{2}$ \\\\\n",
       "$-\\epsilon_{1} + \\epsilon_{2}$ & $-\\delta - \\epsilon_{2}$ \\\\\n",
       "$-\\epsilon_{1} - \\epsilon_{3}$ & $-\\delta + \\epsilon_{3}$ \\\\\n",
       "$-\\delta - \\epsilon_{1}$ \\\\\n",
       "\\end{tabular}"
      ]
     },
     "execution_count": 5,
     "metadata": {},
     "output_type": "execute_result"
    }
   ],
   "source": [
    "latex(table([[i for i in line if i] for line in dec_vector]))"
   ]
  },
  {
   "cell_type": "code",
   "execution_count": 4,
   "metadata": {},
   "outputs": [
    {
     "name": "stdout",
     "output_type": "stream",
     "text": [
      "权空间对应的pbw基：\n"
     ]
    },
    {
     "data": {
      "text/plain": [
       "[{(f1, f2^2, f3, f4): 1},\n",
       " {(f1, f2, f3, f7): 1},\n",
       " {(f2, f3, f4, f5): 1},\n",
       " {(f1, f2, f4, f6): 1},\n",
       " {(f2, f3, f9): 1},\n",
       " {(f1, f6, f7): 1},\n",
       " {(f1, f2, f10): 1},\n",
       " {(f3, f5, f7): 1},\n",
       " {(f4, f5, f6): 1},\n",
       " {(f2, f4, f8): 1},\n",
       " {(f6, f9): 1},\n",
       " {(f5, f10): 1},\n",
       " {(f2, f11): 1},\n",
       " {(f7, f8): 1},\n",
       " {(f12,): 1}]"
      ]
     },
     "execution_count": 4,
     "metadata": {},
     "output_type": "execute_result"
    }
   ],
   "source": [
    "#相应的pbw基\n",
    "basis = [tuple(fs[negative_roots.index(i)] for i in line) for line in dec_root]\n",
    "pbw_basis = [ide.tuple2element(i) for i in basis]\n",
    "print('权空间对应的pbw基：')\n",
    "for i in pbw_basis:print(i)"
   ]
  },
  {
   "cell_type": "code",
   "execution_count": 5,
   "metadata": {},
   "outputs": [
    {
     "name": "stdout",
     "output_type": "stream",
     "text": [
      "最高权： delta*(x1 + 4) + epsilon1*x1 + epsilon2*x2 + epsilon3*x3\n",
      "计算泛包络上的乘积结果，乘积总数： 60\n",
      "用时：12.010s\n",
      "\n",
      "转化为Verma模上结果，用时：3.327s\n",
      "\n",
      "矩阵的秩为 14\n",
      "矩阵阶数为 23*15  计算用时：1.168s\n"
     ]
    }
   ],
   "source": [
    "#最高权向量\n",
    "x = Lie.symbols('x',n)\n",
    "z = list(Lie.symbols('z',m))\n",
    "z[s-1] = x[t-1]+2*n-s-t\n",
    "la = sum([i*j for i,j in zip(z,L.basis[:m])]) + sum([i*j for i,j in zip(x,L.basis[m:])])\n",
    "#d_s+e_t: a_s = b_t+2n-s-t\n",
    "print('最高权：',la)\n",
    "\n",
    "#泛包络上计算结果res\n",
    "tt = time.time()\n",
    "res = [[ve[i]*element for element in pbw_basis] for i in range(1,m+n+1)]\n",
    "print(\"计算泛包络上的乘积结果，乘积总数：\",(m+n)*len(pbw_basis))\n",
    "print('用时：%.3fs\\n'%(time.time()-tt))\n",
    "\n",
    "#化简为Verma模的元素\n",
    "tt = time.time()\n",
    "res_verma = [[i.to_verma(la,L,m+n) for i in line] for line in res]\n",
    "print('转化为Verma模上结果，用时：%.3fs\\n'%(time.time()-tt))\n",
    "\n",
    "#转化为矩阵\n",
    "tt = time.time()\n",
    "data = []\n",
    "for line in res_verma:\n",
    "    mat,_ = ide.linear_rep(line)\n",
    "    data.append(mat)\n",
    "data = [mat for mat in data if mat] #去掉空项\n",
    "mat = matrix.block(len(data),1,data)\n",
    "mat_sym = Matrix(mat)\n",
    "if m<=3:\n",
    "    print('矩阵的秩为',mat_sym.rank()) #54打印时间太长了！\n",
    "    #if m==2:\n",
    "        #solution = solve_matrix(mat_sym) #sage上的运算时间太长了！\n",
    "print('矩阵阶数为 %d*%d  '%mat.dimensions(),end='')\n",
    "print('计算用时：%.3fs'%(time.time()-tt))\n",
    "#save_vari(mat_sym,'mat%d.pydata'%k) #保存数据"
   ]
  },
  {
   "cell_type": "code",
   "execution_count": 20,
   "metadata": {},
   "outputs": [
    {
     "data": {
      "text/plain": [
       "2 \\, x_{1} + 2"
      ]
     },
     "execution_count": 20,
     "metadata": {},
     "output_type": "execute_result"
    }
   ],
   "source": [
    "latex(mat[0,0])"
   ]
  },
  {
   "cell_type": "code",
   "execution_count": 23,
   "metadata": {},
   "outputs": [
    {
     "data": {
      "text/plain": [
       "(23, 15)"
      ]
     },
     "execution_count": 23,
     "metadata": {},
     "output_type": "execute_result"
    }
   ],
   "source": [
    "mat.dimensions()"
   ]
  },
  {
   "cell_type": "code",
   "execution_count": 25,
   "metadata": {
    "scrolled": true
   },
   "outputs": [],
   "source": []
  },
  {
   "cell_type": "code",
   "execution_count": null,
   "metadata": {},
   "outputs": [],
   "source": []
  },
  {
   "cell_type": "code",
   "execution_count": 12,
   "metadata": {},
   "outputs": [],
   "source": [
    "#过渡矩阵\n",
    "f = {i+1:j for i,j in enumerate(fs)}\n",
    "roots = [(3,4,2,2,1),(3,7,2,1),(4,6,2,1),(3,4,2,5),(10,2,1),(6,7,1),(3,2,9),(4,2,8),(3,7,5),(4,6,5),(10,5),(2,11),(6,9),(7,8),(12,)] #录入索引\n",
    "roots = [tuple(f[i] for i in line) for line in roots] #转字符串\n",
    "roots = [ide.tuple2element(i) for i in roots] #转pbw元素\n",
    "keys = [list(i.keys)[0] for i in pbw_basis] #键值\n",
    "mat = matrix([[root.element[key] if key in root else 0 for root in roots] for key in keys])"
   ]
  },
  {
   "cell_type": "code",
   "execution_count": 8,
   "metadata": {
    "collapsed": true
   },
   "outputs": [
    {
     "name": "stdout",
     "output_type": "stream",
     "text": [
      "[       2*x1 + 2               0               1               0               0               0               0               0               0               0               0               0               0               0               0]\n",
      "[              0        2*x1 + 2               1               0               1               0               0               1               0               0               0               0               0               0               0]\n",
      "[              0               0               1        2*x1 + 2               0               0               0               0               1               1               0               0               0               0               0]\n",
      "[              0               0               0               0               0        2*x1 + 2               0               1               1               0               1               0               0               1               0]\n",
      "[              0               0               1               0               0               0        2*x1 + 2               0               0               0               0               1               1               0               0]\n",
      "[-----------------------------------------------------------------------------------------------------------------------------------------------------------------------------------------------------------------------------------------------]\n",
      "[              0               0              -1               0               0               0               0               0               1     x1 - x2 + 1               0               0               0              -1               0]\n",
      "[              0         x1 - x2               0               0               0              -1               0               1               0               0               0               0               0               0               0]\n",
      "[2*x1 - 2*x2 + 2              -1               1              -1               0               0               0               0               0               0               0               0               0               0               0]\n",
      "[              0               0               0               0               0              -1         x1 - x2               0               0               0               0               1               0               0               0]\n",
      "[              0               0               0         x1 - x2               0              -1               0               0               1               0               0               0               0               0               0]\n",
      "[              0               0              -1               0     x1 - x2 + 1               0               0               1               0               0              -1               0               0               0               0]\n",
      "[              0               0     x1 - x2 + 2               0               0               0               0              -1              -1               0               0               0               0               0               0]\n",
      "[              0               0              -1               0               0               0               0               0               0               0               0               0     x1 - x2 + 1               0              -1]\n",
      "[-----------------------------------------------------------------------------------------------------------------------------------------------------------------------------------------------------------------------------------------------]\n",
      "[              0               0     x2 - x3 + 1               0               0               0               0               0               1               1               0               0               0               0               0]\n",
      "[              0     x2 - x3 + 1               0               1               0               1              -1               0               0               0               0               0               0               0               0]\n",
      "[              0               0               0               0     x2 - x3 + 1               0               0               0               0               0               1               0              -1               0               0]\n",
      "[              0               0               0               0               0               0               0     x2 - x3 + 2               1               0               0              -1               0               1               0]\n",
      "[        x2 - x3               0               0               1               0               0               0               0               0               0               0               0               0               0               0]\n",
      "[-----------------------------------------------------------------------------------------------------------------------------------------------------------------------------------------------------------------------------------------------]\n",
      "[              0               0     x2 + x3 + 1               0               1               0               0               1               0               0               0               0               0               0               0]\n",
      "[              0               0               0               0               0               0               0               1     x2 + x3 + 2               0               1              -1               0               0               0]\n",
      "[              0               0               0               0               0               0               0               0               0     x2 + x3 + 1               0               0              -1               1               0]\n",
      "[              0               1               0     x2 + x3 + 1               0               1              -1               0               0               0               0               0               0               0               0]\n",
      "[        x2 + x3               1               0               0               0               0               0               0               0               0               0               0               0               0               0]\n"
     ]
    }
   ],
   "source": [
    "print(mat)"
   ]
  },
  {
   "cell_type": "code",
   "execution_count": 14,
   "metadata": {},
   "outputs": [],
   "source": [
    "Lie.symbols('x',3)\n",
    "#res = [1, - x2 - x3, - 2*x1 - 2, x3 - x2, 5*x1 + x2 + 2*x3 + x1*x2 + x1*x3 + x2*x3 + x1^2 + 4, - x1^2 - 3*x1 + x2^2 + x2 - 2, - x1^2 - 3*x1 + x3^2 - x2 - 2, x2 - 3*x1 + x1*x2 + x1*x3 - x2*x3 - x1^2 - 2, x2 - 3*x1 + x1*x2 - x1*x3 + x2*x3 - x1^2 - 2, 5*x1 + x2 - 2*x3 + x1*x2 - x1*x3 - x2*x3 + x1^2 + 4, 8*x1 - 2*x2 + 2*x3 - 2*x1*x2 + 4*x1*x3 - 2*x2*x3 - x1*x2^2 + x1^2*x3 - x2^2*x3 + 5*x1^2 + x1^3 - x2^2 + 4, x2*x3^2 - x2 - 2*x1*x2 - x1^2*x2 - x1*x3^2 - x1 + 2*x1^2 + x1^3 - 2, 13*x1 + 3*x2 + 4*x1*x2 + x1^2*x2 - x1*x3^2 - x2*x3^2 + 6*x1^2 + x1^3 - 2*x3^2 + 8, 8*x1 - 2*x2 - 2*x3 - 2*x1*x2 - 4*x1*x3 + 2*x2*x3 - x1*x2^2 - x1^2*x3 + x2^2*x3 + 5*x1^2 + x1^3 - x2^2 + 4, x1^4 + 7*x1^3 - x1^2*x2^2 - x1^2*x2 - x1^2*x3^2 + 19*x1^2 - 4*x1*x2^2 - 6*x1*x2 - 3*x1*x3^2 + 23*x1 + x2^2*x3^2 - 3*x2^2 + x2*x3^2 - 5*x2 - 2*x3^2 + 10]\n",
    "res = matrix(res).T\n",
    "res2 = mat.inverse()*res\n",
    "res2 = [(i+1,factor(j)) for i,j in enumerate(res2.column(0))]\n",
    "res = [(i+1,factor(j)) for i,j in enumerate(res.column(0))]"
   ]
  },
  {
   "cell_type": "code",
   "execution_count": 15,
   "metadata": {
    "collapsed": true
   },
   "outputs": [
    {
     "data": {
      "text/html": [
       "<div class=\"notruncate\">\n",
       "<table  class=\"table_form\">\n",
       "<tbody>\n",
       "<tr class =\"row-a\">\n",
       "<td><script type=\"math/tex\">1</script></td>\n",
       "<td><script type=\"math/tex\">1</script></td>\n",
       "</tr>\n",
       "<tr class =\"row-b\">\n",
       "<td><script type=\"math/tex\">2</script></td>\n",
       "<td><script type=\"math/tex\">-x_{2} - x_{3}</script></td>\n",
       "</tr>\n",
       "<tr class =\"row-a\">\n",
       "<td><script type=\"math/tex\">3</script></td>\n",
       "<td><script type=\"math/tex\">-2 \\, x_{1} - 2</script></td>\n",
       "</tr>\n",
       "<tr class =\"row-b\">\n",
       "<td><script type=\"math/tex\">4</script></td>\n",
       "<td><script type=\"math/tex\">-x_{2} + x_{3}</script></td>\n",
       "</tr>\n",
       "<tr class =\"row-a\">\n",
       "<td><script type=\"math/tex\">5</script></td>\n",
       "<td><script type=\"math/tex\">x_{1}^{2} + x_{1} x_{2} + x_{1} x_{3} + x_{2} x_{3} + 5 \\, x_{1} + x_{2} + 2 \\, x_{3} + 4</script></td>\n",
       "</tr>\n",
       "<tr class =\"row-b\">\n",
       "<td><script type=\"math/tex\">6</script></td>\n",
       "<td><script type=\"math/tex\">-{\\left(x_{1} + x_{2} + 2\\right)} {\\left(x_{1} - x_{2} + 1\\right)}</script></td>\n",
       "</tr>\n",
       "<tr class =\"row-a\">\n",
       "<td><script type=\"math/tex\">7</script></td>\n",
       "<td><script type=\"math/tex\">-x_{1}^{2} + x_{3}^{2} - 3 \\, x_{1} - x_{2} - 2</script></td>\n",
       "</tr>\n",
       "<tr class =\"row-b\">\n",
       "<td><script type=\"math/tex\">8</script></td>\n",
       "<td><script type=\"math/tex\">-x_{1}^{2} + x_{1} x_{2} + x_{1} x_{3} - x_{2} x_{3} - 3 \\, x_{1} + x_{2} - 2</script></td>\n",
       "</tr>\n",
       "<tr class =\"row-a\">\n",
       "<td><script type=\"math/tex\">9</script></td>\n",
       "<td><script type=\"math/tex\">-x_{1}^{2} + x_{1} x_{2} - x_{1} x_{3} + x_{2} x_{3} - 3 \\, x_{1} + x_{2} - 2</script></td>\n",
       "</tr>\n",
       "<tr class =\"row-b\">\n",
       "<td><script type=\"math/tex\">10</script></td>\n",
       "<td><script type=\"math/tex\">x_{1}^{2} + x_{1} x_{2} - x_{1} x_{3} - x_{2} x_{3} + 5 \\, x_{1} + x_{2} - 2 \\, x_{3} + 4</script></td>\n",
       "</tr>\n",
       "<tr class =\"row-a\">\n",
       "<td><script type=\"math/tex\">11</script></td>\n",
       "<td><script type=\"math/tex\">x_{1}^{3} - x_{1} x_{2}^{2} + x_{1}^{2} x_{3} - x_{2}^{2} x_{3} + 5 \\, x_{1}^{2} - 2 \\, x_{1} x_{2} - x_{2}^{2} + 4 \\, x_{1} x_{3} - 2 \\, x_{2} x_{3} + 8 \\, x_{1} - 2 \\, x_{2} + 2 \\, x_{3} + 4</script></td>\n",
       "</tr>\n",
       "<tr class =\"row-b\">\n",
       "<td><script type=\"math/tex\">12</script></td>\n",
       "<td><script type=\"math/tex\">x_{1}^{3} - x_{1}^{2} x_{2} - x_{1} x_{3}^{2} + x_{2} x_{3}^{2} + 2 \\, x_{1}^{2} - 2 \\, x_{1} x_{2} - x_{1} - x_{2} - 2</script></td>\n",
       "</tr>\n",
       "<tr class =\"row-a\">\n",
       "<td><script type=\"math/tex\">13</script></td>\n",
       "<td><script type=\"math/tex\">x_{1}^{3} + x_{1}^{2} x_{2} - x_{1} x_{3}^{2} - x_{2} x_{3}^{2} + 6 \\, x_{1}^{2} + 4 \\, x_{1} x_{2} - 2 \\, x_{3}^{2} + 13 \\, x_{1} + 3 \\, x_{2} + 8</script></td>\n",
       "</tr>\n",
       "<tr class =\"row-b\">\n",
       "<td><script type=\"math/tex\">14</script></td>\n",
       "<td><script type=\"math/tex\">x_{1}^{3} - x_{1} x_{2}^{2} - x_{1}^{2} x_{3} + x_{2}^{2} x_{3} + 5 \\, x_{1}^{2} - 2 \\, x_{1} x_{2} - x_{2}^{2} - 4 \\, x_{1} x_{3} + 2 \\, x_{2} x_{3} + 8 \\, x_{1} - 2 \\, x_{2} - 2 \\, x_{3} + 4</script></td>\n",
       "</tr>\n",
       "<tr class =\"row-a\">\n",
       "<td><script type=\"math/tex\">15</script></td>\n",
       "<td><script type=\"math/tex\">x_{1}^{4} - x_{1}^{2} x_{2}^{2} - x_{1}^{2} x_{3}^{2} + x_{2}^{2} x_{3}^{2} + 7 \\, x_{1}^{3} - x_{1}^{2} x_{2} - 4 \\, x_{1} x_{2}^{2} - 3 \\, x_{1} x_{3}^{2} + x_{2} x_{3}^{2} + 19 \\, x_{1}^{2} - 6 \\, x_{1} x_{2} - 3 \\, x_{2}^{2} - 2 \\, x_{3}^{2} + 23 \\, x_{1} - 5 \\, x_{2} + 10</script></td>\n",
       "</tr>\n",
       "</tbody>\n",
       "</table>\n",
       "</div>"
      ],
      "text/plain": [
       "  1    1\n",
       "  2    -x2 - x3\n",
       "  3    -2*x1 - 2\n",
       "  4    -x2 + x3\n",
       "  5    x1^2 + x1*x2 + x1*x3 + x2*x3 + 5*x1 + x2 + 2*x3 + 4\n",
       "  6    -(x1 + x2 + 2)*(x1 - x2 + 1)\n",
       "  7    -x1^2 + x3^2 - 3*x1 - x2 - 2\n",
       "  8    -x1^2 + x1*x2 + x1*x3 - x2*x3 - 3*x1 + x2 - 2\n",
       "  9    -x1^2 + x1*x2 - x1*x3 + x2*x3 - 3*x1 + x2 - 2\n",
       "  10   x1^2 + x1*x2 - x1*x3 - x2*x3 + 5*x1 + x2 - 2*x3 + 4\n",
       "  11   x1^3 - x1*x2^2 + x1^2*x3 - x2^2*x3 + 5*x1^2 - 2*x1*x2 - x2^2 + 4*x1*x3 - 2*x2*x3 + 8*x1 - 2*x2 + 2*x3 + 4\n",
       "  12   x1^3 - x1^2*x2 - x1*x3^2 + x2*x3^2 + 2*x1^2 - 2*x1*x2 - x1 - x2 - 2\n",
       "  13   x1^3 + x1^2*x2 - x1*x3^2 - x2*x3^2 + 6*x1^2 + 4*x1*x2 - 2*x3^2 + 13*x1 + 3*x2 + 8\n",
       "  14   x1^3 - x1*x2^2 - x1^2*x3 + x2^2*x3 + 5*x1^2 - 2*x1*x2 - x2^2 - 4*x1*x3 + 2*x2*x3 + 8*x1 - 2*x2 - 2*x3 + 4\n",
       "  15   x1^4 - x1^2*x2^2 - x1^2*x3^2 + x2^2*x3^2 + 7*x1^3 - x1^2*x2 - 4*x1*x2^2 - 3*x1*x3^2 + x2*x3^2 + 19*x1^2 - 6*x1*x2 - 3*x2^2 - 2*x3^2 + 23*x1 - 5*x2 + 10"
      ]
     },
     "execution_count": 15,
     "metadata": {},
     "output_type": "execute_result"
    }
   ],
   "source": [
    "table(res)"
   ]
  },
  {
   "cell_type": "code",
   "execution_count": 16,
   "metadata": {
    "collapsed": true
   },
   "outputs": [
    {
     "data": {
      "text/html": [
       "<div class=\"notruncate\">\n",
       "<table  class=\"table_form\">\n",
       "<tbody>\n",
       "<tr class =\"row-a\">\n",
       "<td><script type=\"math/tex\">1</script></td>\n",
       "<td><script type=\"math/tex\">1</script></td>\n",
       "</tr>\n",
       "<tr class =\"row-b\">\n",
       "<td><script type=\"math/tex\">2</script></td>\n",
       "<td><script type=\"math/tex\">-x_{2} - x_{3} - 2</script></td>\n",
       "</tr>\n",
       "<tr class =\"row-a\">\n",
       "<td><script type=\"math/tex\">3</script></td>\n",
       "<td><script type=\"math/tex\">-x_{2} + x_{3} - 2</script></td>\n",
       "</tr>\n",
       "<tr class =\"row-b\">\n",
       "<td><script type=\"math/tex\">4</script></td>\n",
       "<td><script type=\"math/tex\">-2 \\, x_{1} - 4</script></td>\n",
       "</tr>\n",
       "<tr class =\"row-a\">\n",
       "<td><script type=\"math/tex\">5</script></td>\n",
       "<td><script type=\"math/tex\">-x_{1}^{2} + x_{3}^{2} - 3 \\, x_{1} - x_{2} - 4</script></td>\n",
       "</tr>\n",
       "<tr class =\"row-b\">\n",
       "<td><script type=\"math/tex\">6</script></td>\n",
       "<td><script type=\"math/tex\">-{\\left(x_{1} + x_{2} + 3\\right)} {\\left(x_{1} - x_{2}\\right)}</script></td>\n",
       "</tr>\n",
       "<tr class =\"row-a\">\n",
       "<td><script type=\"math/tex\">7</script></td>\n",
       "<td><script type=\"math/tex\">{\\left(x_{1} + x_{2} + 3\\right)} {\\left(x_{1} + x_{3} + 2\\right)}</script></td>\n",
       "</tr>\n",
       "<tr class =\"row-b\">\n",
       "<td><script type=\"math/tex\">8</script></td>\n",
       "<td><script type=\"math/tex\">{\\left(x_{1} + x_{2} + 3\\right)} {\\left(x_{1} - x_{3} + 2\\right)}</script></td>\n",
       "</tr>\n",
       "<tr class =\"row-a\">\n",
       "<td><script type=\"math/tex\">9</script></td>\n",
       "<td><script type=\"math/tex\">-x_{1}^{2} + x_{1} x_{2} + x_{1} x_{3} - x_{2} x_{3} - x_{1} + 2 \\, x_{2} + x_{3} + 2</script></td>\n",
       "</tr>\n",
       "<tr class =\"row-b\">\n",
       "<td><script type=\"math/tex\">10</script></td>\n",
       "<td><script type=\"math/tex\">-x_{1}^{2} + x_{1} x_{2} - x_{1} x_{3} + x_{2} x_{3} - x_{1} + 2 \\, x_{2} - x_{3} + 2</script></td>\n",
       "</tr>\n",
       "<tr class =\"row-a\">\n",
       "<td><script type=\"math/tex\">11</script></td>\n",
       "<td><script type=\"math/tex\">x_{1}^{3} - x_{1}^{2} x_{2} - x_{1} x_{3}^{2} + x_{2} x_{3}^{2} + 3 \\, x_{1}^{2} - 2 \\, x_{1} x_{2} - x_{3}^{2} + 4 \\, x_{1} + 4</script></td>\n",
       "</tr>\n",
       "<tr class =\"row-b\">\n",
       "<td><script type=\"math/tex\">12</script></td>\n",
       "<td><script type=\"math/tex\">{\\left(x_{1} + x_{2} + 3\\right)} {\\left(x_{1} + x_{3} + 2\\right)} {\\left(x_{1} - x_{3} + 2\\right)}</script></td>\n",
       "</tr>\n",
       "<tr class =\"row-a\">\n",
       "<td><script type=\"math/tex\">13</script></td>\n",
       "<td><script type=\"math/tex\">{\\left(x_{1} + x_{2} + 3\\right)} {\\left(x_{1} - x_{2}\\right)} {\\left(x_{1} + x_{3} + 2\\right)}</script></td>\n",
       "</tr>\n",
       "<tr class =\"row-b\">\n",
       "<td><script type=\"math/tex\">14</script></td>\n",
       "<td><script type=\"math/tex\">{\\left(x_{1} + x_{2} + 3\\right)} {\\left(x_{1} - x_{2}\\right)} {\\left(x_{1} - x_{3} + 2\\right)}</script></td>\n",
       "</tr>\n",
       "<tr class =\"row-a\">\n",
       "<td><script type=\"math/tex\">15</script></td>\n",
       "<td><script type=\"math/tex\">{\\left(x_{1} + x_{2} + 3\\right)} {\\left(x_{1} - x_{2} + 1\\right)} {\\left(x_{1} + x_{3} + 2\\right)} {\\left(x_{1} - x_{3} + 2\\right)}</script></td>\n",
       "</tr>\n",
       "</tbody>\n",
       "</table>\n",
       "</div>"
      ],
      "text/plain": [
       "  1    1\n",
       "  2    -x2 - x3 - 2\n",
       "  3    -x2 + x3 - 2\n",
       "  4    -2*x1 - 4\n",
       "  5    -x1^2 + x3^2 - 3*x1 - x2 - 4\n",
       "  6    -(x1 + x2 + 3)*(x1 - x2)\n",
       "  7    (x1 + x2 + 3)*(x1 + x3 + 2)\n",
       "  8    (x1 + x2 + 3)*(x1 - x3 + 2)\n",
       "  9    -x1^2 + x1*x2 + x1*x3 - x2*x3 - x1 + 2*x2 + x3 + 2\n",
       "  10   -x1^2 + x1*x2 - x1*x3 + x2*x3 - x1 + 2*x2 - x3 + 2\n",
       "  11   x1^3 - x1^2*x2 - x1*x3^2 + x2*x3^2 + 3*x1^2 - 2*x1*x2 - x3^2 + 4*x1 + 4\n",
       "  12   (x1 + x2 + 3)*(x1 + x3 + 2)*(x1 - x3 + 2)\n",
       "  13   (x1 + x2 + 3)*(x1 - x2)*(x1 + x3 + 2)\n",
       "  14   (x1 + x2 + 3)*(x1 - x2)*(x1 - x3 + 2)\n",
       "  15   (x1 + x2 + 3)*(x1 - x2 + 1)*(x1 + x3 + 2)*(x1 - x3 + 2)"
      ]
     },
     "execution_count": 16,
     "metadata": {},
     "output_type": "execute_result"
    }
   ],
   "source": [
    "table(res2)"
   ]
  },
  {
   "cell_type": "code",
   "execution_count": null,
   "metadata": {},
   "outputs": [],
   "source": []
  },
  {
   "cell_type": "code",
   "execution_count": 6,
   "metadata": {
    "collapsed": true
   },
   "outputs": [
    {
     "name": "stdout",
     "output_type": "stream",
     "text": [
      "14\n",
      "14\n",
      "14\n",
      "14\n",
      "14\n",
      "14\n",
      "14\n",
      "14\n",
      "14\n",
      "14\n",
      "14\n",
      "14\n",
      "14\n",
      "14\n",
      "14\n"
     ]
    }
   ],
   "source": [
    "for i in range(15):\n",
    "    a = Matrix([mat_sym.col(j).transpose() for j in range(15) if j!=i])\n",
    "    print(a.rank())"
   ]
  },
  {
   "cell_type": "code",
   "execution_count": null,
   "metadata": {},
   "outputs": [],
   "source": []
  },
  {
   "cell_type": "code",
   "execution_count": 1,
   "metadata": {},
   "outputs": [
    {
     "data": {
      "text/plain": [
       "1129"
      ]
     },
     "execution_count": 1,
     "metadata": {},
     "output_type": "execute_result"
    }
   ],
   "source": [
    "185+262+50+184+184+50+81+133"
   ]
  },
  {
   "cell_type": "code",
   "execution_count": null,
   "metadata": {},
   "outputs": [],
   "source": [
    "'''计算时间\n",
    "2阶：1秒左右 5*4\n",
    "3阶：14秒左右 23*15\n",
    "4阶：134秒左右 106*55\n",
    "5阶：1116秒左右 462*200\n",
    "''';"
   ]
  },
  {
   "cell_type": "code",
   "execution_count": null,
   "metadata": {},
   "outputs": [],
   "source": [
    "#matlab矩阵命令\n",
    "print(symmat_to_matlab(mat_sym,n))"
   ]
  },
  {
   "cell_type": "code",
   "execution_count": null,
   "metadata": {},
   "outputs": [],
   "source": [
    "#matlab解方程组的命令\n",
    "print(symmat_to_command(mat_sym,n))"
   ]
  },
  {
   "cell_type": "code",
   "execution_count": null,
   "metadata": {},
   "outputs": [],
   "source": [
    "#matlab解信息的命令\n",
    "print(read_solution(len(dec)-1))"
   ]
  },
  {
   "cell_type": "code",
   "execution_count": null,
   "metadata": {},
   "outputs": [],
   "source": []
  },
  {
   "cell_type": "code",
   "execution_count": null,
   "metadata": {},
   "outputs": [],
   "source": []
  },
  {
   "cell_type": "code",
   "execution_count": null,
   "metadata": {},
   "outputs": [],
   "source": []
  },
  {
   "cell_type": "code",
   "execution_count": null,
   "metadata": {},
   "outputs": [],
   "source": []
  }
 ],
 "metadata": {
  "kernelspec": {
   "display_name": "SageMath 9.0",
   "language": "sage",
   "name": "sagemath"
  },
  "language_info": {
   "codemirror_mode": {
    "name": "ipython",
    "version": 3
   },
   "file_extension": ".py",
   "mimetype": "text/x-python",
   "name": "python",
   "nbconvert_exporter": "python",
   "pygments_lexer": "ipython3",
   "version": "3.7.3"
  }
 },
 "nbformat": 4,
 "nbformat_minor": 2
}

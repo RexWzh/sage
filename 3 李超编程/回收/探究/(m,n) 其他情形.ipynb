{
 "cells": [
  {
   "cell_type": "code",
   "execution_count": 1,
   "metadata": {
    "scrolled": true
   },
   "outputs": [
    {
     "name": "stdout",
     "output_type": "stream",
     "text": [
      "导入相关工具包：\n",
      "1. Lie.sage：李代数工具，以及C,D族李代数\n",
      "2. spo.sage：李超代数工具，以及spo\n",
      "3. MatSp.sage：矩阵空间，求矩阵关于矩阵基的线性表示\n",
      "4. AlgebraBSC：求李/李超代数的结构常数，以及由结构常数生成代数\n",
      "5. pbw.sage/pbws.sage 李/李超代数的pbw基\n",
      "6. rex.py 解方程工具\n"
     ]
    }
   ],
   "source": [
    "import sympy,time\n",
    "from sympy.matrices import Matrix #最后处理矩阵用\n",
    "#导入工具包\n",
    "load('pkg/Lie.sage') #李代数相关的工具\n",
    "load('pkg/spo.sage') #李超代数spo的工具\n",
    "load('pkg/MatSp.sage') #处理矩阵的工具\n",
    "load('pkg/AlgebraBSC.sage') #结构常数相关工具\n",
    "load('pkg/pbw.sage') #李代数pbw基的工具\n",
    "load('pkg/pbws.sage') #李超代数pbw基的工具\n",
    "load('pkg/rex.py') #解方程等相关工具\n",
    "print('''导入相关工具包：\n",
    "1. Lie.sage：李代数工具，以及C,D族李代数\n",
    "2. spo.sage：李超代数工具，以及spo\n",
    "3. MatSp.sage：矩阵空间，求矩阵关于矩阵基的线性表示\n",
    "4. AlgebraBSC：求李/李超代数的结构常数，以及由结构常数生成代数\n",
    "5. pbw.sage/pbws.sage 李/李超代数的pbw基\n",
    "6. rex.py 解方程工具''')"
   ]
  },
  {
   "cell_type": "code",
   "execution_count": 2,
   "metadata": {},
   "outputs": [
    {
     "name": "stdout",
     "output_type": "stream",
     "text": [
      "李超代数：spo(2,6)\n",
      "空间维数为：30\n",
      "正根数目为：13\n",
      "计算结构常数\n",
      "计算李超代数泛包络的pbw基\n",
      "初始化完毕，用时 7.821s\n"
     ]
    }
   ],
   "source": [
    "#V初始化数据\n",
    "tt = time.time()\n",
    "m,n = 1,3\n",
    "L = SpO(m,n) #李超代数spo(2m|2n)\n",
    "mats = L.negative_matrixs + L.h_matrixs + L.positive_matrixs #矩阵信息\n",
    "pos_m = len(L.positive_roots)\n",
    "print('李超代数：spo(%d,%d)\\n空间维数为：%d\\n正根数目为：%d'%(2*m,2*n,len(mats),pos_m))\n",
    "es = Lie.symbols('e',pos_m)\n",
    "fs = Lie.symbols('f',pos_m)\n",
    "hs = Lie.symbols('h',m+n) \n",
    "syms = fs + hs +es #用作结构常数的符号变量\n",
    "#奇根对应的符号变量\n",
    "roots = L.positive_roots \n",
    "ind1 = [roots.index(r) for r in L.odd_roots if r in roots]\n",
    "roots = L.simple_roots\n",
    "ind2 = [roots.index(r) for r in L.odd_roots if r in roots]\n",
    "odds = [fs[i] for i in ind1] + [hs[i] for i in ind2] + [es[i] for i in ind1] \n",
    "\n",
    "#计算结构常数\n",
    "print('计算结构常数')\n",
    "N = AlgebraBSC.lie_sup_SC(mats,L.odd_mats)\n",
    "'''\n",
    "Lf = {i+1:Element(element,N,syms) for i,element in enumerate(fs)}\n",
    "Le = {i+1:Element(element,N,syms) for i,element in enumerate(es)}\n",
    "Lh = {i+1:Element(element,N,syms) for i,element in enumerate(hs)}\n",
    "#'''\n",
    "#pbw基\n",
    "print('计算李超代数泛包络的pbw基')\n",
    "vf = {i+1:SPBWElement(element,N,syms,odds) for i,element in enumerate(fs)}\n",
    "ve = {i+1:SPBWElement(element,N,syms,odds) for i,element in enumerate(es)}\n",
    "vh = {i+1:SPBWElement(element,N,syms,odds) for i,element in enumerate(hs)}\n",
    "ide = SPBWElement({tuple():1},N,syms,odds) #幺元\n",
    "vectors = L.vectors\n",
    "print('初始化完毕，用时 %.3fs'%(time.time()-tt))"
   ]
  },
  {
   "cell_type": "code",
   "execution_count": 3,
   "metadata": {},
   "outputs": [
    {
     "name": "stdout",
     "output_type": "stream",
     "text": [
      "待讨论的权： delta + epsilon1\n",
      "权空间维数： 15\n",
      "用时：0.692s\n"
     ]
    },
    {
     "data": {
      "text/html": [
       "<div class=\"notruncate\">\n",
       "<table  class=\"table_form\">\n",
       "<tbody>\n",
       "<tr class =\"row-a\">\n",
       "<td><script type=\"math/tex\">-\\delta + \\epsilon_{1}</script></td>\n",
       "<td><script type=\"math/tex\">-\\epsilon_{1} + \\epsilon_{2}</script></td>\n",
       "<td><script type=\"math/tex\">-\\epsilon_{1} + \\epsilon_{2}</script></td>\n",
       "<td><script type=\"math/tex\">-\\epsilon_{2} + \\epsilon_{3}</script></td>\n",
       "<td><script type=\"math/tex\">-\\epsilon_{2} - \\epsilon_{3}</script></td>\n",
       "</tr>\n",
       "<tr class =\"row-b\">\n",
       "<td><script type=\"math/tex\">-\\delta + \\epsilon_{1}</script></td>\n",
       "<td><script type=\"math/tex\">-\\epsilon_{1} + \\epsilon_{2}</script></td>\n",
       "<td><script type=\"math/tex\">-\\epsilon_{2} + \\epsilon_{3}</script></td>\n",
       "<td><script type=\"math/tex\">-\\epsilon_{1} - \\epsilon_{3}</script></td>\n",
       "</tr>\n",
       "<tr class =\"row-a\">\n",
       "<td><script type=\"math/tex\">-\\epsilon_{1} + \\epsilon_{2}</script></td>\n",
       "<td><script type=\"math/tex\">-\\epsilon_{2} + \\epsilon_{3}</script></td>\n",
       "<td><script type=\"math/tex\">-\\epsilon_{2} - \\epsilon_{3}</script></td>\n",
       "<td><script type=\"math/tex\">-\\delta + \\epsilon_{2}</script></td>\n",
       "</tr>\n",
       "<tr class =\"row-b\">\n",
       "<td><script type=\"math/tex\">-\\delta + \\epsilon_{1}</script></td>\n",
       "<td><script type=\"math/tex\">-\\epsilon_{1} + \\epsilon_{2}</script></td>\n",
       "<td><script type=\"math/tex\">-\\epsilon_{2} - \\epsilon_{3}</script></td>\n",
       "<td><script type=\"math/tex\">-\\epsilon_{1} + \\epsilon_{3}</script></td>\n",
       "</tr>\n",
       "<tr class =\"row-a\">\n",
       "<td><script type=\"math/tex\">-\\epsilon_{1} + \\epsilon_{2}</script></td>\n",
       "<td><script type=\"math/tex\">-\\epsilon_{2} + \\epsilon_{3}</script></td>\n",
       "<td><script type=\"math/tex\">-\\delta - \\epsilon_{3}</script></td>\n",
       "</tr>\n",
       "<tr class =\"row-b\">\n",
       "<td><script type=\"math/tex\">-\\delta + \\epsilon_{1}</script></td>\n",
       "<td><script type=\"math/tex\">-\\epsilon_{1} + \\epsilon_{3}</script></td>\n",
       "<td><script type=\"math/tex\">-\\epsilon_{1} - \\epsilon_{3}</script></td>\n",
       "</tr>\n",
       "<tr class =\"row-a\">\n",
       "<td><script type=\"math/tex\">-\\delta + \\epsilon_{1}</script></td>\n",
       "<td><script type=\"math/tex\">-\\epsilon_{1} + \\epsilon_{2}</script></td>\n",
       "<td><script type=\"math/tex\">-\\epsilon_{1} - \\epsilon_{2}</script></td>\n",
       "</tr>\n",
       "<tr class =\"row-b\">\n",
       "<td><script type=\"math/tex\">-\\epsilon_{2} + \\epsilon_{3}</script></td>\n",
       "<td><script type=\"math/tex\">-\\delta + \\epsilon_{2}</script></td>\n",
       "<td><script type=\"math/tex\">-\\epsilon_{1} - \\epsilon_{3}</script></td>\n",
       "</tr>\n",
       "<tr class =\"row-a\">\n",
       "<td><script type=\"math/tex\">-\\epsilon_{2} - \\epsilon_{3}</script></td>\n",
       "<td><script type=\"math/tex\">-\\delta + \\epsilon_{2}</script></td>\n",
       "<td><script type=\"math/tex\">-\\epsilon_{1} + \\epsilon_{3}</script></td>\n",
       "</tr>\n",
       "<tr class =\"row-b\">\n",
       "<td><script type=\"math/tex\">-\\epsilon_{1} + \\epsilon_{2}</script></td>\n",
       "<td><script type=\"math/tex\">-\\epsilon_{2} - \\epsilon_{3}</script></td>\n",
       "<td><script type=\"math/tex\">-\\delta + \\epsilon_{3}</script></td>\n",
       "</tr>\n",
       "<tr class =\"row-a\">\n",
       "<td><script type=\"math/tex\">-\\epsilon_{1} + \\epsilon_{3}</script></td>\n",
       "<td><script type=\"math/tex\">-\\delta - \\epsilon_{3}</script></td>\n",
       "</tr>\n",
       "<tr class =\"row-b\">\n",
       "<td><script type=\"math/tex\">-\\delta + \\epsilon_{2}</script></td>\n",
       "<td><script type=\"math/tex\">-\\epsilon_{1} - \\epsilon_{2}</script></td>\n",
       "</tr>\n",
       "<tr class =\"row-a\">\n",
       "<td><script type=\"math/tex\">-\\epsilon_{1} + \\epsilon_{2}</script></td>\n",
       "<td><script type=\"math/tex\">-\\delta - \\epsilon_{2}</script></td>\n",
       "</tr>\n",
       "<tr class =\"row-b\">\n",
       "<td><script type=\"math/tex\">-\\epsilon_{1} - \\epsilon_{3}</script></td>\n",
       "<td><script type=\"math/tex\">-\\delta + \\epsilon_{3}</script></td>\n",
       "</tr>\n",
       "<tr class =\"row-a\">\n",
       "<td><script type=\"math/tex\">-\\delta - \\epsilon_{1}</script></td>\n",
       "</tr>\n",
       "</tbody>\n",
       "</table>\n",
       "</div>"
      ],
      "text/plain": [
       "  -delta + epsilon1\n",
       "  -delta + epsilon1\n",
       "  -epsilon1 + epsilon2\n",
       "  -delta + epsilon1\n",
       "  -epsilon1 + epsilon2\n",
       "  -delta + epsilon1\n",
       "  -delta + epsilon1\n",
       "  -epsilon2 + epsilon3\n",
       "  -epsilon2 - epsilon3\n",
       "  -epsilon1 + epsilon2\n",
       "  -epsilon1 + epsilon3\n",
       "  -delta + epsilon2\n",
       "  -epsilon1 + epsilon2\n",
       "  -epsilon1 - epsilon3\n",
       "  -delta - epsilon1"
      ]
     },
     "execution_count": 3,
     "metadata": {},
     "output_type": "execute_result"
    }
   ],
   "source": [
    "#权的正根分解\n",
    "tt = time.time()\n",
    "s,t = 1,1\n",
    "weight = L.basis[s-1] + L.basis[m+t-1];print('待讨论的权：',weight) #待讨论的权（正交基形式）\n",
    "root = L.vector2root(weight) #转单根形式\n",
    "dec = L.positive_dec(root) #正根分解（元组构成）\n",
    "negative_roots = L.negative_roots #负根\n",
    "dec_root = []\n",
    "for line in dec:\n",
    "    new = []\n",
    "    for i,element in enumerate(line):\n",
    "        if element:\n",
    "            new = new + [negative_roots[i]]*element\n",
    "    dec_root.append(tuple(new))\n",
    "dec_vector = [tuple(L.root2vector(r) for r in line) for line in dec_root]\n",
    "print('权空间维数：',len(dec)) #分解总数目\n",
    "print('用时：%.3fs'%(time.time()-tt))\n",
    "#for line in res_vectors:print(line)\n",
    "table([[i for i in line if i] for line in dec_vector]) #分解结果"
   ]
  },
  {
   "cell_type": "code",
   "execution_count": 4,
   "metadata": {},
   "outputs": [
    {
     "name": "stdout",
     "output_type": "stream",
     "text": [
      "权空间对应的pbw基：\n"
     ]
    },
    {
     "data": {
      "text/plain": [
       "[{(f1, f2, f3): 1}, {(f2, f5): 1}, {(f3, f4): 1}, {(f6,): 1}]"
      ]
     },
     "execution_count": 4,
     "metadata": {},
     "output_type": "execute_result"
    }
   ],
   "source": [
    "#相应的pbw基\n",
    "basis = [tuple(fs[negative_roots.index(i)] for i in line) for line in dec_root]\n",
    "pbw_basis = [ide.tuple2element(i) for i in basis]\n",
    "print('权空间对应的pbw基：')\n",
    "pbw_basis"
   ]
  },
  {
   "cell_type": "code",
   "execution_count": 5,
   "metadata": {},
   "outputs": [
    {
     "name": "stdout",
     "output_type": "stream",
     "text": [
      "最高权： delta*(x1 + 2) + epsilon1*x1 + epsilon2*x2\n",
      "计算泛包络上的乘积结果，乘积总数： 12\n",
      "用时：0.732s\n",
      "\n",
      "转化为Verma模上结果，用时：0.412s\n",
      "\n",
      "矩阵的秩为 3\n",
      "矩阵阶数为 5*4  计算用时：0.010s\n"
     ]
    }
   ],
   "source": [
    "#最高权向量\n",
    "x = Lie.symbols('x',n)\n",
    "z = list(Lie.symbols('z',m))\n",
    "z[s-1] = x[t-1]+2*n-s-t\n",
    "la = sum([i*j for i,j in zip(z,L.basis[:m])]) + sum([i*j for i,j in zip(x,L.basis[m:])])\n",
    "#d_s+e_t: a_s = b_t+2n-s-t\n",
    "print('最高权：',la)\n",
    "\n",
    "#泛包络上计算结果res\n",
    "tt = time.time()\n",
    "res = [[ve[i]*element for element in pbw_basis] for i in range(1,m+n+1)]\n",
    "print(\"计算泛包络上的乘积结果，乘积总数：\",(m+n)*len(pbw_basis))\n",
    "print('用时：%.3fs\\n'%(time.time()-tt))\n",
    "\n",
    "#化简为Verma模的元素\n",
    "tt = time.time()\n",
    "res_verma = [[i.to_verma(la,L,m+n) for i in line] for line in res]\n",
    "print('转化为Verma模上结果，用时：%.3fs\\n'%(time.time()-tt))\n",
    "\n",
    "#转化为矩阵\n",
    "tt = time.time()\n",
    "data = []\n",
    "for line in res_verma:\n",
    "    mat,_ = ide.linear_rep(line)\n",
    "    data.append(mat)\n",
    "mat = matrix.block(m+n,1,data)\n",
    "mat_sym = Matrix(mat)\n",
    "if m<=3:\n",
    "    print('矩阵的秩为',mat_sym.rank()) #54打印时间太长了！\n",
    "print('矩阵阶数为 %d*%d  '%mat.dimensions(),end='')\n",
    "print('计算用时：%.3fs'%(time.time()-tt))\n",
    "#save_vari(mat_sym,'mat%d.pydata'%k) #保存数据"
   ]
  },
  {
   "cell_type": "code",
   "execution_count": 7,
   "metadata": {},
   "outputs": [
    {
     "data": {
      "text/plain": [
       "\\left(\\begin{array}{rrrr}\n",
       "2 \\, x_{1} & 1 & 1 & 0 \\\\\n",
       "\\hline\n",
       " 0 & x_{1} - x_{2} + 1 & 1 & -1 \\\\\n",
       "x_{1} - x_{2} & 0 & 1 & 0 \\\\\n",
       "\\hline\n",
       " x_{1} + x_{2} & 1 & 0 & 0 \\\\\n",
       "0 & 1 & x_{1} + x_{2} + 1 & -1\n",
       "\\end{array}\\right)"
      ]
     },
     "execution_count": 7,
     "metadata": {},
     "output_type": "execute_result"
    }
   ],
   "source": [
    "latex(mat)"
   ]
  },
  {
   "cell_type": "code",
   "execution_count": 35,
   "metadata": {},
   "outputs": [
    {
     "name": "stdout",
     "output_type": "stream",
     "text": [
      "3\n",
      "3\n",
      "3\n",
      "3\n"
     ]
    }
   ],
   "source": [
    "\n",
    "    for i in range(4):\n",
    "        a = Matrix([mat_sym.col(j).transpose() for j in range(4) if j!=i])\n",
    "        print(a.rank())"
   ]
  },
  {
   "cell_type": "code",
   "execution_count": null,
   "metadata": {},
   "outputs": [],
   "source": []
  },
  {
   "cell_type": "code",
   "execution_count": 30,
   "metadata": {},
   "outputs": [],
   "source": [
    "a = Matrix([mat_sym.col(i) for i in range(3)])"
   ]
  },
  {
   "cell_type": "code",
   "execution_count": 9,
   "metadata": {
    "scrolled": true
   },
   "outputs": [],
   "source": [
    "#过渡矩阵\n",
    "Lie.symbols('x',2)\n",
    "f = {i+1:j for i,j in enumerate(fs)}\n",
    "res = [ 1,- x1 - x2, x2 - x1, - x1^2 - 2*x1 + x2^2]\n",
    "res = matrix(res).T\n",
    "res2 = []\n",
    "for i1 in [(1,2,3),(1,3,2),(2,1,3),(2,3,1),(3,1,2),(3,2,1)]:\n",
    "    for i2 in [(2,5),(5,2)]:\n",
    "        for i3 in [(3,4),(4,3)]:\n",
    "            roots = [i1,i2,i3,(6,)]\n",
    "            roots = [tuple(f[i] for i in line) for line in roots] #转字符串\n",
    "            roots = [ide.tuple2element(i) for i in roots] #转pbw元素\n",
    "            keys = [list(i.keys)[0] for i in pbw_basis] #键值\n",
    "            mat = matrix([[root.element[key] if key in root else 0 for root in roots] for key in keys])\n",
    "            new_res = mat.inverse()*res\n",
    "            res2.append([factor(j) for i,j in enumerate(new_res.column(0))])"
   ]
  },
  {
   "cell_type": "code",
   "execution_count": 11,
   "metadata": {},
   "outputs": [
    {
     "data": {
      "text/plain": [
       "\\begin{tabular}{llll}\n",
       "$1$ & $-x_{1} - x_{2}$ & $-x_{1} + x_{2}$ & $-x_{1}^{2} + x_{2}^{2} - 2 \\, x_{1}$ \\\\\n",
       "$1$ & $-x_{1} - x_{2}$ & $-x_{1} + x_{2}$ & $-{\\left(x_{1} + x_{2}\\right)} {\\left(x_{1} - x_{2} + 1\\right)}$ \\\\\n",
       "$1$ & $-x_{1} - x_{2}$ & $-x_{1} + x_{2}$ & $-{\\left(x_{1} + x_{2} + 1\\right)} {\\left(x_{1} - x_{2}\\right)}$ \\\\\n",
       "$1$ & $-x_{1} - x_{2}$ & $-x_{1} + x_{2}$ & $-{\\left(x_{1} + x_{2}\\right)} {\\left(x_{1} - x_{2}\\right)}$ \\\\\n",
       "$1$ & $-x_{1} - x_{2}$ & $-x_{1} + x_{2}$ & $-x_{1}^{2} + x_{2}^{2} - 2 \\, x_{1}$ \\\\\n",
       "$1$ & $-x_{1} - x_{2}$ & $-x_{1} + x_{2}$ & $-{\\left(x_{1} + x_{2}\\right)} {\\left(x_{1} - x_{2} + 1\\right)}$ \\\\\n",
       "$1$ & $-x_{1} - x_{2}$ & $-x_{1} + x_{2}$ & $-{\\left(x_{1} + x_{2} + 1\\right)} {\\left(x_{1} - x_{2}\\right)}$ \\\\\n",
       "$1$ & $-x_{1} - x_{2}$ & $-x_{1} + x_{2}$ & $-{\\left(x_{1} + x_{2}\\right)} {\\left(x_{1} - x_{2}\\right)}$ \\\\\n",
       "$1$ & $-x_{1} - x_{2}$ & $-x_{1} + x_{2} - 1$ & $-{\\left(x_{1} + x_{2} + 1\\right)} {\\left(x_{1} - x_{2} + 1\\right)}$ \\\\\n",
       "$1$ & $-x_{1} - x_{2}$ & $-x_{1} + x_{2} - 1$ & $-{\\left(x_{1} + x_{2}\\right)} {\\left(x_{1} - x_{2} + 1\\right)}$ \\\\\n",
       "$1$ & $-x_{1} - x_{2}$ & $-x_{1} + x_{2} - 1$ & $-x_{1}^{2} + x_{2}^{2} - x_{1} + x_{2} - 1$ \\\\\n",
       "$1$ & $-x_{1} - x_{2}$ & $-x_{1} + x_{2} - 1$ & $-{\\left(x_{1} + x_{2}\\right)} {\\left(x_{1} - x_{2}\\right)}$ \\\\\n",
       "$1$ & $-x_{1} - x_{2} - 1$ & $-x_{1} + x_{2} - 1$ & $-{\\left(x_{1} + x_{2} + 1\\right)} {\\left(x_{1} - x_{2} + 1\\right)}$ \\\\\n",
       "$1$ & $-x_{1} - x_{2} - 1$ & $-x_{1} + x_{2} - 1$ & $-{\\left(x_{1} + x_{2}\\right)} {\\left(x_{1} - x_{2} + 1\\right)}$ \\\\\n",
       "$1$ & $-x_{1} - x_{2} - 1$ & $-x_{1} + x_{2} - 1$ & $-{\\left(x_{1} + x_{2} + 1\\right)} {\\left(x_{1} - x_{2}\\right)}$ \\\\\n",
       "$1$ & $-x_{1} - x_{2} - 1$ & $-x_{1} + x_{2} - 1$ & $-x_{1}^{2} + x_{2}^{2} + 1$ \\\\\n",
       "$1$ & $-x_{1} - x_{2} - 1$ & $-x_{1} + x_{2}$ & $-{\\left(x_{1} + x_{2} + 1\\right)} {\\left(x_{1} - x_{2} + 1\\right)}$ \\\\\n",
       "$1$ & $-x_{1} - x_{2} - 1$ & $-x_{1} + x_{2}$ & $-x_{1}^{2} + x_{2}^{2} - x_{1} - x_{2} - 1$ \\\\\n",
       "$1$ & $-x_{1} - x_{2} - 1$ & $-x_{1} + x_{2}$ & $-{\\left(x_{1} + x_{2} + 1\\right)} {\\left(x_{1} - x_{2}\\right)}$ \\\\\n",
       "$1$ & $-x_{1} - x_{2} - 1$ & $-x_{1} + x_{2}$ & $-{\\left(x_{1} + x_{2}\\right)} {\\left(x_{1} - x_{2}\\right)}$ \\\\\n",
       "$1$ & $-x_{1} - x_{2} - 1$ & $-x_{1} + x_{2} - 1$ & $-{\\left(x_{1} + x_{2} + 1\\right)} {\\left(x_{1} - x_{2} + 1\\right)}$ \\\\\n",
       "$1$ & $-x_{1} - x_{2} - 1$ & $-x_{1} + x_{2} - 1$ & $-{\\left(x_{1} + x_{2}\\right)} {\\left(x_{1} - x_{2} + 1\\right)}$ \\\\\n",
       "$1$ & $-x_{1} - x_{2} - 1$ & $-x_{1} + x_{2} - 1$ & $-{\\left(x_{1} + x_{2} + 1\\right)} {\\left(x_{1} - x_{2}\\right)}$ \\\\\n",
       "$1$ & $-x_{1} - x_{2} - 1$ & $-x_{1} + x_{2} - 1$ & $-x_{1}^{2} + x_{2}^{2} + 1$ \\\\\n",
       "\\end{tabular}"
      ]
     },
     "execution_count": 11,
     "metadata": {},
     "output_type": "execute_result"
    }
   ],
   "source": [
    "latex(table(res2))"
   ]
  },
  {
   "cell_type": "code",
   "execution_count": 20,
   "metadata": {},
   "outputs": [
    {
     "data": {
      "text/html": [
       "<div class=\"notruncate\">\n",
       "<table  class=\"table_form\">\n",
       "<tbody>\n",
       "<tr class =\"row-a\">\n",
       "<td><script type=\"math/tex\">\\text{\\texttt{Matrix([[2*x1,{ }1,{ }1,{ }0],{ }[0,{ }x1{ }{-}{ }x2{ }+{ }1,{ }1,{ }{-}1],{ }[x1{ }{-}{ }x2,{ }0,{ }1,{ }0],{ }[x1{ }+{ }x2,{ }1,{ }0,{ }0],{ }[0,{ }1,{ }x1{ }+{ }x2{ }+{ }1,{ }{-}1]])}}</script></td>\n",
       "</tr>\n",
       "</tbody>\n",
       "</table>\n",
       "</div>"
      ],
      "text/plain": [
       "  2*x1   1   1   0   0   x1 - x2 + 1   1   -1   x1 - x2   0   1   0   x1 + x2   1   0   0   0   1   x1 + x2 + 1   -1"
      ]
     },
     "execution_count": 20,
     "metadata": {},
     "output_type": "execute_result"
    }
   ],
   "source": []
  },
  {
   "cell_type": "code",
   "execution_count": 51,
   "metadata": {
    "scrolled": true
   },
   "outputs": [
    {
     "data": {
      "text/html": [
       "<div class=\"notruncate\">\n",
       "<table  class=\"table_form\">\n",
       "<tbody>\n",
       "<tr class =\"row-a\">\n",
       "<td><script type=\"math/tex\">1</script></td>\n",
       "<td><script type=\"math/tex\">-x_{1} - x_{2}</script></td>\n",
       "<td><script type=\"math/tex\">-x_{1} + x_{2}</script></td>\n",
       "<td><script type=\"math/tex\">-x_{1}^{2} + x_{2}^{2} - 2 \\, x_{1}</script></td>\n",
       "</tr>\n",
       "<tr class =\"row-b\">\n",
       "<td><script type=\"math/tex\">1</script></td>\n",
       "<td><script type=\"math/tex\">-x_{1} - x_{2}</script></td>\n",
       "<td><script type=\"math/tex\">-x_{1} + x_{2}</script></td>\n",
       "<td><script type=\"math/tex\">-{\\left(x_{1} + x_{2}\\right)} {\\left(x_{1} - x_{2} + 1\\right)}</script></td>\n",
       "</tr>\n",
       "<tr class =\"row-a\">\n",
       "<td><script type=\"math/tex\">1</script></td>\n",
       "<td><script type=\"math/tex\">-x_{1} - x_{2}</script></td>\n",
       "<td><script type=\"math/tex\">-x_{1} + x_{2}</script></td>\n",
       "<td><script type=\"math/tex\">-{\\left(x_{1} + x_{2} + 1\\right)} {\\left(x_{1} - x_{2}\\right)}</script></td>\n",
       "</tr>\n",
       "<tr class =\"row-b\">\n",
       "<td><script type=\"math/tex\">1</script></td>\n",
       "<td><script type=\"math/tex\">-x_{1} - x_{2}</script></td>\n",
       "<td><script type=\"math/tex\">-x_{1} + x_{2}</script></td>\n",
       "<td><script type=\"math/tex\">-{\\left(x_{1} + x_{2}\\right)} {\\left(x_{1} - x_{2}\\right)}</script></td>\n",
       "</tr>\n",
       "<tr class =\"row-a\">\n",
       "<td><script type=\"math/tex\">1</script></td>\n",
       "<td><script type=\"math/tex\">-x_{1} - x_{2}</script></td>\n",
       "<td><script type=\"math/tex\">-x_{1} + x_{2}</script></td>\n",
       "<td><script type=\"math/tex\">-x_{1}^{2} + x_{2}^{2} - 2 \\, x_{1}</script></td>\n",
       "</tr>\n",
       "<tr class =\"row-b\">\n",
       "<td><script type=\"math/tex\">1</script></td>\n",
       "<td><script type=\"math/tex\">-x_{1} - x_{2}</script></td>\n",
       "<td><script type=\"math/tex\">-x_{1} + x_{2}</script></td>\n",
       "<td><script type=\"math/tex\">-{\\left(x_{1} + x_{2}\\right)} {\\left(x_{1} - x_{2} + 1\\right)}</script></td>\n",
       "</tr>\n",
       "<tr class =\"row-a\">\n",
       "<td><script type=\"math/tex\">1</script></td>\n",
       "<td><script type=\"math/tex\">-x_{1} - x_{2}</script></td>\n",
       "<td><script type=\"math/tex\">-x_{1} + x_{2}</script></td>\n",
       "<td><script type=\"math/tex\">-{\\left(x_{1} + x_{2} + 1\\right)} {\\left(x_{1} - x_{2}\\right)}</script></td>\n",
       "</tr>\n",
       "<tr class =\"row-b\">\n",
       "<td><script type=\"math/tex\">1</script></td>\n",
       "<td><script type=\"math/tex\">-x_{1} - x_{2}</script></td>\n",
       "<td><script type=\"math/tex\">-x_{1} + x_{2}</script></td>\n",
       "<td><script type=\"math/tex\">-{\\left(x_{1} + x_{2}\\right)} {\\left(x_{1} - x_{2}\\right)}</script></td>\n",
       "</tr>\n",
       "<tr class =\"row-a\">\n",
       "<td><script type=\"math/tex\">1</script></td>\n",
       "<td><script type=\"math/tex\">-x_{1} - x_{2}</script></td>\n",
       "<td><script type=\"math/tex\">-x_{1} + x_{2} - 1</script></td>\n",
       "<td><script type=\"math/tex\">-{\\left(x_{1} + x_{2} + 1\\right)} {\\left(x_{1} - x_{2} + 1\\right)}</script></td>\n",
       "</tr>\n",
       "<tr class =\"row-b\">\n",
       "<td><script type=\"math/tex\">1</script></td>\n",
       "<td><script type=\"math/tex\">-x_{1} - x_{2}</script></td>\n",
       "<td><script type=\"math/tex\">-x_{1} + x_{2} - 1</script></td>\n",
       "<td><script type=\"math/tex\">-{\\left(x_{1} + x_{2}\\right)} {\\left(x_{1} - x_{2} + 1\\right)}</script></td>\n",
       "</tr>\n",
       "<tr class =\"row-a\">\n",
       "<td><script type=\"math/tex\">1</script></td>\n",
       "<td><script type=\"math/tex\">-x_{1} - x_{2}</script></td>\n",
       "<td><script type=\"math/tex\">-x_{1} + x_{2} - 1</script></td>\n",
       "<td><script type=\"math/tex\">-x_{1}^{2} + x_{2}^{2} - x_{1} + x_{2} - 1</script></td>\n",
       "</tr>\n",
       "<tr class =\"row-b\">\n",
       "<td><script type=\"math/tex\">1</script></td>\n",
       "<td><script type=\"math/tex\">-x_{1} - x_{2}</script></td>\n",
       "<td><script type=\"math/tex\">-x_{1} + x_{2} - 1</script></td>\n",
       "<td><script type=\"math/tex\">-{\\left(x_{1} + x_{2}\\right)} {\\left(x_{1} - x_{2}\\right)}</script></td>\n",
       "</tr>\n",
       "<tr class =\"row-a\">\n",
       "<td><script type=\"math/tex\">1</script></td>\n",
       "<td><script type=\"math/tex\">-x_{1} - x_{2} - 1</script></td>\n",
       "<td><script type=\"math/tex\">-x_{1} + x_{2} - 1</script></td>\n",
       "<td><script type=\"math/tex\">-{\\left(x_{1} + x_{2} + 1\\right)} {\\left(x_{1} - x_{2} + 1\\right)}</script></td>\n",
       "</tr>\n",
       "<tr class =\"row-b\">\n",
       "<td><script type=\"math/tex\">1</script></td>\n",
       "<td><script type=\"math/tex\">-x_{1} - x_{2} - 1</script></td>\n",
       "<td><script type=\"math/tex\">-x_{1} + x_{2} - 1</script></td>\n",
       "<td><script type=\"math/tex\">-{\\left(x_{1} + x_{2}\\right)} {\\left(x_{1} - x_{2} + 1\\right)}</script></td>\n",
       "</tr>\n",
       "<tr class =\"row-a\">\n",
       "<td><script type=\"math/tex\">1</script></td>\n",
       "<td><script type=\"math/tex\">-x_{1} - x_{2} - 1</script></td>\n",
       "<td><script type=\"math/tex\">-x_{1} + x_{2} - 1</script></td>\n",
       "<td><script type=\"math/tex\">-{\\left(x_{1} + x_{2} + 1\\right)} {\\left(x_{1} - x_{2}\\right)}</script></td>\n",
       "</tr>\n",
       "<tr class =\"row-b\">\n",
       "<td><script type=\"math/tex\">1</script></td>\n",
       "<td><script type=\"math/tex\">-x_{1} - x_{2} - 1</script></td>\n",
       "<td><script type=\"math/tex\">-x_{1} + x_{2} - 1</script></td>\n",
       "<td><script type=\"math/tex\">-x_{1}^{2} + x_{2}^{2} + 1</script></td>\n",
       "</tr>\n",
       "<tr class =\"row-a\">\n",
       "<td><script type=\"math/tex\">1</script></td>\n",
       "<td><script type=\"math/tex\">-x_{1} - x_{2} - 1</script></td>\n",
       "<td><script type=\"math/tex\">-x_{1} + x_{2}</script></td>\n",
       "<td><script type=\"math/tex\">-{\\left(x_{1} + x_{2} + 1\\right)} {\\left(x_{1} - x_{2} + 1\\right)}</script></td>\n",
       "</tr>\n",
       "<tr class =\"row-b\">\n",
       "<td><script type=\"math/tex\">1</script></td>\n",
       "<td><script type=\"math/tex\">-x_{1} - x_{2} - 1</script></td>\n",
       "<td><script type=\"math/tex\">-x_{1} + x_{2}</script></td>\n",
       "<td><script type=\"math/tex\">-x_{1}^{2} + x_{2}^{2} - x_{1} - x_{2} - 1</script></td>\n",
       "</tr>\n",
       "<tr class =\"row-a\">\n",
       "<td><script type=\"math/tex\">1</script></td>\n",
       "<td><script type=\"math/tex\">-x_{1} - x_{2} - 1</script></td>\n",
       "<td><script type=\"math/tex\">-x_{1} + x_{2}</script></td>\n",
       "<td><script type=\"math/tex\">-{\\left(x_{1} + x_{2} + 1\\right)} {\\left(x_{1} - x_{2}\\right)}</script></td>\n",
       "</tr>\n",
       "<tr class =\"row-b\">\n",
       "<td><script type=\"math/tex\">1</script></td>\n",
       "<td><script type=\"math/tex\">-x_{1} - x_{2} - 1</script></td>\n",
       "<td><script type=\"math/tex\">-x_{1} + x_{2}</script></td>\n",
       "<td><script type=\"math/tex\">-{\\left(x_{1} + x_{2}\\right)} {\\left(x_{1} - x_{2}\\right)}</script></td>\n",
       "</tr>\n",
       "<tr class =\"row-a\">\n",
       "<td><script type=\"math/tex\">1</script></td>\n",
       "<td><script type=\"math/tex\">-x_{1} - x_{2} - 1</script></td>\n",
       "<td><script type=\"math/tex\">-x_{1} + x_{2} - 1</script></td>\n",
       "<td><script type=\"math/tex\">-{\\left(x_{1} + x_{2} + 1\\right)} {\\left(x_{1} - x_{2} + 1\\right)}</script></td>\n",
       "</tr>\n",
       "<tr class =\"row-b\">\n",
       "<td><script type=\"math/tex\">1</script></td>\n",
       "<td><script type=\"math/tex\">-x_{1} - x_{2} - 1</script></td>\n",
       "<td><script type=\"math/tex\">-x_{1} + x_{2} - 1</script></td>\n",
       "<td><script type=\"math/tex\">-{\\left(x_{1} + x_{2}\\right)} {\\left(x_{1} - x_{2} + 1\\right)}</script></td>\n",
       "</tr>\n",
       "<tr class =\"row-a\">\n",
       "<td><script type=\"math/tex\">1</script></td>\n",
       "<td><script type=\"math/tex\">-x_{1} - x_{2} - 1</script></td>\n",
       "<td><script type=\"math/tex\">-x_{1} + x_{2} - 1</script></td>\n",
       "<td><script type=\"math/tex\">-{\\left(x_{1} + x_{2} + 1\\right)} {\\left(x_{1} - x_{2}\\right)}</script></td>\n",
       "</tr>\n",
       "<tr class =\"row-b\">\n",
       "<td><script type=\"math/tex\">1</script></td>\n",
       "<td><script type=\"math/tex\">-x_{1} - x_{2} - 1</script></td>\n",
       "<td><script type=\"math/tex\">-x_{1} + x_{2} - 1</script></td>\n",
       "<td><script type=\"math/tex\">-x_{1}^{2} + x_{2}^{2} + 1</script></td>\n",
       "</tr>\n",
       "</tbody>\n",
       "</table>\n",
       "</div>"
      ],
      "text/plain": [
       "  1   -x1 - x2       -x1 + x2       -x1^2 + x2^2 - 2*x1\n",
       "  1   -x1 - x2       -x1 + x2       -(x1 + x2)*(x1 - x2 + 1)\n",
       "  1   -x1 - x2       -x1 + x2       -(x1 + x2 + 1)*(x1 - x2)\n",
       "  1   -x1 - x2       -x1 + x2       -(x1 + x2)*(x1 - x2)\n",
       "  1   -x1 - x2       -x1 + x2       -x1^2 + x2^2 - 2*x1\n",
       "  1   -x1 - x2       -x1 + x2       -(x1 + x2)*(x1 - x2 + 1)\n",
       "  1   -x1 - x2       -x1 + x2       -(x1 + x2 + 1)*(x1 - x2)\n",
       "  1   -x1 - x2       -x1 + x2       -(x1 + x2)*(x1 - x2)\n",
       "  1   -x1 - x2       -x1 + x2 - 1   -(x1 + x2 + 1)*(x1 - x2 + 1)\n",
       "  1   -x1 - x2       -x1 + x2 - 1   -(x1 + x2)*(x1 - x2 + 1)\n",
       "  1   -x1 - x2       -x1 + x2 - 1   -x1^2 + x2^2 - x1 + x2 - 1\n",
       "  1   -x1 - x2       -x1 + x2 - 1   -(x1 + x2)*(x1 - x2)\n",
       "  1   -x1 - x2 - 1   -x1 + x2 - 1   -(x1 + x2 + 1)*(x1 - x2 + 1)\n",
       "  1   -x1 - x2 - 1   -x1 + x2 - 1   -(x1 + x2)*(x1 - x2 + 1)\n",
       "  1   -x1 - x2 - 1   -x1 + x2 - 1   -(x1 + x2 + 1)*(x1 - x2)\n",
       "  1   -x1 - x2 - 1   -x1 + x2 - 1   -x1^2 + x2^2 + 1\n",
       "  1   -x1 - x2 - 1   -x1 + x2       -(x1 + x2 + 1)*(x1 - x2 + 1)\n",
       "  1   -x1 - x2 - 1   -x1 + x2       -x1^2 + x2^2 - x1 - x2 - 1\n",
       "  1   -x1 - x2 - 1   -x1 + x2       -(x1 + x2 + 1)*(x1 - x2)\n",
       "  1   -x1 - x2 - 1   -x1 + x2       -(x1 + x2)*(x1 - x2)\n",
       "  1   -x1 - x2 - 1   -x1 + x2 - 1   -(x1 + x2 + 1)*(x1 - x2 + 1)\n",
       "  1   -x1 - x2 - 1   -x1 + x2 - 1   -(x1 + x2)*(x1 - x2 + 1)\n",
       "  1   -x1 - x2 - 1   -x1 + x2 - 1   -(x1 + x2 + 1)*(x1 - x2)\n",
       "  1   -x1 - x2 - 1   -x1 + x2 - 1   -x1^2 + x2^2 + 1"
      ]
     },
     "execution_count": 51,
     "metadata": {},
     "output_type": "execute_result"
    }
   ],
   "source": [
    "table(res2)"
   ]
  },
  {
   "cell_type": "code",
   "execution_count": null,
   "metadata": {},
   "outputs": [],
   "source": []
  },
  {
   "cell_type": "code",
   "execution_count": null,
   "metadata": {},
   "outputs": [],
   "source": []
  },
  {
   "cell_type": "code",
   "execution_count": null,
   "metadata": {},
   "outputs": [],
   "source": []
  }
 ],
 "metadata": {
  "kernelspec": {
   "display_name": "SageMath 9.0",
   "language": "sage",
   "name": "sagemath"
  },
  "language_info": {
   "codemirror_mode": {
    "name": "ipython",
    "version": 3
   },
   "file_extension": ".py",
   "mimetype": "text/x-python",
   "name": "python",
   "nbconvert_exporter": "python",
   "pygments_lexer": "ipython3",
   "version": "3.7.3"
  }
 },
 "nbformat": 4,
 "nbformat_minor": 2
}

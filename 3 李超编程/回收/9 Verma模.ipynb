{
 "cells": [
  {
   "cell_type": "code",
   "execution_count": null,
   "metadata": {},
   "outputs": [],
   "source": [
    "load(\"../pkg/Lie.sage\")\n",
    "load(\"../pkg/MatSp.sage\")\n",
    "load(\"../pkg/spo.sage\")\n",
    "load('../pkg/AlgebraBSC.sage')"
   ]
  },
  {
   "cell_type": "code",
   "execution_count": 5,
   "metadata": {},
   "outputs": [],
   "source": [
    "class PBWElement(PBWElement):\n",
    "    def linear_rep(self,elements):\n",
    "        '''将elements用pbw基+矩阵线性表示，elements为符号变量元组'''\n",
    "        elements = [self.tuple2element(element) for element in elements ]\n",
    "        keys = set()\n",
    "        for ele in elements:\n",
    "            keys = keys.union(ele.keys)\n",
    "        mat = matrix([[ele[key] if key in ele else 0 for ele in elements] for key in keys])\n",
    "        basis = [self({key:1}) for key in keys]\n",
    "        return mat,basis"
   ]
  }
 ],
 "metadata": {
  "kernelspec": {
   "display_name": "SageMath 9.0",
   "language": "sage",
   "name": "sagemath"
  },
  "language_info": {
   "codemirror_mode": {
    "name": "ipython",
    "version": 3
   },
   "file_extension": ".py",
   "mimetype": "text/x-python",
   "name": "python",
   "nbconvert_exporter": "python",
   "pygments_lexer": "ipython3",
   "version": "3.7.3"
  }
 },
 "nbformat": 4,
 "nbformat_minor": 2
}

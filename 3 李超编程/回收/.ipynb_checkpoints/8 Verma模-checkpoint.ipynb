{
 "cells": [
  {
   "cell_type": "code",
   "execution_count": 1,
   "metadata": {},
   "outputs": [],
   "source": [
    "load(\"Lie.sage\")\n",
    "load('spo.sage')\n",
    "load('MatSp.sage')\n",
    "load('AlgebraBSC.sage')\n",
    "load(\"pbw.sage\")"
   ]
  },
  {
   "cell_type": "code",
   "execution_count": 2,
   "metadata": {},
   "outputs": [
    {
     "ename": "NameError",
     "evalue": "name 'VermaElement' is not defined",
     "output_type": "error",
     "traceback": [
      "\u001b[0;31m---------------------------------------------------------------------------\u001b[0m",
      "\u001b[0;31mNameError\u001b[0m                                 Traceback (most recent call last)",
      "\u001b[0;32m<ipython-input-2-a9f88cbf839c>\u001b[0m in \u001b[0;36m<module>\u001b[0;34m()\u001b[0m\n\u001b[1;32m     12\u001b[0m \u001b[0mvh\u001b[0m \u001b[0;34m=\u001b[0m \u001b[0;34m[\u001b[0m\u001b[0mElement\u001b[0m\u001b[0;34m(\u001b[0m\u001b[0mi\u001b[0m\u001b[0;34m,\u001b[0m\u001b[0mN\u001b[0m\u001b[0;34m,\u001b[0m\u001b[0msyms\u001b[0m\u001b[0;34m)\u001b[0m \u001b[0;32mfor\u001b[0m \u001b[0mi\u001b[0m \u001b[0;32min\u001b[0m \u001b[0mhs\u001b[0m\u001b[0;34m]\u001b[0m\u001b[0;34m\u001b[0m\u001b[0;34m\u001b[0m\u001b[0m\n\u001b[1;32m     13\u001b[0m \u001b[0;34m\u001b[0m\u001b[0m\n\u001b[0;32m---> 14\u001b[0;31m \u001b[0mbf\u001b[0m \u001b[0;34m=\u001b[0m \u001b[0;34m[\u001b[0m\u001b[0mVermaElement\u001b[0m\u001b[0;34m(\u001b[0m\u001b[0mi\u001b[0m\u001b[0;34m,\u001b[0m\u001b[0mN\u001b[0m\u001b[0;34m,\u001b[0m\u001b[0msyms\u001b[0m\u001b[0;34m,\u001b[0m\u001b[0mn\u001b[0m\u001b[0;34m,\u001b[0m\u001b[0mInteger\u001b[0m\u001b[0;34m(\u001b[0m\u001b[0;36m0\u001b[0m\u001b[0;34m)\u001b[0m\u001b[0;34m)\u001b[0m \u001b[0;32mfor\u001b[0m \u001b[0mi\u001b[0m \u001b[0;32min\u001b[0m \u001b[0mfs\u001b[0m\u001b[0;34m]\u001b[0m\u001b[0;34m\u001b[0m\u001b[0;34m\u001b[0m\u001b[0m\n\u001b[0m\u001b[1;32m     15\u001b[0m \u001b[0mbe\u001b[0m \u001b[0;34m=\u001b[0m \u001b[0;34m[\u001b[0m\u001b[0mVermaElement\u001b[0m\u001b[0;34m(\u001b[0m\u001b[0mi\u001b[0m\u001b[0;34m,\u001b[0m\u001b[0mN\u001b[0m\u001b[0;34m,\u001b[0m\u001b[0msyms\u001b[0m\u001b[0;34m,\u001b[0m\u001b[0mn\u001b[0m\u001b[0;34m,\u001b[0m\u001b[0mInteger\u001b[0m\u001b[0;34m(\u001b[0m\u001b[0;36m0\u001b[0m\u001b[0;34m)\u001b[0m\u001b[0;34m)\u001b[0m \u001b[0;32mfor\u001b[0m \u001b[0mi\u001b[0m \u001b[0;32min\u001b[0m \u001b[0mes\u001b[0m\u001b[0;34m]\u001b[0m\u001b[0;34m\u001b[0m\u001b[0;34m\u001b[0m\u001b[0m\n\u001b[1;32m     16\u001b[0m \u001b[0mbh\u001b[0m \u001b[0;34m=\u001b[0m \u001b[0;34m[\u001b[0m\u001b[0mVermaElement\u001b[0m\u001b[0;34m(\u001b[0m\u001b[0mi\u001b[0m\u001b[0;34m,\u001b[0m\u001b[0mN\u001b[0m\u001b[0;34m,\u001b[0m\u001b[0msyms\u001b[0m\u001b[0;34m,\u001b[0m\u001b[0mn\u001b[0m\u001b[0;34m,\u001b[0m\u001b[0mInteger\u001b[0m\u001b[0;34m(\u001b[0m\u001b[0;36m0\u001b[0m\u001b[0;34m)\u001b[0m\u001b[0;34m)\u001b[0m \u001b[0;32mfor\u001b[0m \u001b[0mi\u001b[0m \u001b[0;32min\u001b[0m \u001b[0mhs\u001b[0m\u001b[0;34m]\u001b[0m\u001b[0;34m\u001b[0m\u001b[0;34m\u001b[0m\u001b[0m\n",
      "\u001b[0;32m<ipython-input-2-a9f88cbf839c>\u001b[0m in \u001b[0;36m<listcomp>\u001b[0;34m(.0)\u001b[0m\n\u001b[1;32m     12\u001b[0m \u001b[0mvh\u001b[0m \u001b[0;34m=\u001b[0m \u001b[0;34m[\u001b[0m\u001b[0mElement\u001b[0m\u001b[0;34m(\u001b[0m\u001b[0mi\u001b[0m\u001b[0;34m,\u001b[0m\u001b[0mN\u001b[0m\u001b[0;34m,\u001b[0m\u001b[0msyms\u001b[0m\u001b[0;34m)\u001b[0m \u001b[0;32mfor\u001b[0m \u001b[0mi\u001b[0m \u001b[0;32min\u001b[0m \u001b[0mhs\u001b[0m\u001b[0;34m]\u001b[0m\u001b[0;34m\u001b[0m\u001b[0;34m\u001b[0m\u001b[0m\n\u001b[1;32m     13\u001b[0m \u001b[0;34m\u001b[0m\u001b[0m\n\u001b[0;32m---> 14\u001b[0;31m \u001b[0mbf\u001b[0m \u001b[0;34m=\u001b[0m \u001b[0;34m[\u001b[0m\u001b[0mVermaElement\u001b[0m\u001b[0;34m(\u001b[0m\u001b[0mi\u001b[0m\u001b[0;34m,\u001b[0m\u001b[0mN\u001b[0m\u001b[0;34m,\u001b[0m\u001b[0msyms\u001b[0m\u001b[0;34m,\u001b[0m\u001b[0mn\u001b[0m\u001b[0;34m,\u001b[0m\u001b[0mInteger\u001b[0m\u001b[0;34m(\u001b[0m\u001b[0;36m0\u001b[0m\u001b[0;34m)\u001b[0m\u001b[0;34m)\u001b[0m \u001b[0;32mfor\u001b[0m \u001b[0mi\u001b[0m \u001b[0;32min\u001b[0m \u001b[0mfs\u001b[0m\u001b[0;34m]\u001b[0m\u001b[0;34m\u001b[0m\u001b[0;34m\u001b[0m\u001b[0m\n\u001b[0m\u001b[1;32m     15\u001b[0m \u001b[0mbe\u001b[0m \u001b[0;34m=\u001b[0m \u001b[0;34m[\u001b[0m\u001b[0mVermaElement\u001b[0m\u001b[0;34m(\u001b[0m\u001b[0mi\u001b[0m\u001b[0;34m,\u001b[0m\u001b[0mN\u001b[0m\u001b[0;34m,\u001b[0m\u001b[0msyms\u001b[0m\u001b[0;34m,\u001b[0m\u001b[0mn\u001b[0m\u001b[0;34m,\u001b[0m\u001b[0mInteger\u001b[0m\u001b[0;34m(\u001b[0m\u001b[0;36m0\u001b[0m\u001b[0;34m)\u001b[0m\u001b[0;34m)\u001b[0m \u001b[0;32mfor\u001b[0m \u001b[0mi\u001b[0m \u001b[0;32min\u001b[0m \u001b[0mes\u001b[0m\u001b[0;34m]\u001b[0m\u001b[0;34m\u001b[0m\u001b[0;34m\u001b[0m\u001b[0m\n\u001b[1;32m     16\u001b[0m \u001b[0mbh\u001b[0m \u001b[0;34m=\u001b[0m \u001b[0;34m[\u001b[0m\u001b[0mVermaElement\u001b[0m\u001b[0;34m(\u001b[0m\u001b[0mi\u001b[0m\u001b[0;34m,\u001b[0m\u001b[0mN\u001b[0m\u001b[0;34m,\u001b[0m\u001b[0msyms\u001b[0m\u001b[0;34m,\u001b[0m\u001b[0mn\u001b[0m\u001b[0;34m,\u001b[0m\u001b[0mInteger\u001b[0m\u001b[0;34m(\u001b[0m\u001b[0;36m0\u001b[0m\u001b[0;34m)\u001b[0m\u001b[0;34m)\u001b[0m \u001b[0;32mfor\u001b[0m \u001b[0mi\u001b[0m \u001b[0;32min\u001b[0m \u001b[0mhs\u001b[0m\u001b[0;34m]\u001b[0m\u001b[0;34m\u001b[0m\u001b[0;34m\u001b[0m\u001b[0m\n",
      "\u001b[0;31mNameError\u001b[0m: name 'VermaElement' is not defined"
     ]
    }
   ],
   "source": [
    "n = 3\n",
    "L = Sp(n)\n",
    "mats = L.negative_matrixs + L.h_matrixs + L.positive_matrixs\n",
    "N = AlgebraBSC.lie_SC(mats)\n",
    "m = len(L.positive_roots)\n",
    "es = Lie.symbols('e',m)\n",
    "fs = Lie.symbols('f',m)\n",
    "hs = Lie.symbols('h',n)\n",
    "syms = fs + hs + es\n",
    "vf = [Element(i,N,syms) for i in fs]\n",
    "ve = [Element(i,N,syms) for i in es]\n",
    "vh = [Element(i,N,syms) for i in hs]\n",
    "\n",
    "bf = [VermaElement(i,N,syms,n,0) for i in fs]\n",
    "be = [VermaElement(i,N,syms,n,0) for i in es]\n",
    "bh = [VermaElement(i,N,syms,n,0) for i in hs]"
   ]
  },
  {
   "cell_type": "code",
   "execution_count": 80,
   "metadata": {},
   "outputs": [],
   "source": [
    "class VermaElement(PBWElement):\n",
    "    '''李代数的verma模\n",
    "    输入\n",
    "        element 元素，字典或U1上元素\n",
    "        N 结构常数\n",
    "        syms fs+hs+es\n",
    "        n 李代数维数\n",
    "        weight 向量形式的权\n",
    "    '''\n",
    "    def __init__(self,element,N,syms,n,weight):\n",
    "        assert isinstance(element,(dict,Expression))\n",
    "        L_dim = len(N) #李代数维数\n",
    "        m = (L_dim-n)/2\n",
    "        self.n,self.weight,self.syms = n,weight,syms\n",
    "        self.fs,self.hs,self.es = syms[:m],syms[m:m+n],syms[m+n:] #分三部分\n",
    "        if isinstance(element,Expression):\n",
    "            element = Lie.coefficients(element,syms)\n",
    "            element = {(syms[i],):element[i] for i in range(L_dim) if element[i]} #字典形式\n",
    "        else:\n",
    "            element = {key:val for key,val in zip(element.keys(),element.values()) if val}\n",
    "        self.element = element #字典形式，并消除零项（元素没有化简）\n",
    "        self.L_dim,self.N = L_dim,N\n",
    "        self.keys = element.keys()\n",
    "    \n",
    "    def __call__(self,obj):\n",
    "        '''dict,Expression 转泛包络类'''\n",
    "        return VermaElement(obj,self.N,self.syms,self.n,self.weight)\n",
    "        \n",
    "    def simplify(self,obj): \n",
    "        '''化简元素（字典形式），消去其中的e和h'''\n",
    "        obj = {key:value for key,value in zip(obj.keys(),obj.values()) if not self.zero_key(key)} #清除零键\n",
    "        return obj\n",
    "    \n",
    "    def zero_key(self,key):\n",
    "        '''判断零键值'''\n",
    "        assert isinstance(key,tuple),'输入不为元组！'\n",
    "        n = len(key)\n",
    "        if not n:return False #排除空元组形式\n",
    "        fs,hs,es = self.fs,self.hs,self.es\n",
    "        for i in range(1,n+1):\n",
    "            if key[-i] in fs: #定位最后的fs元素\n",
    "                break\n",
    "        for element in key[n-i:]:\n",
    "            if element in es: #判断为零键值\n",
    "                return True \n",
    "        return False"
   ]
  },
  {
   "cell_type": "code",
   "execution_count": null,
   "metadata": {},
   "outputs": [],
   "source": [
    "class VermaElement():\n",
    "    "
   ]
  },
  {
   "cell_type": "code",
   "execution_count": null,
   "metadata": {},
   "outputs": [],
   "source": [
    "class VermaModule():\n",
    "    '''李代数的Verma模'''\n",
    "    def __init__(self,cartan_type,weight):\n",
    "        '''目前只支持C和D族，weight为权关于正交基的坐标'''\n",
    "        s,n = cartan_type\n",
    "        assert s in ['C','D'],'仅支持C和D族'\n",
    "        L = Sp(n) if s=='C' else Oth(n)\n",
    "        mats = L.negative_matrixs + L.h_matrixs + L.positive_matrixs\n",
    "        N = AlgebraBSC.lie_SC(mats)\n",
    "        m = len(L.positive_roots)\n",
    "        es,fs,hs = Lie.symbols('e',m),Lie.symbols('f',m),Lie.symbols('h',n)\n",
    "        syms = fs + hs + es\n",
    "        #vf = [Element(i,N,syms) for i in fs]\n",
    "        #ve = [Element(i,N,syms) for i in es]\n",
    "        #vh = [Element(i,N,syms) for i in hs]\n",
    "        bf = [VermaElement(i,N,syms,n,0) for i in fs]\n",
    "        be = [VermaElement(i,N,syms,n,0) for i in es]\n",
    "        bh = [VermaElement(i,N,syms,n,0) for i in hs]\n",
    "    \n",
    "    def zero_key(self,key):\n",
    "        '''判断零键值'''\n",
    "        assert isinstance(key,tuple),'输入不为元组！'\n",
    "        n = len(key)\n",
    "        if not n:return False #排除空元组形式\n",
    "        fs,hs,es = self.fs,self.hs,self.es\n",
    "        for i in range(1,n+1):\n",
    "            if key[-i] in fs: #定位最后的fs元素\n",
    "                break\n",
    "        for element in key[n-i:]:\n",
    "            if element in es: #判断为零键值\n",
    "                return True \n",
    "        return False\n",
    "    \n",
    "    def simplify(self,obj): \n",
    "        '''化简元素（字典形式），消去其中的e和h'''\n",
    "        obj = {key:value for key,value in zip(obj.keys(),obj.values()) if not self.zero_key(key)} #清除零键\n",
    "        return obj"
   ]
  }
 ],
 "metadata": {
  "kernelspec": {
   "display_name": "SageMath 9.0",
   "language": "sage",
   "name": "sagemath"
  },
  "language_info": {
   "codemirror_mode": {
    "name": "ipython",
    "version": 3
   },
   "file_extension": ".py",
   "mimetype": "text/x-python",
   "name": "python",
   "nbconvert_exporter": "python",
   "pygments_lexer": "ipython3",
   "version": "3.7.3"
  }
 },
 "nbformat": 4,
 "nbformat_minor": 2
}

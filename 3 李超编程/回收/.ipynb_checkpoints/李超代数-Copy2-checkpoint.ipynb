{
 "cells": [
  {
   "cell_type": "code",
   "execution_count": 111,
   "metadata": {},
   "outputs": [],
   "source": [
    "import sympy,time\n",
    "from sympy.matrices import Matrix #最后处理矩阵用\n",
    "#导入工具包\n",
    "load('pkg/Lie.sage') #李代数相关的工具\n",
    "load('pkg/spo.sage') #李超代数spo的工具\n",
    "load('pkg/MatSp.sage') #处理矩阵的工具\n",
    "load('pkg/AlgebraBSC.sage') #结构常数相关工具\n",
    "load('pkg/pbw.sage') #李代数pbw基的工具\n",
    "load('pkg/rex.py') #解方程等相关工具\n",
    "class PBWElement(PBWElement):\n",
    "    def linear_rep(self,elements):\n",
    "        '''将elements用pbw基+矩阵线性表示，elements为元素或符号变量元组'''\n",
    "        if isinstance(elements,tuple): #若输入元组，进行转格式\n",
    "            elements = [self.tuple2element(element) for element in elements ]\n",
    "        keys = set()\n",
    "        for ele in elements:\n",
    "            keys = keys.union(ele.keys)\n",
    "        mat = matrix([[ele.element[key] if key in ele else 0 for ele in elements] for key in keys])\n",
    "        basis = [self({key:1}) for key in keys]\n",
    "        return mat,basis\n",
    "load('pkg/pbws.sage') #李超代数pbw基的工具"
   ]
  },
  {
   "cell_type": "code",
   "execution_count": 112,
   "metadata": {},
   "outputs": [
    {
     "name": "stdout",
     "output_type": "stream",
     "text": [
      "李超代数：spo(2,4)\n",
      "空间维数为：17\n",
      "正根数目为：7\n",
      "计算结构常数\n",
      "计算李超代数泛包络的pbw基\n",
      "初始化完毕，用时 0.534s\n",
      "待讨论的权： d + e1\n",
      "权空间维数： 4\n",
      "用时：0.018s\n"
     ]
    },
    {
     "data": {
      "text/html": [
       "<div class=\"notruncate\">\n",
       "<table  class=\"table_form\">\n",
       "<tbody>\n",
       "<tr class =\"row-a\">\n",
       "<td><script type=\"math/tex\">-d + e_{1}</script></td>\n",
       "<td><script type=\"math/tex\">-e_{1} + e_{2}</script></td>\n",
       "<td><script type=\"math/tex\">-e_{1} - e_{2}</script></td>\n",
       "</tr>\n",
       "<tr class =\"row-b\">\n",
       "<td><script type=\"math/tex\">-e_{1} + e_{2}</script></td>\n",
       "<td><script type=\"math/tex\">-d - e_{2}</script></td>\n",
       "</tr>\n",
       "<tr class =\"row-a\">\n",
       "<td><script type=\"math/tex\">-e_{1} - e_{2}</script></td>\n",
       "<td><script type=\"math/tex\">-d + e_{2}</script></td>\n",
       "</tr>\n",
       "<tr class =\"row-b\">\n",
       "<td><script type=\"math/tex\">-d - e_{1}</script></td>\n",
       "</tr>\n",
       "</tbody>\n",
       "</table>\n",
       "</div>"
      ],
      "text/plain": [
       "  -d + e1\n",
       "  -e1 + e2\n",
       "  -e1 - e2\n",
       "  -d - e1"
      ]
     },
     "execution_count": 112,
     "metadata": {},
     "output_type": "execute_result"
    }
   ],
   "source": [
    "#V初始化数据\n",
    "tt = time.time()\n",
    "t,k = 1,2\n",
    "L = SpO(t,k) #李超代数\n",
    "mats = L.negative_matrixs + L.h_matrixs + L.positive_matrixs #矩阵信息\n",
    "m = len(L.positive_roots)\n",
    "print('李超代数：spo(%d,%d)\\n空间维数为：%d\\n正根数目为：%d'%(2*t,2*k,len(mats),m))\n",
    "es = Lie.symbols('e',m)\n",
    "fs = Lie.symbols('f',m)\n",
    "hs = Lie.symbols('h',k+t) \n",
    "syms = fs + hs +es #用作结构常数的符号变量\n",
    "#奇根对应的符号变量\n",
    "roots = L.positive_roots \n",
    "ind1 = [roots.index(r) for r in L.odd_roots if r in roots]\n",
    "roots = L.simple_roots\n",
    "ind2 = [roots.index(r) for r in L.odd_roots if r in roots]\n",
    "odds = [fs[i] for i in ind1] + [hs[i] for i in ind2] + [es[i] for i in ind1] \n",
    "\n",
    "#计算结构常数\n",
    "print('计算结构常数')\n",
    "N = AlgebraBSC.lie_sup_SC(mats,L.odd_mats)\n",
    "'''\n",
    "Lf = {i+1:Element(element,N,syms) for i,element in enumerate(fs)}\n",
    "Le = {i+1:Element(element,N,syms) for i,element in enumerate(es)}\n",
    "Lh = {i+1:Element(element,N,syms) for i,element in enumerate(hs)}\n",
    "#'''\n",
    "#pbw基\n",
    "print('计算李超代数泛包络的pbw基')\n",
    "vf = {i+1:SPBWElement(element,N,syms,odds) for i,element in enumerate(fs)}\n",
    "ve = {i+1:SPBWElement(element,N,syms,odds) for i,element in enumerate(es)}\n",
    "vh = {i+1:SPBWElement(element,N,syms,odds) for i,element in enumerate(hs)}\n",
    "ide = SPBWElement({tuple():1},N,syms,odds) #幺元\n",
    "vectors = L.vectors\n",
    "print('初始化完毕，用时 %.3fs'%(time.time()-tt))\n",
    "\n",
    "#权的正根分解\n",
    "tt = time.time()\n",
    "weight = L.basis[0] + L.basis[1];print('待讨论的权：',weight) #待讨论的权（正交基形式）\n",
    "root = L.vector2root(weight) #转单根形式\n",
    "dec = L.positive_dec(root) #正根分解（元组构成）\n",
    "negative_roots = L.negative_roots #负根\n",
    "dec_root = []\n",
    "for line in dec:\n",
    "    new = []\n",
    "    for i,element in enumerate(line):\n",
    "        if element:\n",
    "            new = new + [negative_roots[i]]*element\n",
    "    dec_root.append(tuple(new))\n",
    "dec_vector = [tuple(L.root2vector(r) for r in line) for line in dec_root]\n",
    "print('权空间维数：',len(dec)) #分解总数目\n",
    "print('用时：%.3fs'%(time.time()-tt))\n",
    "#for line in res_vectors:print(line)\n",
    "table([[i for i in line if i] for line in dec_vector]) #分解结果"
   ]
  },
  {
   "cell_type": "code",
   "execution_count": 113,
   "metadata": {},
   "outputs": [
    {
     "name": "stdout",
     "output_type": "stream",
     "text": [
      "权空间对应的pbw基：\n"
     ]
    },
    {
     "data": {
      "text/plain": [
       "[{(f1, f2, f3): 1}, {(f2, f5): 1}, {(f3, f4): 1}, {(f6,): 1}]"
      ]
     },
     "execution_count": 113,
     "metadata": {},
     "output_type": "execute_result"
    }
   ],
   "source": [
    "#相应的pbw基\n",
    "basis = [tuple(fs[negative_roots.index(i)] for i in line) for line in dec_root]\n",
    "pbw_basis = [ide.tuple2element(i) for i in basis]\n",
    "print('权空间对应的pbw基：')\n",
    "pbw_basis"
   ]
  },
  {
   "cell_type": "code",
   "execution_count": 114,
   "metadata": {},
   "outputs": [
    {
     "name": "stdout",
     "output_type": "stream",
     "text": [
      "最高权： d*(x1 + 2) + e1*x1 + e2*x2\n",
      "计算泛包络上的乘积结果，乘积总数： 12\n",
      "用时：0.967s\n",
      "\n",
      "转化为Verma模上结果，用时：0.211s\n",
      "\n"
     ]
    }
   ],
   "source": [
    "#最高权向量\n",
    "x = Lie.symbols('x',k)\n",
    "la = (x[0]+2*k-2)*L.basis[0] + sum([i*j for i,j in zip(x,L.basis[1:])])\n",
    "print('最高权：',la)\n",
    "\n",
    "#泛包络上计算结果res\n",
    "tt = time.time()\n",
    "res = [[ve[i]*element for element in pbw_basis] for i in range(1,k+t+1)]\n",
    "print(\"计算泛包络上的乘积结果，乘积总数：\",(k+t)*len(pbw_basis))\n",
    "print('用时：%.3fs\\n'%(time.time()-tt))\n",
    "\n",
    "#化简为Verma模的元素\n",
    "tt = time.time()\n",
    "res_verma = [[i.to_verma(la,L,k+t) for i in line] for line in res]\n",
    "print('转化为Verma模上结果，用时：%.3fs\\n'%(time.time()-tt))\n"
   ]
  },
  {
   "cell_type": "code",
   "execution_count": null,
   "metadata": {},
   "outputs": [],
   "source": []
  },
  {
   "cell_type": "code",
   "execution_count": 117,
   "metadata": {},
   "outputs": [
    {
     "name": "stdout",
     "output_type": "stream",
     "text": [
      "矩阵的秩为 3\n"
     ]
    },
    {
     "ename": "NameError",
     "evalue": "name 'solve_matrix' is not defined",
     "output_type": "error",
     "traceback": [
      "\u001b[0;31m---------------------------------------------------------------------------\u001b[0m",
      "\u001b[0;31mNameError\u001b[0m                                 Traceback (most recent call last)",
      "\u001b[0;32m<ipython-input-117-d0a891c4ad9a>\u001b[0m in \u001b[0;36m<module>\u001b[0;34m()\u001b[0m\n\u001b[1;32m     11\u001b[0m     \u001b[0mprint\u001b[0m\u001b[0;34m(\u001b[0m\u001b[0;34m'矩阵的秩为'\u001b[0m\u001b[0;34m,\u001b[0m\u001b[0mmat_sym\u001b[0m\u001b[0;34m.\u001b[0m\u001b[0mrank\u001b[0m\u001b[0;34m(\u001b[0m\u001b[0;34m)\u001b[0m\u001b[0;34m)\u001b[0m \u001b[0;31m#54打印时间太长了！\u001b[0m\u001b[0;34m\u001b[0m\u001b[0;34m\u001b[0m\u001b[0m\n\u001b[1;32m     12\u001b[0m     \u001b[0;32mif\u001b[0m \u001b[0mk\u001b[0m\u001b[0;34m==\u001b[0m\u001b[0mInteger\u001b[0m\u001b[0;34m(\u001b[0m\u001b[0;36m2\u001b[0m\u001b[0;34m)\u001b[0m\u001b[0;34m:\u001b[0m\u001b[0;34m\u001b[0m\u001b[0;34m\u001b[0m\u001b[0m\n\u001b[0;32m---> 13\u001b[0;31m         \u001b[0msolution\u001b[0m \u001b[0;34m=\u001b[0m \u001b[0msolve_matrix\u001b[0m\u001b[0;34m(\u001b[0m\u001b[0mmat_sym\u001b[0m\u001b[0;34m)\u001b[0m \u001b[0;31m#sage上的运算时间太长了！\u001b[0m\u001b[0;34m\u001b[0m\u001b[0;34m\u001b[0m\u001b[0m\n\u001b[0m\u001b[1;32m     14\u001b[0m \u001b[0mprint\u001b[0m\u001b[0;34m(\u001b[0m\u001b[0;34m'矩阵阶数为 %d*%d  '\u001b[0m\u001b[0;34m%\u001b[0m\u001b[0mmat\u001b[0m\u001b[0;34m.\u001b[0m\u001b[0mdimensions\u001b[0m\u001b[0;34m(\u001b[0m\u001b[0;34m)\u001b[0m\u001b[0;34m,\u001b[0m\u001b[0mend\u001b[0m\u001b[0;34m=\u001b[0m\u001b[0;34m''\u001b[0m\u001b[0;34m)\u001b[0m\u001b[0;34m\u001b[0m\u001b[0;34m\u001b[0m\u001b[0m\n\u001b[1;32m     15\u001b[0m \u001b[0mprint\u001b[0m\u001b[0;34m(\u001b[0m\u001b[0;34m'计算用时：%.3fs'\u001b[0m\u001b[0;34m%\u001b[0m\u001b[0;34m(\u001b[0m\u001b[0mtime\u001b[0m\u001b[0;34m.\u001b[0m\u001b[0mtime\u001b[0m\u001b[0;34m(\u001b[0m\u001b[0;34m)\u001b[0m\u001b[0;34m-\u001b[0m\u001b[0mtt\u001b[0m\u001b[0;34m)\u001b[0m\u001b[0;34m)\u001b[0m\u001b[0;34m\u001b[0m\u001b[0;34m\u001b[0m\u001b[0m\n",
      "\u001b[0;31mNameError\u001b[0m: name 'solve_matrix' is not defined"
     ]
    }
   ],
   "source": [
    "\n",
    "#转化为矩阵\n",
    "tt = time.time()\n",
    "data = []\n",
    "for line in res_verma:\n",
    "    mat,_ = ide.linear_rep(line)\n",
    "    data.append(mat)\n",
    "mat = matrix.block(k+t,1,data)\n",
    "mat_sym = Matrix(mat)\n",
    "if k<=3:\n",
    "    print('矩阵的秩为',mat_sym.rank()) #54打印时间太长了！\n",
    "    if k==2:\n",
    "        solution = solve_matrix(mat_sym) #sage上的运算时间太长了！\n",
    "print('矩阵阶数为 %d*%d  '%mat.dimensions(),end='')\n",
    "print('计算用时：%.3fs'%(time.time()-tt))\n",
    "#save_vari(mat_sym,'mat%d.pydata'%k) #保存数据"
   ]
  },
  {
   "cell_type": "code",
   "execution_count": 116,
   "metadata": {},
   "outputs": [
    {
     "data": {
      "text/plain": [
       "{(f1, f2): 1}"
      ]
     },
     "execution_count": 116,
     "metadata": {},
     "output_type": "execute_result"
    }
   ],
   "source": [
    "ele"
   ]
  },
  {
   "cell_type": "code",
   "execution_count": null,
   "metadata": {},
   "outputs": [],
   "source": [
    "'''计算时间\n",
    "2阶：1秒左右 5*4\n",
    "3阶：14秒左右 23*15\n",
    "4阶：134秒左右 106*55\n",
    "5阶：1116秒左右 462*200\n",
    "'''"
   ]
  },
  {
   "cell_type": "code",
   "execution_count": null,
   "metadata": {},
   "outputs": [],
   "source": [
    "#matlab矩阵命令\n",
    "print(symmat_to_matlab(mat_sym,k))"
   ]
  },
  {
   "cell_type": "code",
   "execution_count": null,
   "metadata": {},
   "outputs": [],
   "source": [
    "#matlab解方程组的命令\n",
    "print(symmat_to_command(mat_sym,k))"
   ]
  },
  {
   "cell_type": "code",
   "execution_count": null,
   "metadata": {},
   "outputs": [],
   "source": [
    "#matlab解信息的命令\n",
    "print(read_solution(len(dec)-1))"
   ]
  },
  {
   "cell_type": "code",
   "execution_count": null,
   "metadata": {},
   "outputs": [],
   "source": []
  },
  {
   "cell_type": "code",
   "execution_count": 19,
   "metadata": {},
   "outputs": [
    {
     "data": {
      "text/plain": [
       "{(f1,): 1}"
      ]
     },
     "execution_count": 19,
     "metadata": {},
     "output_type": "execute_result"
    }
   ],
   "source": [
    "a."
   ]
  },
  {
   "cell_type": "code",
   "execution_count": null,
   "metadata": {},
   "outputs": [],
   "source": []
  },
  {
   "cell_type": "code",
   "execution_count": null,
   "metadata": {},
   "outputs": [],
   "source": []
  },
  {
   "cell_type": "code",
   "execution_count": null,
   "metadata": {},
   "outputs": [],
   "source": []
  },
  {
   "cell_type": "code",
   "execution_count": null,
   "metadata": {},
   "outputs": [],
   "source": []
  }
 ],
 "metadata": {
  "kernelspec": {
   "display_name": "SageMath 9.0",
   "language": "sage",
   "name": "sagemath"
  },
  "language_info": {
   "codemirror_mode": {
    "name": "ipython",
    "version": 3
   },
   "file_extension": ".py",
   "mimetype": "text/x-python",
   "name": "python",
   "nbconvert_exporter": "python",
   "pygments_lexer": "ipython3",
   "version": "3.7.3"
  }
 },
 "nbformat": 4,
 "nbformat_minor": 2
}

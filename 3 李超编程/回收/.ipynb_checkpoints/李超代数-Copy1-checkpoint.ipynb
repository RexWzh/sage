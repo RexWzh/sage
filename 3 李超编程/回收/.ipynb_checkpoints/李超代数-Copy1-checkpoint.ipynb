{
 "cells": [
  {
   "cell_type": "code",
   "execution_count": 2,
   "metadata": {},
   "outputs": [
    {
     "name": "stdout",
     "output_type": "stream",
     "text": [
      "导入相关工具包：\n",
      "1. Lie.sage：李代数工具，以及C,D族李代数\n",
      "2. spo.sage：李超代数工具，以及spo\n",
      "3. MatSp.sage：矩阵空间，求矩阵关于矩阵基的线性表示\n",
      "4. AlgebraBSC：求李/李超代数的结构常数，以及由结构常数生成代数\n",
      "5. pbw.sage/pbws.sage 李/李超代数的pbw基\n",
      "6. rex.py 解方程工具\n"
     ]
    }
   ],
   "source": [
    "import sympy,time\n",
    "from sympy.matrices import Matrix #最后处理矩阵用\n",
    "#导入工具包\n",
    "load('Lie.sage') #李代数相关的工具\n",
    "load('spo.sage') #李超代数spo的工具\n",
    "load('MatSp.sage') #处理矩阵的工具\n",
    "load('AlgebraBSC.sage') #结构常数相关工具\n",
    "load('pbw.sage') #李代数pbw基的工具\n",
    "load('pbws.sage') #李超代数pbw基的工具\n",
    "load('rex.py') #解方程等相关工具\n",
    "print('''导入相关工具包：\n",
    "1. Lie.sage：李代数工具，以及C,D族李代数\n",
    "2. spo.sage：李超代数工具，以及spo\n",
    "3. MatSp.sage：矩阵空间，求矩阵关于矩阵基的线性表示\n",
    "4. AlgebraBSC：求李/李超代数的结构常数，以及由结构常数生成代数\n",
    "5. pbw.sage/pbws.sage 李/李超代数的pbw基\n",
    "6. rex.py 解方程工具''')"
   ]
  },
  {
   "cell_type": "code",
   "execution_count": 3,
   "metadata": {},
   "outputs": [
    {
     "name": "stdout",
     "output_type": "stream",
     "text": [
      "李超代数：spo(4,4)\n",
      "空间维数为：32\n",
      "正根数目为：14\n",
      "计算结构常数，并由结构常数重新生成李超代数\n",
      "计算李超代数pbw基\n",
      "初始化完毕，用时 3.911s\n"
     ]
    }
   ],
   "source": [
    "#V初始化数据\n",
    "tt = time.time()\n",
    "t,k = 2,2\n",
    "L = SpO(t,k) #李超代数\n",
    "mats = L.negative_matrixs + L.h_matrixs + L.positive_matrixs #矩阵信息\n",
    "m = len(L.positive_roots)\n",
    "print('李超代数：spo(%d,%d)\\n空间维数为：%d\\n正根数目为：%d'%(2*t,2*k,len(mats),m))\n",
    "es = Lie.symbols('e',m)\n",
    "fs = Lie.symbols('f',m)\n",
    "hs = Lie.symbols('h',k+t) \n",
    "syms = fs + hs +es #用作结构常数的符号变量\n",
    "#奇根对应的符号变量\n",
    "roots = L.positive_roots \n",
    "ind1 = [roots.index(r) for r in L.odd_roots if r in roots]\n",
    "roots = L.simple_roots\n",
    "ind2 = [roots.index(r) for r in L.odd_roots if r in roots]\n",
    "odds = [fs[i] for i in ind1] + [hs[i] for i in ind2] + [es[i] for i in ind1] \n",
    "\n",
    "#由结构常数得到的L一组基\n",
    "print('计算结构常数，并由结构常数重新生成李超代数')\n",
    "N = AlgebraBSC.lie_sup_SC(mats,L.odd_mats)\n",
    "Lf = {i+1:Element(element,N,syms) for i,element in enumerate(fs)}\n",
    "Le = {i+1:Element(element,N,syms) for i,element in enumerate(es)}\n",
    "Lh = {i+1:Element(element,N,syms) for i,element in enumerate(hs)}\n",
    "#pbw基\n",
    "print('计算李超代数pbw基')\n",
    "vf = {i+1:SPBWElement(element,N,syms,odds) for i,element in enumerate(fs)}\n",
    "ve = {i+1:SPBWElement(element,N,syms,odds) for i,element in enumerate(es)}\n",
    "vh = {i+1:SPBWElement(element,N,syms,odds) for i,element in enumerate(hs)}\n",
    "vectors = L.vectors\n",
    "pbw = ve[1].tuple2element\n",
    "print('初始化完毕，用时 %.3fs'%(time.time()-tt))"
   ]
  },
  {
   "cell_type": "code",
   "execution_count": 4,
   "metadata": {},
   "outputs": [
    {
     "name": "stdout",
     "output_type": "stream",
     "text": [
      "待讨论的权： d1 + d2\n",
      "权空间维数： 16\n",
      "用时：0.318s\n"
     ]
    },
    {
     "data": {
      "text/html": [
       "<div class=\"notruncate\">\n",
       "<table  class=\"table_form\">\n",
       "<tbody>\n",
       "<tr class =\"row-a\">\n",
       "<td><script type=\"math/tex\">-d_{1} + d_{2}</script></td>\n",
       "<td><script type=\"math/tex\">-d_{2} + e_{1}</script></td>\n",
       "<td><script type=\"math/tex\">-d_{2} + e_{1}</script></td>\n",
       "<td><script type=\"math/tex\">-e_{1} + e_{2}</script></td>\n",
       "<td><script type=\"math/tex\">-e_{1} - e_{2}</script></td>\n",
       "</tr>\n",
       "<tr class =\"row-b\">\n",
       "<td><script type=\"math/tex\">-d_{1} + d_{2}</script></td>\n",
       "<td><script type=\"math/tex\">-d_{2} + e_{1}</script></td>\n",
       "<td><script type=\"math/tex\">-e_{1} + e_{2}</script></td>\n",
       "<td><script type=\"math/tex\">-d_{2} - e_{2}</script></td>\n",
       "</tr>\n",
       "<tr class =\"row-a\">\n",
       "<td><script type=\"math/tex\">-d_{1} + d_{2}</script></td>\n",
       "<td><script type=\"math/tex\">-d_{2} + e_{1}</script></td>\n",
       "<td><script type=\"math/tex\">-e_{1} - e_{2}</script></td>\n",
       "<td><script type=\"math/tex\">-d_{2} + e_{2}</script></td>\n",
       "</tr>\n",
       "<tr class =\"row-b\">\n",
       "<td><script type=\"math/tex\">-d_{2} + e_{1}</script></td>\n",
       "<td><script type=\"math/tex\">-e_{1} + e_{2}</script></td>\n",
       "<td><script type=\"math/tex\">-e_{1} - e_{2}</script></td>\n",
       "<td><script type=\"math/tex\">-d_{1} + e_{1}</script></td>\n",
       "</tr>\n",
       "<tr class =\"row-a\">\n",
       "<td><script type=\"math/tex\">-d_{1} + d_{2}</script></td>\n",
       "<td><script type=\"math/tex\">-d_{2} + e_{2}</script></td>\n",
       "<td><script type=\"math/tex\">-d_{2} - e_{2}</script></td>\n",
       "</tr>\n",
       "<tr class =\"row-b\">\n",
       "<td><script type=\"math/tex\">-d_{1} + d_{2}</script></td>\n",
       "<td><script type=\"math/tex\">-d_{2} + e_{1}</script></td>\n",
       "<td><script type=\"math/tex\">-d_{2} - e_{1}</script></td>\n",
       "</tr>\n",
       "<tr class =\"row-a\">\n",
       "<td><script type=\"math/tex\">-e_{1} + e_{2}</script></td>\n",
       "<td><script type=\"math/tex\">-d_{1} + e_{1}</script></td>\n",
       "<td><script type=\"math/tex\">-d_{2} - e_{2}</script></td>\n",
       "</tr>\n",
       "<tr class =\"row-b\">\n",
       "<td><script type=\"math/tex\">-d_{2} + e_{1}</script></td>\n",
       "<td><script type=\"math/tex\">-e_{1} - e_{2}</script></td>\n",
       "<td><script type=\"math/tex\">-d_{1} + e_{2}</script></td>\n",
       "</tr>\n",
       "<tr class =\"row-a\">\n",
       "<td><script type=\"math/tex\">-e_{1} - e_{2}</script></td>\n",
       "<td><script type=\"math/tex\">-d_{1} + e_{1}</script></td>\n",
       "<td><script type=\"math/tex\">-d_{2} + e_{2}</script></td>\n",
       "</tr>\n",
       "<tr class =\"row-b\">\n",
       "<td><script type=\"math/tex\">-d_{2} + e_{1}</script></td>\n",
       "<td><script type=\"math/tex\">-e_{1} + e_{2}</script></td>\n",
       "<td><script type=\"math/tex\">-d_{1} - e_{2}</script></td>\n",
       "</tr>\n",
       "<tr class =\"row-a\">\n",
       "<td><script type=\"math/tex\">-d_{1} + e_{1}</script></td>\n",
       "<td><script type=\"math/tex\">-d_{2} - e_{1}</script></td>\n",
       "</tr>\n",
       "<tr class =\"row-b\">\n",
       "<td><script type=\"math/tex\">-d_{2} + e_{1}</script></td>\n",
       "<td><script type=\"math/tex\">-d_{1} - e_{1}</script></td>\n",
       "</tr>\n",
       "<tr class =\"row-a\">\n",
       "<td><script type=\"math/tex\">-d_{1} + d_{2}</script></td>\n",
       "<td><script type=\"math/tex\">-2 \\, d_{2}</script></td>\n",
       "</tr>\n",
       "<tr class =\"row-b\">\n",
       "<td><script type=\"math/tex\">-d_{2} - e_{2}</script></td>\n",
       "<td><script type=\"math/tex\">-d_{1} + e_{2}</script></td>\n",
       "</tr>\n",
       "<tr class =\"row-a\">\n",
       "<td><script type=\"math/tex\">-d_{2} + e_{2}</script></td>\n",
       "<td><script type=\"math/tex\">-d_{1} - e_{2}</script></td>\n",
       "</tr>\n",
       "<tr class =\"row-b\">\n",
       "<td><script type=\"math/tex\">-d_{1} - d_{2}</script></td>\n",
       "</tr>\n",
       "</tbody>\n",
       "</table>\n",
       "</div>"
      ],
      "text/plain": [
       "  -d1 + d2\n",
       "  -d1 + d2\n",
       "  -d1 + d2\n",
       "  -d2 + e1\n",
       "  -d1 + d2\n",
       "  -d1 + d2\n",
       "  -e1 + e2\n",
       "  -d2 + e1\n",
       "  -e1 - e2\n",
       "  -d2 + e1\n",
       "  -d1 + e1\n",
       "  -d2 + e1\n",
       "  -d1 + d2\n",
       "  -d2 - e2\n",
       "  -d2 + e2\n",
       "  -d1 - d2"
      ]
     },
     "execution_count": 4,
     "metadata": {},
     "output_type": "execute_result"
    }
   ],
   "source": [
    "#权的正根分解\n",
    "tt = time.time()\n",
    "weight = L.basis[0] + L.basis[1];print('待讨论的权：',weight) #待讨论的权（正交基形式）\n",
    "root = L.vector2root(weight) #转单根形式\n",
    "dec = L.positive_dec(root) #正根分解（元组构成）\n",
    "negative_roots = L.negative_roots #负根\n",
    "dec_root = []\n",
    "for line in dec:\n",
    "    new = []\n",
    "    for i,element in enumerate(line):\n",
    "        if element:\n",
    "            new = new + [negative_roots[i]]*element\n",
    "    dec_root.append(tuple(new))\n",
    "dec_vector = [tuple(L.root2vector(r) for r in line) for line in dec_root]\n",
    "print('权空间维数：',len(dec)) #分解总数目\n",
    "print('用时：%.3fs'%(time.time()-tt))\n",
    "#for line in res_vectors:print(line)\n",
    "table([[i for i in line if i] for line in dec_vector]) #分解结果"
   ]
  },
  {
   "cell_type": "code",
   "execution_count": 48,
   "metadata": {},
   "outputs": [
    {
     "name": "stdout",
     "output_type": "stream",
     "text": [
      "权空间对应的pbw基：\n"
     ]
    },
    {
     "data": {
      "text/plain": [
       "[{(f1, f2^2, f3^2, f4, f5): 1},\n",
       " {(f2, f3^2, f4, f5, f6): 1},\n",
       " {(f1, f2^2, f3, f4, f9): 1},\n",
       " {(f1, f2, f3, f4, f5, f7): 1},\n",
       " {(f1, f2^2, f3, f5, f8): 1},\n",
       " {(f3, f4, f5, f6, f7): 1},\n",
       " {(f1, f2, f4, f7, f9): 1},\n",
       " {(f1, f2^2, f8, f9): 1},\n",
       " {(f2, f3, f4, f5, f10): 1},\n",
       " {(f2, f3, f4, f6, f9): 1},\n",
       " {(f1, f2, f3, f4, f12): 1},\n",
       " {(f1, f4, f5, f7^2): 1},\n",
       " {(f2, f3, f5, f6, f8): 1},\n",
       " {(f1, f2, f5, f7, f8): 1},\n",
       " {(f1, f2, f3, f5, f11): 1},\n",
       " {(f1, f2^2, f3, f13): 1},\n",
       " {(f2, f4, f9, f10): 1},\n",
       " {(f3, f5, f6, f11): 1},\n",
       " {(f4, f5, f7, f10): 1},\n",
       " {(f5, f6, f7, f8): 1},\n",
       " {(f2, f3, f4, f15): 1},\n",
       " {(f1, f2, f8, f12): 1},\n",
       " {(f1, f5, f7, f11): 1},\n",
       " {(f1, f2, f3, f16): 1},\n",
       " {(f2, f5, f8, f10): 1},\n",
       " {(f2, f3, f5, f14): 1},\n",
       " {(f4, f6, f7, f9): 1},\n",
       " {(f2, f3, f6, f13): 1},\n",
       " {(f1, f2, f7, f13): 1},\n",
       " {(f3, f4, f6, f12): 1},\n",
       " {(f2, f6, f8, f9): 1},\n",
       " {(f1, f2, f9, f11): 1},\n",
       " {(f1, f4, f7, f12): 1},\n",
       " {(f2, f10, f13): 1},\n",
       " {(f4, f7, f15): 1},\n",
       " {(f2, f8, f15): 1},\n",
       " {(f5, f10, f11): 1},\n",
       " {(f6, f9, f11): 1},\n",
       " {(f5, f7, f14): 1},\n",
       " {(f6, f8, f12): 1},\n",
       " {(f3, f6, f16): 1},\n",
       " {(f1, f7, f16): 1},\n",
       " {(f6, f7, f13): 1},\n",
       " {(f1, f2, f18): 1},\n",
       " {(f4, f10, f12): 1},\n",
       " {(f2, f9, f14): 1},\n",
       " {(f2, f3, f17): 1},\n",
       " {(f1, f11, f12): 1},\n",
       " {(f10, f16): 1},\n",
       " {(f2, f19): 1},\n",
       " {(f12, f14): 1},\n",
       " {(f7, f17): 1},\n",
       " {(f11, f15): 1},\n",
       " {(f6, f18): 1},\n",
       " {(f20,): 1}]"
      ]
     },
     "execution_count": 48,
     "metadata": {},
     "output_type": "execute_result"
    }
   ],
   "source": [
    "#相应的pbw基\n",
    "basis = [tuple(fs[negative_roots.index(i)] for i in line) for line in dec_root]\n",
    "pbw_basis = [pbw(i) for i in basis]\n",
    "print('权空间对应的pbw基：')\n",
    "pbw_basis"
   ]
  },
  {
   "cell_type": "code",
   "execution_count": null,
   "metadata": {},
   "outputs": [
    {
     "name": "stdout",
     "output_type": "stream",
     "text": [
      "最高权： d*(x1 + 6) + e1*x1 + e2*x2 + e3*x3 + e4*x4\n",
      "计算泛包络上的乘积结果，乘积总数： 275\n",
      "用时：108.942s\n",
      "\n"
     ]
    }
   ],
   "source": [
    "#最高权向量\n",
    "x = Lie.symbols('x',k)\n",
    "la = (x[0]+2*k-2)*L.basis[0] + sum([i*j for i,j in zip(x,L.basis[1:])])\n",
    "print('最高权：',la)\n",
    "\n",
    "#泛包络上计算结果res\n",
    "tt = time.time()\n",
    "res = [[ve[i]*element for element in pbw_basis] for i in range(1,k+t+1)]\n",
    "print(\"计算泛包络上的乘积结果，乘积总数：\",(k+t)*len(pbw_basis))\n",
    "print('用时：%.3fs\\n'%(time.time()-tt))\n",
    "\n",
    "#化简为Verma模的元素\n",
    "tt = time.time()\n",
    "res_verma = [[i.to_verma(la,L,k+t) for i in line] for line in res]\n",
    "res_element = [[i.element for i in line] for line in res_verma] #转化为字典形式\n",
    "print('转化为Verma模上结果，用时：%.3fs\\n'%(time.time()-tt))\n",
    "\n",
    "#转化为矩阵\n",
    "tt = time.time()\n",
    "data = []\n",
    "for line in res_element:\n",
    "    keys = set()\n",
    "    for i in line:\n",
    "        keys = keys.union(i.keys())\n",
    "    data.append(matrix([[ele[key] if key in ele else 0 for key in keys] for ele in line]).transpose())\n",
    "mat = matrix.block(k+t,1,data)\n",
    "mat_sym = Matrix(mat)\n",
    "if k<=3:\n",
    "    print('矩阵的秩为',mat_sym.rank()) #54打印时间太长了！\n",
    "    if k==2:\n",
    "        solution = solve_matrix(mat_sym) #sage上的运算时间太长了！\n",
    "print('矩阵阶数为 %d*%d  '%mat.dimensions(),end='')\n",
    "print('计算用时：%.3fs'%(time.time()-tt))"
   ]
  },
  {
   "cell_type": "code",
   "execution_count": null,
   "metadata": {
    "scrolled": true
   },
   "outputs": [],
   "source": [
    "#matlab矩阵命令\n",
    "print(symmat_to_matlab(mat_sym))"
   ]
  },
  {
   "cell_type": "code",
   "execution_count": 41,
   "metadata": {},
   "outputs": [
    {
     "name": "stdout",
     "output_type": "stream",
     "text": [
      "syms x1 x2 y2 y3 \n",
      "eq1 = 2*x1 + y1 + y2;\n",
      "eq2 = x1 - x2 + y2;\n",
      "eq3 = y1*(x1 - x2 + 1) + y2 - y3;\n",
      "eq4 = x1 + x2 + y1;\n",
      "eq5 = y1 + y2*(x1 + x2 + 1) - y3;\n",
      "sol = solve([eq1, eq2, eq3, eq4, eq5],[y2, y3])\n"
     ]
    }
   ],
   "source": [
    "#matlab解方程组的命令\n",
    "print(symmat_to_command(mat_sym,k))"
   ]
  },
  {
   "cell_type": "code",
   "execution_count": 44,
   "metadata": {},
   "outputs": [
    {
     "name": "stdout",
     "output_type": "stream",
     "text": [
      "[sol.y1, sol.y2, sol.y3]\n"
     ]
    }
   ],
   "source": [
    "#matlab解信息的命令\n",
    "print(read_solution(len(dec)-1))"
   ]
  },
  {
   "cell_type": "code",
   "execution_count": 14,
   "metadata": {},
   "outputs": [],
   "source": []
  },
  {
   "cell_type": "code",
   "execution_count": null,
   "metadata": {},
   "outputs": [],
   "source": []
  },
  {
   "cell_type": "code",
   "execution_count": null,
   "metadata": {},
   "outputs": [],
   "source": []
  },
  {
   "cell_type": "code",
   "execution_count": null,
   "metadata": {},
   "outputs": [],
   "source": []
  },
  {
   "cell_type": "code",
   "execution_count": null,
   "metadata": {},
   "outputs": [],
   "source": []
  },
  {
   "cell_type": "code",
   "execution_count": null,
   "metadata": {},
   "outputs": [],
   "source": []
  },
  {
   "cell_type": "code",
   "execution_count": null,
   "metadata": {},
   "outputs": [],
   "source": []
  },
  {
   "cell_type": "code",
   "execution_count": null,
   "metadata": {},
   "outputs": [],
   "source": [
    "class Pack():\n",
    "    '''多数据位置同步\n",
    "    用于打包数据\n",
    "    call直接调用其中某一个\n",
    "    print属性显示里边包含了哪些内容\n",
    "    \n",
    "    \n",
    "    '''\n",
    "    def __init__(self,*args):\n",
    "        n = len(args)\n",
    "        self.args = args\n",
    "        self.names = ('p%d '*self.n)%tuple(range(1,self.n+1))\n",
    "        \n",
    "    def switch(self,a,n,m):\n",
    "        assert n<=self.n and m<= self.n\n",
    "        old = self.args[n-1]\n",
    "        new = self.args[m-1]\n",
    "        return new[old.index(a)]\n",
    "    "
   ]
  },
  {
   "cell_type": "code",
   "execution_count": null,
   "metadata": {
    "scrolled": false
   },
   "outputs": [],
   "source": [
    "def var2sym(expr,basis1,basis2):\n",
    "    if isinstance(expr,Integer):return expr\n",
    "    coef = Lie.coefficients(expr,basis1)\n",
    "    return sum([i*j for i,j in zip(coef,basis2)])"
   ]
  }
 ],
 "metadata": {
  "kernelspec": {
   "display_name": "SageMath 9.0",
   "language": "sage",
   "name": "sagemath"
  },
  "language_info": {
   "codemirror_mode": {
    "name": "ipython",
    "version": 3
   },
   "file_extension": ".py",
   "mimetype": "text/x-python",
   "name": "python",
   "nbconvert_exporter": "python",
   "pygments_lexer": "ipython3",
   "version": "3.7.3"
  }
 },
 "nbformat": 4,
 "nbformat_minor": 2
}

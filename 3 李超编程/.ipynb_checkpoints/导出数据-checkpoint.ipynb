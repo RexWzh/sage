{
 "cells": [
  {
   "cell_type": "code",
   "execution_count": 2,
   "metadata": {},
   "outputs": [
    {
     "name": "stdout",
     "output_type": "stream",
     "text": [
      "导入相关工具包：\n",
      "1. Lie.sage：李代数工具，以及C,D族李代数\n",
      "2. spo.sage：李超代数工具，以及spo\n",
      "3. MatSp.sage：矩阵空间，求矩阵关于矩阵基的线性表示\n",
      "4. AlgebraBSC：求李/李超代数的结构常数，以及由结构常数生成代数\n",
      "5. pbw.sage/pbws.sage 李/李超代数的pbw基\n",
      "6. rex.py 解方程工具\n",
      "\n",
      "李超代数：spo(4,4)\n",
      "空间维数为：32\n",
      "正根数目为：14\n",
      "\n",
      "计算结构常数\n",
      "\n",
      "计算李超代数泛包络的pbw基\n",
      "初始化完毕，用时 3.611s\n",
      "\n",
      "待讨论的权： delta2 + epsilon1\n",
      "权空间维数： 4\n",
      "用时：0.028s\n",
      "\n",
      "权空间对应的pbw基：\n",
      "{(f2, f3, f4): 1}\n",
      "{(f3, f7): 1}\n",
      "{(f4, f6): 1}\n",
      "{(f10,): 1}\n",
      "\n",
      "最高权： delta2*(x1 + 2) + epsilon1*x1 + epsilon2*x2 + delta1*z1\n",
      "计算泛包络上的乘积结果，乘积总数： 16\n",
      "用时：1.405s\n",
      "\n",
      "转化为Verma模上结果，用时：0.378s\n",
      "\n",
      "矩阵阶数为 5*4  计算用时：0.013s\n"
     ]
    }
   ],
   "source": [
    "import pyperclip\n",
    "m,n = 2,2\n",
    "s,t = 2,1\n",
    "load('zong.sage')"
   ]
  },
  {
   "cell_type": "code",
   "execution_count": null,
   "metadata": {},
   "outputs": [],
   "source": []
  },
  {
   "cell_type": "code",
   "execution_count": 2,
   "metadata": {},
   "outputs": [
    {
     "name": "stdout",
     "output_type": "stream",
     "text": [
      "\\begin{table}[h]\n",
      "\\centering\n",
      "\\scalebox{1.000}{\n",
      "\\rowcolors{2}{gray!25}{white}\n",
      "\\begin{tabular}{|c|c|}\n",
      "\\rowcolor{gray!50}\n",
      "\\hline\n",
      "基元 &对应分解序列\\\\\\hline\n",
      "$v_{1}$ &($ -\\delta_{2} + \\epsilon_{1} $, $ -\\epsilon_{1} + \\epsilon_{2} $, $ -\\epsilon_{1} - \\epsilon_{2} $)\\\\\n",
      "$v_{2}$ &($ -\\epsilon_{1} + \\epsilon_{2} $, $ -\\delta_{2} - \\epsilon_{2} $)\\\\\n",
      "$v_{3}$ &($ -\\epsilon_{1} - \\epsilon_{2} $, $ -\\delta_{2} + \\epsilon_{2} $)\\\\\n",
      "$v_{4}$ &($ -\\delta_{2} - \\epsilon_{1} $,)\\\\\\hline\n",
      "\\end{tabular}}\n",
      "\\end{table}\n"
     ]
    },
    {
     "name": "stderr",
     "output_type": "stream",
     "text": [
      "/opt/sagemath-9.0/local/lib/python3.7/site-packages/pyperclip/__init__.py:503: UserWarning: Pyperclip's support for Cygwin is not perfect, see https://github.com/asweigart/pyperclip/issues/55\n",
      "  warnings.warn('Pyperclip\\'s support for Cygwin is not perfect, see https://github.com/asweigart/pyperclip/issues/55')\n"
     ]
    }
   ],
   "source": [
    "#打印基元\n",
    "res_pbw = [('基元','对应分解序列')]\n",
    "#v = Lie.symbols('v',len(dec_vector)+1)\n",
    "dec_latex = [tuple('$'+latex(i)+'$' for i in line) for line in dec_vector]\n",
    "for i,e in enumerate(dec_latex):\n",
    "    res_pbw.append(['$v_{%d}$'%(i+1),e])\n",
    "latex_table(res_pbw)"
   ]
  },
  {
   "cell_type": "code",
   "execution_count": 27,
   "metadata": {},
   "outputs": [
    {
     "name": "stdout",
     "output_type": "stream",
     "text": [
      "\\begin{align*}\n",
      " \\left(\\begin{array}{rrrr}\n",
      "2 \\, x_{1} & 1 & 1 & 0 \\\\\n",
      "\\hline\n",
      " x_{1} - x_{2} & 0 & 1 & 0 \\\\\n",
      "0 & x_{1} - x_{2} + 1 & 1 & -1 \\\\\n",
      "\\hline\n",
      " x_{1} + x_{2} & 1 & 0 & 0 \\\\\n",
      "0 & 1 & x_{1} + x_{2} + 1 & -1\n",
      "\\end{array}\\right) \n",
      "\\end{align*}\n"
     ]
    }
   ],
   "source": [
    "#打印矩阵（在cocalc上导出为矩阵）\n",
    "txt = '\\\\begin{align*}\\n'+latex(mat)+'\\n\\\\end{align*}'\n",
    "pyperclip.copy(txt)\n",
    "print(txt)"
   ]
  },
  {
   "cell_type": "code",
   "execution_count": null,
   "metadata": {},
   "outputs": [],
   "source": [
    "tic\n",
    "syms x1 x2 z2 y1 y2 y3 y4 y5 y6 y7 \n",
    "eq1 = y1*(x1 - z2 + 2) - y3 - y5;\n",
    "eq2 = x1 - y3 - z2 + 2;\n",
    "eq3 = -y3 + y4*(x1 - z2 + 2) - y7;\n",
    "eq4 = y2*(x1 - z2 + 2) - y3 - y6;\n",
    "eq5 = x1 + y1 + y2 + y3 + z2 - 2;\n",
    "eq6 = y5*(x1 - x2 + 1) - y7;\n",
    "eq7 = y1*(x1 - x2 + 1) + y2 - y4;\n",
    "eq8 = y3*(x1 - x2 + 1) + y6;\n",
    "eq9 = x1 - x2 + y2;\n",
    "eq10 = y6*(x1 + x2 + 1) - y7;\n",
    "eq11 = y3*(x1 + x2 + 1) + y5;\n",
    "eq12 = x1 + x2 + y1;\n",
    "eq13 = y1 + y2*(x1 + x2 + 1) - y4;\n",
    "sol = solve([eq1, eq2, eq3, eq4, eq5, eq6, eq7, eq8, eq9, eq10, eq11, eq12, eq13],[y1, y2, y3, y4, y5, y6, y7]);\n",
    "toc\n"
   ]
  },
  {
   "cell_type": "code",
   "execution_count": 20,
   "metadata": {
    "scrolled": true
   },
   "outputs": [
    {
     "name": "stdout",
     "output_type": "stream",
     "text": [
      "tic\n",
      "syms x1 x2 y1 y2 y3 y4 y5 y6 y7 \n",
      "eq1 = y1*(x1 - z2 + 2) - y3 - y5;\n",
      "eq2 = x1 - y3 - z2 + 2;\n",
      "eq3 = -y3 + y4*(x1 - z2 + 2) - y7;\n",
      "eq4 = y2*(x1 - z2 + 2) - y3 - y6;\n",
      "eq5 = x1 + y1 + y2 + y3 + z2 - 2;\n",
      "eq6 = y5*(x1 - x2 + 1) - y7;\n",
      "eq7 = y1*(x1 - x2 + 1) + y2 - y4;\n",
      "eq8 = y3*(x1 - x2 + 1) + y6;\n",
      "eq9 = x1 - x2 + y2;\n",
      "eq10 = y6*(x1 + x2 + 1) - y7;\n",
      "eq11 = y3*(x1 + x2 + 1) + y5;\n",
      "eq12 = x1 + x2 + y1;\n",
      "eq13 = y1 + y2*(x1 + x2 + 1) - y4;\n",
      "sol = solve([eq1, eq2, eq3, eq4, eq5, eq6, eq7, eq8, eq9, eq10, eq11, eq12, eq13],[y1, y2, y3, y4, y5, y6, y7]);\n",
      "toc\n",
      "\n"
     ]
    }
   ],
   "source": [
    "print(symmat_to_command(mat_sym,2))"
   ]
  },
  {
   "cell_type": "code",
   "execution_count": 21,
   "metadata": {},
   "outputs": [
    {
     "data": {
      "text/plain": [
       "'[sol.y1, sol.y2, sol.y3, sol.y4, sol.y5, sol.y6, sol.y7]'"
      ]
     },
     "execution_count": 21,
     "metadata": {},
     "output_type": "execute_result"
    }
   ],
   "source": [
    "read_solution(7)"
   ]
  },
  {
   "cell_type": "code",
   "execution_count": 24,
   "metadata": {},
   "outputs": [
    {
     "name": "stdout",
     "output_type": "stream",
     "text": [
      "\\begin{table}[h]\n",
      "\\centering\n",
      "\\scalebox{1.000}{\n",
      "\\rowcolors{2}{gray!25}{white}\n",
      "\\begin{tabular}{|c|c|}\n",
      "\\rowcolor{gray!50}\n",
      "\\hline\n",
      "基元 &解系数\\\\\\hline\n",
      "$v_{1}$ &$ 1 $\\\\\n",
      "$v_{2}$ &$ -x_{1} - x_{2} $\\\\\n",
      "$v_{3}$ &$ -x_{1} + x_{2} $\\\\\n",
      "$v_{4}$ &$ -x_{1}^{2} + x_{2}^{2} - 2 \\, x_{1} $\\\\\\hline\n",
      "\\end{tabular}}\n",
      "\\end{table}\n"
     ]
    }
   ],
   "source": [
    "#打印解集\n",
    "#load('data.sage')\n",
    "#res = res4\n",
    "res = [1, - x1 - x2, x2 - x1, - x1^2 - 2*x1 + x2^2] #spo(4|4) d_2+e_1\n",
    "#res = [ - x1 - x2, x2 - x1, x1 - z2 + 2, - x1^2 - 2*x1 + x2^2, -(x1 + x2 + 1)*(x1 - z2 + 2), -(x1 - z2 + 2)*(x1 - x2 + 1), -(x1 + x2 + 1)*(x1 - x2 + 1)*(x1 - z2 + 2)]\n",
    " \n",
    "res_solve = []\n",
    "for i,e in enumerate(res):\n",
    "    res_solve.append(['$v_{%d}$'%(i+1),'$'+latex(e)+'$'])\n",
    "latex_table([('基元','解系数')]+res_solve,scale=1)"
   ]
  }
 ],
 "metadata": {
  "kernelspec": {
   "display_name": "SageMath 9.0",
   "language": "sage",
   "name": "sagemath"
  },
  "language_info": {
   "codemirror_mode": {
    "name": "ipython",
    "version": 3
   },
   "file_extension": ".py",
   "mimetype": "text/x-python",
   "name": "python",
   "nbconvert_exporter": "python",
   "pygments_lexer": "ipython3",
   "version": "3.7.3"
  }
 },
 "nbformat": 4,
 "nbformat_minor": 2
}

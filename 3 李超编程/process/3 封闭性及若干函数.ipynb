{
 "cells": [
  {
   "cell_type": "code",
   "execution_count": 1,
   "metadata": {},
   "outputs": [],
   "source": [
    "load('../pkg/Lie.sage')\n",
    "load('../pkg/spo.sage')\n",
    "load('../pkg/MatSp.sage')"
   ]
  },
  {
   "cell_type": "code",
   "execution_count": 6,
   "metadata": {},
   "outputs": [],
   "source": [
    "class SpO(SpO):\n",
    "    def root_on_diag(self,alpha,h,root=True):\n",
    "        '''根对对角阵的作用'''\n",
    "        assert matrix.diagonal(h.diagonal())==h, 'h必须为对角阵'\n",
    "        diag,m,n = h.diagonal(),self.m,self.n\n",
    "        assert diag[:m]==[-i for i in diag[m:2*m]],'h必须在Cartan子代数上！'\n",
    "        assert diag[2*m:2*m+n]==[-i for i in diag[2*m+n:]],'h必须在Cartan子代数上！'\n",
    "        if root:\n",
    "            alpha = self.root2vector(alpha)\n",
    "        coef = self.coefficients(alpha,self.basis)\n",
    "        return sum([i*j for i,j in zip(diag[:m]+diag[2*m:2*m+n],coef)])\n",
    "    \n",
    "    def super_trace(self,mat):\n",
    "        '''计算矩阵的超迹'''\n",
    "        m,n = self.m,self.n\n",
    "        return mat[:2*m,:2*m].trace()-mat[-2*n:,-2*n:].trace()\n",
    "    \n",
    "    def B(self,m1,m2):\n",
    "        '''双线性型'''\n",
    "        return self.super_trace(m1*m2)\n",
    "    "
   ]
  },
  {
   "cell_type": "code",
   "execution_count": 4,
   "metadata": {
    "collapsed": true
   },
   "outputs": [
    {
     "data": {
      "text/html": [
       "<div class=\"notruncate\">\n",
       "<table  class=\"table_form\">\n",
       "<tbody>\n",
       "<tr class =\"row-a\">\n",
       "<td><script type=\"math/tex\">a_{1}</script></td>\n",
       "<td><script type=\"math/tex\">\\delta_{1} - \\delta_{2}</script></td>\n",
       "<td><script type=\"math/tex\">1</script></td>\n",
       "<td><script type=\"math/tex\">\\left[v_{1}\\right]</script></td>\n",
       "</tr>\n",
       "<tr class =\"row-b\">\n",
       "<td><script type=\"math/tex\">a_{2}</script></td>\n",
       "<td><script type=\"math/tex\">\\delta_{2} - \\epsilon_{1}</script></td>\n",
       "<td><script type=\"math/tex\">1</script></td>\n",
       "<td><script type=\"math/tex\">\\left[v_{2}\\right]</script></td>\n",
       "</tr>\n",
       "<tr class =\"row-a\">\n",
       "<td><script type=\"math/tex\">b_{1}</script></td>\n",
       "<td><script type=\"math/tex\">\\epsilon_{1} - \\epsilon_{2}</script></td>\n",
       "<td><script type=\"math/tex\">1</script></td>\n",
       "<td><script type=\"math/tex\">\\left[v_{3}\\right]</script></td>\n",
       "</tr>\n",
       "<tr class =\"row-b\">\n",
       "<td><script type=\"math/tex\">b_{2}</script></td>\n",
       "<td><script type=\"math/tex\">\\epsilon_{2} - \\epsilon_{3}</script></td>\n",
       "<td><script type=\"math/tex\">1</script></td>\n",
       "<td><script type=\"math/tex\">\\left[v_{4}\\right]</script></td>\n",
       "</tr>\n",
       "<tr class =\"row-a\">\n",
       "<td><script type=\"math/tex\">b_{3}</script></td>\n",
       "<td><script type=\"math/tex\">\\epsilon_{2} + \\epsilon_{3}</script></td>\n",
       "<td><script type=\"math/tex\">1</script></td>\n",
       "<td><script type=\"math/tex\">\\left[v_{5}\\right]</script></td>\n",
       "</tr>\n",
       "<tr class =\"row-b\">\n",
       "<td><script type=\"math/tex\">a_{1} + a_{2}</script></td>\n",
       "<td><script type=\"math/tex\">\\delta_{1} - \\epsilon_{1}</script></td>\n",
       "<td><script type=\"math/tex\">2</script></td>\n",
       "<td><script type=\"math/tex\">\\left[v_{1} + v_{2}, v_{6}\\right]</script></td>\n",
       "</tr>\n",
       "<tr class =\"row-a\">\n",
       "<td><script type=\"math/tex\">a_{2} + b_{1}</script></td>\n",
       "<td><script type=\"math/tex\">\\delta_{2} - \\epsilon_{2}</script></td>\n",
       "<td><script type=\"math/tex\">2</script></td>\n",
       "<td><script type=\"math/tex\">\\left[v_{2} + v_{3}, v_{7}\\right]</script></td>\n",
       "</tr>\n",
       "<tr class =\"row-b\">\n",
       "<td><script type=\"math/tex\">b_{1} + b_{2}</script></td>\n",
       "<td><script type=\"math/tex\">\\epsilon_{1} - \\epsilon_{3}</script></td>\n",
       "<td><script type=\"math/tex\">2</script></td>\n",
       "<td><script type=\"math/tex\">\\left[v_{3} + v_{4}, v_{8}\\right]</script></td>\n",
       "</tr>\n",
       "<tr class =\"row-a\">\n",
       "<td><script type=\"math/tex\">b_{1} + b_{3}</script></td>\n",
       "<td><script type=\"math/tex\">\\epsilon_{1} + \\epsilon_{3}</script></td>\n",
       "<td><script type=\"math/tex\">2</script></td>\n",
       "<td><script type=\"math/tex\">\\left[v_{3} + v_{5}, v_{9}\\right]</script></td>\n",
       "</tr>\n",
       "<tr class =\"row-b\">\n",
       "<td><script type=\"math/tex\">a_{1} + a_{2} + b_{1}</script></td>\n",
       "<td><script type=\"math/tex\">\\delta_{1} - \\epsilon_{2}</script></td>\n",
       "<td><script type=\"math/tex\">4</script></td>\n",
       "<td><script type=\"math/tex\">\\left[v_{1} + v_{2} + v_{3}, v_{1} + v_{7}, v_{3} + v_{6}, v_{10}\\right]</script></td>\n",
       "</tr>\n",
       "<tr class =\"row-a\">\n",
       "<td><script type=\"math/tex\">a_{2} + b_{1} + b_{2}</script></td>\n",
       "<td><script type=\"math/tex\">\\delta_{2} - \\epsilon_{3}</script></td>\n",
       "<td><script type=\"math/tex\">4</script></td>\n",
       "<td><script type=\"math/tex\">\\left[v_{2} + v_{3} + v_{4}, v_{2} + v_{8}, v_{4} + v_{7}, v_{11}\\right]</script></td>\n",
       "</tr>\n",
       "<tr class =\"row-b\">\n",
       "<td><script type=\"math/tex\">a_{2} + b_{1} + b_{3}</script></td>\n",
       "<td><script type=\"math/tex\">\\delta_{2} + \\epsilon_{3}</script></td>\n",
       "<td><script type=\"math/tex\">4</script></td>\n",
       "<td><script type=\"math/tex\">\\left[v_{2} + v_{3} + v_{5}, v_{5} + v_{7}, v_{2} + v_{9}, v_{12}\\right]</script></td>\n",
       "</tr>\n",
       "<tr class =\"row-a\">\n",
       "<td><script type=\"math/tex\">b_{1} + b_{2} + b_{3}</script></td>\n",
       "<td><script type=\"math/tex\">\\epsilon_{1} + \\epsilon_{2}</script></td>\n",
       "<td><script type=\"math/tex\">4</script></td>\n",
       "<td><script type=\"math/tex\">\\left[v_{3} + v_{4} + v_{5}, v_{5} + v_{8}, v_{4} + v_{9}, v_{13}\\right]</script></td>\n",
       "</tr>\n",
       "<tr class =\"row-b\">\n",
       "<td><script type=\"math/tex\">a_{1} + a_{2} + b_{1} + b_{2}</script></td>\n",
       "<td><script type=\"math/tex\">\\delta_{1} - \\epsilon_{3}</script></td>\n",
       "<td><script type=\"math/tex\">8</script></td>\n",
       "<td><script type=\"math/tex\">\\left[v_{1} + v_{2} + v_{3} + v_{4}, v_{3} + v_{4} + v_{6}, v_{1} + v_{2} + v_{8}, v_{1} + v_{4} + v_{7}, v_{1} + v_{11}, v_{10} + v_{4}, v_{6} + v_{8}, v_{14}\\right]</script></td>\n",
       "</tr>\n",
       "<tr class =\"row-a\">\n",
       "<td><script type=\"math/tex\">a_{1} + a_{2} + b_{1} + b_{3}</script></td>\n",
       "<td><script type=\"math/tex\">\\delta_{1} + \\epsilon_{3}</script></td>\n",
       "<td><script type=\"math/tex\">8</script></td>\n",
       "<td><script type=\"math/tex\">\\left[v_{1} + v_{2} + v_{3} + v_{5}, v_{1} + v_{5} + v_{7}, v_{1} + v_{2} + v_{9}, v_{3} + v_{5} + v_{6}, v_{1} + v_{12}, v_{6} + v_{9}, v_{10} + v_{5}, v_{15}\\right]</script></td>\n",
       "</tr>\n",
       "<tr class =\"row-b\">\n",
       "<td><script type=\"math/tex\">a_{2} + b_{1} + b_{2} + b_{3}</script></td>\n",
       "<td><script type=\"math/tex\">\\delta_{2} + \\epsilon_{2}</script></td>\n",
       "<td><script type=\"math/tex\">8</script></td>\n",
       "<td><script type=\"math/tex\">\\left[v_{2} + v_{3} + v_{4} + v_{5}, v_{4} + v_{5} + v_{7}, v_{2} + v_{5} + v_{8}, v_{2} + v_{4} + v_{9}, v_{13} + v_{2}, v_{11} + v_{5}, v_{12} + v_{4}, v_{16}\\right]</script></td>\n",
       "</tr>\n",
       "<tr class =\"row-a\">\n",
       "<td><script type=\"math/tex\">a_{1} + a_{2} + b_{1} + b_{2} + b_{3}</script></td>\n",
       "<td><script type=\"math/tex\">\\delta_{1} + \\epsilon_{2}</script></td>\n",
       "<td><script type=\"math/tex\">16</script></td>\n",
       "<td><script type=\"math/tex\">\\left[v_{1} + v_{2} + v_{3} + v_{4} + v_{5}, v_{1} + v_{2} + v_{4} + v_{9}, v_{1} + v_{4} + v_{5} + v_{7}, v_{3} + v_{4} + v_{5} + v_{6}, v_{1} + v_{2} + v_{5} + v_{8}, v_{1} + v_{12} + v_{4}, v_{5} + v_{6} + v_{8}, v_{1} + v_{13} + v_{2}, v_{4} + v_{6} + v_{9}, v_{10} + v_{4} + v_{5}, v_{1} + v_{11} + v_{5}, v_{14} + v_{5}, v_{1} + v_{16}, v_{13} + v_{6}, v_{15} + v_{4}, v_{17}\\right]</script></td>\n",
       "</tr>\n",
       "<tr class =\"row-b\">\n",
       "<td><script type=\"math/tex\">a_{2} + 2 \\, b_{1} + b_{2} + b_{3}</script></td>\n",
       "<td><script type=\"math/tex\">\\delta_{2} + \\epsilon_{1}</script></td>\n",
       "<td><script type=\"math/tex\">15</script></td>\n",
       "<td><script type=\"math/tex\">\\left[v_{2} + 2 \\, v_{3} + v_{4} + v_{5}, v_{2} + v_{3} + v_{4} + v_{9}, v_{3} + v_{4} + v_{5} + v_{7}, v_{2} + v_{3} + v_{5} + v_{8}, v_{12} + v_{3} + v_{4}, v_{2} + v_{8} + v_{9}, v_{13} + v_{2} + v_{3}, v_{5} + v_{7} + v_{8}, v_{11} + v_{3} + v_{5}, v_{4} + v_{7} + v_{9}, v_{11} + v_{9}, v_{16} + v_{3}, v_{13} + v_{7}, v_{12} + v_{8}, v_{18}\\right]</script></td>\n",
       "</tr>\n",
       "<tr class =\"row-a\">\n",
       "<td><script type=\"math/tex\">a_{1} + a_{2} + 2 \\, b_{1} + b_{2} + b_{3}</script></td>\n",
       "<td><script type=\"math/tex\">\\delta_{1} + \\epsilon_{1}</script></td>\n",
       "<td><script type=\"math/tex\">30</script></td>\n",
       "<td><script type=\"math/tex\">\\left[v_{1} + v_{2} + 2 \\, v_{3} + v_{4} + v_{5}, v_{1} + v_{3} + v_{4} + v_{5} + v_{7}, v_{1} + v_{2} + v_{3} + v_{5} + v_{8}, 2 \\, v_{3} + v_{4} + v_{5} + v_{6}, v_{1} + v_{2} + v_{3} + v_{4} + v_{9}, v_{1} + v_{2} + v_{8} + v_{9}, v_{1} + v_{12} + v_{3} + v_{4}, v_{3} + v_{4} + v_{6} + v_{9}, v_{3} + v_{5} + v_{6} + v_{8}, v_{1} + v_{11} + v_{3} + v_{5}, v_{1} + v_{4} + v_{7} + v_{9}, v_{1} + v_{5} + v_{7} + v_{8}, v_{10} + v_{3} + v_{4} + v_{5}, v_{1} + v_{13} + v_{2} + v_{3}, v_{1} + v_{12} + v_{8}, v_{15} + v_{3} + v_{4}, v_{1} + v_{16} + v_{3}, v_{1} + v_{13} + v_{7}, v_{6} + v_{8} + v_{9}, v_{10} + v_{4} + v_{9}, v_{14} + v_{3} + v_{5}, v_{13} + v_{3} + v_{6}, v_{1} + v_{11} + v_{9}, v_{10} + v_{5} + v_{8}, v_{10} + v_{13}, v_{15} + v_{8}, v_{17} + v_{3}, v_{1} + v_{18}, v_{14} + v_{9}, v_{19}\\right]</script></td>\n",
       "</tr>\n",
       "<tr class =\"row-b\">\n",
       "<td><script type=\"math/tex\">2 \\, a_{2} + 2 \\, b_{1} + b_{2} + b_{3}</script></td>\n",
       "<td><script type=\"math/tex\">2 \\, \\delta_{2}</script></td>\n",
       "<td><script type=\"math/tex\">21</script></td>\n",
       "<td><script type=\"math/tex\">\\left[2 \\, v_{2} + 2 \\, v_{3} + v_{4} + v_{5}, 2 \\, v_{2} + v_{3} + v_{5} + v_{8}, v_{2} + v_{3} + v_{4} + v_{5} + v_{7}, 2 \\, v_{2} + v_{3} + v_{4} + v_{9}, 2 \\, v_{2} + v_{8} + v_{9}, v_{4} + v_{5} + 2 \\, v_{7}, v_{12} + v_{2} + v_{3} + v_{4}, v_{11} + v_{2} + v_{3} + v_{5}, v_{2} + v_{4} + v_{7} + v_{9}, v_{2} + v_{5} + v_{7} + v_{8}, v_{13} + 2 \\, v_{2} + v_{3}, v_{11} + v_{5} + v_{7}, v_{11} + v_{2} + v_{9}, v_{12} + v_{4} + v_{7}, v_{12} + v_{2} + v_{8}, v_{16} + v_{2} + v_{3}, v_{13} + v_{2} + v_{7}, v_{16} + v_{7}, v_{18} + v_{2}, v_{11} + v_{12}, v_{20}\\right]</script></td>\n",
       "</tr>\n",
       "<tr class =\"row-a\">\n",
       "<td><script type=\"math/tex\">a_{1} + 2 \\, a_{2} + 2 \\, b_{1} + b_{2} + b_{3}</script></td>\n",
       "<td><script type=\"math/tex\">\\delta_{1} + \\delta_{2}</script></td>\n",
       "<td><script type=\"math/tex\">56</script></td>\n",
       "<td><script type=\"math/tex\">\\left[v_{1} + 2 \\, v_{2} + 2 \\, v_{3} + v_{4} + v_{5}, v_{1} + 2 \\, v_{2} + v_{3} + v_{4} + v_{9}, v_{2} + 2 \\, v_{3} + v_{4} + v_{5} + v_{6}, v_{1} + 2 \\, v_{2} + v_{3} + v_{5} + v_{8}, v_{1} + v_{2} + v_{3} + v_{4} + v_{5} + v_{7}, v_{1} + 2 \\, v_{2} + v_{8} + v_{9}, v_{3} + v_{4} + v_{5} + v_{6} + v_{7}, v_{2} + v_{3} + v_{5} + v_{6} + v_{8}, v_{1} + v_{4} + v_{5} + 2 \\, v_{7}, v_{2} + v_{3} + v_{4} + v_{6} + v_{9}, v_{1} + v_{13} + 2 \\, v_{2} + v_{3}, v_{1} + v_{11} + v_{2} + v_{3} + v_{5}, v_{1} + v_{2} + v_{5} + v_{7} + v_{8}, v_{1} + v_{2} + v_{4} + v_{7} + v_{9}, v_{10} + v_{2} + v_{3} + v_{4} + v_{5}, v_{1} + v_{12} + v_{2} + v_{3} + v_{4}, v_{2} + v_{6} + v_{8} + v_{9}, v_{1} + v_{12} + v_{2} + v_{8}, v_{5} + v_{6} + v_{7} + v_{8}, v_{12} + v_{3} + v_{4} + v_{6}, v_{11} + v_{3} + v_{5} + v_{6}, v_{13} + v_{2} + v_{3} + v_{6}, v_{10} + v_{2} + v_{4} + v_{9}, v_{1} + v_{12} + v_{4} + v_{7}, v_{1} + v_{11} + v_{2} + v_{9}, v_{1} + v_{11} + v_{5} + v_{7}, v_{10} + v_{4} + v_{5} + v_{7}, v_{15} + v_{2} + v_{3} + v_{4}, v_{10} + v_{2} + v_{5} + v_{8}, v_{1} + v_{13} + v_{2} + v_{7}, v_{4} + v_{6} + v_{7} + v_{9}, v_{14} + v_{2} + v_{3} + v_{5}, v_{1} + v_{16} + v_{2} + v_{3}, v_{10} + v_{12} + v_{4}, v_{14} + v_{5} + v_{7}, v_{13} + v_{6} + v_{7}, v_{10} + v_{11} + v_{5}, v_{1} + v_{18} + v_{2}, v_{15} + v_{4} + v_{7}, v_{11} + v_{6} + v_{9}, v_{17} + v_{2} + v_{3}, v_{15} + v_{2} + v_{8}, v_{10} + v_{13} + v_{2}, v_{1} + v_{16} + v_{7}, v_{12} + v_{6} + v_{8}, v_{14} + v_{2} + v_{9}, v_{16} + v_{3} + v_{6}, v_{1} + v_{11} + v_{12}, v_{12} + v_{14}, v_{1} + v_{20}, v_{19} + v_{2}, v_{11} + v_{15}, v_{18} + v_{6}, v_{17} + v_{7}, v_{10} + v_{16}, v_{21}\\right]</script></td>\n",
       "</tr>\n",
       "<tr class =\"row-b\">\n",
       "<td><script type=\"math/tex\">2 \\, a_{1} + 2 \\, a_{2} + 2 \\, b_{1} + b_{2} + b_{3}</script></td>\n",
       "<td><script type=\"math/tex\">2 \\, \\delta_{1}</script></td>\n",
       "<td><script type=\"math/tex\">77</script></td>\n",
       "<td><script type=\"math/tex\">\\left[2 \\, v_{1} + 2 \\, v_{2} + 2 \\, v_{3} + v_{4} + v_{5}, v_{1} + v_{2} + 2 \\, v_{3} + v_{4} + v_{5} + v_{6}, 2 \\, v_{1} + v_{2} + v_{3} + v_{4} + v_{5} + v_{7}, 2 \\, v_{1} + 2 \\, v_{2} + v_{3} + v_{4} + v_{9}, 2 \\, v_{1} + 2 \\, v_{2} + v_{3} + v_{5} + v_{8}, 2 \\, v_{1} + v_{4} + v_{5} + 2 \\, v_{7}, 2 \\, v_{1} + 2 \\, v_{2} + v_{8} + v_{9}, v_{1} + v_{2} + v_{3} + v_{4} + v_{6} + v_{9}, 2 \\, v_{1} + v_{2} + v_{4} + v_{7} + v_{9}, 2 \\, v_{1} + v_{11} + v_{2} + v_{3} + v_{5}, v_{1} + v_{2} + v_{3} + v_{5} + v_{6} + v_{8}, v_{1} + v_{3} + v_{4} + v_{5} + v_{6} + v_{7}, 2 \\, v_{1} + v_{2} + v_{5} + v_{7} + v_{8}, v_{1} + v_{10} + v_{2} + v_{3} + v_{4} + v_{5}, 2 \\, v_{3} + v_{4} + v_{5} + 2 \\, v_{6}, 2 \\, v_{1} + v_{13} + 2 \\, v_{2} + v_{3}, 2 \\, v_{1} + v_{12} + v_{2} + v_{3} + v_{4}, v_{1} + v_{10} + v_{4} + v_{5} + v_{7}, v_{1} + v_{15} + v_{2} + v_{3} + v_{4}, v_{1} + v_{11} + v_{3} + v_{5} + v_{6}, v_{1} + v_{5} + v_{6} + v_{7} + v_{8}, v_{1} + v_{10} + v_{2} + v_{4} + v_{9}, 2 \\, v_{1} + v_{12} + v_{4} + v_{7}, v_{1} + v_{13} + v_{2} + v_{3} + v_{6}, 2 \\, v_{1} + v_{13} + v_{2} + v_{7}, v_{3} + v_{5} + 2 \\, v_{6} + v_{8}, v_{3} + v_{4} + 2 \\, v_{6} + v_{9}, v_{1} + v_{4} + v_{6} + v_{7} + v_{9}, v_{1} + v_{10} + v_{2} + v_{5} + v_{8}, 2 \\, v_{1} + v_{12} + v_{2} + v_{8}, v_{1} + v_{12} + v_{3} + v_{4} + v_{6}, v_{10} + v_{3} + v_{4} + v_{5} + v_{6}, 2 \\, v_{1} + v_{11} + v_{2} + v_{9}, 2 \\, v_{1} + v_{11} + v_{5} + v_{7}, v_{1} + v_{14} + v_{2} + v_{3} + v_{5}, 2 \\, v_{1} + v_{16} + v_{2} + v_{3}, v_{1} + v_{2} + v_{6} + v_{8} + v_{9}, 2 \\, v_{10} + v_{4} + v_{5}, v_{1} + v_{13} + v_{6} + v_{7}, v_{1} + v_{10} + v_{11} + v_{5}, 2 \\, v_{1} + v_{11} + v_{12}, v_{1} + v_{17} + v_{2} + v_{3}, v_{15} + v_{3} + v_{4} + v_{6}, v_{10} + v_{4} + v_{6} + v_{9}, v_{1} + v_{14} + v_{5} + v_{7}, v_{1} + v_{14} + v_{2} + v_{9}, v_{1} + v_{10} + v_{13} + v_{2}, v_{1} + v_{15} + v_{2} + v_{8}, 2 \\, v_{6} + v_{8} + v_{9}, 2 \\, v_{1} + v_{16} + v_{7}, v_{1} + v_{10} + v_{12} + v_{4}, v_{10} + v_{5} + v_{6} + v_{8}, v_{1} + v_{11} + v_{6} + v_{9}, 2 \\, v_{1} + v_{18} + v_{2}, v_{1} + v_{15} + v_{4} + v_{7}, v_{14} + v_{3} + v_{5} + v_{6}, v_{1} + v_{16} + v_{3} + v_{6}, v_{1} + v_{12} + v_{6} + v_{8}, v_{13} + v_{3} + 2 \\, v_{6}, v_{1} + v_{11} + v_{15}, v_{10} + v_{15} + v_{4}, v_{1} + v_{19} + v_{2}, v_{14} + v_{6} + v_{9}, v_{1} + v_{18} + v_{6}, v_{1} + v_{10} + v_{16}, v_{1} + v_{17} + v_{7}, v_{1} + v_{12} + v_{14}, v_{10} + v_{14} + v_{5}, 2 \\, v_{1} + v_{20}, v_{17} + v_{3} + v_{6}, v_{15} + v_{6} + v_{8}, v_{10} + v_{13} + v_{6}, v_{10} + v_{17}, v_{14} + v_{15}, v_{1} + v_{21}, v_{19} + v_{6}, v_{22}\\right]</script></td>\n",
       "</tr>\n",
       "</tbody>\n",
       "</table>\n",
       "</div>"
      ],
      "text/plain": [
       "  a1                             delta1 - delta2       1    [v1]\n",
       "  a2                             delta2 - epsilon1     1    [v2]\n",
       "  b1                             epsilon1 - epsilon2   1    [v3]\n",
       "  b2                             epsilon2 - epsilon3   1    [v4]\n",
       "  b3                             epsilon2 + epsilon3   1    [v5]\n",
       "  a1 + a2                        delta1 - epsilon1     2    [v1 + v2, v6]\n",
       "  a2 + b1                        delta2 - epsilon2     2    [v2 + v3, v7]\n",
       "  b1 + b2                        epsilon1 - epsilon3   2    [v3 + v4, v8]\n",
       "  b1 + b3                        epsilon1 + epsilon3   2    [v3 + v5, v9]\n",
       "  a1 + a2 + b1                   delta1 - epsilon2     4    [v1 + v2 + v3, v1 + v7, v3 + v6, v10]\n",
       "  a2 + b1 + b2                   delta2 - epsilon3     4    [v2 + v3 + v4, v2 + v8, v4 + v7, v11]\n",
       "  a2 + b1 + b3                   delta2 + epsilon3     4    [v2 + v3 + v5, v5 + v7, v2 + v9, v12]\n",
       "  b1 + b2 + b3                   epsilon1 + epsilon2   4    [v3 + v4 + v5, v5 + v8, v4 + v9, v13]\n",
       "  a1 + a2 + b1 + b2              delta1 - epsilon3     8    [v1 + v2 + v3 + v4, v3 + v4 + v6, v1 + v2 + v8, v1 + v4 + v7, v1 + v11, v10 + v4, v6 + v8, v14]\n",
       "  a1 + a2 + b1 + b3              delta1 + epsilon3     8    [v1 + v2 + v3 + v5, v1 + v5 + v7, v1 + v2 + v9, v3 + v5 + v6, v1 + v12, v6 + v9, v10 + v5, v15]\n",
       "  a2 + b1 + b2 + b3              delta2 + epsilon2     8    [v2 + v3 + v4 + v5, v4 + v5 + v7, v2 + v5 + v8, v2 + v4 + v9, v13 + v2, v11 + v5, v12 + v4, v16]\n",
       "  a1 + a2 + b1 + b2 + b3         delta1 + epsilon2     16   [v1 + v2 + v3 + v4 + v5, v1 + v2 + v4 + v9, v1 + v4 + v5 + v7, v3 + v4 + v5 + v6, v1 + v2 + v5 + v8, v1 + v12 + v4, v5 + v6 + v8, v1 + v13 + v2, v4 + v6 + v9, v10 + v4 + v5, v1 + v11 + v5, v14 + v5, v1 + v16, v13 + v6, v15 + v4, v17]\n",
       "  a2 + 2*b1 + b2 + b3            delta2 + epsilon1     15   [v2 + 2*v3 + v4 + v5, v2 + v3 + v4 + v9, v3 + v4 + v5 + v7, v2 + v3 + v5 + v8, v12 + v3 + v4, v2 + v8 + v9, v13 + v2 + v3, v5 + v7 + v8, v11 + v3 + v5, v4 + v7 + v9, v11 + v9, v16 + v3, v13 + v7, v12 + v8, v18]\n",
       "  a1 + a2 + 2*b1 + b2 + b3       delta1 + epsilon1     30   [v1 + v2 + 2*v3 + v4 + v5, v1 + v3 + v4 + v5 + v7, v1 + v2 + v3 + v5 + v8, 2*v3 + v4 + v5 + v6, v1 + v2 + v3 + v4 + v9, v1 + v2 + v8 + v9, v1 + v12 + v3 + v4, v3 + v4 + v6 + v9, v3 + v5 + v6 + v8, v1 + v11 + v3 + v5, v1 + v4 + v7 + v9, v1 + v5 + v7 + v8, v10 + v3 + v4 + v5, v1 + v13 + v2 + v3, v1 + v12 + v8, v15 + v3 + v4, v1 + v16 + v3, v1 + v13 + v7, v6 + v8 + v9, v10 + v4 + v9, v14 + v3 + v5, v13 + v3 + v6, v1 + v11 + v9, v10 + v5 + v8, v10 + v13, v15 + v8, v17 + v3, v1 + v18, v14 + v9, v19]\n",
       "  2*a2 + 2*b1 + b2 + b3          2*delta2              21   [2*v2 + 2*v3 + v4 + v5, 2*v2 + v3 + v5 + v8, v2 + v3 + v4 + v5 + v7, 2*v2 + v3 + v4 + v9, 2*v2 + v8 + v9, v4 + v5 + 2*v7, v12 + v2 + v3 + v4, v11 + v2 + v3 + v5, v2 + v4 + v7 + v9, v2 + v5 + v7 + v8, v13 + 2*v2 + v3, v11 + v5 + v7, v11 + v2 + v9, v12 + v4 + v7, v12 + v2 + v8, v16 + v2 + v3, v13 + v2 + v7, v16 + v7, v18 + v2, v11 + v12, v20]\n",
       "  a1 + 2*a2 + 2*b1 + b2 + b3     delta1 + delta2       56   [v1 + 2*v2 + 2*v3 + v4 + v5, v1 + 2*v2 + v3 + v4 + v9, v2 + 2*v3 + v4 + v5 + v6, v1 + 2*v2 + v3 + v5 + v8, v1 + v2 + v3 + v4 + v5 + v7, v1 + 2*v2 + v8 + v9, v3 + v4 + v5 + v6 + v7, v2 + v3 + v5 + v6 + v8, v1 + v4 + v5 + 2*v7, v2 + v3 + v4 + v6 + v9, v1 + v13 + 2*v2 + v3, v1 + v11 + v2 + v3 + v5, v1 + v2 + v5 + v7 + v8, v1 + v2 + v4 + v7 + v9, v10 + v2 + v3 + v4 + v5, v1 + v12 + v2 + v3 + v4, v2 + v6 + v8 + v9, v1 + v12 + v2 + v8, v5 + v6 + v7 + v8, v12 + v3 + v4 + v6, v11 + v3 + v5 + v6, v13 + v2 + v3 + v6, v10 + v2 + v4 + v9, v1 + v12 + v4 + v7, v1 + v11 + v2 + v9, v1 + v11 + v5 + v7, v10 + v4 + v5 + v7, v15 + v2 + v3 + v4, v10 + v2 + v5 + v8, v1 + v13 + v2 + v7, v4 + v6 + v7 + v9, v14 + v2 + v3 + v5, v1 + v16 + v2 + v3, v10 + v12 + v4, v14 + v5 + v7, v13 + v6 + v7, v10 + v11 + v5, v1 + v18 + v2, v15 + v4 + v7, v11 + v6 + v9, v17 + v2 + v3, v15 + v2 + v8, v10 + v13 + v2, v1 + v16 + v7, v12 + v6 + v8, v14 + v2 + v9, v16 + v3 + v6, v1 + v11 + v12, v12 + v14, v1 + v20, v19 + v2, v11 + v15, v18 + v6, v17 + v7, v10 + v16, v21]\n",
       "  2*a1 + 2*a2 + 2*b1 + b2 + b3   2*delta1              77   [2*v1 + 2*v2 + 2*v3 + v4 + v5, v1 + v2 + 2*v3 + v4 + v5 + v6, 2*v1 + v2 + v3 + v4 + v5 + v7, 2*v1 + 2*v2 + v3 + v4 + v9, 2*v1 + 2*v2 + v3 + v5 + v8, 2*v1 + v4 + v5 + 2*v7, 2*v1 + 2*v2 + v8 + v9, v1 + v2 + v3 + v4 + v6 + v9, 2*v1 + v2 + v4 + v7 + v9, 2*v1 + v11 + v2 + v3 + v5, v1 + v2 + v3 + v5 + v6 + v8, v1 + v3 + v4 + v5 + v6 + v7, 2*v1 + v2 + v5 + v7 + v8, v1 + v10 + v2 + v3 + v4 + v5, 2*v3 + v4 + v5 + 2*v6, 2*v1 + v13 + 2*v2 + v3, 2*v1 + v12 + v2 + v3 + v4, v1 + v10 + v4 + v5 + v7, v1 + v15 + v2 + v3 + v4, v1 + v11 + v3 + v5 + v6, v1 + v5 + v6 + v7 + v8, v1 + v10 + v2 + v4 + v9, 2*v1 + v12 + v4 + v7, v1 + v13 + v2 + v3 + v6, 2*v1 + v13 + v2 + v7, v3 + v5 + 2*v6 + v8, v3 + v4 + 2*v6 + v9, v1 + v4 + v6 + v7 + v9, v1 + v10 + v2 + v5 + v8, 2*v1 + v12 + v2 + v8, v1 + v12 + v3 + v4 + v6, v10 + v3 + v4 + v5 + v6, 2*v1 + v11 + v2 + v9, 2*v1 + v11 + v5 + v7, v1 + v14 + v2 + v3 + v5, 2*v1 + v16 + v2 + v3, v1 + v2 + v6 + v8 + v9, 2*v10 + v4 + v5, v1 + v13 + v6 + v7, v1 + v10 + v11 + v5, 2*v1 + v11 + v12, v1 + v17 + v2 + v3, v15 + v3 + v4 + v6, v10 + v4 + v6 + v9, v1 + v14 + v5 + v7, v1 + v14 + v2 + v9, v1 + v10 + v13 + v2, v1 + v15 + v2 + v8, 2*v6 + v8 + v9, 2*v1 + v16 + v7, v1 + v10 + v12 + v4, v10 + v5 + v6 + v8, v1 + v11 + v6 + v9, 2*v1 + v18 + v2, v1 + v15 + v4 + v7, v14 + v3 + v5 + v6, v1 + v16 + v3 + v6, v1 + v12 + v6 + v8, v13 + v3 + 2*v6, v1 + v11 + v15, v10 + v15 + v4, v1 + v19 + v2, v14 + v6 + v9, v1 + v18 + v6, v1 + v10 + v16, v1 + v17 + v7, v1 + v12 + v14, v10 + v14 + v5, 2*v1 + v20, v17 + v3 + v6, v15 + v6 + v8, v10 + v13 + v6, v10 + v17, v14 + v15, v1 + v21, v19 + v6, v22]"
      ]
     },
     "execution_count": 4,
     "metadata": {},
     "output_type": "execute_result"
    }
   ],
   "source": [
    "#正根分解\n",
    "spo = SpO(m=2,n=3)\n",
    "positive = spo.positive_roots\n",
    "sym = spo.symbols('v',len(positive))\n",
    "data = []\n",
    "for root in positive:\n",
    "    a = [sum([i*j for i,j in zip(res,sym)]) for res in spo.positive_dec(root)]\n",
    "    data.append([root,spo.root2vector(root),len(a),a])\n",
    "table(data)"
   ]
  },
  {
   "cell_type": "code",
   "execution_count": null,
   "metadata": {},
   "outputs": [],
   "source": []
  },
  {
   "cell_type": "code",
   "execution_count": null,
   "metadata": {},
   "outputs": [],
   "source": []
  },
  {
   "cell_type": "code",
   "execution_count": 8,
   "metadata": {},
   "outputs": [
    {
     "name": "stdout",
     "output_type": "stream",
     "text": [
      "True\n"
     ]
    },
    {
     "data": {
      "text/plain": [
       "10x10的矩阵空间，维数为5\n"
      ]
     },
     "execution_count": 8,
     "metadata": {},
     "output_type": "execute_result"
    }
   ],
   "source": [
    "#检验Cartan子代数的基\n",
    "m,n = 2,3\n",
    "spo = SpO(m=m,n=n)\n",
    "vectors = spo.simple_vectors\n",
    "hs = spo.h_matrixs\n",
    "es = spo.e_matrixs\n",
    "fs = spo.f_matrixs\n",
    "for vec in vectors:\n",
    "    for h,e,f in zip(hs,es,fs):\n",
    "        a = spo.B(h,h)\n",
    "        b = spo.B(e,f)\n",
    "        c = Lie.find_weight(h,e)\n",
    "        assert b*c==a,'计算错误！'\n",
    "print(True)\n",
    "MatSp(hs)"
   ]
  },
  {
   "cell_type": "code",
   "execution_count": 10,
   "metadata": {},
   "outputs": [
    {
     "name": "stdout",
     "output_type": "stream",
     "text": [
      "True\n"
     ]
    }
   ],
   "source": [
    "#root_on_diag函数调试\n",
    "spo = SpO(m=2,n=3)\n",
    "h = spo.diag\n",
    "for vec in spo.vectors:\n",
    "    if not vec==spo.root_on_diag(vec,h,False):\n",
    "        raise\n",
    "print(True)"
   ]
  },
  {
   "cell_type": "code",
   "execution_count": 11,
   "metadata": {},
   "outputs": [],
   "source": [
    "def test_closure(basis,odd_mats):\n",
    "    '''检查基元运算封闭性，basis需线性无关且奇部分都在odd_mats中'''\n",
    "    V = MatSp(basis)\n",
    "    for m1 in basis:\n",
    "        for m2 in basis:\n",
    "            m = lie_super_b(m1,m2,odd_mats)\n",
    "            if not m in V:\n",
    "                #print(m1,m2,m,sep='\\n\\n')\n",
    "                return False\n",
    "    return True"
   ]
  },
  {
   "cell_type": "code",
   "execution_count": 12,
   "metadata": {},
   "outputs": [],
   "source": [
    "def lie_super_b(m1,m2,odd_mats):\n",
    "    '''李超计算'''\n",
    "    if m1 in odd_mats and m2 in odd_mats:\n",
    "        return m1*m2+m2*m1\n",
    "    return m1*m2-m2*m1"
   ]
  },
  {
   "cell_type": "code",
   "execution_count": 14,
   "metadata": {},
   "outputs": [
    {
     "name": "stdout",
     "output_type": "stream",
     "text": [
      "标准情形\n",
      "True True\n",
      "转置情形\n",
      "True True\n",
      "标准+转置（扩充基）\n",
      "False\n",
      "标准+转置（合并）\n",
      "True False\n",
      "标准-转置（合并）\n",
      "True False\n"
     ]
    }
   ],
   "source": [
    "#测试封闭性\n",
    "spo = SpO(m=2,n=2)\n",
    "h = spo.diag\n",
    "\n",
    "odd_mats = spo.odd_mats\n",
    "mats = spo.even_mats + odd_mats + spo.h_matrixs\n",
    "print('标准情形')\n",
    "print(Lie.check_weights(h,odd_mats,spo.odd_vectors),test_closure(mats,odd_mats))\n",
    "\n",
    "odd_mats = [i.transpose() for i in odd_mats] #转置情形\n",
    "mats = spo.even_mats + odd_mats + spo.h_matrixs\n",
    "odd_vectors = [-r for r in spo.odd_vectors]\n",
    "print('转置情形')\n",
    "print(Lie.check_weights(h,odd_mats,odd_vectors),test_closure(mats,odd_mats))\n",
    "\n",
    "odd_mats = odd_mats + [i.transpose() for i in odd_mats] \n",
    "mats = spo.even_mats + odd_mats + spo.h_matrixs\n",
    "print('标准+转置（扩充基）')\n",
    "print(test_closure(mats,odd_mats))\n",
    "\n",
    "roots = spo.roots\n",
    "mats = spo.matrixs\n",
    "odd_mats = [mats[roots.index(-r)].transpose()+m for r,m in zip(spo.odd_roots,spo.odd_mats)]\n",
    "print('标准+转置（合并）')\n",
    "print(Lie.check_weights(h,odd_mats,spo.odd_vectors),test_closure(mats,odd_mats))\n",
    "\n",
    "roots = spo.roots\n",
    "mats = spo.matrixs\n",
    "odd_mats = [mats[roots.index(-r)].transpose()-m for r,m in zip(spo.odd_roots,spo.odd_mats)]\n",
    "print('标准-转置（合并）')\n",
    "print(Lie.check_weights(h,odd_mats,spo.odd_vectors),test_closure(mats,odd_mats))"
   ]
  }
 ],
 "metadata": {
  "kernelspec": {
   "display_name": "SageMath 9.0",
   "language": "sage",
   "name": "sagemath"
  },
  "language_info": {
   "codemirror_mode": {
    "name": "ipython",
    "version": 3
   },
   "file_extension": ".py",
   "mimetype": "text/x-python",
   "name": "python",
   "nbconvert_exporter": "python",
   "pygments_lexer": "ipython3",
   "version": "3.7.3"
  }
 },
 "nbformat": 4,
 "nbformat_minor": 2
}

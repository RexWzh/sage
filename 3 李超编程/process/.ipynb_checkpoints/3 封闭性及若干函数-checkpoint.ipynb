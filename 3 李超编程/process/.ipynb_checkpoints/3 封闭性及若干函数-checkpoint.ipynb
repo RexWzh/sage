{
 "cells": [
  {
   "cell_type": "code",
   "execution_count": 1,
   "metadata": {},
   "outputs": [],
   "source": [
    "load('../pkg/Lie.sage')\n",
    "load('../pkg/spo.sage')\n",
    "load('../pkg/MatSp.sage')"
   ]
  },
  {
   "cell_type": "code",
   "execution_count": 2,
   "metadata": {},
   "outputs": [],
   "source": [
    "class rex(SpO):\n",
    "    def root_on_diag(self,alpha,h,root=True):\n",
    "        '''根对对角阵的作用'''\n",
    "        assert matrix.diagonal(h.diagonal())==h, 'h必须为对角阵'\n",
    "        diag,m,n = h.diagonal(),self.m,self.n\n",
    "        assert diag[:m]==[-i for i in diag[m:2*m]],'h必须在Cartan子代数上！'\n",
    "        assert diag[2*m:2*m+n]==[-i for i in diag[2*m+n:]],'h必须在Cartan子代数上！'\n",
    "        if root:\n",
    "            alpha = self.root2vector(alpha)\n",
    "        coef = self.coefficients(alpha,self.basis)\n",
    "        return sum([i*j for i,j in zip(diag[:m]+diag[2*m:2*m+n],coef)])\n",
    "    \n",
    "    def super_trace(self,mat):\n",
    "        '''计算矩阵的超迹'''\n",
    "        m,n = self.m,self.n\n",
    "        return mat[:2*m,:2*m].trace()-mat[-2*n:,-2*n:].trace()\n",
    "    \n",
    "    def B(self,m1,m2):\n",
    "        '''双线性型'''\n",
    "        return self.super_trace(m1*m2)\n",
    "    "
   ]
  },
  {
   "cell_type": "code",
   "execution_count": null,
   "metadata": {},
   "outputs": [],
   "source": [
    "#正根分解\n",
    "spo = rex(m=2,n=2)\n",
    "positive = spo.positive_roots\n",
    "sym = spo.symbols('v',len(positive))\n",
    "data = []\n",
    "for root in positive:\n",
    "    a = [sum([i*j for i,j in zip(res,sym)]) for res in spo.positive_dec(root)]\n",
    "    data.append([root,spo.root2vector(root),len(a),a])\n",
    "table(data)"
   ]
  },
  {
   "cell_type": "code",
   "execution_count": null,
   "metadata": {},
   "outputs": [],
   "source": []
  },
  {
   "cell_type": "code",
   "execution_count": null,
   "metadata": {},
   "outputs": [],
   "source": []
  },
  {
   "cell_type": "code",
   "execution_count": 17,
   "metadata": {},
   "outputs": [
    {
     "name": "stdout",
     "output_type": "stream",
     "text": [
      "True\n"
     ]
    },
    {
     "data": {
      "text/plain": [
       "8x8的矩阵空间，维数为4\n"
      ]
     },
     "execution_count": 17,
     "metadata": {},
     "output_type": "execute_result"
    }
   ],
   "source": [
    "#检验Cartan子代数的基\n",
    "spo = rex(m=1,n=3)\n",
    "vectors = spo.simple_vectors\n",
    "hs = spo.h_matrixs\n",
    "es = spo.e_matrixs\n",
    "fs = spo.f_matrixs\n",
    "m,n = 1,3\n",
    "for vec in vectors:\n",
    "    for h,e,f in zip(hs,es,fs):\n",
    "        a = spo.B(h,h)\n",
    "        b = spo.B(e,f)\n",
    "        c = find_weight(h,e)\n",
    "        assert b*c==a,'计算错误！'\n",
    "print(True)\n",
    "MatSp(hs)"
   ]
  },
  {
   "cell_type": "code",
   "execution_count": 18,
   "metadata": {},
   "outputs": [
    {
     "name": "stdout",
     "output_type": "stream",
     "text": [
      "True\n"
     ]
    }
   ],
   "source": [
    "#root_on_diag函数调试\n",
    "spo = rex(m=1,n=3)\n",
    "h = spo.diag\n",
    "for vec in spo.vectors:\n",
    "    if not vec==spo.root_on_diag(vec,h,False):\n",
    "        raise\n",
    "print(True)"
   ]
  },
  {
   "cell_type": "code",
   "execution_count": 19,
   "metadata": {},
   "outputs": [],
   "source": [
    "def test_closure(basis,odd_mats):\n",
    "    '''检查基元运算封闭性，basis需线性无关且奇部分都在odd_mats中'''\n",
    "    V = MatSp(basis)\n",
    "    for m1 in basis:\n",
    "        for m2 in basis:\n",
    "            m = lie_super_b(m1,m2,odd_mats)\n",
    "            if not m in V:\n",
    "                #print(m1,m2,m,sep='\\n\\n')\n",
    "                return False\n",
    "    return True"
   ]
  },
  {
   "cell_type": "code",
   "execution_count": 20,
   "metadata": {},
   "outputs": [],
   "source": [
    "def lie_super_b(m1,m2,odd_mats):\n",
    "    '''李超计算'''\n",
    "    if m1 in odd_mats and m2 in odd_mats:\n",
    "        return m1*m2+m2*m1\n",
    "    return m1*m2-m2*m1"
   ]
  },
  {
   "cell_type": "code",
   "execution_count": 21,
   "metadata": {},
   "outputs": [
    {
     "name": "stdout",
     "output_type": "stream",
     "text": [
      "标准情形\n",
      "True True\n",
      "转置情形\n",
      "True True\n",
      "标准+转置（扩充基）\n",
      "False\n",
      "标准+转置（合并）\n",
      "True False\n",
      "标准-转置（合并）\n",
      "True False\n"
     ]
    }
   ],
   "source": [
    "#测试封闭性\n",
    "spo = SpO(m=1,n=3)\n",
    "h = spo.diag\n",
    "\n",
    "odd_mats = spo.odd_mats\n",
    "mats = spo.even_mats + odd_mats + spo.h_matrixs\n",
    "print('标准情形')\n",
    "print(test_weights(h,odd_mats,spo.odd_vectors),test_closure(mats,odd_mats))\n",
    "\n",
    "odd_mats = [i.transpose() for i in odd_mats] #转置情形\n",
    "mats = spo.even_mats + odd_mats + spo.h_matrixs\n",
    "odd_vectors = [-r for r in spo.odd_vectors]\n",
    "print('转置情形')\n",
    "print(test_weights(h,odd_mats,odd_vectors),test_closure(mats,odd_mats))\n",
    "\n",
    "odd_mats = odd_mats + [i.transpose() for i in odd_mats] \n",
    "mats = spo.even_mats + odd_mats + spo.h_matrixs\n",
    "print('标准+转置（扩充基）')\n",
    "print(test_closure(mats,odd_mats))\n",
    "\n",
    "roots = spo.roots\n",
    "mats = spo.matrixs\n",
    "odd_mats = [mats[roots.index(-r)].transpose()+m for r,m in zip(spo.odd_roots,spo.odd_mats)]\n",
    "print('标准+转置（合并）')\n",
    "print(test_weights(h,odd_mats,spo.odd_vectors),test_closure(mats,odd_mats))\n",
    "\n",
    "roots = spo.roots\n",
    "mats = spo.matrixs\n",
    "odd_mats = [mats[roots.index(-r)].transpose()-m for r,m in zip(spo.odd_roots,spo.odd_mats)]\n",
    "print('标准-转置（合并）')\n",
    "print(test_weights(h,odd_mats,spo.odd_vectors),test_closure(mats,odd_mats))"
   ]
  }
 ],
 "metadata": {
  "kernelspec": {
   "display_name": "SageMath 9.0",
   "language": "sage",
   "name": "sagemath"
  },
  "language_info": {
   "codemirror_mode": {
    "name": "ipython",
    "version": 3
   },
   "file_extension": ".py",
   "mimetype": "text/x-python",
   "name": "python",
   "nbconvert_exporter": "python",
   "pygments_lexer": "ipython3",
   "version": "3.7.3"
  }
 },
 "nbformat": 4,
 "nbformat_minor": 2
}

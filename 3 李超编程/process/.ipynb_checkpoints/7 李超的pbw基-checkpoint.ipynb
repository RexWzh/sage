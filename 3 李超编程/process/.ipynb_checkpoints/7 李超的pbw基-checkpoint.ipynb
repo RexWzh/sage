{
 "cells": [
  {
   "cell_type": "code",
   "execution_count": 1,
   "metadata": {},
   "outputs": [],
   "source": [
    "load('Lie.sage')\n",
    "load('spo.sage')\n",
    "load('MatSp.sage')\n",
    "load('AlgebraBSC.sage')\n",
    "load('pbw.sage')"
   ]
  },
  {
   "cell_type": "code",
   "execution_count": null,
   "metadata": {},
   "outputs": [],
   "source": [
    "#检查李超代数\n",
    "spo = SpO(1,2) #spo(2,4)李超代数\n",
    "mats = spo.all_matrixs\n",
    "odd_mats = spo.odd_mats\n",
    "N = AlgebraBSC.lie_sup_SC(mats,odd_mats)\n",
    "L = AlgebraBSC(N)\n",
    "v = L.basis #结构常数代数的基\n",
    "n = len(N) #空间维数\n",
    "syms = symbols('v',n)\n",
    "odds = [syms[spo.roots.index(r)] for r in spo.odd_roots]\n",
    "b = [SPBWElement(i,N,syms,odds) for i in syms]\n",
    "odd_elements = [b[0](i) for i in odds]\n",
    "print('开始检查')\n",
    "print(check_sup_pbw(v,b,f)) "
   ]
  },
  {
   "cell_type": "code",
   "execution_count": 4,
   "metadata": {},
   "outputs": [],
   "source": [
    "#Verma模\n",
    "L = SpO(1,2)\n",
    "mats = L.negative_matrixs + L.h_matrixs + L.positive_matrixs\n",
    "m = len(L.positive_roots)\n",
    "es = Lie.symbols('e',m)\n",
    "fs = Lie.symbols('f',m)\n",
    "hs = Lie.symbols('h',3) #1+2\n",
    "syms = fs + hs +es\n",
    "\n",
    "roots = L.positive_roots\n",
    "ind1 = [roots.index(r) for r in L.odd_roots if r in roots]\n",
    "roots = L.simple_roots\n",
    "ind2 = [roots.index(r) for r in L.odd_roots if r in roots]\n",
    "odds = [fs[i] for i in ind1] + [hs[i] for i in ind2] + [es[i] for i in ind1]\n",
    "\n",
    "#结构常数基\n",
    "N = AlgebraBSC.lie_sup_SC(mats,L.odd_mats)\n",
    "Lf = [Element(i,N,syms) for i in fs]\n",
    "Le = [Element(i,N,syms) for i in es]\n",
    "Lh = [Element(i,N,syms) for i in hs]\n",
    "#pbw基\n",
    "vf = [SPBWElement(i,N,syms,odds) for i in fs]\n",
    "ve = [SPBWElement(i,N,syms,odds) for i in es]\n",
    "vh = [SPBWElement(i,N,syms,odds) for i in hs]\n",
    "vectors = L.vectors"
   ]
  },
  {
   "cell_type": "code",
   "execution_count": 16,
   "metadata": {},
   "outputs": [
    {
     "name": "stdout",
     "output_type": "stream",
     "text": [
      "{(f2^2, e2): 1, (f2, h2): 2, (f2,): -2}\n",
      "{(f2,): -4}\n"
     ]
    }
   ],
   "source": [
    "a = (ve[1]*vf[1]*vf[1])\n",
    "print(a)\n",
    "print(a.to_verma(vectors[0],L,3))"
   ]
  },
  {
   "cell_type": "code",
   "execution_count": 17,
   "metadata": {},
   "outputs": [
    {
     "name": "stdout",
     "output_type": "stream",
     "text": [
      "0\th2\t-2*e2\th2\t\n",
      "-h2\t0\t2*f2\t0\t\n",
      "2*e2\t-2*f2\t0\t-2*f2\t\n",
      "-h2\t0\t2*f2\t0\t\n",
      "-1\n"
     ]
    }
   ],
   "source": [
    "l = [Le[1],Lf[1],Lh[1],Lf[1]]\n",
    "for i in l:\n",
    "    for j in l:\n",
    "        print(i*j,end='\\t')\n",
    "    print()\n",
    "print(L.root_on_diag(vectors[0],L.h_matrixs[1]))"
   ]
  },
  {
   "cell_type": "code",
   "execution_count": 3,
   "metadata": {},
   "outputs": [],
   "source": [
    "class SPBWElement(PBWElement):\n",
    "    '''李超代数的pbw基（修改两个函数）\n",
    "    '''\n",
    "    \n",
    "    def __init__(self,element,N,syms,odds):\n",
    "        '''初始元素为字典或U1上的符号变量'''\n",
    "        assert isinstance(element,(dict,Expression)),'输入基元格式不对'\n",
    "        L_dim = len(N) #李代数的维数\n",
    "        self.syms = syms #李代数的符号基，用作pbw序\n",
    "        if isinstance(element,Expression):\n",
    "            element = Lie.coefficients(element,syms)\n",
    "            element = {(syms[i],):element[i] for i in range(L_dim) if element[i]} #字典形式\n",
    "        else:\n",
    "            element = {key:val for key,val in zip(element.keys(),element.values()) if val}\n",
    "        self.element = element #统一化字典形式，并消去零元\n",
    "        self.L_dim,self.N = L_dim,N\n",
    "        self.odds = odds #奇根对应的符号元\n",
    "        self.keys = element.keys()\n",
    "        \n",
    "    def __call__(self,obj):\n",
    "        '''元素转pbw类'''\n",
    "        return SPBWElement(obj,self.N,self.syms,self.odds)\n",
    "        \n",
    "    def tuple2dict(self,element,c=1):\n",
    "        '''将符号变量元组转为字典，系数默认为1'''\n",
    "        if not c:return {} #零元情形\n",
    "        syms = self.syms\n",
    "        odds = self.odds\n",
    "        n = len(element) #元素长度\n",
    "        for i in range(n-1): #奇元素情形！\n",
    "            if element[i] in odds and element[i]==element[i+1]:\n",
    "                return {}\n",
    "        N = self.N #结构常数\n",
    "        coefs = [syms.index(i) for i in element] #获取对应系数\n",
    "        for i in range(n-1):\n",
    "            if coefs[i]>coefs[i+1]: #发现反序\n",
    "                x,y = syms.index(element[i]),syms.index(element[i+1])\n",
    "                e = element[:i] + (element[i+1],element[i]) + element[i+2:] #逆序处理\n",
    "                seq = [(c*coef,sym) for coef,sym in zip(N[x][y],syms) if coef] #李括号项\n",
    "                seq = [(coef,element[:i]+(sym,)+element[i+2:]) for coef,sym in seq]\n",
    "                break\n",
    "        else: #一切正序\n",
    "            return {element:c}\n",
    "        if element[i] in odds and element[i+1] in odds:\n",
    "            c = -c\n",
    "        res = self.tuple2dict(e,c)\n",
    "        for coef,sym in seq:\n",
    "            new = self.tuple2dict(sym,coef)\n",
    "            res = self.add_dict(res,new)\n",
    "        return res"
   ]
  },
  {
   "cell_type": "code",
   "execution_count": null,
   "metadata": {},
   "outputs": [],
   "source": [
    "#调试一直报错，李超奇矩阵的次数只有2！\n",
    "f = lambda a,b:a*b+(b*a if a in odd_elements and b in odd_elements else -b*a)\n",
    "def check_sup_pbw(v,b,f):\n",
    "    '''检验李超pbw类的正确性，v为结构常数下的代数基，b为pbw基'''\n",
    "    b0 = b[0]\n",
    "    for vi,bi in zip(v,b):\n",
    "        for vj,bj in zip(v,b):\n",
    "            bk = f(bi,bj)\n",
    "            bb = b0((vi*vj).sym) \n",
    "            if bb != bk: #检查一阶情形\n",
    "                #print(vi,vj,bi,bj,bb,bk)\n",
    "                return False\n",
    "    print('U1检验通过')\n",
    "    for i,bi in enumerate(b):\n",
    "        print(True,':',i)\n",
    "        for bj in b:\n",
    "            for bk in b: #检验结合律\n",
    "                if (bi*bj)*bk != bi*(bj*bk):\n",
    "                    return bi,bj,bk\n",
    "    print('结合律检验通过')\n",
    "    return True"
   ]
  }
 ],
 "metadata": {
  "kernelspec": {
   "display_name": "SageMath 9.0",
   "language": "sage",
   "name": "sagemath"
  },
  "language_info": {
   "codemirror_mode": {
    "name": "ipython",
    "version": 3
   },
   "file_extension": ".py",
   "mimetype": "text/x-python",
   "name": "python",
   "nbconvert_exporter": "python",
   "pygments_lexer": "ipython3",
   "version": "3.7.3"
  }
 },
 "nbformat": 4,
 "nbformat_minor": 2
}

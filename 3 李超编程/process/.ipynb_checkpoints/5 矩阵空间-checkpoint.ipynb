{
 "cells": [
  {
   "cell_type": "code",
   "execution_count": 14,
   "metadata": {},
   "outputs": [],
   "source": [
    "V = MatSp([matrix.identity(3),matrix.diagonal([1,2,3]),matrix.diagonal([2,3,5])])"
   ]
  },
  {
   "cell_type": "code",
   "execution_count": 17,
   "metadata": {},
   "outputs": [],
   "source": [
    "c = V(matrix.diagonal([0,1,2]))"
   ]
  },
  {
   "cell_type": "code",
   "execution_count": 26,
   "metadata": {},
   "outputs": [
    {
     "data": {
      "text/plain": [
       "[1 2 3]\n",
       "[4 5 6]"
      ]
     },
     "execution_count": 26,
     "metadata": {},
     "output_type": "execute_result"
    }
   ],
   "source": [
    "MatSp.vector2mat([1,2,3,4,5,6],nrows=2)"
   ]
  },
  {
   "cell_type": "code",
   "execution_count": 22,
   "metadata": {},
   "outputs": [],
   "source": [
    "class MatSp():\n",
    "    '''定义矩阵空间'''\n",
    "    def __init__(self,basis,field=QQ):\n",
    "        assert len(basis),'基元个数不能为空'\n",
    "        self.basis = [matrix(mat) for mat in basis]\n",
    "        \n",
    "        m,n = basis[0].dimensions()\n",
    "        basis = [self.mat2vector(mat) for mat in basis] #转向量\n",
    "        self.nrows,self.ncols = m,n\n",
    "        \n",
    "        V = VectorSpace(field,m*n) #生成向量空间\n",
    "        U = V.subspace_with_basis(basis) #子空间\n",
    "        self.V,self.U,self.dimension = V,U,U.dimension()\n",
    "    \n",
    "    def __str__(self):\n",
    "        txt = '%dx%d的矩阵空间，维数为%d\\n'%(self.nrows,self.ncols,self.dimension)\n",
    "        return txt\n",
    "    \n",
    "    def __repr__(self):\n",
    "        return self.__str__()\n",
    "    \n",
    "    def __contains__(self,mat):\n",
    "        '''判断包含'''\n",
    "        vec = self.V(self.mat2vector(mat)) #转向量空间元素\n",
    "        return vec in self.U\n",
    "    \n",
    "    def __call__(self,mat):\n",
    "        '''快速调用矩阵'''\n",
    "        return self.coordinate_vector(mat)\n",
    "        \n",
    "    def coordinate_vector(self,mat):\n",
    "        '''求mat的坐标'''\n",
    "        U,V = self.U,self.V\n",
    "        vec = V(self.mat2vector(mat))\n",
    "        assert vec in U,\"矩阵不在空间上！\"\n",
    "        return U.coordinate_vector(vec)\n",
    "    \n",
    "    @staticmethod\n",
    "    def mat2vector(mat):\n",
    "        return [i for line in mat for i in line]\n",
    "    \n",
    "    @staticmethod\n",
    "    def vector2mat(vec,nrows=False):\n",
    "        '''向量转矩阵(默认方阵)'''\n",
    "        if nrows:\n",
    "            m,n = nrows,len(vec)/nrows\n",
    "        else:\n",
    "            n = sqrt(len(vec))\n",
    "            m = n\n",
    "        return matrix(QQ,[[vec[j*n+i] for i in range(n)] for j in range(m)])"
   ]
  }
 ],
 "metadata": {
  "kernelspec": {
   "display_name": "SageMath 9.0",
   "language": "sage",
   "name": "sagemath"
  },
  "language_info": {
   "codemirror_mode": {
    "name": "ipython",
    "version": 3
   },
   "file_extension": ".py",
   "mimetype": "text/x-python",
   "name": "python",
   "nbconvert_exporter": "python",
   "pygments_lexer": "ipython3",
   "version": "3.7.3"
  }
 },
 "nbformat": 4,
 "nbformat_minor": 2
}

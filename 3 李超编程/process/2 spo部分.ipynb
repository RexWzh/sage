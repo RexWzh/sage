{
 "cells": [
  {
   "cell_type": "code",
   "execution_count": 1,
   "metadata": {},
   "outputs": [],
   "source": [
    "load('Lie.sage')"
   ]
  },
  {
   "cell_type": "code",
   "execution_count": 4,
   "metadata": {
    "collapsed": true
   },
   "outputs": [
    {
     "name": "stdout",
     "output_type": "stream",
     "text": [
      "d - e1\n",
      "e1 - e2\n",
      "e2 - e3\n",
      "e2 + e3\n",
      "d - e2\n",
      "e1 - e3\n",
      "e1 + e3\n",
      "d - e3\n",
      "d + e3\n",
      "e1 + e2\n",
      "d + e2\n",
      "d + e1\n",
      "2*d\n",
      "-d + e1\n",
      "-e1 + e2\n",
      "-e2 + e3\n",
      "-e2 - e3\n",
      "-d + e2\n",
      "-e1 + e3\n",
      "-e1 - e3\n",
      "-d + e3\n",
      "-d - e3\n",
      "-e1 - e2\n",
      "-d - e2\n",
      "-d - e1\n",
      "-2*d\n",
      "0\n",
      "0\n",
      "0\n",
      "0\n"
     ]
    }
   ],
   "source": [
    "spo = SpO(m=1,n=3)\n",
    "h = spo.diag\n",
    "for mat in spo.all_matrixs:\n",
    "    print(find_weight(h,mat))"
   ]
  },
  {
   "cell_type": "code",
   "execution_count": null,
   "metadata": {},
   "outputs": [],
   "source": [
    "print(test_weights(h,spo.matrixs,spo.vectors))\n",
    "print(test_weights(h,spo.even_mats,spo.even_vectors))\n",
    "print(test_weights(h,spo.odd_mats,spo.odd_vectors))"
   ]
  },
  {
   "cell_type": "code",
   "execution_count": null,
   "metadata": {},
   "outputs": [],
   "source": [
    "##增加Dynkin图绘图效果"
   ]
  },
  {
   "cell_type": "code",
   "execution_count": 8,
   "metadata": {},
   "outputs": [
    {
     "name": "stdout",
     "output_type": "stream",
     "text": [
      "True\n"
     ]
    },
    {
     "data": {
      "text/plain": [
       "30"
      ]
     },
     "execution_count": 8,
     "metadata": {},
     "output_type": "execute_result"
    }
   ],
   "source": [
    "#奇矩阵次数不过2\n",
    "spo = SpO(1,3)\n",
    "for mat in spo.odd_mats:\n",
    "    if not (mat^2).is_zero():\n",
    "        print(mat)\n",
    "        break\n",
    "else:\n",
    "    print(True)\n",
    "spo.dim"
   ]
  },
  {
   "cell_type": "code",
   "execution_count": null,
   "metadata": {},
   "outputs": [],
   "source": []
  },
  {
   "cell_type": "code",
   "execution_count": 3,
   "metadata": {},
   "outputs": [],
   "source": [
    "load('Lie.sage')\n",
    "class SpO(Lie):\n",
    "    '''\n",
    "    编写李超代数spo(2m|2n)的根系，矩阵基及一些操作工具\n",
    "    \n",
    "    ### 根系介绍 ###\n",
    "    1.根系分even,odd，用符号向量给出两种表示方式\n",
    "        一种是单根分解\n",
    "        一种是正交基分解\n",
    "    2.每个根对应矩阵，同样分even和odd两部分\n",
    "    3.奇偶排序上：\n",
    "        even按sp+,sp-,o+,o-排雷\n",
    "        odd 按i,j从低到高排列（具体看定义过程）\n",
    "        单根分解，正交基分解，以及奇偶部分的矩阵基，按位置对应\n",
    "    4.整体排序上\n",
    "        按单根分解的ht分级，内部按字典序排列。\n",
    "        这部分函数继承自Lie\n",
    "    '''\n",
    "        \n",
    "    def __init__(self,m=1,n=2):\n",
    "        sp,o = Sp(m),Oth(n) #李代数对象sp和o\n",
    "        d,e = sp.basis,o.basis\n",
    "        basis = sp.basis + o.basis #空间的正交基\n",
    "        self.sp,self.o,self.basis,self.m,self.n = sp,o,basis,m,n\n",
    "        \n",
    "        #偶根部分\n",
    "        simple_vectors = sp.simple_vectors[:-1] + [ d[-1]-e[0] ] + o.simple_vectors #单根\n",
    "        even_vectors = sp.vectors+o.vectors #偶根\n",
    "        self.simple_vectors,self.even_vectors = simple_vectors,even_vectors\n",
    "        #偶根对应的矩阵\n",
    "        sp_mats = [matrix.block_diagonal(mat,matrix(2*n)) for mat in sp.matrixs]\n",
    "        o_mats = [matrix.block_diagonal(matrix(2*m),mat) for mat in o.matrixs]\n",
    "        even_mats = sp_mats + o_mats\n",
    "        self.even_mats = even_mats\n",
    "        \n",
    "        #奇根部分\n",
    "        odd_vectors = [] #正交基表示\n",
    "        for i in range(m):\n",
    "            for j in range(n):\n",
    "                odd_vectors.append(d[i]+e[j])\n",
    "                odd_vectors.append(-d[i]-e[j])\n",
    "                odd_vectors.append(d[i]-e[j])\n",
    "                odd_vectors.append(-d[i]+e[j])\n",
    "        #奇根对应的矩阵\n",
    "        odd_mats = []\n",
    "        for i in range(m):\n",
    "            for j in range(n):\n",
    "                odd_mats.append(matrix(2*m+2*n,{(2*m+j,i+m):1,(i,j+n+2*m):1}))\n",
    "                odd_mats.append(matrix(2*m+2*n,{(2*m+j+n,i):1,(i+m,j+2*m):-1}))\n",
    "                odd_mats.append(matrix(2*m+2*n,{(2*m+j+n,i+m):1,(i,j+2*m):1}))\n",
    "                odd_mats.append(matrix(2*m+2*n,{(2*m+j,i):1,(i+m,j+n+2*m):-1}))\n",
    "        self.odd_vectors,self.odd_mats = odd_vectors,odd_mats\n",
    "        vectors = even_vectors + odd_vectors\n",
    "        mats = even_mats + odd_mats\n",
    "        \n",
    "        #单根与正交基的过渡矩阵\n",
    "        simple_roots = self.symbols('a',m) + o.simple_roots #单根（其中o部分与原来相同）\n",
    "        tran_mat = matrix.identity(n+m) #正交基到单根的过渡矩阵\n",
    "        tran_mat[-2,-1] = 1\n",
    "        for i in range(n+m-1):\n",
    "            tran_mat[i+1,i] = -1\n",
    "        self.tran_mat,self.tran_mat_inv = tran_mat,tran_mat.inverse()\n",
    "        self.simple_roots = simple_roots\n",
    "        \n",
    "        #单根表示下的根系\n",
    "        even_roots = [self.vector2root(vec) for vec in even_vectors]\n",
    "        odd_roots = [self.vector2root(vec) for vec in odd_vectors]\n",
    "        roots = [self.vector2root(vec) for vec in vectors]\n",
    "        self.even_roots,self.odd_roots = even_roots,odd_roots\n",
    "        \n",
    "        #求正根，并排序根系\n",
    "        positive_roots = [root for root in roots if sum(self.coefficients(root,simple_roots))>0]\n",
    "        positive_vectors = [self.root2vector(root) for root in positive_roots]\n",
    "        positive_matrixs = [mats[roots.index(r)] for r in positive_roots]\n",
    "        ind = self.ordering(simple_roots,positive_roots)\n",
    "        self.positive_vectors = [positive_vectors[i] for i in ind]\n",
    "        self.positive_matrixs = [positive_matrixs[i] for i in ind]\n",
    "        self.positive_roots = [positive_roots[i] for i in ind]\n",
    "        self.negative_mats = [mats[roots.index(-r)] for r in self.positive_roots]\n",
    "        \n",
    "        #代数生成元矩阵\n",
    "        self.e_matrixs = self.positive_matrixs[:n+m]\n",
    "        self.f_matrixs = self.negative_matrixs[:n+m]\n",
    "        #self.h_matrixs = [i*j-j*i for i,j in zip(self.e_matrixs,self.f_matrixs)]\n",
    "        #'''\n",
    "        self.h_matrixs = []\n",
    "        for i,j in zip(self.e_matrixs,self.f_matrixs):\n",
    "            mat = i*j + (j*i if i in odd_mats and j in odd_mats else -j*i)\n",
    "            self.h_matrixs.append(mat)\n",
    "        self.gen_matrixs = self.e_matrixs + self.f_matrixs + self.h_matrixs\n",
    "        self.all_matrixs = self.matrixs + self.h_matrixs\n",
    "        #'''\n",
    "        #根对角阵（测试用）\n",
    "        sym = basis[:m]+tuple(-i for i in basis[:m])+basis[m:]+tuple(-i for i in basis[m:])\n",
    "        self.diag = matrix.diagonal(sym)\n",
    "        #其他数据\n",
    "        self.dim = len(self.all_matrixs)\n",
    "        \n",
    "    @property\n",
    "    def negative_matrixs(self):\n",
    "        '''李超正负根的矩阵不是转置关系，需重定义'''\n",
    "        return self.negative_mats\n",
    "    \n",
    "    def lie_super_b(self,m1,m2):\n",
    "        '''李超括号（暂时仅支持基元运算）'''\n",
    "        assert m1 in self.all_matrixs and m2 in self.all_matrixs, \"仅支持矩阵基上计算！\"\n",
    "        if m1 in self.odd_mats and m2 in self.odd_mats:\n",
    "            return m1*m2 + m2*m1\n",
    "        return m1*m2-m2*m1\n",
    "    \n",
    "    def inner_product(self,r1,r2,is_root=False):\n",
    "        '''计算内积'''\n",
    "        v1,v2 = (self.root2vector(r1),self.root2vector(r2)) if is_root else (r1,r2)\n",
    "        return self.sp.inner_product(v1,v2)-self.o.inner_product(v1,v2)\n",
    "    \n",
    "    def root_on_diag(self,alpha,h,is_root=False):\n",
    "        '''根对对角阵的作用'''\n",
    "        assert matrix.diagonal(h.diagonal())==h, 'h必须为对角阵'\n",
    "        diag,m,n = h.diagonal(),self.m,self.n\n",
    "        assert diag[:m]==[-i for i in diag[m:2*m]],'h必须在Cartan子代数上！'\n",
    "        assert diag[2*m:2*m+n]==[-i for i in diag[2*m+n:]],'h必须在Cartan子代数上！'\n",
    "        if is_root:\n",
    "            alpha = self.root2vector(alpha)\n",
    "        coef = self.coefficients(alpha,self.basis)\n",
    "        return sum([i*j for i,j in zip(diag[:m]+diag[2*m:2*m+n],coef)])\n",
    "    \n",
    "    def super_trace(self,mat):\n",
    "        '''计算矩阵的超迹'''\n",
    "        m,n = self.m,self.n\n",
    "        return mat[:2*m,:2*m].trace()-mat[-2*n:,-2*n:].trace()\n",
    "    \n",
    "    def B(self,m1,m2):\n",
    "        '''双线性型'''\n",
    "        return self.super_trace(m1*m2)"
   ]
  },
  {
   "cell_type": "code",
   "execution_count": null,
   "metadata": {},
   "outputs": [],
   "source": [
    "spo.simple_vectors"
   ]
  },
  {
   "cell_type": "code",
   "execution_count": null,
   "metadata": {},
   "outputs": [],
   "source": [
    "basis = spo.basis\n",
    "sym = (basis[0],-basis[0]) + basis[1:] + tuple(-i for i in basis[1:])\n",
    "mats = spo.mats\n",
    "vectors = spo.vectors\n",
    "test_weights(sym,mats,vectors)"
   ]
  },
  {
   "cell_type": "code",
   "execution_count": null,
   "metadata": {},
   "outputs": [],
   "source": [
    "spo.simple_vectors"
   ]
  },
  {
   "cell_type": "code",
   "execution_count": null,
   "metadata": {},
   "outputs": [],
   "source": [
    "spo.sp.roots,spo.o.roots"
   ]
  },
  {
   "cell_type": "code",
   "execution_count": null,
   "metadata": {},
   "outputs": [],
   "source": [
    "spo.even_roots"
   ]
  },
  {
   "cell_type": "code",
   "execution_count": null,
   "metadata": {},
   "outputs": [],
   "source": [
    "spo.even_vectors"
   ]
  }
 ],
 "metadata": {
  "kernelspec": {
   "display_name": "SageMath 9.0",
   "language": "sage",
   "name": "sagemath"
  },
  "language_info": {
   "codemirror_mode": {
    "name": "ipython",
    "version": 3
   },
   "file_extension": ".py",
   "mimetype": "text/x-python",
   "name": "python",
   "nbconvert_exporter": "python",
   "pygments_lexer": "ipython3",
   "version": "3.7.3"
  }
 },
 "nbformat": 4,
 "nbformat_minor": 2
}

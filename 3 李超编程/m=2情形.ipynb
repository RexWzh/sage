{
 "cells": [
  {
   "cell_type": "code",
   "execution_count": 15,
   "metadata": {},
   "outputs": [
    {
     "name": "stdout",
     "output_type": "stream",
     "text": [
      "李超代数：spo(4,4)\n",
      "空间维数为：32\n",
      "正根数目为：14\n",
      "待讨论的权： delta2 + epsilon1\n",
      "权空间维数： 4\n"
     ]
    }
   ],
   "source": [
    "m,n = 2,2\n",
    "s,t = 2,1\n",
    "load('test.sage')"
   ]
  },
  {
   "cell_type": "code",
   "execution_count": null,
   "metadata": {},
   "outputs": [],
   "source": []
  },
  {
   "cell_type": "code",
   "execution_count": 16,
   "metadata": {},
   "outputs": [
    {
     "name": "stdout",
     "output_type": "stream",
     "text": [
      "\n",
      "最高权： delta2*(x1 + 2) + epsilon1*x1 + epsilon2*x2 + delta1*z1\n",
      "计算泛包络上的乘积结果，乘积总数： 16\n",
      "矩阵阶数为 5*4  13 3\n"
     ]
    }
   ],
   "source": [
    "#for i in [0,-1,1,2,-2,3,-3,4,-4]:\n",
    "x = Lie.symbols('x',n)\n",
    "z = list(Lie.symbols('z',m))\n",
    "z[s-1] = x[t-1]+2*n+s-t-m-1\n",
    "la = sum([i*j for i,j in zip(z,L.basis[:m])]) + sum([i*j for i,j in zip(x,L.basis[m:])])\n",
    "#d_s+e_t: a_s = b_t+2n-s-t\n",
    "print('\\n最高权：',la)\n",
    "\n",
    "#泛包络上计算结果res\n",
    "tt = time.time()\n",
    "res = [[ve[i]*element for element in pbw_basis] for i in range(1,m+n+1)]\n",
    "print(\"计算泛包络上的乘积结果，乘积总数：\",(m+n)*len(pbw_basis))\n",
    "\n",
    "#化简为Verma模的元素\n",
    "tt = time.time()\n",
    "res_verma = [[i.to_verma(la,L,m+n) for i in line] for line in res]\n",
    "#转化为矩阵\n",
    "data = []\n",
    "for line in res_verma:\n",
    "    mat,_ = ide.linear_rep(line)\n",
    "    data.append(mat)\n",
    "data = [mat for mat in data if mat] #去掉空项\n",
    "mat = matrix.block(len(data),1,data)\n",
    "mat_sym = Matrix(mat)\n",
    "print('矩阵阶数为 %d*%d  '%mat.dimensions(),end='')\n",
    "print(i,mat_sym.rank())\n"
   ]
  },
  {
   "cell_type": "code",
   "execution_count": 17,
   "metadata": {},
   "outputs": [
    {
     "data": {
      "text/latex": [
       "$\\displaystyle \\left[\\begin{matrix}2 x_{1} & 1 & 1 & 0\\\\x_{1} - x_{2} & 0 & 1 & 0\\\\0 & x_{1} - x_{2} + 1 & 1 & -1\\\\x_{1} + x_{2} & 1 & 0 & 0\\\\0 & 1 & x_{1} + x_{2} + 1 & -1\\end{matrix}\\right]$"
      ],
      "text/plain": [
       "Matrix([\n",
       "[   2*x1,           1,           1,  0],\n",
       "[x1 - x2,           0,           1,  0],\n",
       "[      0, x1 - x2 + 1,           1, -1],\n",
       "[x1 + x2,           1,           0,  0],\n",
       "[      0,           1, x1 + x2 + 1, -1]])"
      ]
     },
     "execution_count": 17,
     "metadata": {},
     "output_type": "execute_result"
    }
   ],
   "source": [
    "mat_sym"
   ]
  },
  {
   "cell_type": "code",
   "execution_count": 5,
   "metadata": {},
   "outputs": [
    {
     "name": "stdout",
     "output_type": "stream",
     "text": [
      "\\begin{table}[h]\n",
      "\\centering\n",
      "\\scalebox{1.000}{\n",
      "\\rowcolors{2}{gray!25}{white}\n",
      "\\begin{tabular}{|c|cccccccc|}\n",
      "\\rowcolor{gray!50}\n",
      "\\hline\n",
      "spo(2m|2n) &(1, 2) &(1, 3) &(1, 4) &(1, 5) &(2, 2) &(2, 3) &(2, 4) &(3, 2)\\\\\\hline\n",
      "矩阵列数 &4 &15 &55 &200 &8 &30 &110 &16\\\\\\hline\n",
      "\\end{tabular}}\n",
      "\\end{table}\n"
     ]
    }
   ],
   "source": [
    "mm = [['spo(2m|2n)',(1,2),(1,3),(1,4),(1,5),(2,2),(2,3),(2,4),(3,2)],['矩阵列数',4,15,55,200,8,30,110,16]]\n",
    "latex_table(mm)"
   ]
  },
  {
   "cell_type": "code",
   "execution_count": 6,
   "metadata": {},
   "outputs": [
    {
     "name": "stdout",
     "output_type": "stream",
     "text": [
      "syms x1 x2 x3 x4 x5 x6 \n",
      "[[2*x1, 1, 1, 0]; [x1 - x2, 0, 1, 0]; [0, x1 - x2 + 1, 1, -1]; [x1 + x2, 1, 0, 0]; [0, 1, x1 + x2 + 1, -1]]\n"
     ]
    }
   ],
   "source": [
    "print(symmat_to_matlab(mat_sym,n=6))"
   ]
  },
  {
   "cell_type": "code",
   "execution_count": 9,
   "metadata": {},
   "outputs": [
    {
     "name": "stdout",
     "output_type": "stream",
     "text": [
      "tic\n",
      "syms x1 x2 x3 y1 y2 y3 \n",
      "eq1 = 2*x1 + y1 + y2;\n",
      "eq2 = x1 - x2 + y2;\n",
      "eq3 = y1*(x1 - x2 + 1) + y2 - y3;\n",
      "eq4 = x1 + x2 + y1;\n",
      "eq5 = y1 + y2*(x1 + x2 + 1) - y3;\n",
      "sol = solve([eq1, eq2, eq3, eq4, eq5],[y1, y2, y3]);\n",
      "toc\n",
      "\n"
     ]
    }
   ],
   "source": [
    "print(symmat_to_command(mat_sym,3))"
   ]
  },
  {
   "cell_type": "code",
   "execution_count": 10,
   "metadata": {},
   "outputs": [
    {
     "data": {
      "text/plain": [
       "'[sol.y1, sol.y2, sol.y3]'"
      ]
     },
     "execution_count": 10,
     "metadata": {},
     "output_type": "execute_result"
    }
   ],
   "source": [
    "read_solution(3)"
   ]
  }
 ],
 "metadata": {
  "kernelspec": {
   "display_name": "SageMath 9.0",
   "language": "sage",
   "name": "sagemath"
  }
 },
 "nbformat": 4,
 "nbformat_minor": 2
}
